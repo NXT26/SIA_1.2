{
 "cells": [
  {
   "cell_type": "markdown",
   "metadata": {
    "id": "YcYUc9VfBO6I"
   },
   "source": [
    "**СЛОВАРИ**\n",
    "\n",
    "\n",
    "> **Словарь** - набор элементов, в котором индексы не обязательно числа. Например, в словарях удобно хранить коды и названия стран или телефоны абонентов.\n",
    "\n",
    "\n",
    "\n",
    "*   Словарь хранит пары \"ключ-значение\", где ключ - это индекс, по которому можно обратиться к значению.\n",
    "*   В качестве ключа словаря можно использовать неизменяемые типы данных, т.е. все, кроме списков, множеств и самих словарей.\n",
    "*   В качестве значения можно брать любой стандартный тип данных.\n",
    "*   В словарях не может быть повторяющихся ключей.\n",
    "*   Элементы словаря, как и элементы множеств, не упорядочены.\n",
    "\n",
    "Пример: JSON \n",
    "\n",
    "\n"
   ]
  },
  {
   "cell_type": "markdown",
   "metadata": {
    "id": "vcPALWbRjvvg"
   },
   "source": [
    "Словарь имеет вид: `{ключ1: значение1, ключ2: значение2, ключ3: значение3, ...}`"
   ]
  },
  {
   "cell_type": "code",
   "execution_count": null,
   "metadata": {
    "colab": {
     "base_uri": "https://localhost:8080/"
    },
    "executionInfo": {
     "elapsed": 894,
     "status": "ok",
     "timestamp": 1611239488812,
     "user": {
      "displayName": "Anastasiia Chernysheva",
      "photoUrl": "https://lh3.googleusercontent.com/a-/AOh14GhHyHwY-PuMRWX3mjSyss6pojv4D8xrqnEXatqg=s64",
      "userId": "13831218637705529605"
     },
     "user_tz": -180
    },
    "id": "BXWPbxhXRVAX",
    "outputId": "86e4ea8d-7d8f-43bb-d772-1fad92c21a8b"
   },
   "outputs": [
    {
     "name": "stdout",
     "output_type": "stream",
     "text": [
      "{}\n"
     ]
    }
   ],
   "source": [
    "# создание пустого словаря\n",
    "dict1 = {}\n",
    "print(dict1)"
   ]
  },
  {
   "cell_type": "code",
   "execution_count": null,
   "metadata": {
    "colab": {
     "base_uri": "https://localhost:8080/"
    },
    "executionInfo": {
     "elapsed": 2387,
     "status": "ok",
     "timestamp": 1611049197725,
     "user": {
      "displayName": "Anastasiia Chernysheva",
      "photoUrl": "https://lh3.googleusercontent.com/a-/AOh14GhHyHwY-PuMRWX3mjSyss6pojv4D8xrqnEXatqg=s64",
      "userId": "13831218637705529605"
     },
     "user_tz": -180
    },
    "id": "NivDk-qPz-ym",
    "outputId": "68fd4919-3f5c-421a-ca35-ecd0dbf18bfe"
   },
   "outputs": [
    {
     "name": "stdout",
     "output_type": "stream",
     "text": [
      "{'ru': 'Россия', 'fr': 'Франция'}\n"
     ]
    }
   ],
   "source": [
    "# создание непустого словаря\n",
    "countries = {\"ru\": \"Россия\", \"fr\": \"Франция\"}\n",
    "print(countries)"
   ]
  },
  {
   "cell_type": "code",
   "execution_count": null,
   "metadata": {
    "colab": {
     "base_uri": "https://localhost:8080/",
     "height": 185
    },
    "executionInfo": {
     "elapsed": 639,
     "status": "error",
     "timestamp": 1611239499154,
     "user": {
      "displayName": "Anastasiia Chernysheva",
      "photoUrl": "https://lh3.googleusercontent.com/a-/AOh14GhHyHwY-PuMRWX3mjSyss6pojv4D8xrqnEXatqg=s64",
      "userId": "13831218637705529605"
     },
     "user_tz": -180
    },
    "id": "hTl7_k5FJGux",
    "outputId": "db2d84ec-80d8-48be-8163-aa4bb18d44de"
   },
   "outputs": [
    {
     "ename": "TypeError",
     "evalue": "ignored",
     "output_type": "error",
     "traceback": [
      "\u001b[0;31m---------------------------------------------------------------------------\u001b[0m",
      "\u001b[0;31mTypeError\u001b[0m                                 Traceback (most recent call last)",
      "\u001b[0;32m<ipython-input-2-9017c16613f4>\u001b[0m in \u001b[0;36m<module>\u001b[0;34m()\u001b[0m\n\u001b[0;32m----> 1\u001b[0;31m \u001b[0mnums\u001b[0m \u001b[0;34m=\u001b[0m \u001b[0mdict\u001b[0m\u001b[0;34m(\u001b[0m\u001b[0;34m[\u001b[0m\u001b[0;36m1\u001b[0m\u001b[0;34m,\u001b[0m \u001b[0;36m2\u001b[0m\u001b[0;34m,\u001b[0m \u001b[0;36m3\u001b[0m\u001b[0;34m,\u001b[0m \u001b[0;36m4\u001b[0m\u001b[0;34m]\u001b[0m\u001b[0;34m)\u001b[0m\u001b[0;34m\u001b[0m\u001b[0;34m\u001b[0m\u001b[0m\n\u001b[0m\u001b[1;32m      2\u001b[0m \u001b[0mprint\u001b[0m\u001b[0;34m(\u001b[0m\u001b[0mnums\u001b[0m\u001b[0;34m)\u001b[0m\u001b[0;34m\u001b[0m\u001b[0;34m\u001b[0m\u001b[0m\n",
      "\u001b[0;31mTypeError\u001b[0m: cannot convert dictionary update sequence element #0 to a sequence"
     ]
    }
   ],
   "source": [
    "nums = dict([1, 2, 3, 4])\n",
    "print(nums)"
   ]
  },
  {
   "cell_type": "code",
   "execution_count": null,
   "metadata": {
    "colab": {
     "base_uri": "https://localhost:8080/"
    },
    "executionInfo": {
     "elapsed": 625,
     "status": "ok",
     "timestamp": 1611050285850,
     "user": {
      "displayName": "Anastasiia Chernysheva",
      "photoUrl": "https://lh3.googleusercontent.com/a-/AOh14GhHyHwY-PuMRWX3mjSyss6pojv4D8xrqnEXatqg=s64",
      "userId": "13831218637705529605"
     },
     "user_tz": -180
    },
    "id": "tNfFhoVIE-fq",
    "outputId": "61c962ed-0da4-4564-de2c-42ce5ce72ff9"
   },
   "outputs": [
    {
     "name": "stdout",
     "output_type": "stream",
     "text": [
      "{5: 8, 4: 9}\n"
     ]
    }
   ],
   "source": [
    "numbers = dict([(5, 8), \n",
    "                (4, 9)])\n",
    "print(numbers) "
   ]
  },
  {
   "cell_type": "code",
   "execution_count": null,
   "metadata": {
    "colab": {
     "base_uri": "https://localhost:8080/"
    },
    "executionInfo": {
     "elapsed": 786,
     "status": "ok",
     "timestamp": 1611239670208,
     "user": {
      "displayName": "Anastasiia Chernysheva",
      "photoUrl": "https://lh3.googleusercontent.com/a-/AOh14GhHyHwY-PuMRWX3mjSyss6pojv4D8xrqnEXatqg=s64",
      "userId": "13831218637705529605"
     },
     "user_tz": -180
    },
    "id": "FEu-jiSrFIbP",
    "outputId": "e260a89c-7bc3-43dc-84c8-cddc12570c55"
   },
   "outputs": [
    {
     "name": "stdout",
     "output_type": "stream",
     "text": [
      "{'ru': 'Россия', 'fr': 'Франция'}\n"
     ]
    }
   ],
   "source": [
    "countries = dict(ru=\"Россия\", fr=\"Франция\")\n",
    "print(countries)"
   ]
  },
  {
   "cell_type": "markdown",
   "metadata": {
    "id": "EGlAEXFdFYS_"
   },
   "source": [
    "Если есть только список ключей, но словарь создать надо, то используется метод `fromkeys`. Он вызывается не для объекта, а для самой функции `dict`."
   ]
  },
  {
   "cell_type": "code",
   "execution_count": null,
   "metadata": {
    "colab": {
     "base_uri": "https://localhost:8080/"
    },
    "executionInfo": {
     "elapsed": 1206,
     "status": "ok",
     "timestamp": 1611050505526,
     "user": {
      "displayName": "Anastasiia Chernysheva",
      "photoUrl": "https://lh3.googleusercontent.com/a-/AOh14GhHyHwY-PuMRWX3mjSyss6pojv4D8xrqnEXatqg=s64",
      "userId": "13831218637705529605"
     },
     "user_tz": -180
    },
    "id": "ZgRWwM9QFnUM",
    "outputId": "6bae3588-0d82-4d4c-c8b6-cc9ef5e60751"
   },
   "outputs": [
    {
     "name": "stdout",
     "output_type": "stream",
     "text": [
      "{'name': None, 'age': None, 'phone number': None}\n"
     ]
    }
   ],
   "source": [
    "phonebook = dict.fromkeys([\"name\", \"age\", \"phone number\"])\n",
    "print(phonebook)"
   ]
  },
  {
   "cell_type": "code",
   "execution_count": null,
   "metadata": {
    "colab": {
     "base_uri": "https://localhost:8080/"
    },
    "executionInfo": {
     "elapsed": 668,
     "status": "ok",
     "timestamp": 1611239779571,
     "user": {
      "displayName": "Anastasiia Chernysheva",
      "photoUrl": "https://lh3.googleusercontent.com/a-/AOh14GhHyHwY-PuMRWX3mjSyss6pojv4D8xrqnEXatqg=s64",
      "userId": "13831218637705529605"
     },
     "user_tz": -180
    },
    "id": "HRM-xXUtGCY_",
    "outputId": "8f49b6cf-d523-4857-d497-26dd2ee4a11e"
   },
   "outputs": [
    {
     "name": "stdout",
     "output_type": "stream",
     "text": [
      "{'name': ['some data', '123', 3453], 'age': ['some data', '123', 3453], 'phone number': ['some data', '123', 3453]}\n"
     ]
    }
   ],
   "source": [
    "phonebook = dict.fromkeys([\"name\", \"age\", \"phone number\"], \"some data\")\n",
    "print(phonebook)"
   ]
  },
  {
   "cell_type": "markdown",
   "metadata": {
    "id": "Znr4YyXCGUYx"
   },
   "source": [
    "Для словарей тоже существует генератор, как для списков, множеств и кортежей."
   ]
  },
  {
   "cell_type": "code",
   "execution_count": null,
   "metadata": {
    "colab": {
     "base_uri": "https://localhost:8080/"
    },
    "executionInfo": {
     "elapsed": 679,
     "status": "ok",
     "timestamp": 1611239896385,
     "user": {
      "displayName": "Anastasiia Chernysheva",
      "photoUrl": "https://lh3.googleusercontent.com/a-/AOh14GhHyHwY-PuMRWX3mjSyss6pojv4D8xrqnEXatqg=s64",
      "userId": "13831218637705529605"
     },
     "user_tz": -180
    },
    "id": "7Y3BwgUaGdy2",
    "outputId": "b66ecf63-9176-432a-d421-fc7838a80eda"
   },
   "outputs": [
    {
     "name": "stdout",
     "output_type": "stream",
     "text": [
      "{1: 0, 2: 1, 3: 4, 4: 9, 5: 16}\n"
     ]
    }
   ],
   "source": [
    "squares = {x: x ** 2 for x in range(5)}\n",
    "print(squares)"
   ]
  },
  {
   "cell_type": "code",
   "execution_count": null,
   "metadata": {
    "colab": {
     "base_uri": "https://localhost:8080/"
    },
    "executionInfo": {
     "elapsed": 688,
     "status": "ok",
     "timestamp": 1611240075775,
     "user": {
      "displayName": "Anastasiia Chernysheva",
      "photoUrl": "https://lh3.googleusercontent.com/a-/AOh14GhHyHwY-PuMRWX3mjSyss6pojv4D8xrqnEXatqg=s64",
      "userId": "13831218637705529605"
     },
     "user_tz": -180
    },
    "id": "KMhDIYXaGrsT",
    "outputId": "1f6c490a-7a03-4f17-8c43-3084ca7b9d23"
   },
   "outputs": [
    {
     "name": "stdout",
     "output_type": "stream",
     "text": [
      "Франция\n"
     ]
    }
   ],
   "source": [
    "# получение значения по ключу\n",
    "symbol = [\"ru\", \"fr\"]\n",
    "countries = {\"ru\": \"Россия\", \"fr\": \"Франция\"}\n",
    "print(countries[symbol[1]])"
   ]
  },
  {
   "cell_type": "code",
   "execution_count": null,
   "metadata": {
    "colab": {
     "base_uri": "https://localhost:8080/"
    },
    "executionInfo": {
     "elapsed": 581,
     "status": "ok",
     "timestamp": 1611069980091,
     "user": {
      "displayName": "Anastasiia Chernysheva",
      "photoUrl": "https://lh3.googleusercontent.com/a-/AOh14GhHyHwY-PuMRWX3mjSyss6pojv4D8xrqnEXatqg=s64",
      "userId": "13831218637705529605"
     },
     "user_tz": -180
    },
    "id": "qYddAfuSG0_o",
    "outputId": "498f0d57-4f0c-4804-912a-9806801d949a"
   },
   "outputs": [
    {
     "name": "stdout",
     "output_type": "stream",
     "text": [
      "{1: 12, 2: 5}\n",
      "{'ru': {1: 12, 2: 5}, 'fr': 'Франция'}\n"
     ]
    }
   ],
   "source": [
    "lst = [\"ru\", \"fr\"]\n",
    "countries = {lst[0]: {1: 12, 2: 5}, \"fr\": \"Франция\"}\n",
    "print(countries[\"ru\"])\n",
    "print(countries)"
   ]
  },
  {
   "cell_type": "code",
   "execution_count": null,
   "metadata": {
    "colab": {
     "base_uri": "https://localhost:8080/"
    },
    "executionInfo": {
     "elapsed": 544,
     "status": "ok",
     "timestamp": 1611240216462,
     "user": {
      "displayName": "Anastasiia Chernysheva",
      "photoUrl": "https://lh3.googleusercontent.com/a-/AOh14GhHyHwY-PuMRWX3mjSyss6pojv4D8xrqnEXatqg=s64",
      "userId": "13831218637705529605"
     },
     "user_tz": -180
    },
    "id": "skPsdO-kG5cE",
    "outputId": "3d0eef81-5639-4f05-a2ef-8de99abc7e6a"
   },
   "outputs": [
    {
     "name": "stdout",
     "output_type": "stream",
     "text": [
      "исходный словарь {'ru': 'Россия', 'fr': 'Франция'}\n",
      "словарь с Великобританией {'ru': 'Россия', 'fr': 'Франция', 'uk': 'Великобритания'}\n",
      "словарь с Англией {'ru': 'Россия', 'fr': 'Франция', 'uk': 'Англия'}\n",
      "словарь с удаленным элементом {'ru': 'Россия', 'fr': 'Франция'}\n"
     ]
    }
   ],
   "source": [
    "# по ключу можно добавить в словарь новые значения, заменить старые или удалить уже существующие\n",
    "countries = {\"ru\": \"Россия\", \"fr\": \"Франция\"}\n",
    "print(\"исходный словарь\", countries)\n",
    "countries[\"uk\"] = \"Великобритания\"\n",
    "print(\"словарь с Великобританией\", countries)\n",
    "countries[\"uk\"] = \"Англия\"\n",
    "print(\"словарь с Англией\", countries)\n",
    "del countries[\"uk\"]\n",
    "print(\"словарь с удаленным элементом\", countries)"
   ]
  },
  {
   "cell_type": "code",
   "execution_count": null,
   "metadata": {
    "colab": {
     "base_uri": "https://localhost:8080/"
    },
    "executionInfo": {
     "elapsed": 477,
     "status": "ok",
     "timestamp": 1611240393817,
     "user": {
      "displayName": "Anastasiia Chernysheva",
      "photoUrl": "https://lh3.googleusercontent.com/a-/AOh14GhHyHwY-PuMRWX3mjSyss6pojv4D8xrqnEXatqg=s64",
      "userId": "13831218637705529605"
     },
     "user_tz": -180
    },
    "id": "w9JUxhZAHkLs",
    "outputId": "b63babf9-5664-424b-8c32-28708f2ce480"
   },
   "outputs": [
    {
     "name": "stdout",
     "output_type": "stream",
     "text": [
      "{'fr': 'Франция', 'uk': 'Великобритания'}\n",
      "Франция {'uk': 'Великобритания'}\n"
     ]
    }
   ],
   "source": [
    "# удалить элемент по ключу можно методом pop\n",
    "countries = {\"ru\": \"Россия\", \"fr\": \"Франция\", \"uk\": \"Великобритания\"}\n",
    "countries.pop(\"ru\")\n",
    "print(countries)\n",
    "removed = countries.pop(\"fr\")\n",
    "print(removed, countries)"
   ]
  },
  {
   "cell_type": "code",
   "execution_count": null,
   "metadata": {
    "colab": {
     "base_uri": "https://localhost:8080/"
    },
    "executionInfo": {
     "elapsed": 545,
     "status": "ok",
     "timestamp": 1611068973885,
     "user": {
      "displayName": "Anastasiia Chernysheva",
      "photoUrl": "https://lh3.googleusercontent.com/a-/AOh14GhHyHwY-PuMRWX3mjSyss6pojv4D8xrqnEXatqg=s64",
      "userId": "13831218637705529605"
     },
     "user_tz": -180
    },
    "id": "NrnyYFcdHR7L",
    "outputId": "e59fb566-c7f2-4cad-db5e-dfa010f65ae5"
   },
   "outputs": [
    {
     "name": "stdout",
     "output_type": "stream",
     "text": [
      "True\n"
     ]
    }
   ],
   "source": [
    "# проверить, есть ли ключ в словаре, можно, как всегда, через оператор in\n",
    "countries = {\"ru\": \"Россия\", \"fr\": \"Франция\"}\n",
    "print(\"fr\" in countries)"
   ]
  },
  {
   "cell_type": "markdown",
   "metadata": {
    "id": "151erA9zH-eL"
   },
   "source": [
    "Перебирать элементы словаря в цикле можно. При этом можно перебирать:\n",
    "\n",
    "\n",
    "*   только ключи\n",
    "*   только значения\n",
    "*   и ключи, и значения\n",
    "\n"
   ]
  },
  {
   "cell_type": "code",
   "execution_count": null,
   "metadata": {
    "colab": {
     "base_uri": "https://localhost:8080/"
    },
    "executionInfo": {
     "elapsed": 545,
     "status": "ok",
     "timestamp": 1611240489747,
     "user": {
      "displayName": "Anastasiia Chernysheva",
      "photoUrl": "https://lh3.googleusercontent.com/a-/AOh14GhHyHwY-PuMRWX3mjSyss6pojv4D8xrqnEXatqg=s64",
      "userId": "13831218637705529605"
     },
     "user_tz": -180
    },
    "id": "F08ZzZu4IVBy",
    "outputId": "da136962-7a9b-4327-b991-c9a9a496aca1"
   },
   "outputs": [
    {
     "name": "stdout",
     "output_type": "stream",
     "text": [
      "ru\n",
      "Россия\n",
      "fr\n",
      "Франция\n",
      "uk\n",
      "Великобритания\n"
     ]
    }
   ],
   "source": [
    "# перебираем только ключи\n",
    "countries = {\"ru\": \"Россия\", \"fr\": \"Франция\", \"uk\": \"Великобритания\"}\n",
    "for code in countries:\n",
    "  print(code)\n",
    "  print(countries[code])"
   ]
  },
  {
   "cell_type": "code",
   "execution_count": null,
   "metadata": {
    "colab": {
     "base_uri": "https://localhost:8080/"
    },
    "executionInfo": {
     "elapsed": 559,
     "status": "ok",
     "timestamp": 1611240623102,
     "user": {
      "displayName": "Anastasiia Chernysheva",
      "photoUrl": "https://lh3.googleusercontent.com/a-/AOh14GhHyHwY-PuMRWX3mjSyss6pojv4D8xrqnEXatqg=s64",
      "userId": "13831218637705529605"
     },
     "user_tz": -180
    },
    "id": "814h8e60IkrP",
    "outputId": "66d5c18c-4ff1-474b-b294-cbaaf59738e8"
   },
   "outputs": [
    {
     "name": "stdout",
     "output_type": "stream",
     "text": [
      "ru\n",
      "Россия\n",
      "fr\n",
      "Франция\n",
      "uk\n",
      "Великобритания\n",
      "{'ru': 'Россия', 'fr': 'Франция', 'uk': 'Великобритания'}\n",
      "('ru', 'fr', 'uk')\n"
     ]
    }
   ],
   "source": [
    "# или можно то же самое сделать вот так, явно указав, что нас интересуют ключи\n",
    "countries = {\"ru\": \"Россия\", \"fr\": \"Франция\", \"uk\": \"Великобритания\"}\n",
    "for code in countries.keys():\n",
    "  print(code)\n",
    "  print(countries[code])\n",
    "\n",
    "print(countries)\n",
    "print(countries.keys())"
   ]
  },
  {
   "cell_type": "code",
   "execution_count": null,
   "metadata": {
    "colab": {
     "base_uri": "https://localhost:8080/"
    },
    "executionInfo": {
     "elapsed": 548,
     "status": "ok",
     "timestamp": 1611240681967,
     "user": {
      "displayName": "Anastasiia Chernysheva",
      "photoUrl": "https://lh3.googleusercontent.com/a-/AOh14GhHyHwY-PuMRWX3mjSyss6pojv4D8xrqnEXatqg=s64",
      "userId": "13831218637705529605"
     },
     "user_tz": -180
    },
    "id": "vzLWHdFDI0jJ",
    "outputId": "63fd65ad-19e4-4b0a-95ee-4fe0aac487c2"
   },
   "outputs": [
    {
     "name": "stdout",
     "output_type": "stream",
     "text": [
      "Россия\n",
      "Франция\n",
      "Великобритания\n",
      "dict_values(['Россия', 'Франция', 'Великобритания'])\n"
     ]
    }
   ],
   "source": [
    "# перебираем только значения\n",
    "countries = {\"ru\": \"Россия\", \"fr\": \"Франция\", \"uk\": \"Великобритания\"}\n",
    "for name in countries.values():\n",
    "  print(name)\n",
    "\n",
    "print(countries.values())"
   ]
  },
  {
   "cell_type": "code",
   "execution_count": null,
   "metadata": {
    "colab": {
     "base_uri": "https://localhost:8080/"
    },
    "executionInfo": {
     "elapsed": 684,
     "status": "ok",
     "timestamp": 1611240747866,
     "user": {
      "displayName": "Anastasiia Chernysheva",
      "photoUrl": "https://lh3.googleusercontent.com/a-/AOh14GhHyHwY-PuMRWX3mjSyss6pojv4D8xrqnEXatqg=s64",
      "userId": "13831218637705529605"
     },
     "user_tz": -180
    },
    "id": "bdQ2x7pqJBrt",
    "outputId": "bd060665-7fda-4e6d-f745-bbc3b37540ee"
   },
   "outputs": [
    {
     "name": "stdout",
     "output_type": "stream",
     "text": [
      "('ru', 'Россия')\n",
      "ru Россия\n",
      "('fr', 'Франция')\n",
      "fr Франция\n",
      "('uk', 'Великобритания')\n",
      "uk Великобритания\n",
      "dict_items([('ru', 'Россия'), ('fr', 'Франция'), ('uk', 'Великобритания')])\n"
     ]
    }
   ],
   "source": [
    "# перебирает пары \"ключ-значение\"\n",
    "countries = {\"ru\": \"Россия\", \"fr\": \"Франция\", \"uk\": \"Великобритания\"}\n",
    "for i in countries.items():\n",
    "  print(i)\n",
    "  print(i[0], i[1])\n",
    "\n",
    "print(countries.items())"
   ]
  },
  {
   "cell_type": "code",
   "execution_count": null,
   "metadata": {
    "colab": {
     "base_uri": "https://localhost:8080/"
    },
    "executionInfo": {
     "elapsed": 430,
     "status": "ok",
     "timestamp": 1611240838764,
     "user": {
      "displayName": "Anastasiia Chernysheva",
      "photoUrl": "https://lh3.googleusercontent.com/a-/AOh14GhHyHwY-PuMRWX3mjSyss6pojv4D8xrqnEXatqg=s64",
      "userId": "13831218637705529605"
     },
     "user_tz": -180
    },
    "id": "m1kohXOIJRoH",
    "outputId": "7ff0edd8-e3c5-48ac-b2bf-4aae0bd1909d"
   },
   "outputs": [
    {
     "name": "stdout",
     "output_type": "stream",
     "text": [
      "ru Россия\n",
      "fr Франция\n",
      "uk Великобритания\n"
     ]
    }
   ],
   "source": [
    "# т.к. вывод получается в формате кортежа, можно использовать кортежное присваивание\n",
    "countries = {\"ru\": \"Россия\", \"fr\": \"Франция\", \"uk\": \"Великобритания\"}\n",
    "for code, name in countries.items():\n",
    "  print(code, name)"
   ]
  },
  {
   "cell_type": "markdown",
   "metadata": {
    "id": "GdkwIakBn7F_"
   },
   "source": [
    "**МЕТОДЫ СЛОВАРЕЙ**"
   ]
  },
  {
   "cell_type": "code",
   "execution_count": 1,
   "metadata": {
    "colab": {
     "base_uri": "https://localhost:8080/"
    },
    "executionInfo": {
     "elapsed": 1916,
     "status": "ok",
     "timestamp": 1612277951525,
     "user": {
      "displayName": "Anastasiia Chernysheva",
      "photoUrl": "https://lh3.googleusercontent.com/a-/AOh14GhHyHwY-PuMRWX3mjSyss6pojv4D8xrqnEXatqg=s64",
      "userId": "13831218637705529605"
     },
     "user_tz": -180
    },
    "id": "yrxh-3h0oOj_",
    "outputId": "a4e72a4c-d887-4c6c-a465-33a89d362d41"
   },
   "outputs": [
    {
     "name": "stdout",
     "output_type": "stream",
     "text": [
      "Словарь: {'ru': 'Россия', 'fr': 'Франция', 'uk': 'Великобритания'}\n",
      "Словарь: {'ru': 'Россия', 'fr': 'Франция', 'uk': 'Великобритания'}\n",
      "{'fr': 'Франция', 'uk': 'Великобритания'}\n"
     ]
    }
   ],
   "source": [
    "# очистить словарь\n",
    "countries = {\"ru\": \"Россия\", \"fr\": \"Франция\", \"uk\": \"Великобритания\"}\n",
    "print(f\"Словарь: {countries}\")\n",
    "countries.clear()\n",
    "print(f\"Словарь: {countries}\")"
   ]
  },
  {
   "cell_type": "code",
   "execution_count": null,
   "metadata": {
    "colab": {
     "base_uri": "https://localhost:8080/"
    },
    "executionInfo": {
     "elapsed": 1004,
     "status": "ok",
     "timestamp": 1611344832693,
     "user": {
      "displayName": "Anastasiia Chernysheva",
      "photoUrl": "https://lh3.googleusercontent.com/a-/AOh14GhHyHwY-PuMRWX3mjSyss6pojv4D8xrqnEXatqg=s64",
      "userId": "13831218637705529605"
     },
     "user_tz": -180
    },
    "id": "_CI9QjHeol4f",
    "outputId": "bceb16dc-14cd-40fe-fe3a-f965461371d3"
   },
   "outputs": [
    {
     "name": "stdout",
     "output_type": "stream",
     "text": [
      "Словарь: {'ru': 'Россия', 'fr': 'Франция', 'uk': 'Великобритания'}\n",
      "Словарь: {'ru': 'Россия', 'fr': 'Франция', 'uk': 'Великобритания'}\n"
     ]
    }
   ],
   "source": [
    "# создать копию словаря\n",
    "countries = {\"ru\": \"Россия\", \"fr\": \"Франция\", \"uk\": \"Великобритания\"}\n",
    "print(f\"Словарь: {countries}\")\n",
    "countries_copy = countries.copy()\n",
    "print(f\"Словарь: {countries_copy}\")"
   ]
  },
  {
   "cell_type": "markdown",
   "metadata": {
    "id": "u3EAQL6zpYBk"
   },
   "source": [
    "**`get(key, [default])`: получить значение по ключу**\n",
    "\n",
    "Если указанного ключа нет в словаре, не выдает ошибку, а выдает `None` (если не указано значение по умолчанию) или специально придуманное значение по умолчанию (если такое указано в скобочках вторым параметром)."
   ]
  },
  {
   "cell_type": "code",
   "execution_count": null,
   "metadata": {
    "colab": {
     "base_uri": "https://localhost:8080/"
    },
    "executionInfo": {
     "elapsed": 553,
     "status": "ok",
     "timestamp": 1611672196974,
     "user": {
      "displayName": "Anastasiia Chernysheva",
      "photoUrl": "https://lh3.googleusercontent.com/a-/AOh14GhHyHwY-PuMRWX3mjSyss6pojv4D8xrqnEXatqg=s64",
      "userId": "13831218637705529605"
     },
     "user_tz": -180
    },
    "id": "9bu_zJ2povP2",
    "outputId": "da4292e3-c8d7-46fe-f320-5df47062ff90"
   },
   "outputs": [
    {
     "name": "stdout",
     "output_type": "stream",
     "text": [
      "Вывод 1: 0\n",
      "Вывод 2: None\n",
      "Франция\n",
      "Франция\n"
     ]
    }
   ],
   "source": [
    "# получить значение ключа с помощью get()\n",
    "countries = {\"ru\": \"Россия\", \"fr\": \"Франция\", \"uk\": \"Великобритания\"}\n",
    "key_value = countries.get(\"us\", 0)\n",
    "print(f\"Вывод 1: {key_value}\")\n",
    "key_value = countries.get(\"us\")\n",
    "print(f\"Вывод 2: {key_value}\")\n",
    "print(countries.get(\"fr\", 1))\n",
    "print(countries[\"fr\"])"
   ]
  },
  {
   "cell_type": "markdown",
   "metadata": {
    "id": "2yFinu6VqGsU"
   },
   "source": [
    "**`popitem()`: удалить последнюю добавленную в словарь пару ключ-значение (которую дополнительно можно сохранить в какую-нибудь переменную)**\n",
    "\n",
    "Если в словаре ничего нет, `Python` выдаст ошибку. \n",
    "\n",
    "\n",
    "\n",
    "*   Если в словаре ничего нет, `Python` выдаст ошибку. \n",
    "*   Удаляется последняя добавленная пара, потому что элементы в словаре не упорядочены (как в множестве).\n",
    "\n"
   ]
  },
  {
   "cell_type": "code",
   "execution_count": null,
   "metadata": {
    "colab": {
     "base_uri": "https://localhost:8080/"
    },
    "executionInfo": {
     "elapsed": 607,
     "status": "ok",
     "timestamp": 1611672283275,
     "user": {
      "displayName": "Anastasiia Chernysheva",
      "photoUrl": "https://lh3.googleusercontent.com/a-/AOh14GhHyHwY-PuMRWX3mjSyss6pojv4D8xrqnEXatqg=s64",
      "userId": "13831218637705529605"
     },
     "user_tz": -180
    },
    "id": "Ii2NeFFlsHJN",
    "outputId": "db40d758-9410-4a8e-efee-0d272f5094db"
   },
   "outputs": [
    {
     "name": "stdout",
     "output_type": "stream",
     "text": [
      "{'ru': 'Россия', 'fr': 'Франция'}\n"
     ]
    }
   ],
   "source": [
    "countries = {\"ru\": \"Россия\", \"fr\": \"Франция\", \"uk\": \"Великобритания\"}\n",
    "countries.popitem()\n",
    "print(countries)"
   ]
  },
  {
   "cell_type": "markdown",
   "metadata": {
    "id": "zL5vDajptdEZ"
   },
   "source": [
    "**`update([другой_словарь])`: объединить два словаря в один**\n",
    "\n",
    "Элементы с совпадающими ключами перезаписываются.\n",
    "\n"
   ]
  },
  {
   "cell_type": "code",
   "execution_count": null,
   "metadata": {
    "colab": {
     "base_uri": "https://localhost:8080/"
    },
    "executionInfo": {
     "elapsed": 894,
     "status": "ok",
     "timestamp": 1611845088867,
     "user": {
      "displayName": "Anastasiia Chernysheva",
      "photoUrl": "https://lh3.googleusercontent.com/a-/AOh14GhHyHwY-PuMRWX3mjSyss6pojv4D8xrqnEXatqg=s64",
      "userId": "13831218637705529605"
     },
     "user_tz": -180
    },
    "id": "kOhf_vIEttvn",
    "outputId": "7d8e1b3f-13f1-4be1-b27c-fe3c93ef9b3c"
   },
   "outputs": [
    {
     "name": "stdout",
     "output_type": "stream",
     "text": [
      "{'fi': 'Финляндия', 'uk': 'Великобритания', 'ru': 'Россия', 'fr': 'Франция'}\n",
      "None\n"
     ]
    }
   ],
   "source": [
    "countries1 = {\"ru\": \"Россия\", \"fr\": \"Франция\", \"uk\": \"Великобритания\"}\n",
    "countries2 = {\"fi\": \"Финляндия\", \"uk\": \"Англия\"}\n",
    "c3 = countries2.update(countries1)\n",
    "print(countries2)\n",
    "print(c3)"
   ]
  },
  {
   "cell_type": "markdown",
   "metadata": {
    "id": "93M6R8GfOYXu"
   },
   "source": [
    "**ВСТРОЕННЫЕ ФУНКЦИИ ДЛЯ СЛОВАРЕЙ**"
   ]
  },
  {
   "cell_type": "code",
   "execution_count": null,
   "metadata": {
    "colab": {
     "base_uri": "https://localhost:8080/"
    },
    "executionInfo": {
     "elapsed": 910,
     "status": "ok",
     "timestamp": 1611845273052,
     "user": {
      "displayName": "Anastasiia Chernysheva",
      "photoUrl": "https://lh3.googleusercontent.com/a-/AOh14GhHyHwY-PuMRWX3mjSyss6pojv4D8xrqnEXatqg=s64",
      "userId": "13831218637705529605"
     },
     "user_tz": -180
    },
    "id": "FsgUGijdOagX",
    "outputId": "97b4cea3-6763-40bd-dd94-37d5ff92765d"
   },
   "outputs": [
    {
     "name": "stdout",
     "output_type": "stream",
     "text": [
      "3\n",
      "fr\n",
      "uk\n"
     ]
    }
   ],
   "source": [
    "# посчитать количество элементов в словаре - функция len()\n",
    "countries = {\"ru\": \"Россия\", \"fr\": \"Франция\", \"uk\": \"Великобритания\"}\n",
    "print(len(countries))\n",
    "print(min(countries))\n",
    "print(max(countries))"
   ]
  },
  {
   "cell_type": "code",
   "execution_count": null,
   "metadata": {
    "colab": {
     "base_uri": "https://localhost:8080/"
    },
    "executionInfo": {
     "elapsed": 1106,
     "status": "ok",
     "timestamp": 1611656873224,
     "user": {
      "displayName": "Anastasiia Chernysheva",
      "photoUrl": "https://lh3.googleusercontent.com/a-/AOh14GhHyHwY-PuMRWX3mjSyss6pojv4D8xrqnEXatqg=s64",
      "userId": "13831218637705529605"
     },
     "user_tz": -180
    },
    "id": "XYPQmXu9Os9O",
    "outputId": "8201f2f5-64cd-45c5-dc05-bdc32b5ad95e"
   },
   "outputs": [
    {
     "name": "stdout",
     "output_type": "stream",
     "text": [
      "['fr', 'ru', 'uk']\n"
     ]
    }
   ],
   "source": [
    "# отсортировать ключи словаря - sorted()\n",
    "countries = {\"ru\": \"Россия\", \"fr\": \"Франция\", \"uk\": \"Великобритания\"}\n",
    "print(sorted(countries))"
   ]
  },
  {
   "cell_type": "code",
   "execution_count": null,
   "metadata": {
    "colab": {
     "base_uri": "https://localhost:8080/"
    },
    "executionInfo": {
     "elapsed": 1016,
     "status": "ok",
     "timestamp": 1611671007471,
     "user": {
      "displayName": "Anastasiia Chernysheva",
      "photoUrl": "https://lh3.googleusercontent.com/a-/AOh14GhHyHwY-PuMRWX3mjSyss6pojv4D8xrqnEXatqg=s64",
      "userId": "13831218637705529605"
     },
     "user_tz": -180
    },
    "id": "XTMNg1Oj_cS8",
    "outputId": "0bf28b47-0e6e-4b34-9b44-ef1ce0fa7240"
   },
   "outputs": [
    {
     "name": "stdout",
     "output_type": "stream",
     "text": [
      "Москва : Россия\n",
      "Лион : Франция\n",
      "dict_items([('Россия', ['Москва', 'Санкт-Петербург', 'Казань']), ('Франция', ['Париж', 'Лион'])])\n"
     ]
    }
   ],
   "source": [
    "# задача про страны\n",
    "countries = {\"Россия\": [\"Москва\", \"Санкт-Петербург\", \"Казань\"], \"Франция\": [\"Париж\", \"Лион\"]}\n",
    "cities = [\"Москва\", \"Лион\"]\n",
    "for city in cities:\n",
    "  for country, cities_in_country in countries.items():\n",
    "    if city in cities_in_country:\n",
    "      print(city, \":\", country)\n",
    "\n",
    "print(countries.items())"
   ]
  },
  {
   "cell_type": "code",
   "execution_count": null,
   "metadata": {
    "colab": {
     "base_uri": "https://localhost:8080/"
    },
    "executionInfo": {
     "elapsed": 10860,
     "status": "ok",
     "timestamp": 1611673667420,
     "user": {
      "displayName": "Anastasiia Chernysheva",
      "photoUrl": "https://lh3.googleusercontent.com/a-/AOh14GhHyHwY-PuMRWX3mjSyss6pojv4D8xrqnEXatqg=s64",
      "userId": "13831218637705529605"
     },
     "user_tz": -180
    },
    "id": "xe2E6JSELny8",
    "outputId": "9164344c-d870-4974-935b-ff859368d90c"
   },
   "outputs": [
    {
     "name": "stdout",
     "output_type": "stream",
     "text": [
      "2\n",
      "a\n",
      "a A\n",
      "b\n",
      "b B\n",
      "{'a': ['a', 'A'], 'b': ['b', 'B']}\n"
     ]
    }
   ],
   "source": [
    "dictionary = {}\n",
    "for i in range(int(input())):\n",
    "  k = input()\n",
    "  dictionary[k] = input().split()\n",
    "print(dictionary)"
   ]
  }
 ],
 "metadata": {
  "colab": {
   "authorship_tag": "ABX9TyMOaNr8kETLA1QEnyBgoln9",
   "name": "Тема 8. Словари.ipynb",
   "provenance": []
  },
  "kernelspec": {
   "display_name": "Python 3",
   "name": "python3"
  }
 },
 "nbformat": 4,
 "nbformat_minor": 0
}
