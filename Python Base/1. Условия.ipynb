{
 "cells": [
  {
   "cell_type": "markdown",
   "metadata": {
    "id": "zsAsxUeHNF_V"
   },
   "source": [
    "**УСЛОВИЯ**\n",
    "\n",
    "Представим, что вам нужно проверить работу ученика и поставить оценку в зависимости от количества ошибок. Оценок всего две, зачёт и незачёт. Зачёт ставится, если ученик допустил меньше трёх ошибок, иначе ставится незачёт. Нужно написать программу, которая будет принимать на вход количество ошибок и выводить оценку."
   ]
  },
  {
   "cell_type": "code",
   "execution_count": null,
   "metadata": {
    "colab": {
     "base_uri": "https://localhost:8080/",
     "height": 34
    },
    "executionInfo": {
     "elapsed": 6725,
     "status": "ok",
     "timestamp": 1603204473728,
     "user": {
      "displayName": "Anastasiia Chernysheva",
      "photoUrl": "https://lh3.googleusercontent.com/a-/AOh14GhHyHwY-PuMRWX3mjSyss6pojv4D8xrqnEXatqg=s64",
      "userId": "13831218637705529605"
     },
     "user_tz": -180
    },
    "id": "plZFab0sOXDL",
    "outputId": "611233f3-c92e-4f0e-e00f-201d0b981914"
   },
   "outputs": [
    {
     "name": "stdout",
     "output_type": "stream",
     "text": [
      "Введите количество ошибок: 4\n"
     ]
    }
   ],
   "source": [
    "errors = int(input('Введите количество ошибок: '))"
   ]
  },
  {
   "cell_type": "markdown",
   "metadata": {
    "id": "jx75tX8hJPLi"
   },
   "source": [
    "**ОПЕРАТРЫ СРАВНЕНИЯ**\n",
    "\n",
    "> **Условие** - это выражение, результатом вычисления которого является одно из двух логических значений, ИСТИНА или ЛОЖЬ, то есть логическое выражение.\n",
    "\n",
    "Для сравнения в Python есть 6 операторов, сравнивающих ***обычно*** 2 значения:\n",
    "\n",
    "1. Больше ( > )\n",
    "2. Больше или равно ( >= )\n",
    "3. Меньше ( < )\n",
    "4. Меньше или равно ( <= )\n",
    "5. Равно ( == )\n",
    "6. Не равно ( != )"
   ]
  },
  {
   "cell_type": "code",
   "execution_count": null,
   "metadata": {
    "colab": {
     "base_uri": "https://localhost:8080/"
    },
    "executionInfo": {
     "elapsed": 278,
     "status": "ok",
     "timestamp": 1632408874260,
     "user": {
      "displayName": "Anastasiia Chernysheva",
      "photoUrl": "https://lh3.googleusercontent.com/a-/AOh14GhHyHwY-PuMRWX3mjSyss6pojv4D8xrqnEXatqg=s64",
      "userId": "13831218637705529605"
     },
     "user_tz": -180
    },
    "id": "SRcDrQtVJjWj",
    "outputId": "c5dfc1c5-0a9f-4533-d8ca-af5ee5be6796"
   },
   "outputs": [
    {
     "name": "stdout",
     "output_type": "stream",
     "text": [
      "True\n"
     ]
    }
   ],
   "source": [
    "a = 15 > 4\n",
    "print(a)"
   ]
  },
  {
   "cell_type": "code",
   "execution_count": null,
   "metadata": {
    "colab": {
     "base_uri": "https://localhost:8080/",
     "height": 34
    },
    "executionInfo": {
     "elapsed": 916,
     "status": "ok",
     "timestamp": 1603204586172,
     "user": {
      "displayName": "Anastasiia Chernysheva",
      "photoUrl": "https://lh3.googleusercontent.com/a-/AOh14GhHyHwY-PuMRWX3mjSyss6pojv4D8xrqnEXatqg=s64",
      "userId": "13831218637705529605"
     },
     "user_tz": -180
    },
    "id": "H9QEOJShKQ6B",
    "outputId": "23efe377-1084-432c-e710-6682d6e7433a"
   },
   "outputs": [
    {
     "name": "stdout",
     "output_type": "stream",
     "text": [
      "True\n"
     ]
    }
   ],
   "source": [
    "print(16 > 7)"
   ]
  },
  {
   "cell_type": "code",
   "execution_count": null,
   "metadata": {
    "colab": {
     "base_uri": "https://localhost:8080/",
     "height": 34
    },
    "executionInfo": {
     "elapsed": 1331,
     "status": "ok",
     "timestamp": 1603204593679,
     "user": {
      "displayName": "Anastasiia Chernysheva",
      "photoUrl": "https://lh3.googleusercontent.com/a-/AOh14GhHyHwY-PuMRWX3mjSyss6pojv4D8xrqnEXatqg=s64",
      "userId": "13831218637705529605"
     },
     "user_tz": -180
    },
    "id": "QoqWieSXKpUZ",
    "outputId": "86db9f0c-1a05-41cf-b314-560a8ed9fc85"
   },
   "outputs": [
    {
     "name": "stdout",
     "output_type": "stream",
     "text": [
      "True\n"
     ]
    }
   ],
   "source": [
    "print(4 >= 4)"
   ]
  },
  {
   "cell_type": "code",
   "execution_count": null,
   "metadata": {
    "colab": {
     "base_uri": "https://localhost:8080/",
     "height": 34
    },
    "executionInfo": {
     "elapsed": 1172,
     "status": "ok",
     "timestamp": 1603204599735,
     "user": {
      "displayName": "Anastasiia Chernysheva",
      "photoUrl": "https://lh3.googleusercontent.com/a-/AOh14GhHyHwY-PuMRWX3mjSyss6pojv4D8xrqnEXatqg=s64",
      "userId": "13831218637705529605"
     },
     "user_tz": -180
    },
    "id": "i-L28DmFKqxq",
    "outputId": "e7405028-5316-45ac-ca6d-a7cbc9d512f3"
   },
   "outputs": [
    {
     "name": "stdout",
     "output_type": "stream",
     "text": [
      "False\n"
     ]
    }
   ],
   "source": [
    "print(2 < -9) "
   ]
  },
  {
   "cell_type": "code",
   "execution_count": null,
   "metadata": {
    "colab": {
     "base_uri": "https://localhost:8080/",
     "height": 34
    },
    "executionInfo": {
     "elapsed": 1206,
     "status": "ok",
     "timestamp": 1603204604748,
     "user": {
      "displayName": "Anastasiia Chernysheva",
      "photoUrl": "https://lh3.googleusercontent.com/a-/AOh14GhHyHwY-PuMRWX3mjSyss6pojv4D8xrqnEXatqg=s64",
      "userId": "13831218637705529605"
     },
     "user_tz": -180
    },
    "id": "-q4yugTsKsDZ",
    "outputId": "8e041303-e5c4-46fe-a803-7d6737b73171"
   },
   "outputs": [
    {
     "name": "stdout",
     "output_type": "stream",
     "text": [
      "True\n"
     ]
    }
   ],
   "source": [
    "print(-3 <= 3)"
   ]
  },
  {
   "cell_type": "code",
   "execution_count": null,
   "metadata": {
    "colab": {
     "base_uri": "https://localhost:8080/",
     "height": 34
    },
    "executionInfo": {
     "elapsed": 1183,
     "status": "ok",
     "timestamp": 1603204609156,
     "user": {
      "displayName": "Anastasiia Chernysheva",
      "photoUrl": "https://lh3.googleusercontent.com/a-/AOh14GhHyHwY-PuMRWX3mjSyss6pojv4D8xrqnEXatqg=s64",
      "userId": "13831218637705529605"
     },
     "user_tz": -180
    },
    "id": "VWYocXVqKtQJ",
    "outputId": "ac56d1ea-edaf-4f67-b2df-dac7dafb8129"
   },
   "outputs": [
    {
     "name": "stdout",
     "output_type": "stream",
     "text": [
      "False\n"
     ]
    }
   ],
   "source": [
    "print(19 == 7)"
   ]
  },
  {
   "cell_type": "code",
   "execution_count": null,
   "metadata": {
    "colab": {
     "base_uri": "https://localhost:8080/",
     "height": 34
    },
    "executionInfo": {
     "elapsed": 1037,
     "status": "ok",
     "timestamp": 1603204613809,
     "user": {
      "displayName": "Anastasiia Chernysheva",
      "photoUrl": "https://lh3.googleusercontent.com/a-/AOh14GhHyHwY-PuMRWX3mjSyss6pojv4D8xrqnEXatqg=s64",
      "userId": "13831218637705529605"
     },
     "user_tz": -180
    },
    "id": "YXOWVXi3KuD_",
    "outputId": "2dc3982f-19ca-4440-8b10-f49d82835f28"
   },
   "outputs": [
    {
     "name": "stdout",
     "output_type": "stream",
     "text": [
      "True\n"
     ]
    }
   ],
   "source": [
    "print(8 != 5) "
   ]
  },
  {
   "cell_type": "markdown",
   "metadata": {
    "id": "b-xREOItLA9x"
   },
   "source": [
    "Решение задачки о проверке работы:"
   ]
  },
  {
   "cell_type": "code",
   "execution_count": null,
   "metadata": {
    "colab": {
     "base_uri": "https://localhost:8080/",
     "height": 52
    },
    "executionInfo": {
     "elapsed": 5231,
     "status": "ok",
     "timestamp": 1603204680615,
     "user": {
      "displayName": "Anastasiia Chernysheva",
      "photoUrl": "https://lh3.googleusercontent.com/a-/AOh14GhHyHwY-PuMRWX3mjSyss6pojv4D8xrqnEXatqg=s64",
      "userId": "13831218637705529605"
     },
     "user_tz": -180
    },
    "id": "Q-w8q7bSQgjx",
    "outputId": "bc3e163f-3188-4d27-e239-28a6548affdb"
   },
   "outputs": [
    {
     "name": "stdout",
     "output_type": "stream",
     "text": [
      "Количество ошибок: 8\n",
      "False\n"
     ]
    }
   ],
   "source": [
    "errors = int(input('Количество ошибок: '))\n",
    "got_credit = errors < 3                   \n",
    "print(got_credit)  "
   ]
  },
  {
   "cell_type": "markdown",
   "metadata": {
    "id": "M3gk4ej5LwgK"
   },
   "source": [
    "**Приоритет операторов сравнения**"
   ]
  },
  {
   "cell_type": "code",
   "execution_count": null,
   "metadata": {
    "colab": {
     "base_uri": "https://localhost:8080/"
    },
    "executionInfo": {
     "elapsed": 253,
     "status": "ok",
     "timestamp": 1632408968597,
     "user": {
      "displayName": "Anastasiia Chernysheva",
      "photoUrl": "https://lh3.googleusercontent.com/a-/AOh14GhHyHwY-PuMRWX3mjSyss6pojv4D8xrqnEXatqg=s64",
      "userId": "13831218637705529605"
     },
     "user_tz": -180
    },
    "id": "C3dqId2cL4I_",
    "outputId": "c7eac594-3bd7-452c-b3cb-4bfb3b2e6535"
   },
   "outputs": [
    {
     "name": "stdout",
     "output_type": "stream",
     "text": [
      "True\n"
     ]
    }
   ],
   "source": [
    "a = 6\n",
    "b = 9\n",
    "print(a + 3 < 2 * b)"
   ]
  },
  {
   "cell_type": "markdown",
   "metadata": {
    "id": "kSHdnpMnMNOM"
   },
   "source": [
    "**ЛОГИЧЕСКИЕ ОПЕРАТОРЫ**\n",
    "\n",
    "Вернемся к задаче с оценками. Допустим, система оценивания измениляась. Ошибки делятся на критичные и некритичные. Для получения зачета можно допустить максимум одну критичную ошибку и 3 некритичные."
   ]
  },
  {
   "cell_type": "markdown",
   "metadata": {
    "id": "CD9vhhmhPOI3"
   },
   "source": [
    "В Python есть три логических оператора:\n",
    "\n",
    "\n",
    "1.   Логическое НЕ: инверсия ( not )\n",
    "2.   Логическое И: конъюнкция ( and )\n",
    "3.   Логическое ИЛИ: дизъюнкция ( or )\n",
    "\n",
    "\n",
    "> ***Логические операторы выполняются после операторов сравнения.***\n",
    "\n",
    "\n",
    "\n"
   ]
  },
  {
   "cell_type": "code",
   "execution_count": null,
   "metadata": {
    "id": "C-3D6G892Rqf"
   },
   "outputs": [],
   "source": [
    "# если хотим, чтобы было \"не а или б\"\n",
    "not (a or b)\n",
    "not a and not b"
   ]
  },
  {
   "cell_type": "code",
   "execution_count": null,
   "metadata": {
    "colab": {
     "base_uri": "https://localhost:8080/",
     "height": 34
    },
    "executionInfo": {
     "elapsed": 555,
     "status": "ok",
     "timestamp": 1603204887466,
     "user": {
      "displayName": "Anastasiia Chernysheva",
      "photoUrl": "https://lh3.googleusercontent.com/a-/AOh14GhHyHwY-PuMRWX3mjSyss6pojv4D8xrqnEXatqg=s64",
      "userId": "13831218637705529605"
     },
     "user_tz": -180
    },
    "id": "P8EEKDVdP78K",
    "outputId": "065a28ce-b6f2-477e-e962-1cfc408df216"
   },
   "outputs": [
    {
     "name": "stdout",
     "output_type": "stream",
     "text": [
      "False\n"
     ]
    }
   ],
   "source": [
    "a = 9\n",
    "b = 3\n",
    "\n",
    "print(not a > b)"
   ]
  },
  {
   "cell_type": "code",
   "execution_count": null,
   "metadata": {
    "colab": {
     "base_uri": "https://localhost:8080/",
     "height": 34
    },
    "executionInfo": {
     "elapsed": 1241,
     "status": "ok",
     "timestamp": 1602773872006,
     "user": {
      "displayName": "Anastasiia Chernysheva",
      "photoUrl": "https://lh3.googleusercontent.com/a-/AOh14GhHyHwY-PuMRWX3mjSyss6pojv4D8xrqnEXatqg=s64",
      "userId": "13831218637705529605"
     },
     "user_tz": -180
    },
    "id": "SI81hsxmQAA6",
    "outputId": "816d0dab-caac-422a-e9bd-5729f09a3a6f"
   },
   "outputs": [
    {
     "name": "stdout",
     "output_type": "stream",
     "text": [
      "False\n"
     ]
    }
   ],
   "source": [
    "print(a < 3 or 9 == b)"
   ]
  },
  {
   "cell_type": "code",
   "execution_count": null,
   "metadata": {
    "colab": {
     "base_uri": "https://localhost:8080/",
     "height": 34
    },
    "executionInfo": {
     "elapsed": 876,
     "status": "ok",
     "timestamp": 1602773878374,
     "user": {
      "displayName": "Anastasiia Chernysheva",
      "photoUrl": "https://lh3.googleusercontent.com/a-/AOh14GhHyHwY-PuMRWX3mjSyss6pojv4D8xrqnEXatqg=s64",
      "userId": "13831218637705529605"
     },
     "user_tz": -180
    },
    "id": "M9qtrT2UQA0a",
    "outputId": "5d77f668-bab9-48c8-8034-de053665c145"
   },
   "outputs": [
    {
     "name": "stdout",
     "output_type": "stream",
     "text": [
      "True\n"
     ]
    }
   ],
   "source": [
    "print(not a < b) "
   ]
  },
  {
   "cell_type": "markdown",
   "metadata": {
    "id": "eXiAcRz7QEiw"
   },
   "source": [
    "Задачка с новыми условиями проверки работ можно решить так:"
   ]
  },
  {
   "cell_type": "code",
   "execution_count": null,
   "metadata": {
    "colab": {
     "base_uri": "https://localhost:8080/",
     "height": 69
    },
    "executionInfo": {
     "elapsed": 9086,
     "status": "ok",
     "timestamp": 1603205046672,
     "user": {
      "displayName": "Anastasiia Chernysheva",
      "photoUrl": "https://lh3.googleusercontent.com/a-/AOh14GhHyHwY-PuMRWX3mjSyss6pojv4D8xrqnEXatqg=s64",
      "userId": "13831218637705529605"
     },
     "user_tz": -180
    },
    "id": "ILM2oDiGQLu3",
    "outputId": "606d6715-d2a8-428a-af32-ce84c5d72896"
   },
   "outputs": [
    {
     "name": "stdout",
     "output_type": "stream",
     "text": [
      "Критичные ошибки: 1\n",
      "Некритичные ошибки: 4\n",
      "False\n"
     ]
    }
   ],
   "source": [
    "critical = int(input('Критичные ошибки: '))\n",
    "non_critical = int(input('Некритичные ошибки: '))\n",
    "\n",
    "got_credit = critical <= 1 and non_critical <= 3\n",
    "print(got_credit)  "
   ]
  },
  {
   "cell_type": "markdown",
   "metadata": {
    "id": "08K7Ss3uQtGI"
   },
   "source": [
    "Вывод True и False - это хорошо, но не слишком. Мы хотим, чтобы выводилась сразу оценка. "
   ]
  },
  {
   "cell_type": "markdown",
   "metadata": {
    "id": "DZ9yDaSRRBYe"
   },
   "source": [
    "\n",
    "\n",
    "> **Условный оператор** (оператор ветвления) — оператор, выполняющий тот или иной набор инструкций в зависимости от заданного условия.\n",
    "\n"
   ]
  },
  {
   "cell_type": "markdown",
   "metadata": {
    "id": "jhtQ8WQfSdYO"
   },
   "source": [
    "\n",
    "\n",
    "```\n",
    "if условие:\n",
    "  действия, если условие истинно\n",
    "else:\n",
    "  действия, если условие ложно\n",
    "```\n",
    "\n"
   ]
  },
  {
   "cell_type": "markdown",
   "metadata": {
    "id": "EUc6vfQCStbC"
   },
   "source": [
    "\n",
    "\n",
    "> **Синтаксис языка программирования** - это правила записи тех или иных конструкций.\n",
    "\n"
   ]
  },
  {
   "cell_type": "code",
   "execution_count": null,
   "metadata": {
    "colab": {
     "base_uri": "https://localhost:8080/",
     "height": 69
    },
    "executionInfo": {
     "elapsed": 3728,
     "status": "ok",
     "timestamp": 1603205348638,
     "user": {
      "displayName": "Anastasiia Chernysheva",
      "photoUrl": "https://lh3.googleusercontent.com/a-/AOh14GhHyHwY-PuMRWX3mjSyss6pojv4D8xrqnEXatqg=s64",
      "userId": "13831218637705529605"
     },
     "user_tz": -180
    },
    "id": "EXjzKBwbQSfe",
    "outputId": "0c47f3ad-435e-4fd0-d592-03d7486b39f3"
   },
   "outputs": [
    {
     "name": "stdout",
     "output_type": "stream",
     "text": [
      "Критичные ошибки: 1\n",
      "Некритичные ошибки: 2\n",
      "Зачёт\n"
     ]
    }
   ],
   "source": [
    "critical = int(input('Критичные ошибки: '))      \n",
    "non_critical = int(input('Некритичные ошибки: '))\n",
    "\n",
    "got_credit = critical <= 1 and non_critical <= 3  \n",
    "if got_credit:                                    \n",
    "\tprint('Зачёт')\n",
    "else:\n",
    "\tprint('Незачёт')   "
   ]
  },
  {
   "cell_type": "code",
   "execution_count": null,
   "metadata": {
    "colab": {
     "base_uri": "https://localhost:8080/",
     "height": 69
    },
    "executionInfo": {
     "elapsed": 5035,
     "status": "ok",
     "timestamp": 1603205412051,
     "user": {
      "displayName": "Anastasiia Chernysheva",
      "photoUrl": "https://lh3.googleusercontent.com/a-/AOh14GhHyHwY-PuMRWX3mjSyss6pojv4D8xrqnEXatqg=s64",
      "userId": "13831218637705529605"
     },
     "user_tz": -180
    },
    "id": "D3cKUM5DTQG6",
    "outputId": "d54dec78-a686-438d-bd26-e9a299fb43ef"
   },
   "outputs": [
    {
     "name": "stdout",
     "output_type": "stream",
     "text": [
      "Критичные ошибки: 1\n",
      "Некритичные ошибки: 9\n",
      "Незачёт\n"
     ]
    }
   ],
   "source": [
    "critical = int(input('Критичные ошибки: '))\n",
    "non_critical = int(input('Некритичные ошибки: '))\n",
    "\n",
    "if critical <= 1 and non_critical <= 3:\n",
    "\tprint('Зачёт')\n",
    "else:\n",
    "\tprint('Незачёт')"
   ]
  },
  {
   "cell_type": "markdown",
   "metadata": {
    "id": "94jOTW_QTVW-"
   },
   "source": [
    "**Упрощенный условный оператор**"
   ]
  },
  {
   "cell_type": "code",
   "execution_count": null,
   "metadata": {
    "colab": {
     "base_uri": "https://localhost:8080/",
     "height": 86
    },
    "executionInfo": {
     "elapsed": 40447,
     "status": "ok",
     "timestamp": 1603205522223,
     "user": {
      "displayName": "Anastasiia Chernysheva",
      "photoUrl": "https://lh3.googleusercontent.com/a-/AOh14GhHyHwY-PuMRWX3mjSyss6pojv4D8xrqnEXatqg=s64",
      "userId": "13831218637705529605"
     },
     "user_tz": -180
    },
    "id": "_3IQ2k5RTZgH",
    "outputId": "e95cad9a-6cad-49b6-ca84-cceb9ba3d37e"
   },
   "outputs": [
    {
     "name": "stdout",
     "output_type": "stream",
     "text": [
      "Критичные ошибки: 0\n",
      "Некритичные ошибки: 0\n",
      "Зачёт\n",
      "Конец!\n"
     ]
    }
   ],
   "source": [
    "critical = int(input('Критичные ошибки: ')) \n",
    "non_critical = int(input('Некритичные ошибки: '))\n",
    "\n",
    "if critical <= 1 and non_critical <= 3: \n",
    "\tprint('Зачёт')\n",
    "\n",
    "print('Конец!')"
   ]
  },
  {
   "cell_type": "markdown",
   "metadata": {
    "id": "ghgPlD7cTrM5"
   },
   "source": [
    "**Вложенные условия**"
   ]
  },
  {
   "cell_type": "code",
   "execution_count": null,
   "metadata": {
    "colab": {
     "base_uri": "https://localhost:8080/",
     "height": 86
    },
    "executionInfo": {
     "elapsed": 5007,
     "status": "ok",
     "timestamp": 1603205591259,
     "user": {
      "displayName": "Anastasiia Chernysheva",
      "photoUrl": "https://lh3.googleusercontent.com/a-/AOh14GhHyHwY-PuMRWX3mjSyss6pojv4D8xrqnEXatqg=s64",
      "userId": "13831218637705529605"
     },
     "user_tz": -180
    },
    "id": "F7CwYtbLTtvZ",
    "outputId": "383d2a72-2608-42c8-9af0-bd9fd8bc8c96"
   },
   "outputs": [
    {
     "name": "stdout",
     "output_type": "stream",
     "text": [
      "Критичные ошибки: 1\n",
      "Некритичные ошибки: 0\n",
      "Зачёт\n",
      "С ошибочками((\n"
     ]
    }
   ],
   "source": [
    "critical = int(input('Критичные ошибки: '))       \n",
    "non_critical = int(input('Некритичные ошибки: ')) \n",
    "\n",
    "if critical <= 1 and non_critical <= 3:           \n",
    "\tprint('Зачёт')                                  \n",
    "\tif critical + non_critical == 0:                \n",
    "\t\tprint('Без ошибок!')\n",
    "\telse:\n",
    "\t\tprint('С ошибочками((')                         \n",
    "else:\n",
    "\tprint('Незачёт')"
   ]
  },
  {
   "cell_type": "markdown",
   "metadata": {
    "id": "AUTf9NBgUuVx"
   },
   "source": [
    "**Множественное ветвление**\n",
    "\n",
    "Перевод баллов в оценку![Screenshot from 2020-10-15 11-17-50.png](data:image/png;base64,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)"
   ]
  },
  {
   "cell_type": "code",
   "execution_count": null,
   "metadata": {
    "colab": {
     "base_uri": "https://localhost:8080/",
     "height": 52
    },
    "executionInfo": {
     "elapsed": 11418,
     "status": "ok",
     "timestamp": 1603205751029,
     "user": {
      "displayName": "Anastasiia Chernysheva",
      "photoUrl": "https://lh3.googleusercontent.com/a-/AOh14GhHyHwY-PuMRWX3mjSyss6pojv4D8xrqnEXatqg=s64",
      "userId": "13831218637705529605"
     },
     "user_tz": -180
    },
    "id": "-RTQYLivV061",
    "outputId": "97ca875a-3cb5-45b8-acc5-f3ed633d18b2"
   },
   "outputs": [
    {
     "name": "stdout",
     "output_type": "stream",
     "text": [
      "Баллы за семестр: 95\n",
      "Отлично (A)\n"
     ]
    }
   ],
   "source": [
    "points = int(input('Баллы за семестр: '))\n",
    "\n",
    "if points > 90:                           \n",
    "\tprint('Отлично (A)')\n",
    "else:\n",
    "\tprint('Хорошо (B)') "
   ]
  },
  {
   "cell_type": "code",
   "execution_count": null,
   "metadata": {
    "id": "lnKR9Ag_V-QL"
   },
   "outputs": [],
   "source": [
    "points = int(input('Баллы за семестр: ')) \n",
    "\n",
    "if points > 90:                           \n",
    "\tprint('Отлично (A)')\n",
    "else:\n",
    "  if points > 83:                        \n",
    "\t\tprint('Хорошо (B)')\n",
    "\telse:\n",
    "\t\tprint('Хорошо (C)')   "
   ]
  },
  {
   "cell_type": "code",
   "execution_count": null,
   "metadata": {
    "id": "D6PhCMO7WBKj"
   },
   "outputs": [],
   "source": [
    "points = int(input('Баллы за семестр: ')) \n",
    "\n",
    "if points > 90:\n",
    "\tprint('Отлично (A)')\n",
    "else:\n",
    "  if points > 83:\n",
    "\t\tprint('Хорошо (B)')\n",
    "\telse:\n",
    "\t\tif points > 74:\n",
    "\t\t\tprint('Хорошо (C)')\n",
    "\t\telse:\n",
    "\t\t\tif points > 67:\n",
    "\t\t\t\tprint('Удовлетворительно (D)')\n",
    "\t\t\telse:\n",
    "\t\t\t\tif points >= 60:\n",
    "\t\t\t\t\tprint('Удовлетворительно (E)')\n",
    "\t\t\t\telse:\n",
    "\t\t\t\t\tprint('Неудовлетворительно (FX)')"
   ]
  },
  {
   "cell_type": "markdown",
   "metadata": {
    "id": "GZyDFTCjWF6j"
   },
   "source": [
    "\n",
    "\n",
    "```\n",
    "if условие_1:\n",
    "\tдействия, когда условие_1 верно\n",
    "elif условие_2:\n",
    "\tдействия, когда условие_1 неверно, а условие_2 верно\n",
    "else:\n",
    "\tдействия, когда все условия неверны\n",
    "```\n",
    "\n"
   ]
  },
  {
   "cell_type": "code",
   "execution_count": null,
   "metadata": {
    "colab": {
     "base_uri": "https://localhost:8080/",
     "height": 52
    },
    "executionInfo": {
     "elapsed": 5391,
     "status": "ok",
     "timestamp": 1603205950936,
     "user": {
      "displayName": "Anastasiia Chernysheva",
      "photoUrl": "https://lh3.googleusercontent.com/a-/AOh14GhHyHwY-PuMRWX3mjSyss6pojv4D8xrqnEXatqg=s64",
      "userId": "13831218637705529605"
     },
     "user_tz": -180
    },
    "id": "I2KMS7ZVWKmU",
    "outputId": "3dd3641a-5f81-4b34-bb90-191af80dc992"
   },
   "outputs": [
    {
     "name": "stdout",
     "output_type": "stream",
     "text": [
      "Баллы за семестр: 66\n",
      "Удовлетворительно (E)\n"
     ]
    }
   ],
   "source": [
    "points = int(input('Баллы за семестр: ')) \n",
    "\n",
    "if points > 90:                           \n",
    "\tprint('Отлично (A)')\n",
    "elif points > 83:                       \n",
    "\tprint('Хорошо (B)')\n",
    "elif points > 74:                         \n",
    "\tprint('Хорошо (C)')                     \n",
    "elif points > 67:\n",
    "\tprint('Удовлетворительно (D)')\n",
    "elif points >= 60:\n",
    "\tprint('Удовлетворительно (E)')\n",
    "else:\n",
    "\tprint('Неудовлетворительно (FX)')"
   ]
  },
  {
   "cell_type": "markdown",
   "metadata": {
    "id": "kWVA2cHIPfea"
   },
   "source": [
    "**ЦЕПНОЕ СРАВНЕНИЕ**\n",
    "\n",
    "0 < number < 5"
   ]
  },
  {
   "cell_type": "markdown",
   "metadata": {
    "id": "4LIuTFBn3DLl"
   },
   "source": [
    "$3 < x < 5$"
   ]
  },
  {
   "cell_type": "code",
   "execution_count": null,
   "metadata": {
    "id": "RyuEZkON7znu"
   },
   "outputs": [],
   "source": [
    "\"0\" <= x <= \"9\"  # x >= 0 and x <= 9 / ord(\"0\") <= ord(x) <= ord(\"9\")"
   ]
  },
  {
   "cell_type": "code",
   "execution_count": null,
   "metadata": {
    "colab": {
     "base_uri": "https://localhost:8080/",
     "height": 52
    },
    "executionInfo": {
     "elapsed": 11271,
     "status": "ok",
     "timestamp": 1603809395808,
     "user": {
      "displayName": "Anastasiia Chernysheva",
      "photoUrl": "https://lh3.googleusercontent.com/a-/AOh14GhHyHwY-PuMRWX3mjSyss6pojv4D8xrqnEXatqg=s64",
      "userId": "13831218637705529605"
     },
     "user_tz": -180
    },
    "id": "k0CWc27mPu8R",
    "outputId": "df016653-78a8-4bc4-a8e5-540a0fe144a7"
   },
   "outputs": [
    {
     "name": "stdout",
     "output_type": "stream",
     "text": [
      "Введите число: 2\n",
      "Условие выполняется\n"
     ]
    }
   ],
   "source": [
    "number = int(input(\"Введите число: \"))\n",
    "\n",
    "if number > 3 and number < 5:\n",
    "  print(\"Условие выполняется\")\n",
    "else:\n",
    "  print(\"Условие не выполняется\")"
   ]
  },
  {
   "cell_type": "code",
   "execution_count": null,
   "metadata": {
    "colab": {
     "base_uri": "https://localhost:8080/",
     "height": 34
    },
    "executionInfo": {
     "elapsed": 1496,
     "status": "ok",
     "timestamp": 1603377988043,
     "user": {
      "displayName": "Anastasiia Chernysheva",
      "photoUrl": "https://lh3.googleusercontent.com/a-/AOh14GhHyHwY-PuMRWX3mjSyss6pojv4D8xrqnEXatqg=s64",
      "userId": "13831218637705529605"
     },
     "user_tz": -180
    },
    "id": "XpreXwQKQFz0",
    "outputId": "0fc88573-04f8-48c3-89d9-5bf3a2b99b85"
   },
   "outputs": [
    {
     "name": "stdout",
     "output_type": "stream",
     "text": [
      "Условие не выполняется\n"
     ]
    }
   ],
   "source": [
    "if 3 < number and number < 5:\n",
    "  print(\"Условие выполняется\")\n",
    "else:\n",
    "  print(\"Условие не выполняется\")"
   ]
  },
  {
   "cell_type": "code",
   "execution_count": null,
   "metadata": {
    "colab": {
     "base_uri": "https://localhost:8080/",
     "height": 34
    },
    "executionInfo": {
     "elapsed": 1068,
     "status": "ok",
     "timestamp": 1603809399705,
     "user": {
      "displayName": "Anastasiia Chernysheva",
      "photoUrl": "https://lh3.googleusercontent.com/a-/AOh14GhHyHwY-PuMRWX3mjSyss6pojv4D8xrqnEXatqg=s64",
      "userId": "13831218637705529605"
     },
     "user_tz": -180
    },
    "id": "w973Gh-pQLC7",
    "outputId": "d976f66a-d934-4ec8-a044-ea2b40952a7a"
   },
   "outputs": [
    {
     "name": "stdout",
     "output_type": "stream",
     "text": [
      "Условие выполняется\n"
     ]
    }
   ],
   "source": [
    "if v > number < r:\n",
    "  print(\"Условие выполняется\")\n",
    "else:\n",
    "  print(\"Условие не выполняется\")"
   ]
  },
  {
   "cell_type": "code",
   "execution_count": null,
   "metadata": {
    "id": "r9uH1_-83sJJ"
   },
   "outputs": [],
   "source": [
    "a != b != c\n",
    "a != b and b != c"
   ]
  },
  {
   "cell_type": "markdown",
   "metadata": {
    "id": "otB_h7ZDQTOZ"
   },
   "source": [
    "Цепным сравнением можно объединить только выражения, соединенные логическим оператором **and**. \n",
    "Количество объединяемых выражений не имеет значения.\n",
    "Например, можно записать: `a < b > c == d`.\n",
    "Это равнозначно выражению: `(a < b) and (b > c) and (c == d)`. "
   ]
  },
  {
   "cell_type": "markdown",
   "metadata": {
    "id": "o6JEd-m1R5LS"
   },
   "source": [
    "**ТЕРНАРНЫЙ ОПЕРАТОР**"
   ]
  },
  {
   "cell_type": "markdown",
   "metadata": {
    "id": "3rOIWCE6Q3Sd"
   },
   "source": [
    "![image.png](data:image/png;base64,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)"
   ]
  },
  {
   "cell_type": "code",
   "execution_count": null,
   "metadata": {
    "colab": {
     "base_uri": "https://localhost:8080/",
     "height": 52
    },
    "executionInfo": {
     "elapsed": 4220,
     "status": "ok",
     "timestamp": 1603809558258,
     "user": {
      "displayName": "Anastasiia Chernysheva",
      "photoUrl": "https://lh3.googleusercontent.com/a-/AOh14GhHyHwY-PuMRWX3mjSyss6pojv4D8xrqnEXatqg=s64",
      "userId": "13831218637705529605"
     },
     "user_tz": -180
    },
    "id": "L0SsA_EgSBQX",
    "outputId": "f721bfb0-1d63-4bfb-ed4e-ca076ec5515c"
   },
   "outputs": [
    {
     "name": "stdout",
     "output_type": "stream",
     "text": [
      "Введите число: 10\n",
      "8\n"
     ]
    }
   ],
   "source": [
    "x = int(input(\"Введите число: \"))\n",
    "if x < 5:\n",
    "  y = 3\n",
    "else:\n",
    "  y = 8\n",
    "print(y)"
   ]
  },
  {
   "cell_type": "code",
   "execution_count": null,
   "metadata": {
    "id": "jajczA-2Sdli"
   },
   "outputs": [],
   "source": [
    "y = 3 if x < 5 else 8"
   ]
  },
  {
   "cell_type": "markdown",
   "metadata": {
    "id": "gp4TZItnSrg3"
   },
   "source": [
    "> **Тернарный оператор** — оператор, возвращающий одно из двух значений в зависимости от условия.\n",
    "\n"
   ]
  },
  {
   "cell_type": "markdown",
   "metadata": {
    "id": "jdFh0-z_THzS"
   },
   "source": [
    "\n",
    "\n",
    "```\n",
    "x = значение_если_условие_выполняется if условие else значение_если_условие_не_выполняется\n",
    "```\n",
    "\n"
   ]
  },
  {
   "cell_type": "code",
   "execution_count": null,
   "metadata": {
    "colab": {
     "base_uri": "https://localhost:8080/"
    },
    "executionInfo": {
     "elapsed": 3103,
     "status": "ok",
     "timestamp": 1633012304750,
     "user": {
      "displayName": "Anastasiia Chernysheva",
      "photoUrl": "https://lh3.googleusercontent.com/a-/AOh14GhHyHwY-PuMRWX3mjSyss6pojv4D8xrqnEXatqg=s64",
      "userId": "13831218637705529605"
     },
     "user_tz": -180
    },
    "id": "2ulSu3kmTetw",
    "outputId": "bdd228ae-b0c5-4427-cbfa-993808dcf0dd"
   },
   "outputs": [
    {
     "name": "stdout",
     "output_type": "stream",
     "text": [
      "Введите число: 5\n",
      "8\n"
     ]
    }
   ],
   "source": [
    "x = int(input(\"Введите число: \"))\n",
    "print(3) if x < 5 else print(8)"
   ]
  },
  {
   "cell_type": "code",
   "execution_count": null,
   "metadata": {
    "colab": {
     "base_uri": "https://localhost:8080/"
    },
    "executionInfo": {
     "elapsed": 317,
     "status": "ok",
     "timestamp": 1633012321774,
     "user": {
      "displayName": "Anastasiia Chernysheva",
      "photoUrl": "https://lh3.googleusercontent.com/a-/AOh14GhHyHwY-PuMRWX3mjSyss6pojv4D8xrqnEXatqg=s64",
      "userId": "13831218637705529605"
     },
     "user_tz": -180
    },
    "id": "EpnSMfEBHlMP",
    "outputId": "b34522d4-038b-4272-b9f1-22d7458836af"
   },
   "outputs": [
    {
     "name": "stdout",
     "output_type": "stream",
     "text": [
      "7\n"
     ]
    }
   ],
   "source": [
    "print(3 if x < 5 else 8)"
   ]
  },
  {
   "cell_type": "markdown",
   "metadata": {
    "id": "RBBhISxlTqWj"
   },
   "source": [
    "![image.png](data:image/png;base64,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)"
   ]
  },
  {
   "cell_type": "code",
   "execution_count": null,
   "metadata": {
    "colab": {
     "base_uri": "https://localhost:8080/",
     "height": 52
    },
    "executionInfo": {
     "elapsed": 5162,
     "status": "ok",
     "timestamp": 1603809779274,
     "user": {
      "displayName": "Anastasiia Chernysheva",
      "photoUrl": "https://lh3.googleusercontent.com/a-/AOh14GhHyHwY-PuMRWX3mjSyss6pojv4D8xrqnEXatqg=s64",
      "userId": "13831218637705529605"
     },
     "user_tz": -180
    },
    "id": "3JGhsBzuTrim",
    "outputId": "e8fdeef5-9264-4162-a797-13df8ccb6a8c"
   },
   "outputs": [
    {
     "name": "stdout",
     "output_type": "stream",
     "text": [
      "Введите число: 5\n",
      "25\n"
     ]
    }
   ],
   "source": [
    "x = int(input(\"Введите число: \"))\n",
    "y = x ** 2 if x < 5 else 5 * x\n",
    "print(y)"
   ]
  },
  {
   "cell_type": "markdown",
   "metadata": {
    "id": "tzL3vAIkUdWy"
   },
   "source": [
    "**ВЛОЖЕННЫЕ ТЕРНАРНЫЕ ОПЕРАТОРЫ**"
   ]
  },
  {
   "cell_type": "code",
   "execution_count": null,
   "metadata": {
    "colab": {
     "base_uri": "https://localhost:8080/",
     "height": 52
    },
    "executionInfo": {
     "elapsed": 3656,
     "status": "ok",
     "timestamp": 1603810122140,
     "user": {
      "displayName": "Anastasiia Chernysheva",
      "photoUrl": "https://lh3.googleusercontent.com/a-/AOh14GhHyHwY-PuMRWX3mjSyss6pojv4D8xrqnEXatqg=s64",
      "userId": "13831218637705529605"
     },
     "user_tz": -180
    },
    "id": "HBBsOW1FUh3A",
    "outputId": "eb9a05f3-910b-4854-8e18-73bfdb50c303"
   },
   "outputs": [
    {
     "name": "stdout",
     "output_type": "stream",
     "text": [
      "21\n",
      "21\n"
     ]
    }
   ],
   "source": [
    "x = int(input())\n",
    "y = (5 if x < 3 else 8) if 7 > x != 0 else (13 if x < 10 else 21)\n",
    "print(y)"
   ]
  },
  {
   "cell_type": "code",
   "execution_count": null,
   "metadata": {
    "id": "OriiL61s8K48"
   },
   "outputs": [],
   "source": [
    "if x < 7:\n",
    "  if x < 3:\n",
    "    y = 5\n",
    "  else:\n",
    "    y = 8\n",
    "else:\n",
    "  if x < 10:\n",
    "    y = 13\n",
    "  else:\n",
    "    y = 21"
   ]
  },
  {
   "cell_type": "markdown",
   "metadata": {
    "id": "xEGo0YHpY4T8"
   },
   "source": [
    "Преобразование разных типов данных в логический"
   ]
  },
  {
   "cell_type": "code",
   "execution_count": null,
   "metadata": {
    "colab": {
     "base_uri": "https://localhost:8080/",
     "height": 34
    },
    "executionInfo": {
     "elapsed": 1056,
     "status": "ok",
     "timestamp": 1603810455341,
     "user": {
      "displayName": "Anastasiia Chernysheva",
      "photoUrl": "https://lh3.googleusercontent.com/a-/AOh14GhHyHwY-PuMRWX3mjSyss6pojv4D8xrqnEXatqg=s64",
      "userId": "13831218637705529605"
     },
     "user_tz": -180
    },
    "id": "KMptE6peY3p8",
    "outputId": "4582c0da-ee7f-489d-c05d-690f08558d91"
   },
   "outputs": [
    {
     "name": "stdout",
     "output_type": "stream",
     "text": [
      "8\n"
     ]
    }
   ],
   "source": [
    "if 8 < 11:\n",
    "\tprint('8')\n",
    "else:\n",
    "\tprint('11')"
   ]
  },
  {
   "cell_type": "code",
   "execution_count": null,
   "metadata": {
    "colab": {
     "base_uri": "https://localhost:8080/",
     "height": 34
    },
    "executionInfo": {
     "elapsed": 814,
     "status": "ok",
     "timestamp": 1603810483984,
     "user": {
      "displayName": "Anastasiia Chernysheva",
      "photoUrl": "https://lh3.googleusercontent.com/a-/AOh14GhHyHwY-PuMRWX3mjSyss6pojv4D8xrqnEXatqg=s64",
      "userId": "13831218637705529605"
     },
     "user_tz": -180
    },
    "id": "Me272VRDZILW",
    "outputId": "21e9817b-6116-4d6d-dc9b-e9875eb7bdee"
   },
   "outputs": [
    {
     "name": "stdout",
     "output_type": "stream",
     "text": [
      "это 8\n"
     ]
    }
   ],
   "source": [
    "if 8:\n",
    "  print('это 8')\n",
    "else:\n",
    "  print('это не 8')"
   ]
  },
  {
   "cell_type": "code",
   "execution_count": null,
   "metadata": {
    "colab": {
     "base_uri": "https://localhost:8080/",
     "height": 34
    },
    "executionInfo": {
     "elapsed": 854,
     "status": "ok",
     "timestamp": 1603810503080,
     "user": {
      "displayName": "Anastasiia Chernysheva",
      "photoUrl": "https://lh3.googleusercontent.com/a-/AOh14GhHyHwY-PuMRWX3mjSyss6pojv4D8xrqnEXatqg=s64",
      "userId": "13831218637705529605"
     },
     "user_tz": -180
    },
    "id": "Y4yo61DqZQpz",
    "outputId": "d45595cb-f863-4529-9f42-6a05577b4bbb"
   },
   "outputs": [
    {
     "name": "stdout",
     "output_type": "stream",
     "text": [
      "это не 0\n"
     ]
    }
   ],
   "source": [
    "if 0:\n",
    "  print('это 0')\n",
    "else:\n",
    "  print('это не 0')"
   ]
  },
  {
   "cell_type": "code",
   "execution_count": null,
   "metadata": {
    "id": "behqdIk69ZxP"
   },
   "outputs": [],
   "source": [
    "if a:\n",
    "  ...\n",
    "else:\n",
    "  ..."
   ]
  },
  {
   "cell_type": "code",
   "execution_count": null,
   "metadata": {
    "id": "eYHNIZgz9eHk"
   },
   "outputs": [],
   "source": [
    "if a == True:\n",
    "  ...\n",
    "else:\n",
    "  ..."
   ]
  },
  {
   "cell_type": "markdown",
   "metadata": {
    "id": "C2jrhy16Zg6m"
   },
   "source": [
    "Значения, которые дают False:\n",
    "\n",
    "\n",
    "1. 0 (целочисленный нуль)\n",
    "2. 0.0 (вещественный нуль)\n",
    "3. False\n",
    "4. None\n",
    "5. Пустые последовательности и коллекции:\n",
    "\n",
    "  * \"\" (пустая строка)\n",
    "  * [] (пустой список)\n",
    "  * {} (пустой словарь)\n",
    "  * set() (пустое множество)\n",
    "  * () (пустой кортеж)\n",
    "  * range(0) (пустой диапазон)\n",
    "\n",
    "\n",
    "\n"
   ]
  },
  {
   "cell_type": "code",
   "execution_count": null,
   "metadata": {
    "colab": {
     "base_uri": "https://localhost:8080/",
     "height": 52
    },
    "executionInfo": {
     "elapsed": 3766,
     "status": "ok",
     "timestamp": 1603810660189,
     "user": {
      "displayName": "Anastasiia Chernysheva",
      "photoUrl": "https://lh3.googleusercontent.com/a-/AOh14GhHyHwY-PuMRWX3mjSyss6pojv4D8xrqnEXatqg=s64",
      "userId": "13831218637705529605"
     },
     "user_tz": -180
    },
    "id": "7l2yk9lBaV-6",
    "outputId": "9b0c7428-4404-473d-9390-de5b54bb8fcc"
   },
   "outputs": [
    {
     "name": "stdout",
     "output_type": "stream",
     "text": [
      "овамир\n",
      "Строка не пустая\n"
     ]
    }
   ],
   "source": [
    "s = input()\n",
    "\n",
    "if s:\n",
    "  print('Строка не пустая')\n",
    "else:\n",
    "  print('Пусто')"
   ]
  },
  {
   "cell_type": "code",
   "execution_count": null,
   "metadata": {
    "colab": {
     "base_uri": "https://localhost:8080/"
    },
    "executionInfo": {
     "elapsed": 2536,
     "status": "ok",
     "timestamp": 1633362167661,
     "user": {
      "displayName": "Anastasiia Chernysheva",
      "photoUrl": "https://lh3.googleusercontent.com/a-/AOh14GhHyHwY-PuMRWX3mjSyss6pojv4D8xrqnEXatqg=s64",
      "userId": "13831218637705529605"
     },
     "user_tz": -180
    },
    "id": "VuIPP3Bsajwq",
    "outputId": "ee87b6c8-0e08-4de0-9a62-ad2dd111f764"
   },
   "outputs": [
    {
     "name": "stdout",
     "output_type": "stream",
     "text": [
      " \n",
      "В строке что-то есть\n"
     ]
    }
   ],
   "source": [
    "s = input()\n",
    "\n",
    "if not s:\n",
    "  print('Строка пустая')\n",
    "else:\n",
    "  print('В строке что-то есть')"
   ]
  },
  {
   "cell_type": "code",
   "execution_count": null,
   "metadata": {
    "id": "AVv9qRlO-FcI"
   },
   "outputs": [],
   "source": [
    "\"0\" / \"\" / \" \""
   ]
  },
  {
   "cell_type": "code",
   "execution_count": null,
   "metadata": {
    "colab": {
     "base_uri": "https://localhost:8080/",
     "height": 52
    },
    "executionInfo": {
     "elapsed": 3804,
     "status": "ok",
     "timestamp": 1603812301382,
     "user": {
      "displayName": "Anastasiia Chernysheva",
      "photoUrl": "https://lh3.googleusercontent.com/a-/AOh14GhHyHwY-PuMRWX3mjSyss6pojv4D8xrqnEXatqg=s64",
      "userId": "13831218637705529605"
     },
     "user_tz": -180
    },
    "id": "BHkEjW59pSWR",
    "outputId": "64115582-df4e-46b0-cf0d-74b6c5af0c7d"
   },
   "outputs": [
    {
     "name": "stdout",
     "output_type": "stream",
     "text": [
      "1700\n",
      "не високосный\n"
     ]
    }
   ],
   "source": [
    "year = int(input())\n",
    "print('високосный' if year % 4 == 0 != year % 100 or year % 400 == 0 else 'не високосный')"
   ]
  }
 ],
 "metadata": {
  "colab": {
   "authorship_tag": "ABX9TyP4B8sy/PwO+bqC4/Uim4rw",
   "name": "1. Условия.ipynb",
   "provenance": []
  },
  "kernelspec": {
   "display_name": "Python 3",
   "name": "python3"
  }
 },
 "nbformat": 4,
 "nbformat_minor": 0
}
