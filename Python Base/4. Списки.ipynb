{
 "cells": [
  {
   "cell_type": "markdown",
   "metadata": {
    "id": "YcYUc9VfBO6I"
   },
   "source": [
    "**СПИСКИ**\n",
    "\n",
    "\n",
    "\n",
    "> **Список** - изменяемая структура данных, позволяющая хранить в себе переменное количество значений и объединяющая их общим именем. \n",
    "\n"
   ]
  },
  {
   "cell_type": "code",
   "execution_count": null,
   "metadata": {
    "colab": {
     "base_uri": "https://localhost:8080/"
    },
    "executionInfo": {
     "elapsed": 1484,
     "status": "ok",
     "timestamp": 1607609962972,
     "user": {
      "displayName": "Anastasiia Chernysheva",
      "photoUrl": "https://lh3.googleusercontent.com/a-/AOh14GhHyHwY-PuMRWX3mjSyss6pojv4D8xrqnEXatqg=s64",
      "userId": "13831218637705529605"
     },
     "user_tz": -180
    },
    "id": "lbBTIgPpBAwx",
    "outputId": "b8a1c3b0-0a90-4f1c-fb39-85f63d3ab0db"
   },
   "outputs": [
    {
     "name": "stdout",
     "output_type": "stream",
     "text": [
      "[1, 2]\n"
     ]
    }
   ],
   "source": [
    "список1 = [1, 2]\n",
    "print(список1)"
   ]
  },
  {
   "cell_type": "code",
   "execution_count": null,
   "metadata": {
    "id": "Lp8SbH4LExjC"
   },
   "outputs": [],
   "source": [
    "list1 = []\n",
    "list2 = list()"
   ]
  },
  {
   "cell_type": "code",
   "execution_count": null,
   "metadata": {
    "colab": {
     "base_uri": "https://localhost:8080/"
    },
    "executionInfo": {
     "elapsed": 1521,
     "status": "ok",
     "timestamp": 1607440431433,
     "user": {
      "displayName": "Anastasiia Chernysheva",
      "photoUrl": "https://lh3.googleusercontent.com/a-/AOh14GhHyHwY-PuMRWX3mjSyss6pojv4D8xrqnEXatqg=s64",
      "userId": "13831218637705529605"
     },
     "user_tz": -180
    },
    "id": "qsjp1G51E8L8",
    "outputId": "39c0a3ee-2bc9-4cc0-8775-1c9583ea4c66"
   },
   "outputs": [
    {
     "name": "stdout",
     "output_type": "stream",
     "text": [
      "['A', ' ', 'B', ' ', 'C', ' ', 'D', ' ', 'E', ' ', 'F', ' ', 'G', ' ', 'H', ' ', 'I', ' ', 'J', ' ', 'K', ' ', 'L', ' ', 'M', 'O', 'P', 'Q', 'R', 'S', 'T', 'U', 'V', 'W', 'X', 'Y', 'Z']\n",
      "['A', 'B', 'C', 'D', 'E', 'F', 'G', 'H', 'I', 'J', 'K', 'L', 'MOPQRSTUVWXYZ']\n"
     ]
    }
   ],
   "source": [
    "text = \"A B C D E F G H I J K L MOPQRSTUVWXYZ\"\n",
    "list_from_text = list(text)\n",
    "print(list_from_text)\n",
    "print(text.split())"
   ]
  },
  {
   "cell_type": "code",
   "execution_count": null,
   "metadata": {
    "colab": {
     "base_uri": "https://localhost:8080/"
    },
    "executionInfo": {
     "elapsed": 1122,
     "status": "ok",
     "timestamp": 1607610114463,
     "user": {
      "displayName": "Anastasiia Chernysheva",
      "photoUrl": "https://lh3.googleusercontent.com/a-/AOh14GhHyHwY-PuMRWX3mjSyss6pojv4D8xrqnEXatqg=s64",
      "userId": "13831218637705529605"
     },
     "user_tz": -180
    },
    "id": "_nNZnjZOFRtb",
    "outputId": "d28d29c3-8471-4d8a-eb29-bf4bf7e0bfca"
   },
   "outputs": [
    {
     "name": "stdout",
     "output_type": "stream",
     "text": [
      "[0, 1, 2, 3, 4, 5, 6, 7]\n",
      "range(0, 8)\n"
     ]
    }
   ],
   "source": [
    "list_from_range = list(range(8))\n",
    "print(list_from_range)\n",
    "print(range(8))"
   ]
  },
  {
   "cell_type": "markdown",
   "metadata": {
    "id": "YEayKoRIBNn5"
   },
   "source": [
    "Можно создать список из элементов разных типов.\n",
    "\n"
   ]
  },
  {
   "cell_type": "code",
   "execution_count": null,
   "metadata": {
    "colab": {
     "base_uri": "https://localhost:8080/"
    },
    "executionInfo": {
     "elapsed": 1182,
     "status": "ok",
     "timestamp": 1607610149990,
     "user": {
      "displayName": "Anastasiia Chernysheva",
      "photoUrl": "https://lh3.googleusercontent.com/a-/AOh14GhHyHwY-PuMRWX3mjSyss6pojv4D8xrqnEXatqg=s64",
      "userId": "13831218637705529605"
     },
     "user_tz": -180
    },
    "id": "3m5jUcgGFzwR",
    "outputId": "aeddfbe7-2d70-4019-ba50-2ec9d2be0fdf"
   },
   "outputs": [
    {
     "name": "stdout",
     "output_type": "stream",
     "text": [
      "['text', 1.5, 6, True, None, [1, 2, 3], ('dfsdfv', 5), {'dflkvn', 'dfv'}]\n",
      "8\n"
     ]
    }
   ],
   "source": [
    "random_list = [\"text\", 1.5, 6, True, None, [1, 2, 3], (\"dfsdfv\", 5), {\"dflkvn\", \"dfv\"}]\n",
    "print(random_list)\n",
    "print(len(random_list))"
   ]
  },
  {
   "cell_type": "markdown",
   "metadata": {
    "id": "zQKz62IcGnhQ"
   },
   "source": [
    "**Базовые операции над списками**"
   ]
  },
  {
   "cell_type": "code",
   "execution_count": null,
   "metadata": {
    "colab": {
     "base_uri": "https://localhost:8080/"
    },
    "executionInfo": {
     "elapsed": 835,
     "status": "ok",
     "timestamp": 1607439696164,
     "user": {
      "displayName": "Anastasiia Chernysheva",
      "photoUrl": "https://lh3.googleusercontent.com/a-/AOh14GhHyHwY-PuMRWX3mjSyss6pojv4D8xrqnEXatqg=s64",
      "userId": "13831218637705529605"
     },
     "user_tz": -180
    },
    "id": "k0rjS6eiGr1C",
    "outputId": "483324dc-fdb6-450a-dcc2-454196cba4a2"
   },
   "outputs": [
    {
     "name": "stdout",
     "output_type": "stream",
     "text": [
      "[1, 3, 5, 1, 3, 4]\n",
      "[1, 3, 5, 1, 3, 5, 1, 3, 5, 1, 3, 5, 1, 3, 5, 1, 3, 5, 1, 3, 5, 1, 3, 5, 1, 3, 5, 1, 3, 5, 1, 3, 5, 1, 3, 5, 1, 3, 5, 1, 3, 5, 1, 3, 5, 1, 3, 5, 1, 3, 5, 1, 3, 5, 1, 3, 5, 1, 3, 5]\n"
     ]
    }
   ],
   "source": [
    "odd = [1, 3, 5]\n",
    "even = [1, 3, 4]\n",
    "\n",
    "print(odd + even)\n",
    "print(odd * 20)"
   ]
  },
  {
   "cell_type": "code",
   "execution_count": null,
   "metadata": {
    "colab": {
     "base_uri": "https://localhost:8080/"
    },
    "executionInfo": {
     "elapsed": 1053,
     "status": "ok",
     "timestamp": 1607439637875,
     "user": {
      "displayName": "Anastasiia Chernysheva",
      "photoUrl": "https://lh3.googleusercontent.com/a-/AOh14GhHyHwY-PuMRWX3mjSyss6pojv4D8xrqnEXatqg=s64",
      "userId": "13831218637705529605"
     },
     "user_tz": -180
    },
    "id": "yy-_HX4RG6EB",
    "outputId": "f9831ebd-c839-46a8-c7ff-d6d5eb93d64f"
   },
   "outputs": [
    {
     "name": "stdout",
     "output_type": "stream",
     "text": [
      "True\n",
      "False\n"
     ]
    }
   ],
   "source": [
    "print(3 in odd)\n",
    "print(6 not in even)"
   ]
  },
  {
   "cell_type": "code",
   "execution_count": null,
   "metadata": {
    "colab": {
     "base_uri": "https://localhost:8080/"
    },
    "executionInfo": {
     "elapsed": 1387,
     "status": "ok",
     "timestamp": 1607439699587,
     "user": {
      "displayName": "Anastasiia Chernysheva",
      "photoUrl": "https://lh3.googleusercontent.com/a-/AOh14GhHyHwY-PuMRWX3mjSyss6pojv4D8xrqnEXatqg=s64",
      "userId": "13831218637705529605"
     },
     "user_tz": -180
    },
    "id": "abV6f7s8HFaw",
    "outputId": "5cddfd53-e83c-43c5-f422-d45fe3079326"
   },
   "outputs": [
    {
     "name": "stdout",
     "output_type": "stream",
     "text": [
      "False\n"
     ]
    }
   ],
   "source": [
    "print(odd < even)"
   ]
  },
  {
   "cell_type": "markdown",
   "metadata": {
    "id": "YfRp-PwmHRvr"
   },
   "source": [
    "**Перебор элементов**"
   ]
  },
  {
   "cell_type": "code",
   "execution_count": null,
   "metadata": {
    "colab": {
     "base_uri": "https://localhost:8080/"
    },
    "executionInfo": {
     "elapsed": 949,
     "status": "ok",
     "timestamp": 1607439748487,
     "user": {
      "displayName": "Anastasiia Chernysheva",
      "photoUrl": "https://lh3.googleusercontent.com/a-/AOh14GhHyHwY-PuMRWX3mjSyss6pojv4D8xrqnEXatqg=s64",
      "userId": "13831218637705529605"
     },
     "user_tz": -180
    },
    "id": "6rVVyGFoHU_2",
    "outputId": "75058291-6fa0-4120-fd64-e83eb5657f33"
   },
   "outputs": [
    {
     "name": "stdout",
     "output_type": "stream",
     "text": [
      "54\n",
      "126\n",
      "63\n",
      "36\n",
      "0\n"
     ]
    }
   ],
   "source": [
    "numbers = [6, 14, 7, 4, 0]\n",
    "\n",
    "for num in numbers:\n",
    "  print(num * 9)"
   ]
  },
  {
   "cell_type": "markdown",
   "metadata": {
    "id": "C7YY5c9xHgxe"
   },
   "source": [
    "\n",
    "> В цикле можно изменять элементы списка, но только обращаясь к ним по индексу.\n",
    "\n"
   ]
  },
  {
   "cell_type": "code",
   "execution_count": null,
   "metadata": {
    "colab": {
     "base_uri": "https://localhost:8080/"
    },
    "executionInfo": {
     "elapsed": 883,
     "status": "ok",
     "timestamp": 1607610482956,
     "user": {
      "displayName": "Anastasiia Chernysheva",
      "photoUrl": "https://lh3.googleusercontent.com/a-/AOh14GhHyHwY-PuMRWX3mjSyss6pojv4D8xrqnEXatqg=s64",
      "userId": "13831218637705529605"
     },
     "user_tz": -180
    },
    "id": "ISOcr1yQHsgU",
    "outputId": "1991755e-c6eb-4511-f8e7-0abc11c79d68"
   },
   "outputs": [
    {
     "name": "stdout",
     "output_type": "stream",
     "text": [
      "[3, 3, 2, 3, 3]\n"
     ]
    }
   ],
   "source": [
    "numbers = [6, 14, 7, 4, 0]\n",
    "\n",
    "for i in range(len(numbers)):\n",
    "  if numbers[i] % 2 == 1:\n",
    "    numbers[i] = 2\n",
    "  else:\n",
    "    numbers[i] = 3\n",
    "\n",
    "print(numbers)"
   ]
  },
  {
   "cell_type": "markdown",
   "metadata": {
    "id": "bYwvc52-IkhQ"
   },
   "source": [
    "К спискам можно применять срезы, как к строкам."
   ]
  },
  {
   "cell_type": "code",
   "execution_count": null,
   "metadata": {
    "colab": {
     "base_uri": "https://localhost:8080/"
    },
    "executionInfo": {
     "elapsed": 1063,
     "status": "ok",
     "timestamp": 1607440081302,
     "user": {
      "displayName": "Anastasiia Chernysheva",
      "photoUrl": "https://lh3.googleusercontent.com/a-/AOh14GhHyHwY-PuMRWX3mjSyss6pojv4D8xrqnEXatqg=s64",
      "userId": "13831218637705529605"
     },
     "user_tz": -180
    },
    "id": "cuyUXVZUI202",
    "outputId": "22babbdb-cd6f-4047-900d-80c3516bd864"
   },
   "outputs": [
    {
     "name": "stdout",
     "output_type": "stream",
     "text": [
      "[14, 7, 4]\n",
      "[6, 14, 7]\n",
      "[0, 4, 7, 14, 6]\n"
     ]
    }
   ],
   "source": [
    "numbers = [6, 14, 7, 4, 0]\n",
    "\n",
    "print(numbers[1:4])\n",
    "print(numbers[:3])\n",
    "print(numbers[::-1])"
   ]
  },
  {
   "cell_type": "markdown",
   "metadata": {
    "id": "-QswZf58I_so"
   },
   "source": [
    "Элементы списка можно изменять по индексу. Не только в цикле."
   ]
  },
  {
   "cell_type": "code",
   "execution_count": null,
   "metadata": {
    "colab": {
     "base_uri": "https://localhost:8080/"
    },
    "executionInfo": {
     "elapsed": 874,
     "status": "ok",
     "timestamp": 1607610555595,
     "user": {
      "displayName": "Anastasiia Chernysheva",
      "photoUrl": "https://lh3.googleusercontent.com/a-/AOh14GhHyHwY-PuMRWX3mjSyss6pojv4D8xrqnEXatqg=s64",
      "userId": "13831218637705529605"
     },
     "user_tz": -180
    },
    "id": "saI46bB8JE_F",
    "outputId": "a84b6f98-532a-497a-e5f3-81332d120d34"
   },
   "outputs": [
    {
     "name": "stdout",
     "output_type": "stream",
     "text": [
      "[6, 6, 7, 4, 0]\n"
     ]
    }
   ],
   "source": [
    "numbers = [6, 14, 7, 4, 0]\n",
    "numbers[1] = 6\n",
    "print(numbers)"
   ]
  },
  {
   "cell_type": "markdown",
   "metadata": {
    "id": "1nlQ9uiEJiJw"
   },
   "source": [
    "Можно заменять срезы списка."
   ]
  },
  {
   "cell_type": "code",
   "execution_count": null,
   "metadata": {
    "colab": {
     "base_uri": "https://localhost:8080/"
    },
    "executionInfo": {
     "elapsed": 820,
     "status": "ok",
     "timestamp": 1607610599902,
     "user": {
      "displayName": "Anastasiia Chernysheva",
      "photoUrl": "https://lh3.googleusercontent.com/a-/AOh14GhHyHwY-PuMRWX3mjSyss6pojv4D8xrqnEXatqg=s64",
      "userId": "13831218637705529605"
     },
     "user_tz": -180
    },
    "id": "tVCLTM1CJMcb",
    "outputId": "2e25d126-0f1c-4f7d-a952-e3af020c7248"
   },
   "outputs": [
    {
     "name": "stdout",
     "output_type": "stream",
     "text": [
      "[5, 5, 5, 4, 0]\n"
     ]
    }
   ],
   "source": [
    "numbers = [6, 14, 7, 4, 0]\n",
    "numbers[:3] = [5, 5, 5]\n",
    "print(numbers)"
   ]
  },
  {
   "cell_type": "markdown",
   "metadata": {
    "id": "IeCa6U3rJlfw"
   },
   "source": [
    "Даже на срезы другой длины."
   ]
  },
  {
   "cell_type": "code",
   "execution_count": null,
   "metadata": {
    "colab": {
     "base_uri": "https://localhost:8080/"
    },
    "executionInfo": {
     "elapsed": 847,
     "status": "ok",
     "timestamp": 1607610635328,
     "user": {
      "displayName": "Anastasiia Chernysheva",
      "photoUrl": "https://lh3.googleusercontent.com/a-/AOh14GhHyHwY-PuMRWX3mjSyss6pojv4D8xrqnEXatqg=s64",
      "userId": "13831218637705529605"
     },
     "user_tz": -180
    },
    "id": "tGGLtmI1JXkG",
    "outputId": "f2208619-87fa-4983-9ab5-e6a4377c06ca"
   },
   "outputs": [
    {
     "name": "stdout",
     "output_type": "stream",
     "text": [
      "[4, 0]\n"
     ]
    }
   ],
   "source": [
    "numbers = [6, 14, 7, 4, 0]\n",
    "numbers[:3] = []\n",
    "print(numbers)"
   ]
  },
  {
   "cell_type": "markdown",
   "metadata": {
    "id": "qhcnQ_7AJouq"
   },
   "source": [
    "Но только если не задан шаг."
   ]
  },
  {
   "cell_type": "code",
   "execution_count": null,
   "metadata": {
    "colab": {
     "base_uri": "https://localhost:8080/",
     "height": 202
    },
    "executionInfo": {
     "elapsed": 880,
     "status": "error",
     "timestamp": 1607610661217,
     "user": {
      "displayName": "Anastasiia Chernysheva",
      "photoUrl": "https://lh3.googleusercontent.com/a-/AOh14GhHyHwY-PuMRWX3mjSyss6pojv4D8xrqnEXatqg=s64",
      "userId": "13831218637705529605"
     },
     "user_tz": -180
    },
    "id": "opF4UNcNJg84",
    "outputId": "cebbac78-db8c-4f87-98bf-0449b64f4202"
   },
   "outputs": [
    {
     "ename": "ValueError",
     "evalue": "ignored",
     "output_type": "error",
     "traceback": [
      "\u001b[0;31m---------------------------------------------------------------------------\u001b[0m",
      "\u001b[0;31mValueError\u001b[0m                                Traceback (most recent call last)",
      "\u001b[0;32m<ipython-input-9-4db9bc96b30d>\u001b[0m in \u001b[0;36m<module>\u001b[0;34m()\u001b[0m\n\u001b[1;32m      1\u001b[0m \u001b[0mnumbers\u001b[0m \u001b[0;34m=\u001b[0m \u001b[0;34m[\u001b[0m\u001b[0;36m6\u001b[0m\u001b[0;34m,\u001b[0m \u001b[0;36m14\u001b[0m\u001b[0;34m,\u001b[0m \u001b[0;36m7\u001b[0m\u001b[0;34m,\u001b[0m \u001b[0;36m4\u001b[0m\u001b[0;34m,\u001b[0m \u001b[0;36m0\u001b[0m\u001b[0;34m]\u001b[0m\u001b[0;34m\u001b[0m\u001b[0;34m\u001b[0m\u001b[0m\n\u001b[0;32m----> 2\u001b[0;31m \u001b[0mnumbers\u001b[0m\u001b[0;34m[\u001b[0m\u001b[0;34m:\u001b[0m\u001b[0;36m3\u001b[0m\u001b[0;34m:\u001b[0m\u001b[0;36m2\u001b[0m\u001b[0;34m]\u001b[0m \u001b[0;34m=\u001b[0m \u001b[0;34m[\u001b[0m\u001b[0;36m5\u001b[0m\u001b[0;34m]\u001b[0m\u001b[0;34m\u001b[0m\u001b[0;34m\u001b[0m\u001b[0m\n\u001b[0m\u001b[1;32m      3\u001b[0m \u001b[0mprint\u001b[0m\u001b[0;34m(\u001b[0m\u001b[0mnumbers\u001b[0m\u001b[0;34m)\u001b[0m\u001b[0;34m\u001b[0m\u001b[0;34m\u001b[0m\u001b[0m\n",
      "\u001b[0;31mValueError\u001b[0m: attempt to assign sequence of size 1 to extended slice of size 2"
     ]
    }
   ],
   "source": [
    "numbers = [6, 14, 7, 4, 0]\n",
    "numbers[:3:2] = [5]\n",
    "print(numbers)"
   ]
  },
  {
   "cell_type": "markdown",
   "metadata": {
    "id": "AFcCkjo6OIvr"
   },
   "source": [
    "Ввод списка с клавиатуры."
   ]
  },
  {
   "cell_type": "code",
   "execution_count": null,
   "metadata": {
    "colab": {
     "base_uri": "https://localhost:8080/"
    },
    "executionInfo": {
     "elapsed": 5076,
     "status": "ok",
     "timestamp": 1607610884773,
     "user": {
      "displayName": "Anastasiia Chernysheva",
      "photoUrl": "https://lh3.googleusercontent.com/a-/AOh14GhHyHwY-PuMRWX3mjSyss6pojv4D8xrqnEXatqg=s64",
      "userId": "13831218637705529605"
     },
     "user_tz": -180
    },
    "id": "lIerkE0pEfjC",
    "outputId": "d1ceb45e-6f7f-4081-f7cd-cbde5b39a637"
   },
   "outputs": [
    {
     "name": "stdout",
     "output_type": "stream",
     "text": [
      "1 2 3\n",
      "['1', '2', '3']\n"
     ]
    }
   ],
   "source": [
    "new_list = input().split()\n",
    "print(new_list)"
   ]
  },
  {
   "cell_type": "code",
   "execution_count": null,
   "metadata": {
    "colab": {
     "base_uri": "https://localhost:8080/"
    },
    "executionInfo": {
     "elapsed": 1133,
     "status": "ok",
     "timestamp": 1608041613964,
     "user": {
      "displayName": "Anastasiia Chernysheva",
      "photoUrl": "https://lh3.googleusercontent.com/a-/AOh14GhHyHwY-PuMRWX3mjSyss6pojv4D8xrqnEXatqg=s64",
      "userId": "13831218637705529605"
     },
     "user_tz": -180
    },
    "id": "eLEhiuExvyOt",
    "outputId": "2f9cada8-6421-4511-c6af-063c880f213d"
   },
   "outputs": [
    {
     "name": "stdout",
     "output_type": "stream",
     "text": [
      "1\n"
     ]
    }
   ],
   "source": [
    "digits = [2, 4, 5, 1]\n",
    "min_elem = min(digits)\n",
    "print(min_elem)"
   ]
  },
  {
   "cell_type": "markdown",
   "metadata": {
    "id": "34oPCMkDOMiW"
   },
   "source": [
    "**МЕТОДЫ ДЛЯ РАБОТЫ СО СПИСКАМИ**"
   ]
  },
  {
   "cell_type": "markdown",
   "metadata": {
    "id": "u6qIVQ40SaAT"
   },
   "source": [
    "\n",
    "\n",
    "> Применяя метод к списку, не нужно присваивать выражение переменной, т.к. метод сразу работает с элементами списка, для которого он вызван.\n",
    "\n"
   ]
  },
  {
   "cell_type": "markdown",
   "metadata": {
    "id": "8pl4gBmFORS8"
   },
   "source": [
    "**`1. index(значение, [начало], [конец])`**\n",
    "\n",
    "Позволяет определить местоположение элемента в списке, т.е. проверяет, есть ли некоторое значение в списке, и если есть - выводит индекс его первого символа. Если нет - `Python` выведет ошибку."
   ]
  },
  {
   "cell_type": "code",
   "execution_count": null,
   "metadata": {
    "colab": {
     "base_uri": "https://localhost:8080/"
    },
    "executionInfo": {
     "elapsed": 1011,
     "status": "ok",
     "timestamp": 1608043346173,
     "user": {
      "displayName": "Anastasiia Chernysheva",
      "photoUrl": "https://lh3.googleusercontent.com/a-/AOh14GhHyHwY-PuMRWX3mjSyss6pojv4D8xrqnEXatqg=s64",
      "userId": "13831218637705529605"
     },
     "user_tz": -180
    },
    "id": "vp-5OoCgSkQ-",
    "outputId": "e3cb562c-84af-4170-8d94-f94e64696e82"
   },
   "outputs": [
    {
     "name": "stdout",
     "output_type": "stream",
     "text": [
      "4\n",
      "[2, 34, 22, 12, 3, 9, 0, 4, 3]\n"
     ]
    }
   ],
   "source": [
    "digits = [2, 34, 22, 12, 3, 9, 0, 4, 3]\n",
    "elem = digits.index(3)\n",
    "print(elem)\n",
    "print(digits)"
   ]
  },
  {
   "cell_type": "code",
   "execution_count": null,
   "metadata": {
    "colab": {
     "base_uri": "https://localhost:8080/"
    },
    "executionInfo": {
     "elapsed": 1014,
     "status": "ok",
     "timestamp": 1608043361329,
     "user": {
      "displayName": "Anastasiia Chernysheva",
      "photoUrl": "https://lh3.googleusercontent.com/a-/AOh14GhHyHwY-PuMRWX3mjSyss6pojv4D8xrqnEXatqg=s64",
      "userId": "13831218637705529605"
     },
     "user_tz": -180
    },
    "id": "tl0CB5qETGED",
    "outputId": "93b3efa9-9642-49d6-845a-45e0edb24233"
   },
   "outputs": [
    {
     "name": "stdout",
     "output_type": "stream",
     "text": [
      "8\n"
     ]
    }
   ],
   "source": [
    "elem = digits.index(3, 7)\n",
    "print(elem)"
   ]
  },
  {
   "cell_type": "code",
   "execution_count": null,
   "metadata": {
    "colab": {
     "base_uri": "https://localhost:8080/"
    },
    "executionInfo": {
     "elapsed": 585,
     "status": "ok",
     "timestamp": 1608017422203,
     "user": {
      "displayName": "Anastasiia Chernysheva",
      "photoUrl": "https://lh3.googleusercontent.com/a-/AOh14GhHyHwY-PuMRWX3mjSyss6pojv4D8xrqnEXatqg=s64",
      "userId": "13831218637705529605"
     },
     "user_tz": -180
    },
    "id": "CQ8kBzcGTfTn",
    "outputId": "3c67e2db-a26c-41e7-f7ec-d387c42044fa"
   },
   "outputs": [
    {
     "name": "stdout",
     "output_type": "stream",
     "text": [
      "4\n"
     ]
    }
   ],
   "source": [
    "elem = digits.index(3, 2, 6)\n",
    "print(elem)"
   ]
  },
  {
   "cell_type": "code",
   "execution_count": null,
   "metadata": {
    "colab": {
     "base_uri": "https://localhost:8080/",
     "height": 185
    },
    "executionInfo": {
     "elapsed": 1290,
     "status": "error",
     "timestamp": 1608043412552,
     "user": {
      "displayName": "Anastasiia Chernysheva",
      "photoUrl": "https://lh3.googleusercontent.com/a-/AOh14GhHyHwY-PuMRWX3mjSyss6pojv4D8xrqnEXatqg=s64",
      "userId": "13831218637705529605"
     },
     "user_tz": -180
    },
    "id": "Ws3UOkbZUZHz",
    "outputId": "7ca35a3c-0125-42f4-adbe-d56528b918ee"
   },
   "outputs": [
    {
     "ename": "ValueError",
     "evalue": "ignored",
     "output_type": "error",
     "traceback": [
      "\u001b[0;31m---------------------------------------------------------------------------\u001b[0m",
      "\u001b[0;31mValueError\u001b[0m                                Traceback (most recent call last)",
      "\u001b[0;32m<ipython-input-4-4d7602249547>\u001b[0m in \u001b[0;36m<module>\u001b[0;34m()\u001b[0m\n\u001b[0;32m----> 1\u001b[0;31m \u001b[0melem\u001b[0m \u001b[0;34m=\u001b[0m \u001b[0mdigits\u001b[0m\u001b[0;34m.\u001b[0m\u001b[0mindex\u001b[0m\u001b[0;34m(\u001b[0m\u001b[0;36m17\u001b[0m\u001b[0;34m)\u001b[0m\u001b[0;34m\u001b[0m\u001b[0;34m\u001b[0m\u001b[0m\n\u001b[0m\u001b[1;32m      2\u001b[0m \u001b[0mprint\u001b[0m\u001b[0;34m(\u001b[0m\u001b[0melem\u001b[0m\u001b[0;34m)\u001b[0m\u001b[0;34m\u001b[0m\u001b[0;34m\u001b[0m\u001b[0m\n",
      "\u001b[0;31mValueError\u001b[0m: 17 is not in list"
     ]
    }
   ],
   "source": [
    "elem = digits.index(17)\n",
    "print(elem)"
   ]
  },
  {
   "cell_type": "markdown",
   "metadata": {
    "id": "xKoSf5V0PLsS"
   },
   "source": [
    "**`2. count(значение)`**\n",
    "\n",
    "Позволяет посчитать, сколько раз значение встречается в списке."
   ]
  },
  {
   "cell_type": "code",
   "execution_count": null,
   "metadata": {
    "colab": {
     "base_uri": "https://localhost:8080/"
    },
    "executionInfo": {
     "elapsed": 838,
     "status": "ok",
     "timestamp": 1608043435898,
     "user": {
      "displayName": "Anastasiia Chernysheva",
      "photoUrl": "https://lh3.googleusercontent.com/a-/AOh14GhHyHwY-PuMRWX3mjSyss6pojv4D8xrqnEXatqg=s64",
      "userId": "13831218637705529605"
     },
     "user_tz": -180
    },
    "id": "JzIeaU7pTuwW",
    "outputId": "1b940781-7828-4fd2-deeb-8de2022b1cdd"
   },
   "outputs": [
    {
     "name": "stdout",
     "output_type": "stream",
     "text": [
      "2\n"
     ]
    }
   ],
   "source": [
    "digits = [2, 34, 22, 12, 3, 9, 0, 4, 3]\n",
    "elem_count = digits.count(3)\n",
    "print(elem_count)"
   ]
  },
  {
   "cell_type": "markdown",
   "metadata": {
    "id": "6co3eRT7PSB3"
   },
   "source": [
    "**`3. append(значение)`**\n",
    "\n",
    "Добавляет элемент в конец списка.\n",
    "\n"
   ]
  },
  {
   "cell_type": "code",
   "execution_count": null,
   "metadata": {
    "colab": {
     "base_uri": "https://localhost:8080/"
    },
    "executionInfo": {
     "elapsed": 1988,
     "status": "ok",
     "timestamp": 1608215160546,
     "user": {
      "displayName": "Anastasiia Chernysheva",
      "photoUrl": "https://lh3.googleusercontent.com/a-/AOh14GhHyHwY-PuMRWX3mjSyss6pojv4D8xrqnEXatqg=s64",
      "userId": "13831218637705529605"
     },
     "user_tz": -180
    },
    "id": "dhwe-2SLT9Nr",
    "outputId": "c90e6c63-470d-41d6-ba9e-d46c86faee21"
   },
   "outputs": [
    {
     "name": "stdout",
     "output_type": "stream",
     "text": [
      "[2, 34, 22, 12, 3, 9, 0, 4, 3, 900]\n",
      "None\n"
     ]
    }
   ],
   "source": [
    "digits = [2, 34, 22, 12, 3, 9, 0, 4, 3]\n",
    "d = digits.append(900)\n",
    "print(digits)\n",
    "print(d)"
   ]
  },
  {
   "cell_type": "markdown",
   "metadata": {
    "id": "ke7RmCfRPYEm"
   },
   "source": [
    "**`4. extend(список2)`**\n",
    "\n",
    "Добвляет в конец списка, для которого вызван метод, все элементы второго списка."
   ]
  },
  {
   "cell_type": "code",
   "execution_count": null,
   "metadata": {
    "colab": {
     "base_uri": "https://localhost:8080/"
    },
    "executionInfo": {
     "elapsed": 988,
     "status": "ok",
     "timestamp": 1608215237150,
     "user": {
      "displayName": "Anastasiia Chernysheva",
      "photoUrl": "https://lh3.googleusercontent.com/a-/AOh14GhHyHwY-PuMRWX3mjSyss6pojv4D8xrqnEXatqg=s64",
      "userId": "13831218637705529605"
     },
     "user_tz": -180
    },
    "id": "fCZAIL12UDlS",
    "outputId": "06e212dd-bc97-4dbb-dc07-34ba544d1042"
   },
   "outputs": [
    {
     "name": "stdout",
     "output_type": "stream",
     "text": [
      "[2, 34, 22, 12, 3, 9, 0, 4, 3, 'q', 'w', 'e', 'r', 't', 'y']\n"
     ]
    }
   ],
   "source": [
    "digits = [2, 34, 22, 12, 3, 9, 0, 4, 3]\n",
    "letters = [\"q\", \"w\", \"e\", \"r\", \"t\", \"y\"]\n",
    "digits.extend(letters)\n",
    "print(digits)"
   ]
  },
  {
   "cell_type": "markdown",
   "metadata": {
    "id": "s0lfpWYCPaKK"
   },
   "source": [
    "**`5. insert(индекс, значение)`**\n",
    "\n",
    "Вставляет значение в указанную позицию списка."
   ]
  },
  {
   "cell_type": "code",
   "execution_count": null,
   "metadata": {
    "colab": {
     "base_uri": "https://localhost:8080/"
    },
    "executionInfo": {
     "elapsed": 1141,
     "status": "ok",
     "timestamp": 1614866940916,
     "user": {
      "displayName": "Anastasiia Chernysheva",
      "photoUrl": "https://lh3.googleusercontent.com/a-/AOh14GhHyHwY-PuMRWX3mjSyss6pojv4D8xrqnEXatqg=s64",
      "userId": "13831218637705529605"
     },
     "user_tz": -180
    },
    "id": "zp3VxlxFUqir",
    "outputId": "993590df-0d39-43ad-800b-805e39840120"
   },
   "outputs": [
    {
     "name": "stdout",
     "output_type": "stream",
     "text": [
      "[2, 34, 100, 22, 12, 3, 9, 0, 4, 3]\n"
     ]
    }
   ],
   "source": [
    "digits = [2, 34, 22, 12, 3, 9, 0, 4, 3]\n",
    "digits.insert(2, 100)\n",
    "print(digits)"
   ]
  },
  {
   "cell_type": "code",
   "execution_count": null,
   "metadata": {
    "colab": {
     "base_uri": "https://localhost:8080/"
    },
    "executionInfo": {
     "elapsed": 1113,
     "status": "ok",
     "timestamp": 1614866971810,
     "user": {
      "displayName": "Anastasiia Chernysheva",
      "photoUrl": "https://lh3.googleusercontent.com/a-/AOh14GhHyHwY-PuMRWX3mjSyss6pojv4D8xrqnEXatqg=s64",
      "userId": "13831218637705529605"
     },
     "user_tz": -180
    },
    "id": "NrP_-Ftbkc_z",
    "outputId": "9520f511-b6b0-4dea-a41e-00ab425af60e"
   },
   "outputs": [
    {
     "name": "stdout",
     "output_type": "stream",
     "text": [
      "[2, 34, 100, 22, 12, 3, 9, 0, 4, 3, 500]\n"
     ]
    }
   ],
   "source": [
    "digits.insert(1000, 500)\n",
    "print(digits)"
   ]
  },
  {
   "cell_type": "markdown",
   "metadata": {
    "id": "KVCvrmoIPccg"
   },
   "source": [
    "**`6. remove(значение)`**\n",
    "\n",
    "Удаляет первый элемент списка, который имеет указанное значение. Если такого элемента с таким значением нет, `Python` выдаст ошибку."
   ]
  },
  {
   "cell_type": "code",
   "execution_count": null,
   "metadata": {
    "colab": {
     "base_uri": "https://localhost:8080/"
    },
    "executionInfo": {
     "elapsed": 724,
     "status": "ok",
     "timestamp": 1608215367890,
     "user": {
      "displayName": "Anastasiia Chernysheva",
      "photoUrl": "https://lh3.googleusercontent.com/a-/AOh14GhHyHwY-PuMRWX3mjSyss6pojv4D8xrqnEXatqg=s64",
      "userId": "13831218637705529605"
     },
     "user_tz": -180
    },
    "id": "H04698rxUx0Y",
    "outputId": "e8ecaa1c-8332-44db-8493-3db0e6406181"
   },
   "outputs": [
    {
     "name": "stdout",
     "output_type": "stream",
     "text": [
      "[2, 34, 22, 12, 9, 0, 4, 3]\n"
     ]
    }
   ],
   "source": [
    "digits = [2, 34, 22, 12, 3, 9, 0, 4, 3]\n",
    "digits.remove(3)\n",
    "print(digits)"
   ]
  },
  {
   "cell_type": "code",
   "execution_count": null,
   "metadata": {
    "colab": {
     "base_uri": "https://localhost:8080/",
     "height": 185
    },
    "executionInfo": {
     "elapsed": 649,
     "status": "error",
     "timestamp": 1608043704155,
     "user": {
      "displayName": "Anastasiia Chernysheva",
      "photoUrl": "https://lh3.googleusercontent.com/a-/AOh14GhHyHwY-PuMRWX3mjSyss6pojv4D8xrqnEXatqg=s64",
      "userId": "13831218637705529605"
     },
     "user_tz": -180
    },
    "id": "R37dy_cgU3_O",
    "outputId": "2d1c9e48-f493-4561-8b0d-625949c1e2ce"
   },
   "outputs": [
    {
     "ename": "ValueError",
     "evalue": "ignored",
     "output_type": "error",
     "traceback": [
      "\u001b[0;31m---------------------------------------------------------------------------\u001b[0m",
      "\u001b[0;31mValueError\u001b[0m                                Traceback (most recent call last)",
      "\u001b[0;32m<ipython-input-11-7f6be4a9a565>\u001b[0m in \u001b[0;36m<module>\u001b[0;34m()\u001b[0m\n\u001b[0;32m----> 1\u001b[0;31m \u001b[0mdigits\u001b[0m\u001b[0;34m.\u001b[0m\u001b[0mremove\u001b[0m\u001b[0;34m(\u001b[0m\u001b[0;36m5\u001b[0m\u001b[0;34m)\u001b[0m\u001b[0;34m\u001b[0m\u001b[0;34m\u001b[0m\u001b[0m\n\u001b[0m\u001b[1;32m      2\u001b[0m \u001b[0mprint\u001b[0m\u001b[0;34m(\u001b[0m\u001b[0mdigits\u001b[0m\u001b[0;34m)\u001b[0m\u001b[0;34m\u001b[0m\u001b[0;34m\u001b[0m\u001b[0m\n",
      "\u001b[0;31mValueError\u001b[0m: list.remove(x): x not in list"
     ]
    }
   ],
   "source": [
    "digits.remove(5)\n",
    "print(digits)"
   ]
  },
  {
   "cell_type": "markdown",
   "metadata": {
    "id": "q81o9j3vPeV8"
   },
   "source": [
    "**`7. pop([индекс])`**\n",
    "\n",
    "Удаляет элемент из списка по индексу. Если индекс не указан, метод удалит последний элемент списка."
   ]
  },
  {
   "cell_type": "code",
   "execution_count": null,
   "metadata": {
    "colab": {
     "base_uri": "https://localhost:8080/"
    },
    "executionInfo": {
     "elapsed": 569,
     "status": "ok",
     "timestamp": 1608215505957,
     "user": {
      "displayName": "Anastasiia Chernysheva",
      "photoUrl": "https://lh3.googleusercontent.com/a-/AOh14GhHyHwY-PuMRWX3mjSyss6pojv4D8xrqnEXatqg=s64",
      "userId": "13831218637705529605"
     },
     "user_tz": -180
    },
    "id": "Zi4P8TfWU_6a",
    "outputId": "19366a57-da6d-43ed-d21c-886dae49b964"
   },
   "outputs": [
    {
     "name": "stdout",
     "output_type": "stream",
     "text": [
      "[2, 34, 12, 3, 9, 0, 4, 3]\n"
     ]
    }
   ],
   "source": [
    "digits = [2, 34, 22, 12, 3, 9, 0, 4, 3]\n",
    "digits.pop(2)\n",
    "print(digits)"
   ]
  },
  {
   "cell_type": "code",
   "execution_count": null,
   "metadata": {
    "colab": {
     "base_uri": "https://localhost:8080/"
    },
    "executionInfo": {
     "elapsed": 692,
     "status": "ok",
     "timestamp": 1608215507693,
     "user": {
      "displayName": "Anastasiia Chernysheva",
      "photoUrl": "https://lh3.googleusercontent.com/a-/AOh14GhHyHwY-PuMRWX3mjSyss6pojv4D8xrqnEXatqg=s64",
      "userId": "13831218637705529605"
     },
     "user_tz": -180
    },
    "id": "68LyI9XsVGho",
    "outputId": "955cb305-446a-40d9-f067-7c4420c33d6b"
   },
   "outputs": [
    {
     "name": "stdout",
     "output_type": "stream",
     "text": [
      "[2, 34, 12, 3, 9, 0, 4]\n"
     ]
    }
   ],
   "source": [
    "digits.pop()\n",
    "print(digits)"
   ]
  },
  {
   "cell_type": "markdown",
   "metadata": {
    "id": "ep-37Mn7PkGH"
   },
   "source": [
    "**`8. sort([key=функция], [reverse=True/False]) и функция sorted(cписок, [key], [reverse])`**\n",
    "\n",
    "Сортирует список на основе функции. Если функция не задана - сортирует по возрастанию.\n",
    "\n",
    "> Функция `sorted()` работает аналогичным образом и принимает те же параметры, что и метод `sort()`, но применяется, когда отсортированный список нужно записать в новую переменную.\n",
    "\n"
   ]
  },
  {
   "cell_type": "code",
   "execution_count": null,
   "metadata": {
    "colab": {
     "base_uri": "https://localhost:8080/"
    },
    "executionInfo": {
     "elapsed": 632,
     "status": "ok",
     "timestamp": 1608215674284,
     "user": {
      "displayName": "Anastasiia Chernysheva",
      "photoUrl": "https://lh3.googleusercontent.com/a-/AOh14GhHyHwY-PuMRWX3mjSyss6pojv4D8xrqnEXatqg=s64",
      "userId": "13831218637705529605"
     },
     "user_tz": -180
    },
    "id": "v84V5qIiWX3G",
    "outputId": "2daf762c-7345-452c-8cc2-e4c1ba1e7b61"
   },
   "outputs": [
    {
     "name": "stdout",
     "output_type": "stream",
     "text": [
      "['ABC', 'List', 'Qwerty', 'leTTErs', 'world']\n",
      "['ABC', 'leTTErs', 'List', 'Qwerty', 'world']\n",
      "['ABC', 'List', 'world', 'Qwerty', 'leTTErs']\n",
      "['leTTErs', 'Qwerty', 'world', 'List', 'ABC']\n"
     ]
    }
   ],
   "source": [
    "words = [\"Qwerty\", \"ABC\", \"leTTErs\", \"world\", \"List\"]\n",
    "words.sort()\n",
    "print(words)\n",
    "words.sort(key=str.upper)\n",
    "print(words)\n",
    "words.sort(key=len)\n",
    "print(words)\n",
    "words.sort(key=len, reverse=True)\n",
    "print(words)"
   ]
  },
  {
   "cell_type": "code",
   "execution_count": null,
   "metadata": {
    "colab": {
     "base_uri": "https://localhost:8080/"
    },
    "executionInfo": {
     "elapsed": 786,
     "status": "ok",
     "timestamp": 1608044209229,
     "user": {
      "displayName": "Anastasiia Chernysheva",
      "photoUrl": "https://lh3.googleusercontent.com/a-/AOh14GhHyHwY-PuMRWX3mjSyss6pojv4D8xrqnEXatqg=s64",
      "userId": "13831218637705529605"
     },
     "user_tz": -180
    },
    "id": "khSrs8Y0X67W",
    "outputId": "730bfc36-2bd9-4c5c-cb23-051b718f0886"
   },
   "outputs": [
    {
     "name": "stdout",
     "output_type": "stream",
     "text": [
      "[34, 22, 12, 9, 4, 3, 3, 2, 0]\n"
     ]
    }
   ],
   "source": [
    "digits = [2, 34, 22, 12, 3, 9, 0, 4, 3]\n",
    "digits.sort(reverse=True)\n",
    "print(digits)"
   ]
  },
  {
   "cell_type": "markdown",
   "metadata": {
    "id": "1kAhoQJhPqtw"
   },
   "source": [
    "**`9. reverse() и функция reversed(список)`**\n",
    "\n",
    "Разворачивает список.\n",
    "\n",
    "\n",
    "> Функция `reversed()` работает аналогичным образом, но применяется, когда перевернутый список нужно записать в новую переменную.\n",
    "\n"
   ]
  },
  {
   "cell_type": "code",
   "execution_count": null,
   "metadata": {
    "colab": {
     "base_uri": "https://localhost:8080/"
    },
    "executionInfo": {
     "elapsed": 648,
     "status": "ok",
     "timestamp": 1608044283181,
     "user": {
      "displayName": "Anastasiia Chernysheva",
      "photoUrl": "https://lh3.googleusercontent.com/a-/AOh14GhHyHwY-PuMRWX3mjSyss6pojv4D8xrqnEXatqg=s64",
      "userId": "13831218637705529605"
     },
     "user_tz": -180
    },
    "id": "vTaWrGXUVLcS",
    "outputId": "dc86e6a0-b1ff-47d0-8981-1de6ca638304"
   },
   "outputs": [
    {
     "name": "stdout",
     "output_type": "stream",
     "text": [
      "[3, 4, 0, 9, 3, 12, 22, 34, 2]\n"
     ]
    }
   ],
   "source": [
    "digits = [2, 34, 22, 12, 3, 9, 0, 4, 3]\n",
    "digits.reverse()\n",
    "print(digits)"
   ]
  },
  {
   "cell_type": "code",
   "execution_count": null,
   "metadata": {
    "id": "XqKbu0D9tMFl"
   },
   "outputs": [],
   "source": [
    "digits[::-1]"
   ]
  },
  {
   "cell_type": "markdown",
   "metadata": {
    "id": "TawFbDX5PtQZ"
   },
   "source": [
    "**`10. copy()`**\n",
    "\n",
    "Создает копию списка."
   ]
  },
  {
   "cell_type": "code",
   "execution_count": null,
   "metadata": {
    "colab": {
     "base_uri": "https://localhost:8080/"
    },
    "executionInfo": {
     "elapsed": 633,
     "status": "ok",
     "timestamp": 1608017890072,
     "user": {
      "displayName": "Anastasiia Chernysheva",
      "photoUrl": "https://lh3.googleusercontent.com/a-/AOh14GhHyHwY-PuMRWX3mjSyss6pojv4D8xrqnEXatqg=s64",
      "userId": "13831218637705529605"
     },
     "user_tz": -180
    },
    "id": "NN9yhY7rVQsX",
    "outputId": "b70e47d7-40fb-4cb9-febd-3c21c105a3fe"
   },
   "outputs": [
    {
     "name": "stdout",
     "output_type": "stream",
     "text": [
      "[2, 34, 22, 12, 3, 9, 0, 4, 3]\n",
      "[2, 34, 22, 12, 3, 9, 0, 4, 3]\n"
     ]
    }
   ],
   "source": [
    "digits = [2, 34, 22, 12, 3, 9, 0, 4, 3]\n",
    "digits_copy = digits.copy()\n",
    "print(digits, digits_copy, sep=\"\\n\")"
   ]
  },
  {
   "cell_type": "markdown",
   "metadata": {
    "id": "Qc9I2GF6PvKp"
   },
   "source": [
    "**`11. clear()`**\n",
    "\n",
    "Очищает список."
   ]
  },
  {
   "cell_type": "code",
   "execution_count": null,
   "metadata": {
    "colab": {
     "base_uri": "https://localhost:8080/"
    },
    "executionInfo": {
     "elapsed": 854,
     "status": "ok",
     "timestamp": 1608215967496,
     "user": {
      "displayName": "Anastasiia Chernysheva",
      "photoUrl": "https://lh3.googleusercontent.com/a-/AOh14GhHyHwY-PuMRWX3mjSyss6pojv4D8xrqnEXatqg=s64",
      "userId": "13831218637705529605"
     },
     "user_tz": -180
    },
    "id": "L6zq1wyOVkrj",
    "outputId": "ae85fe47-1576-4363-d153-09ca1a9121bf"
   },
   "outputs": [
    {
     "name": "stdout",
     "output_type": "stream",
     "text": [
      "[]\n"
     ]
    }
   ],
   "source": [
    "digits = [2, 34, 22, 12, 3, 9, 0, 4, 3]\n",
    "digits.clear()\n",
    "print(digits)"
   ]
  },
  {
   "cell_type": "markdown",
   "metadata": {
    "id": "Dj1ICtS_j81-"
   },
   "source": [
    "**`Двумерные списки`**\n",
    "\n",
    "> Двумерный список - это список, состоящий из списков.\n",
    "\n"
   ]
  },
  {
   "cell_type": "code",
   "execution_count": null,
   "metadata": {
    "colab": {
     "base_uri": "https://localhost:8080/"
    },
    "executionInfo": {
     "elapsed": 526,
     "status": "ok",
     "timestamp": 1608021884376,
     "user": {
      "displayName": "Anastasiia Chernysheva",
      "photoUrl": "https://lh3.googleusercontent.com/a-/AOh14GhHyHwY-PuMRWX3mjSyss6pojv4D8xrqnEXatqg=s64",
      "userId": "13831218637705529605"
     },
     "user_tz": -180
    },
    "id": "DKz1IXjNj_w8",
    "outputId": "2eca55d5-f086-418d-d3ea-b1c7e82414c5"
   },
   "outputs": [
    {
     "name": "stdout",
     "output_type": "stream",
     "text": [
      "[[2, 3], [1, 4], [0, 9]]\n"
     ]
    }
   ],
   "source": [
    "two_dim = [[2, 3], [1, 4], [0, 9]]\n",
    "print(two_dim)\n"
   ]
  },
  {
   "cell_type": "markdown",
   "metadata": {
    "id": "ua6TvLzkmiOe"
   },
   "source": [
    "Создание двумерного списка вводом значений с клавиатуры."
   ]
  },
  {
   "cell_type": "code",
   "execution_count": null,
   "metadata": {
    "colab": {
     "base_uri": "https://localhost:8080/"
    },
    "executionInfo": {
     "elapsed": 13036,
     "status": "ok",
     "timestamp": 1608044563409,
     "user": {
      "displayName": "Anastasiia Chernysheva",
      "photoUrl": "https://lh3.googleusercontent.com/a-/AOh14GhHyHwY-PuMRWX3mjSyss6pojv4D8xrqnEXatqg=s64",
      "userId": "13831218637705529605"
     },
     "user_tz": -180
    },
    "id": "yXfgMYfYksfu",
    "outputId": "d4ef6a3c-a75c-4eee-deed-1bf34cf3af9d"
   },
   "outputs": [
    {
     "name": "stdout",
     "output_type": "stream",
     "text": [
      "2 5 6\n",
      "2 2 2 2 4 7 6\n",
      "0\n",
      "[['2', '5', '6'], ['2', '2', '2', '2', '4', '7', '6'], ['0']]\n"
     ]
    }
   ],
   "source": [
    "length = 3\n",
    "spisok = []\n",
    "for i in range(length):\n",
    "  numbers = input().split()\n",
    "  spisok.append(numbers)\n",
    "print(spisok)"
   ]
  },
  {
   "cell_type": "markdown",
   "metadata": {
    "id": "sbL9IKLOmoJD"
   },
   "source": [
    "Создание двумерного списка с фиксированным количеством элементов."
   ]
  },
  {
   "cell_type": "code",
   "execution_count": null,
   "metadata": {
    "colab": {
     "base_uri": "https://localhost:8080/"
    },
    "executionInfo": {
     "elapsed": 13155,
     "status": "ok",
     "timestamp": 1608216260168,
     "user": {
      "displayName": "Anastasiia Chernysheva",
      "photoUrl": "https://lh3.googleusercontent.com/a-/AOh14GhHyHwY-PuMRWX3mjSyss6pojv4D8xrqnEXatqg=s64",
      "userId": "13831218637705529605"
     },
     "user_tz": -180
    },
    "id": "iJhl0s--ltNJ",
    "outputId": "bf71f003-715a-4e57-8aa1-a72f96434be2"
   },
   "outputs": [
    {
     "name": "stdout",
     "output_type": "stream",
     "text": [
      "1\n",
      "2\n",
      "3\n",
      "4\n",
      "5\n",
      "6\n",
      "7\n",
      "8\n",
      "9\n",
      "[[1, 2, 3], [4, 5, 6], [7, 8, 9]]\n"
     ]
    }
   ],
   "source": [
    "length = 3\n",
    "spisok = []\n",
    "for i in range(length):\n",
    "  numbers = []\n",
    "  for j in range(length):\n",
    "    num = int(input())\n",
    "    numbers.append(num)\n",
    "  spisok.append(numbers)\n",
    "print(spisok)"
   ]
  },
  {
   "cell_type": "markdown",
   "metadata": {
    "id": "9Gmsmt88ZwdT"
   },
   "source": [
    "**СПИСКОВЫЕ ВКЛЮЧЕНИЯ**\n",
    "\n",
    "\n",
    "> Способ задать список на основе некоторой последовательности.\n",
    "\n"
   ]
  },
  {
   "cell_type": "markdown",
   "metadata": {
    "id": "1f0SD2LsdDfl"
   },
   "source": [
    "Для создания списка списковым включением используются исходные элементы послеловательности и цикл `for`."
   ]
  },
  {
   "cell_type": "code",
   "execution_count": null,
   "metadata": {
    "colab": {
     "base_uri": "https://localhost:8080/"
    },
    "executionInfo": {
     "elapsed": 543,
     "status": "ok",
     "timestamp": 1614867714893,
     "user": {
      "displayName": "Anastasiia Chernysheva",
      "photoUrl": "https://lh3.googleusercontent.com/a-/AOh14GhHyHwY-PuMRWX3mjSyss6pojv4D8xrqnEXatqg=s64",
      "userId": "13831218637705529605"
     },
     "user_tz": -180
    },
    "id": "vCI3L0u5aIIr",
    "outputId": "71e84ed9-afb3-4eb3-f2f0-48eee0ad360d"
   },
   "outputs": [
    {
     "name": "stdout",
     "output_type": "stream",
     "text": [
      "[2, 34, 22, 12, 3, 9, 0, 4, 3]\n",
      "[0, 1, 2, 3, 4]\n"
     ]
    }
   ],
   "source": [
    "digits = [2, 34, 22, 12, 3, 9, 0, 4, 3]\n",
    "digits_new = [i for i in range(5)]\n",
    "print(digits, digits_new, sep=\"\\n\")"
   ]
  },
  {
   "cell_type": "markdown",
   "metadata": {
    "id": "H7lzvZffdP9y"
   },
   "source": [
    "Над элементом можно выполнить некоторое действие."
   ]
  },
  {
   "cell_type": "code",
   "execution_count": null,
   "metadata": {
    "colab": {
     "base_uri": "https://localhost:8080/"
    },
    "executionInfo": {
     "elapsed": 1378,
     "status": "ok",
     "timestamp": 1610462360115,
     "user": {
      "displayName": "Anastasiia Chernysheva",
      "photoUrl": "https://lh3.googleusercontent.com/a-/AOh14GhHyHwY-PuMRWX3mjSyss6pojv4D8xrqnEXatqg=s64",
      "userId": "13831218637705529605"
     },
     "user_tz": -180
    },
    "id": "hmRcsn_NaieG",
    "outputId": "5a256dca-9b04-4401-9daa-2895d98f4442"
   },
   "outputs": [
    {
     "name": "stdout",
     "output_type": "stream",
     "text": [
      "[2, 34, 22, 12, 3, 9, 0, 4, 3]\n",
      "[1, 17, 11, 6, 1, 4, 2, 1]\n"
     ]
    }
   ],
   "source": [
    "digits_new = [i//2 for i in digits if i > 0]\n",
    "print(digits, digits_new, sep=\"\\n\")"
   ]
  },
  {
   "cell_type": "markdown",
   "metadata": {
    "id": "3qsQUs3kdV_-"
   },
   "source": [
    "Можно добавить условие. Если элементы, не удовлетворяющие условию, включать в список не надо, то условие добавляется в конец."
   ]
  },
  {
   "cell_type": "code",
   "execution_count": null,
   "metadata": {
    "colab": {
     "base_uri": "https://localhost:8080/"
    },
    "executionInfo": {
     "elapsed": 733,
     "status": "ok",
     "timestamp": 1608045007235,
     "user": {
      "displayName": "Anastasiia Chernysheva",
      "photoUrl": "https://lh3.googleusercontent.com/a-/AOh14GhHyHwY-PuMRWX3mjSyss6pojv4D8xrqnEXatqg=s64",
      "userId": "13831218637705529605"
     },
     "user_tz": -180
    },
    "id": "9F99iaBearp0",
    "outputId": "04c1542d-6702-4b19-86f0-216b3ef43d90"
   },
   "outputs": [
    {
     "name": "stdout",
     "output_type": "stream",
     "text": [
      "[2, 34, 22, 12, 3, 9, 0, 4, 3]\n",
      "[1, 17, 11, 6, 0, 2]\n"
     ]
    }
   ],
   "source": [
    "digits_new = [i//2 for i in digits if i % 2 == 0]\n",
    "print(digits, digits_new, sep=\"\\n\")"
   ]
  },
  {
   "cell_type": "markdown",
   "metadata": {
    "id": "0Y_WnlkGdhV_"
   },
   "source": [
    "Можно использовать логические операторы."
   ]
  },
  {
   "cell_type": "code",
   "execution_count": null,
   "metadata": {
    "colab": {
     "base_uri": "https://localhost:8080/"
    },
    "executionInfo": {
     "elapsed": 603,
     "status": "ok",
     "timestamp": 1608045140133,
     "user": {
      "displayName": "Anastasiia Chernysheva",
      "photoUrl": "https://lh3.googleusercontent.com/a-/AOh14GhHyHwY-PuMRWX3mjSyss6pojv4D8xrqnEXatqg=s64",
      "userId": "13831218637705529605"
     },
     "user_tz": -180
    },
    "id": "QK6qxRDrbINq",
    "outputId": "1aa9e7e8-75c6-4055-cd97-c30186031574"
   },
   "outputs": [
    {
     "name": "stdout",
     "output_type": "stream",
     "text": [
      "[2, 34, 22, 12, 3, 9, 0, 4, 3]\n",
      "[17, 11, 6]\n"
     ]
    }
   ],
   "source": [
    "digits_new = [i//2 for i in digits if i % 2 == 0 and i > 10]\n",
    "print(digits, digits_new, sep=\"\\n\")"
   ]
  },
  {
   "cell_type": "markdown",
   "metadata": {
    "id": "dUNo-nZednUi"
   },
   "source": [
    "Если с элементами, не удовлетворяющими условию, сделать все же что-то надо, но условная конструкция переезжает в начало."
   ]
  },
  {
   "cell_type": "code",
   "execution_count": null,
   "metadata": {
    "colab": {
     "base_uri": "https://localhost:8080/"
    },
    "executionInfo": {
     "elapsed": 670,
     "status": "ok",
     "timestamp": 1608045213065,
     "user": {
      "displayName": "Anastasiia Chernysheva",
      "photoUrl": "https://lh3.googleusercontent.com/a-/AOh14GhHyHwY-PuMRWX3mjSyss6pojv4D8xrqnEXatqg=s64",
      "userId": "13831218637705529605"
     },
     "user_tz": -180
    },
    "id": "hril1KAdbNhN",
    "outputId": "73e95f84-6b88-4ebb-d2f8-b7edc6551473"
   },
   "outputs": [
    {
     "name": "stdout",
     "output_type": "stream",
     "text": [
      "[2, 34, 22, 12, 3, 9, 0, 4, 3]\n",
      "[20, 17, 11, 6, 30, 90, 0, 40, 30]\n"
     ]
    }
   ],
   "source": [
    "digits_new = [i//2 if i % 2 == 0 and i > 10 \n",
    "              else i*10\n",
    "              for i in digits]\n",
    "print(digits, digits_new, sep=\"\\n\")"
   ]
  },
  {
   "cell_type": "markdown",
   "metadata": {
    "id": "WQE-KAbRd1qu"
   },
   "source": [
    "`elif` для списковых включений не используется, но можно сделать столько `else if`, сколько нужно."
   ]
  },
  {
   "cell_type": "code",
   "execution_count": null,
   "metadata": {
    "colab": {
     "base_uri": "https://localhost:8080/"
    },
    "executionInfo": {
     "elapsed": 635,
     "status": "ok",
     "timestamp": 1610462755416,
     "user": {
      "displayName": "Anastasiia Chernysheva",
      "photoUrl": "https://lh3.googleusercontent.com/a-/AOh14GhHyHwY-PuMRWX3mjSyss6pojv4D8xrqnEXatqg=s64",
      "userId": "13831218637705529605"
     },
     "user_tz": -180
    },
    "id": "sdg7z0ipbrMh",
    "outputId": "334a2726-fefd-443e-c397-aa9994f1aea4"
   },
   "outputs": [
    {
     "name": "stdout",
     "output_type": "stream",
     "text": [
      "[2, 34, 22, 12, 3, 9, 0, 4, 3]\n",
      "[1, 17, 11, 6, 30, 900, 0, 2, 30]\n"
     ]
    }
   ],
   "source": [
    "digits_new = [i//2 if i % 2 == 0 \n",
    "              else i * 10 if i <= 3 \n",
    "              else i * 100 \n",
    "              for i in digits]\n",
    "print(digits, digits_new, sep=\"\\n\")"
   ]
  },
  {
   "cell_type": "markdown",
   "metadata": {
    "id": "LZwtqOVLe8Ry"
   },
   "source": [
    "Можно исходной последовательностью взять значения, которые дает функция `range()`."
   ]
  },
  {
   "cell_type": "code",
   "execution_count": null,
   "metadata": {
    "colab": {
     "base_uri": "https://localhost:8080/"
    },
    "executionInfo": {
     "elapsed": 614,
     "status": "ok",
     "timestamp": 1608216943816,
     "user": {
      "displayName": "Anastasiia Chernysheva",
      "photoUrl": "https://lh3.googleusercontent.com/a-/AOh14GhHyHwY-PuMRWX3mjSyss6pojv4D8xrqnEXatqg=s64",
      "userId": "13831218637705529605"
     },
     "user_tz": -180
    },
    "id": "8Q8XkV8Uc0d4",
    "outputId": "9eb3d44d-9b66-4327-b748-eee6051f70dd"
   },
   "outputs": [
    {
     "name": "stdout",
     "output_type": "stream",
     "text": [
      "[0, 8, 16, 24, 32]\n"
     ]
    }
   ],
   "source": [
    "digits_new = [i*8 for i in range(5)]\n",
    "print(digits_new)"
   ]
  },
  {
   "cell_type": "markdown",
   "metadata": {
    "id": "i6qQ9-lLgQHp"
   },
   "source": [
    "Можно в качестве исходной последовательности взять строку."
   ]
  },
  {
   "cell_type": "code",
   "execution_count": null,
   "metadata": {
    "colab": {
     "base_uri": "https://localhost:8080/"
    },
    "executionInfo": {
     "elapsed": 560,
     "status": "ok",
     "timestamp": 1608217087784,
     "user": {
      "displayName": "Anastasiia Chernysheva",
      "photoUrl": "https://lh3.googleusercontent.com/a-/AOh14GhHyHwY-PuMRWX3mjSyss6pojv4D8xrqnEXatqg=s64",
      "userId": "13831218637705529605"
     },
     "user_tz": -180
    },
    "id": "PnvXUuaZfN3C",
    "outputId": "f10f8962-44e5-4cbd-b11f-786afacc595f"
   },
   "outputs": [
    {
     "name": "stdout",
     "output_type": "stream",
     "text": [
      "['A', 'E', 'I', 'O', 'U']\n",
      "bcdfghjklmnpqrstvwxyz\n"
     ]
    }
   ],
   "source": [
    "vowels = \"aeiou\"\n",
    "alphabet = \"ABCDEFGHIJKLMNOPQRSTUVWXYZ\"\n",
    "alphabet_vows = [chr for chr in alphabet if chr.lower() in vowels]\n",
    "alphabet_cons = \"\".join([chr for chr in alphabet if chr.lower() not in vowels]).lower()\n",
    "print(alphabet_vows, alphabet_cons, sep=\"\\n\")"
   ]
  },
  {
   "cell_type": "markdown",
   "metadata": {
    "id": "Mv8XwbJogWrO"
   },
   "source": [
    "Используя списковые включения, будет удобно задать ввод списков с клавиатуры в одну строчку."
   ]
  },
  {
   "cell_type": "code",
   "execution_count": null,
   "metadata": {
    "colab": {
     "base_uri": "https://localhost:8080/"
    },
    "executionInfo": {
     "elapsed": 4345,
     "status": "ok",
     "timestamp": 1608217150100,
     "user": {
      "displayName": "Anastasiia Chernysheva",
      "photoUrl": "https://lh3.googleusercontent.com/a-/AOh14GhHyHwY-PuMRWX3mjSyss6pojv4D8xrqnEXatqg=s64",
      "userId": "13831218637705529605"
     },
     "user_tz": -180
    },
    "id": "V736RC-cgepV",
    "outputId": "e18e9e0d-dfd1-42e1-e648-8d975c16884d"
   },
   "outputs": [
    {
     "name": "stdout",
     "output_type": "stream",
     "text": [
      "1 2 3\n",
      "[1, 2, 3]\n"
     ]
    }
   ],
   "source": [
    "digits = [int(i) for i in input().split()]\n",
    "print(digits)"
   ]
  },
  {
   "cell_type": "markdown",
   "metadata": {
    "id": "H0mC1tSwn26S"
   },
   "source": [
    "Ввод двумерного списка с вложенными списками переменной длины."
   ]
  },
  {
   "cell_type": "code",
   "execution_count": null,
   "metadata": {
    "colab": {
     "base_uri": "https://localhost:8080/"
    },
    "executionInfo": {
     "elapsed": 9557,
     "status": "ok",
     "timestamp": 1608022807753,
     "user": {
      "displayName": "Anastasiia Chernysheva",
      "photoUrl": "https://lh3.googleusercontent.com/a-/AOh14GhHyHwY-PuMRWX3mjSyss6pojv4D8xrqnEXatqg=s64",
      "userId": "13831218637705529605"
     },
     "user_tz": -180
    },
    "id": "-yyHYwOomfbC",
    "outputId": "4ff93749-fa9a-4e86-d08f-34407a148d32"
   },
   "outputs": [
    {
     "name": "stdout",
     "output_type": "stream",
     "text": [
      "1 0 0 0\n",
      "2 5 6\n",
      "1\n",
      "[[1, 0, 0, 0], [2, 5, 6], [1]]\n"
     ]
    }
   ],
   "source": [
    "length = 3\n",
    "two_dim = [[int(i) for i in input().split()] for j in range(length)]\n",
    "print(two_dim)"
   ]
  },
  {
   "cell_type": "markdown",
   "metadata": {
    "id": "NAmEO67boXtj"
   },
   "source": [
    "Ввод двумерного списка с вложенными списками фиксированной длины."
   ]
  },
  {
   "cell_type": "code",
   "execution_count": null,
   "metadata": {
    "colab": {
     "base_uri": "https://localhost:8080/"
    },
    "executionInfo": {
     "elapsed": 10340,
     "status": "ok",
     "timestamp": 1608022785135,
     "user": {
      "displayName": "Anastasiia Chernysheva",
      "photoUrl": "https://lh3.googleusercontent.com/a-/AOh14GhHyHwY-PuMRWX3mjSyss6pojv4D8xrqnEXatqg=s64",
      "userId": "13831218637705529605"
     },
     "user_tz": -180
    },
    "id": "fdO1Idotn630",
    "outputId": "5ae066b0-d392-41de-ab5f-4e7c0db57f3c"
   },
   "outputs": [
    {
     "name": "stdout",
     "output_type": "stream",
     "text": [
      "1\n",
      "2\n",
      "3\n",
      "4\n",
      "5\n",
      "6\n",
      "7\n",
      "8\n",
      "9\n",
      "[[1, 2, 3], [4, 5, 6], [7, 8, 9]]\n"
     ]
    }
   ],
   "source": [
    "two_dim = [[int(input()) for i in range(length)] for j in range(length)]\n",
    "print(two_dim)"
   ]
  }
 ],
 "metadata": {
  "colab": {
   "authorship_tag": "ABX9TyMpHFYcnqJ1FUnTMNU7C2Tg",
   "provenance": []
  },
  "kernelspec": {
   "display_name": "Python 3",
   "name": "python3"
  }
 },
 "nbformat": 4,
 "nbformat_minor": 0
}
