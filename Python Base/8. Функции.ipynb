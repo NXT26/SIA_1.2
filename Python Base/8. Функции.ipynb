{
 "cells": [
  {
   "cell_type": "markdown",
   "metadata": {
    "id": "-AzJEEqE3OnW"
   },
   "source": [
    "# Функции"
   ]
  },
  {
   "cell_type": "markdown",
   "metadata": {
    "id": "MQqtI_Lk3Rzn"
   },
   "source": [
    "Довольно часто бывает так, что какая-то часть кода должна повториться в большой программе несколько раз. Чтобы не копировать код, были придуманы функции.\n",
    "\n",
    "\n",
    "> Функция - фрагмент кода, который выполняет какую-либо конкретную задачу. Функция имеет собственное имя и работает с собственными переменными.\n",
    "\n",
    "**Примеры**: разнообразные проверки, нестандартное преобразование данных и вообще любая небольшая подзадача, которую мы можем захотеть выполнить больше одного раза.\n",
    "\n"
   ]
  },
  {
   "cell_type": "markdown",
   "metadata": {
    "id": "aV9qz3XB56sY"
   },
   "source": [
    "## Объявление функции"
   ]
  },
  {
   "cell_type": "code",
   "execution_count": null,
   "metadata": {
    "id": "LVCgNqFB3Iwl"
   },
   "outputs": [],
   "source": [
    "def имя_функции():\n",
    "  код_функции"
   ]
  },
  {
   "cell_type": "markdown",
   "metadata": {
    "id": "oJOcbh585Rrw"
   },
   "source": [
    "\n",
    "\n",
    "> Код функции принято называть телом функции.\n",
    "\n"
   ]
  },
  {
   "cell_type": "code",
   "execution_count": null,
   "metadata": {
    "id": "m9V5pplQ5WQC"
   },
   "outputs": [],
   "source": [
    "def greeting():\n",
    "  print(\"Hi!\")"
   ]
  },
  {
   "cell_type": "code",
   "execution_count": null,
   "metadata": {
    "colab": {
     "base_uri": "https://localhost:8080/"
    },
    "executionInfo": {
     "elapsed": 519,
     "status": "ok",
     "timestamp": 1613484947881,
     "user": {
      "displayName": "Anastasiia Chernysheva",
      "photoUrl": "https://lh3.googleusercontent.com/a-/AOh14GhHyHwY-PuMRWX3mjSyss6pojv4D8xrqnEXatqg=s64",
      "userId": "13831218637705529605"
     },
     "user_tz": -180
    },
    "id": "6iVrf0B95gp5",
    "outputId": "f1ac4a61-4d0d-415e-a36a-3319d3dc14a8"
   },
   "outputs": [
    {
     "name": "stdout",
     "output_type": "stream",
     "text": [
      "Hi!\n"
     ]
    }
   ],
   "source": [
    "greeting()"
   ]
  },
  {
   "cell_type": "code",
   "execution_count": null,
   "metadata": {
    "colab": {
     "base_uri": "https://localhost:8080/"
    },
    "executionInfo": {
     "elapsed": 527,
     "status": "ok",
     "timestamp": 1613485086349,
     "user": {
      "displayName": "Anastasiia Chernysheva",
      "photoUrl": "https://lh3.googleusercontent.com/a-/AOh14GhHyHwY-PuMRWX3mjSyss6pojv4D8xrqnEXatqg=s64",
      "userId": "13831218637705529605"
     },
     "user_tz": -180
    },
    "id": "dtixa9VV5kJp",
    "outputId": "12701605-b4b5-45b7-c1f4-286b4ed9f3c5"
   },
   "outputs": [
    {
     "name": "stdout",
     "output_type": "stream",
     "text": [
      "Hi!\n",
      "Hi!\n",
      "Hi!\n",
      "Hi!\n",
      "Hi!\n"
     ]
    }
   ],
   "source": [
    "for i in range(5):\n",
    "  greeting()"
   ]
  },
  {
   "cell_type": "markdown",
   "metadata": {
    "id": "HxqdKO5L5rAj"
   },
   "source": [
    "\n",
    "\n",
    "> Функции принято отделять двумя пустыми строками от основоного кода.\n",
    "\n"
   ]
  },
  {
   "cell_type": "markdown",
   "metadata": {
    "id": "FmUq6NWJ6A_7"
   },
   "source": [
    "## Параметры функции"
   ]
  },
  {
   "cell_type": "markdown",
   "metadata": {
    "id": "oQgAFuRu6Ifa"
   },
   "source": [
    "Чаще всего функция обрабатывает некоторое значение, которое пришло из основного кода программы. Такое значение называется параметром.\n",
    "\n",
    "> ***Параметр функции*** — это значение, которое принимает в себя функция для дальнейшего использования.\n",
    "\n"
   ]
  },
  {
   "cell_type": "code",
   "execution_count": null,
   "metadata": {
    "id": "5MBClTJX526r"
   },
   "outputs": [],
   "source": [
    "def имя_функции(параметр_1, параметр_2):\n",
    "  тело_функции"
   ]
  },
  {
   "cell_type": "markdown",
   "metadata": {
    "id": "5xBtF9vK6kvz"
   },
   "source": [
    "Параметрам нужно давать имена. Эти имена будут использоваться в теле функции. Количество параметров может быть любым. Лучше не давать переменным вне функции такие же имена, как у параметров."
   ]
  },
  {
   "cell_type": "code",
   "execution_count": null,
   "metadata": {
    "colab": {
     "base_uri": "https://localhost:8080/"
    },
    "executionInfo": {
     "elapsed": 730,
     "status": "ok",
     "timestamp": 1613485470797,
     "user": {
      "displayName": "Anastasiia Chernysheva",
      "photoUrl": "https://lh3.googleusercontent.com/a-/AOh14GhHyHwY-PuMRWX3mjSyss6pojv4D8xrqnEXatqg=s64",
      "userId": "13831218637705529605"
     },
     "user_tz": -180
    },
    "id": "UpNd8Fw56yE_",
    "outputId": "8f228d16-d94a-4ead-fdc0-302a6637c35b"
   },
   "outputs": [
    {
     "name": "stdout",
     "output_type": "stream",
     "text": [
      "12\n"
     ]
    }
   ],
   "source": [
    "def summa(a, b):\n",
    "  print(a + b)\n",
    "\n",
    "\n",
    "summa(10, 2)"
   ]
  },
  {
   "cell_type": "markdown",
   "metadata": {
    "id": "DJ71z_dz69Lp"
   },
   "source": [
    "В этом примере `a` и `b` - параметры. 10 и 2 - аргументы функции. "
   ]
  },
  {
   "cell_type": "markdown",
   "metadata": {
    "id": "KnatfUim7bSE"
   },
   "source": [
    "## Возвращаемое значение"
   ]
  },
  {
   "cell_type": "markdown",
   "metadata": {
    "id": "Mu66Sn2N7d0g"
   },
   "source": [
    "Функция может не только принимать какие-то значения извне, но и возвращать. Для этого нужно использовать оператор **`return`**."
   ]
  },
  {
   "cell_type": "code",
   "execution_count": null,
   "metadata": {
    "id": "Ry1tn-K67nWu"
   },
   "outputs": [],
   "source": [
    "def имя_функции(параметр_1, параметр_2):\n",
    "  тело_функции\n",
    "  return значение1, значение2, значение3"
   ]
  },
  {
   "cell_type": "markdown",
   "metadata": {
    "id": "kOyy3x8m7vTe"
   },
   "source": [
    "После выполнения строчки с **`return`** функция завершается и мы двигаемся дальше по коду, который идет после функции.\n",
    "**`return`** может стоять в любом месте функции (особенно если в функции лежит цикл или условный оператор), а возвращаемых значений может быть больше одного (в таком случае функция возвращает кортеж значений)."
   ]
  },
  {
   "cell_type": "code",
   "execution_count": null,
   "metadata": {
    "colab": {
     "base_uri": "https://localhost:8080/"
    },
    "executionInfo": {
     "elapsed": 490,
     "status": "ok",
     "timestamp": 1613485909226,
     "user": {
      "displayName": "Anastasiia Chernysheva",
      "photoUrl": "https://lh3.googleusercontent.com/a-/AOh14GhHyHwY-PuMRWX3mjSyss6pojv4D8xrqnEXatqg=s64",
      "userId": "13831218637705529605"
     },
     "user_tz": -180
    },
    "id": "VX58l1q-8aNI",
    "outputId": "8e0a3ea6-5111-4e66-d4ad-f6e6fa287cce"
   },
   "outputs": [
    {
     "data": {
      "text/plain": [
       "12"
      ]
     },
     "execution_count": 35,
     "metadata": {
      "tags": []
     },
     "output_type": "execute_result"
    }
   ],
   "source": [
    "def summa(a, b):\n",
    "  return a + b\n",
    "\n",
    "\n",
    "s = summa(10, 2)\n",
    "s"
   ]
  },
  {
   "cell_type": "markdown",
   "metadata": {
    "id": "SbX7ZR2i8kCW"
   },
   "source": [
    "**`return`** хорошо использовать, если мы хотим дальше работать с тем значением, которое получаем при помощи функции. Мы можем результат работы функции сохранить в какую-нибудь переменную. Если мы не используем **`return`**, то и сделать это не можем. Обычно функции пишутся с мыслью, что возвращаемое значение все же будет в дальнейшем использоваться, т.е. с **`return`**."
   ]
  },
  {
   "cell_type": "code",
   "execution_count": null,
   "metadata": {
    "colab": {
     "base_uri": "https://localhost:8080/"
    },
    "executionInfo": {
     "elapsed": 457,
     "status": "ok",
     "timestamp": 1613487130088,
     "user": {
      "displayName": "Anastasiia Chernysheva",
      "photoUrl": "https://lh3.googleusercontent.com/a-/AOh14GhHyHwY-PuMRWX3mjSyss6pojv4D8xrqnEXatqg=s64",
      "userId": "13831218637705529605"
     },
     "user_tz": -180
    },
    "id": "ql2Zy-DTUkD_",
    "outputId": "65f74fcc-e263-4960-9582-ba023723b35e"
   },
   "outputs": [
    {
     "name": "stdout",
     "output_type": "stream",
     "text": [
      "10 2\n"
     ]
    }
   ],
   "source": [
    "def sum_diff(a, b):\n",
    "  return a + b, a - b\n",
    "\n",
    "\n",
    "s, d = sum_diff(10, 2)\n",
    "print(s, d)"
   ]
  },
  {
   "cell_type": "markdown",
   "metadata": {
    "id": "2AEsvA679X3_"
   },
   "source": [
    "## Глобальные и локальные переменные"
   ]
  },
  {
   "cell_type": "markdown",
   "metadata": {
    "id": "YBusRWWH9a0M"
   },
   "source": [
    "\n",
    "\n",
    "> ***Локальные переменные*** - те, которые используются только в теле функции. ***Глобальные*** - те, которые вводятся вне функции и используются вне функции.\n",
    "\n"
   ]
  },
  {
   "cell_type": "code",
   "execution_count": null,
   "metadata": {
    "colab": {
     "base_uri": "https://localhost:8080/",
     "height": 219
    },
    "executionInfo": {
     "elapsed": 536,
     "status": "error",
     "timestamp": 1613486273456,
     "user": {
      "displayName": "Anastasiia Chernysheva",
      "photoUrl": "https://lh3.googleusercontent.com/a-/AOh14GhHyHwY-PuMRWX3mjSyss6pojv4D8xrqnEXatqg=s64",
      "userId": "13831218637705529605"
     },
     "user_tz": -180
    },
    "id": "BEIfGKRr9qwp",
    "outputId": "0b1f762c-d27a-40b3-9974-89ab2de12034"
   },
   "outputs": [
    {
     "ename": "NameError",
     "evalue": "ignored",
     "output_type": "error",
     "traceback": [
      "\u001b[0;31m---------------------------------------------------------------------------\u001b[0m",
      "\u001b[0;31mNameError\u001b[0m                                 Traceback (most recent call last)",
      "\u001b[0;32m<ipython-input-39-b0fb6b0bc711>\u001b[0m in \u001b[0;36m<module>\u001b[0;34m()\u001b[0m\n\u001b[1;32m      4\u001b[0m \u001b[0;34m\u001b[0m\u001b[0m\n\u001b[1;32m      5\u001b[0m \u001b[0ms\u001b[0m \u001b[0;34m=\u001b[0m \u001b[0msumma\u001b[0m\u001b[0;34m(\u001b[0m\u001b[0;36m10\u001b[0m\u001b[0;34m,\u001b[0m \u001b[0;36m2\u001b[0m\u001b[0;34m)\u001b[0m\u001b[0;34m\u001b[0m\u001b[0;34m\u001b[0m\u001b[0m\n\u001b[0;32m----> 6\u001b[0;31m \u001b[0mprint\u001b[0m\u001b[0;34m(\u001b[0m\u001b[0ma\u001b[0m\u001b[0;34m,\u001b[0m \u001b[0mb\u001b[0m\u001b[0;34m)\u001b[0m\u001b[0;34m\u001b[0m\u001b[0;34m\u001b[0m\u001b[0m\n\u001b[0m\u001b[1;32m      7\u001b[0m \u001b[0mprint\u001b[0m\u001b[0;34m(\u001b[0m\u001b[0ms\u001b[0m\u001b[0;34m)\u001b[0m\u001b[0;34m\u001b[0m\u001b[0;34m\u001b[0m\u001b[0m\n",
      "\u001b[0;31mNameError\u001b[0m: name 'a' is not defined"
     ]
    }
   ],
   "source": [
    "def summa(a, b):\n",
    "  return a + b\n",
    "\n",
    "\n",
    "s = summa(10, 2)\n",
    "print(a, b)\n",
    "print(s)"
   ]
  },
  {
   "cell_type": "markdown",
   "metadata": {
    "id": "W-OhQIrQ94p0"
   },
   "source": [
    "Локальные переменные не могут использоваться вне функции. Глобальные могут использовться внутри функции, но во избежание непредвиденных последствий лучше этого не делать."
   ]
  },
  {
   "cell_type": "markdown",
   "metadata": {
    "id": "x-XAcPmdJARO"
   },
   "source": [
    "## Значения по умолчанию"
   ]
  },
  {
   "cell_type": "markdown",
   "metadata": {
    "id": "lLYt8B6eJHaa"
   },
   "source": [
    "Бывает так, что какие-то аргументы в функцию не передаются. Например, в функцию `print()` мы не передаем разделитель, и все значения выводятся через пробел. Это значит, что для функции `print()` именованный параметр `sep` по умолчанию равен пробелу.\n",
    "\n",
    "Задавать значения параметров по умолчанию можно и в собственных функциях."
   ]
  },
  {
   "cell_type": "code",
   "execution_count": null,
   "metadata": {
    "id": "dQrQr6mLJywU"
   },
   "outputs": [],
   "source": [
    "def имя_функции(параметр_1, параметр_2=значение):\n",
    "  тело_функции"
   ]
  },
  {
   "cell_type": "markdown",
   "metadata": {
    "id": "N348Fh8NJ8LO"
   },
   "source": [
    "*    В качестве значений по умолчанию можно использовать любой тип данных, однако словари и списки использовать не рекомендуется.\n",
    "*    Параметры со значением по умолчанию всегда указываются после всех параметров без значения по умолчанию.\n",
    "*    При вызове функции значение по умолчанию может быть переназначено.\n",
    "\n"
   ]
  },
  {
   "cell_type": "code",
   "execution_count": null,
   "metadata": {
    "id": "LejxgLhEKYe-"
   },
   "outputs": [],
   "source": [
    "def a_plus_b(a, b=0):\n",
    "  return a + b"
   ]
  },
  {
   "cell_type": "code",
   "execution_count": null,
   "metadata": {
    "colab": {
     "base_uri": "https://localhost:8080/"
    },
    "executionInfo": {
     "elapsed": 980,
     "status": "ok",
     "timestamp": 1614694718531,
     "user": {
      "displayName": "Anastasiia Chernysheva",
      "photoUrl": "https://lh3.googleusercontent.com/a-/AOh14GhHyHwY-PuMRWX3mjSyss6pojv4D8xrqnEXatqg=s64",
      "userId": "13831218637705529605"
     },
     "user_tz": -180
    },
    "id": "TF_KudtxKfPY",
    "outputId": "214e1646-d2af-4eeb-cf51-fc28a52d6d00"
   },
   "outputs": [
    {
     "name": "stdout",
     "output_type": "stream",
     "text": [
      "16\n",
      "100\n"
     ]
    }
   ],
   "source": [
    "print(a_plus_b(7, 9))\n",
    "print(a_plus_b(100))"
   ]
  },
  {
   "cell_type": "markdown",
   "metadata": {
    "id": "4l87vP9kK_89"
   },
   "source": [
    "## Позиционные и именованные аргументы"
   ]
  },
  {
   "cell_type": "markdown",
   "metadata": {
    "id": "OfoET7cpLEY7"
   },
   "source": [
    "\n",
    "\n",
    "> Позиционные аргументы важно передавать в той же последовательности, что и параметры, которые их обозначают.\n",
    "\n",
    "\n",
    "> Именованные аргументы можно передавать в любом порядке.\n",
    "\n",
    "\n",
    "> Сначала указываются все позиционные аргументы, потом именованные.\n",
    "\n",
    "\n",
    "\n",
    "\n",
    "\n"
   ]
  },
  {
   "cell_type": "code",
   "execution_count": null,
   "metadata": {
    "id": "Ht6CsqUJLxoJ"
   },
   "outputs": [],
   "source": [
    "def a_minus_b(a, b):\n",
    "  return a - b"
   ]
  },
  {
   "cell_type": "code",
   "execution_count": null,
   "metadata": {
    "colab": {
     "base_uri": "https://localhost:8080/"
    },
    "executionInfo": {
     "elapsed": 602,
     "status": "ok",
     "timestamp": 1614262918173,
     "user": {
      "displayName": "Anastasiia Chernysheva",
      "photoUrl": "https://lh3.googleusercontent.com/a-/AOh14GhHyHwY-PuMRWX3mjSyss6pojv4D8xrqnEXatqg=s64",
      "userId": "13831218637705529605"
     },
     "user_tz": -180
    },
    "id": "Zva56XiqMExq",
    "outputId": "bda84c5f-d3b7-482e-de38-7cd058e306ef"
   },
   "outputs": [
    {
     "data": {
      "text/plain": [
       "8"
      ]
     },
     "execution_count": 52,
     "metadata": {
      "tags": []
     },
     "output_type": "execute_result"
    }
   ],
   "source": [
    "a_minus_b(10, 2)"
   ]
  },
  {
   "cell_type": "code",
   "execution_count": null,
   "metadata": {
    "colab": {
     "base_uri": "https://localhost:8080/"
    },
    "executionInfo": {
     "elapsed": 693,
     "status": "ok",
     "timestamp": 1614262932019,
     "user": {
      "displayName": "Anastasiia Chernysheva",
      "photoUrl": "https://lh3.googleusercontent.com/a-/AOh14GhHyHwY-PuMRWX3mjSyss6pojv4D8xrqnEXatqg=s64",
      "userId": "13831218637705529605"
     },
     "user_tz": -180
    },
    "id": "hXqwLwWVMV8N",
    "outputId": "21fe2096-2d95-48c9-c663-8e55f3c0640a"
   },
   "outputs": [
    {
     "data": {
      "text/plain": [
       "-8"
      ]
     },
     "execution_count": 53,
     "metadata": {
      "tags": []
     },
     "output_type": "execute_result"
    }
   ],
   "source": [
    "a_minus_b(2, 10)"
   ]
  },
  {
   "cell_type": "code",
   "execution_count": null,
   "metadata": {
    "colab": {
     "base_uri": "https://localhost:8080/"
    },
    "executionInfo": {
     "elapsed": 783,
     "status": "ok",
     "timestamp": 1614262951995,
     "user": {
      "displayName": "Anastasiia Chernysheva",
      "photoUrl": "https://lh3.googleusercontent.com/a-/AOh14GhHyHwY-PuMRWX3mjSyss6pojv4D8xrqnEXatqg=s64",
      "userId": "13831218637705529605"
     },
     "user_tz": -180
    },
    "id": "JKK-uURFMYrO",
    "outputId": "eb458711-5cb2-4533-ea8f-0e717b4158e8"
   },
   "outputs": [
    {
     "data": {
      "text/plain": [
       "10"
      ]
     },
     "execution_count": 54,
     "metadata": {
      "tags": []
     },
     "output_type": "execute_result"
    }
   ],
   "source": [
    "a_minus_b(a=12, b=2)"
   ]
  },
  {
   "cell_type": "code",
   "execution_count": null,
   "metadata": {
    "colab": {
     "base_uri": "https://localhost:8080/"
    },
    "executionInfo": {
     "elapsed": 568,
     "status": "ok",
     "timestamp": 1614262971663,
     "user": {
      "displayName": "Anastasiia Chernysheva",
      "photoUrl": "https://lh3.googleusercontent.com/a-/AOh14GhHyHwY-PuMRWX3mjSyss6pojv4D8xrqnEXatqg=s64",
      "userId": "13831218637705529605"
     },
     "user_tz": -180
    },
    "id": "nVqqdrKRMdcD",
    "outputId": "265308c1-14a5-44c9-d5ac-cbb5797b23a4"
   },
   "outputs": [
    {
     "data": {
      "text/plain": [
       "10"
      ]
     },
     "execution_count": 55,
     "metadata": {
      "tags": []
     },
     "output_type": "execute_result"
    }
   ],
   "source": [
    "a_minus_b(b=2, a=12)"
   ]
  },
  {
   "cell_type": "markdown",
   "metadata": {
    "id": "XBjA4Ym3MlmW"
   },
   "source": [
    "Можно часть аргументов указать как позиционые, а часть - как именованные. Так мы делаем в той же функции `print()`."
   ]
  },
  {
   "cell_type": "markdown",
   "metadata": {
    "id": "SzZQ_Ps-M3Bl"
   },
   "source": [
    "**Порядок передачи аргументов в функцию**\n",
    "\n",
    "\n",
    "\n",
    "1.   Первые слоты параметров заполняют позиционные аргументы.\n",
    "2.   Заполняются именованные аргументы, слот определяется именем.\n",
    "3.   Оставшиеся слоты заполняются значениями по умолчанию.\n",
    "\n"
   ]
  },
  {
   "cell_type": "markdown",
   "metadata": {
    "id": "0L9wDYN7NaJQ"
   },
   "source": [
    "![image.png](data:image/png;base64,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)"
   ]
  },
  {
   "cell_type": "markdown",
   "metadata": {
    "id": "Nm7oszM0NdQL"
   },
   "source": [
    "Могут возникать ошибки:\n",
    "\n",
    "\n",
    "*   при заполнении уже заполненного слота\n",
    "*   если слотов оказалось больше, чем аргументов\n",
    "*   если аргументов слишком много\n",
    "\n"
   ]
  },
  {
   "cell_type": "markdown",
   "metadata": {
    "id": "xOL7JtPfN0ps"
   },
   "source": [
    "## Переменное количество параметров"
   ]
  },
  {
   "cell_type": "markdown",
   "metadata": {
    "id": "BLptCFF4ONJE"
   },
   "source": [
    "Если мы не знаем точно, сколько аргументов должна будет обработать функция, можно использоваться специальные контейнеры, которые будут готовы к любому количеству аргументов. Такие контейнеры называются **операторами распаковки**.\n",
    "\n",
    "Операторы распаковки обозначаются звездочкой и бывают двух видов:\n",
    "\n",
    "\n",
    "1.   `*args` - для позиционных аргументов\n",
    "2.   `**kwargs` - для именованных аргументов\n",
    "\n",
    "Называть операторы распаковки не обязательно `args` и `kwargs`, главное - указать правильное количество звездочек.\n",
    "\n",
    "\n",
    "\n",
    "> Операторы распаковки используют, например, встроенные функции `min()`, `max()`, `print()`, `sum()`.\n",
    "\n",
    "\n",
    "\n"
   ]
  },
  {
   "cell_type": "code",
   "execution_count": null,
   "metadata": {
    "id": "5CLE46X_Pe1e"
   },
   "outputs": [],
   "source": [
    "def a_plus_b(a, *numbers):\n",
    "  print(numbers)\n",
    "  return a + sum(numbers)"
   ]
  },
  {
   "cell_type": "code",
   "execution_count": null,
   "metadata": {
    "colab": {
     "base_uri": "https://localhost:8080/"
    },
    "executionInfo": {
     "elapsed": 536,
     "status": "ok",
     "timestamp": 1614695498470,
     "user": {
      "displayName": "Anastasiia Chernysheva",
      "photoUrl": "https://lh3.googleusercontent.com/a-/AOh14GhHyHwY-PuMRWX3mjSyss6pojv4D8xrqnEXatqg=s64",
      "userId": "13831218637705529605"
     },
     "user_tz": -180
    },
    "id": "C8yM10LkQAFy",
    "outputId": "4a061d59-97cd-42ae-d4fb-e1e04030d377"
   },
   "outputs": [
    {
     "name": "stdout",
     "output_type": "stream",
     "text": [
      "(2, 3, 4)\n"
     ]
    },
    {
     "data": {
      "text/plain": [
       "10"
      ]
     },
     "execution_count": 6,
     "metadata": {
      "tags": []
     },
     "output_type": "execute_result"
    }
   ],
   "source": [
    "a_plus_b(1, 2, 3, 4)"
   ]
  },
  {
   "cell_type": "code",
   "execution_count": null,
   "metadata": {
    "colab": {
     "base_uri": "https://localhost:8080/"
    },
    "executionInfo": {
     "elapsed": 481,
     "status": "ok",
     "timestamp": 1614263605984,
     "user": {
      "displayName": "Anastasiia Chernysheva",
      "photoUrl": "https://lh3.googleusercontent.com/a-/AOh14GhHyHwY-PuMRWX3mjSyss6pojv4D8xrqnEXatqg=s64",
      "userId": "13831218637705529605"
     },
     "user_tz": -180
    },
    "id": "OPkvJhEBQEhi",
    "outputId": "4a591baf-d018-47a2-c104-45a1033ecfdc"
   },
   "outputs": [
    {
     "name": "stdout",
     "output_type": "stream",
     "text": [
      "(2,)\n"
     ]
    },
    {
     "data": {
      "text/plain": [
       "3"
      ]
     },
     "execution_count": 58,
     "metadata": {
      "tags": []
     },
     "output_type": "execute_result"
    }
   ],
   "source": [
    "a_plus_b(1, 2)"
   ]
  },
  {
   "cell_type": "code",
   "execution_count": null,
   "metadata": {
    "colab": {
     "base_uri": "https://localhost:8080/"
    },
    "executionInfo": {
     "elapsed": 473,
     "status": "ok",
     "timestamp": 1614263612092,
     "user": {
      "displayName": "Anastasiia Chernysheva",
      "photoUrl": "https://lh3.googleusercontent.com/a-/AOh14GhHyHwY-PuMRWX3mjSyss6pojv4D8xrqnEXatqg=s64",
      "userId": "13831218637705529605"
     },
     "user_tz": -180
    },
    "id": "y2EQr6UUQMYJ",
    "outputId": "c0a77720-fa2a-4322-b009-e59528a39be5"
   },
   "outputs": [
    {
     "name": "stdout",
     "output_type": "stream",
     "text": [
      "()\n"
     ]
    },
    {
     "data": {
      "text/plain": [
       "2"
      ]
     },
     "execution_count": 59,
     "metadata": {
      "tags": []
     },
     "output_type": "execute_result"
    }
   ],
   "source": [
    "a_plus_b(2)"
   ]
  },
  {
   "cell_type": "code",
   "execution_count": null,
   "metadata": {
    "id": "PTwe1f8NQRGC"
   },
   "outputs": [],
   "source": [
    "def print_info(**fields):\n",
    "  for key, value in fields.items():\n",
    "    print(f'{key} - {value}')"
   ]
  },
  {
   "cell_type": "code",
   "execution_count": null,
   "metadata": {
    "colab": {
     "base_uri": "https://localhost:8080/"
    },
    "executionInfo": {
     "elapsed": 582,
     "status": "ok",
     "timestamp": 1614695634365,
     "user": {
      "displayName": "Anastasiia Chernysheva",
      "photoUrl": "https://lh3.googleusercontent.com/a-/AOh14GhHyHwY-PuMRWX3mjSyss6pojv4D8xrqnEXatqg=s64",
      "userId": "13831218637705529605"
     },
     "user_tz": -180
    },
    "id": "IynXWjqPRWW9",
    "outputId": "8fdd13a7-fd84-4561-b668-07dee339ed56"
   },
   "outputs": [
    {
     "name": "stdout",
     "output_type": "stream",
     "text": [
      "item - солнце\n",
      "colour - желтое\n",
      "r - 2345\n"
     ]
    }
   ],
   "source": [
    "print_info(item=\"солнце\", colour=\"желтое\", r=2345)"
   ]
  },
  {
   "cell_type": "markdown",
   "metadata": {
    "id": "0bCTVb9hRsgX"
   },
   "source": [
    "\n",
    "\n",
    "> Контейнер позиционных аргументов - это кортеж, именованных - словарь.\n",
    "\n",
    "> Если нужно использовать оба вида контейнеров, сначала указывается `*args`, потом `**kwargs`.\n",
    "\n",
    "\n",
    "\n"
   ]
  },
  {
   "cell_type": "code",
   "execution_count": null,
   "metadata": {
    "id": "o-bZ7RMiSYPn"
   },
   "outputs": [],
   "source": [
    "def func(a, b, *args, **kwargs):\n",
    "  pass"
   ]
  },
  {
   "cell_type": "markdown",
   "metadata": {
    "id": "6ey5rIBUSfrv"
   },
   "source": [
    "\n",
    "\n",
    "> `pass` - оператор, который говорит, что функция ничего не делает и ее можно пропустить.\n",
    "\n"
   ]
  },
  {
   "cell_type": "markdown",
   "metadata": {
    "id": "MqplUzhC-X5r"
   },
   "source": [
    "## Встроенные функции Python"
   ]
  },
  {
   "cell_type": "markdown",
   "metadata": {
    "id": "h7cC2BO3-eZB"
   },
   "source": [
    "\n",
    "\n",
    "*   `input()` - ввод значения\n",
    "*   `print()` - вывод значения\n",
    "*   `abs()` - модуль числа\n",
    "*   `divmod()` - деление числа нацело и возвращение частного и остатка\n",
    "*   `max()` - максимальное изначение из набора\n",
    "*   `min()` - минимальное значение из набора\n",
    "*   `pow()` - возведение в степень \n",
    "*   `round()` - округление числа\n",
    "*   `len()` - количество элементов в наборе\n",
    "*   `sum()` - сумма всех элементов\n",
    "*   `reversed()` - разворот набора\n",
    "*   `sorted()` - сортировка набора\n",
    "\n"
   ]
  },
  {
   "cell_type": "code",
   "execution_count": null,
   "metadata": {
    "colab": {
     "base_uri": "https://localhost:8080/"
    },
    "executionInfo": {
     "elapsed": 595,
     "status": "ok",
     "timestamp": 1613481670882,
     "user": {
      "displayName": "Anastasiia Chernysheva",
      "photoUrl": "https://lh3.googleusercontent.com/a-/AOh14GhHyHwY-PuMRWX3mjSyss6pojv4D8xrqnEXatqg=s64",
      "userId": "13831218637705529605"
     },
     "user_tz": -180
    },
    "id": "_-HfoUbU_wsz",
    "outputId": "190c0a29-542c-4ada-881d-164d41edab3e"
   },
   "outputs": [
    {
     "name": "stdout",
     "output_type": "stream",
     "text": [
      "4\n"
     ]
    }
   ],
   "source": [
    "print(abs(-4))"
   ]
  },
  {
   "cell_type": "code",
   "execution_count": null,
   "metadata": {
    "colab": {
     "base_uri": "https://localhost:8080/"
    },
    "executionInfo": {
     "elapsed": 500,
     "status": "ok",
     "timestamp": 1613486542718,
     "user": {
      "displayName": "Anastasiia Chernysheva",
      "photoUrl": "https://lh3.googleusercontent.com/a-/AOh14GhHyHwY-PuMRWX3mjSyss6pojv4D8xrqnEXatqg=s64",
      "userId": "13831218637705529605"
     },
     "user_tz": -180
    },
    "id": "O0P1Aa7N_-kR",
    "outputId": "9d6ebe02-549f-40c7-eb59-fa971835dea4"
   },
   "outputs": [
    {
     "name": "stdout",
     "output_type": "stream",
     "text": [
      "(5, 0)\n"
     ]
    }
   ],
   "source": [
    "print(divmod(10, 2))"
   ]
  },
  {
   "cell_type": "code",
   "execution_count": null,
   "metadata": {
    "colab": {
     "base_uri": "https://localhost:8080/"
    },
    "executionInfo": {
     "elapsed": 482,
     "status": "ok",
     "timestamp": 1613486630045,
     "user": {
      "displayName": "Anastasiia Chernysheva",
      "photoUrl": "https://lh3.googleusercontent.com/a-/AOh14GhHyHwY-PuMRWX3mjSyss6pojv4D8xrqnEXatqg=s64",
      "userId": "13831218637705529605"
     },
     "user_tz": -180
    },
    "id": "qcaz4-9nAFH2",
    "outputId": "c28d4685-beab-49d1-bddc-8b74521c2dab"
   },
   "outputs": [
    {
     "name": "stdout",
     "output_type": "stream",
     "text": [
      "81\n"
     ]
    }
   ],
   "source": [
    "print(pow(9, 2))"
   ]
  },
  {
   "cell_type": "code",
   "execution_count": null,
   "metadata": {
    "colab": {
     "base_uri": "https://localhost:8080/"
    },
    "executionInfo": {
     "elapsed": 600,
     "status": "ok",
     "timestamp": 1613486767678,
     "user": {
      "displayName": "Anastasiia Chernysheva",
      "photoUrl": "https://lh3.googleusercontent.com/a-/AOh14GhHyHwY-PuMRWX3mjSyss6pojv4D8xrqnEXatqg=s64",
      "userId": "13831218637705529605"
     },
     "user_tz": -180
    },
    "id": "J0k6X5jTANLh",
    "outputId": "1bb695fb-5696-4dd4-c701-a2745d705e03"
   },
   "outputs": [
    {
     "name": "stdout",
     "output_type": "stream",
     "text": [
      "10.234\n"
     ]
    }
   ],
   "source": [
    "print(round(10.2342342, 3))"
   ]
  },
  {
   "cell_type": "markdown",
   "metadata": {
    "id": "WMqYOK0YSvjf"
   },
   "source": [
    "\n",
    "\n",
    "*   `bin()` - переводит число в двоичную систему счисления\n",
    "*   `oct()` - переводит число в восьмеричную систему счисления\n",
    "*   `hex()` - переводит число в шестнадцатеричную систему счисления\n",
    "*   `int()` - переводит значение в целое десятичное число\n",
    "*   `type()` - определяет тип данных\n",
    "\n"
   ]
  },
  {
   "cell_type": "code",
   "execution_count": null,
   "metadata": {
    "colab": {
     "base_uri": "https://localhost:8080/"
    },
    "executionInfo": {
     "elapsed": 597,
     "status": "ok",
     "timestamp": 1614264006751,
     "user": {
      "displayName": "Anastasiia Chernysheva",
      "photoUrl": "https://lh3.googleusercontent.com/a-/AOh14GhHyHwY-PuMRWX3mjSyss6pojv4D8xrqnEXatqg=s64",
      "userId": "13831218637705529605"
     },
     "user_tz": -180
    },
    "id": "mNg49-5dTaB7",
    "outputId": "c26b0768-f172-4105-ce20-17f539b77f34"
   },
   "outputs": [
    {
     "name": "stdout",
     "output_type": "stream",
     "text": [
      "0b1111011\n"
     ]
    }
   ],
   "source": [
    "a = 123\n",
    "a_2 = bin(a)\n",
    "print(a_2)"
   ]
  },
  {
   "cell_type": "code",
   "execution_count": null,
   "metadata": {
    "colab": {
     "base_uri": "https://localhost:8080/"
    },
    "executionInfo": {
     "elapsed": 629,
     "status": "ok",
     "timestamp": 1614264029893,
     "user": {
      "displayName": "Anastasiia Chernysheva",
      "photoUrl": "https://lh3.googleusercontent.com/a-/AOh14GhHyHwY-PuMRWX3mjSyss6pojv4D8xrqnEXatqg=s64",
      "userId": "13831218637705529605"
     },
     "user_tz": -180
    },
    "id": "ZrBZ-vBuTpQz",
    "outputId": "57e4c8ed-6c89-41e6-d314-32c4c0aa0666"
   },
   "outputs": [
    {
     "data": {
      "text/plain": [
       "str"
      ]
     },
     "execution_count": 64,
     "metadata": {
      "tags": []
     },
     "output_type": "execute_result"
    }
   ],
   "source": [
    "type(a_2)"
   ]
  },
  {
   "cell_type": "code",
   "execution_count": null,
   "metadata": {
    "colab": {
     "base_uri": "https://localhost:8080/"
    },
    "executionInfo": {
     "elapsed": 528,
     "status": "ok",
     "timestamp": 1614264071248,
     "user": {
      "displayName": "Anastasiia Chernysheva",
      "photoUrl": "https://lh3.googleusercontent.com/a-/AOh14GhHyHwY-PuMRWX3mjSyss6pojv4D8xrqnEXatqg=s64",
      "userId": "13831218637705529605"
     },
     "user_tz": -180
    },
    "id": "t_U0ENZcTthf",
    "outputId": "06e663b9-29e3-49ea-b939-05598d02cf07"
   },
   "outputs": [
    {
     "data": {
      "text/plain": [
       "123"
      ]
     },
     "execution_count": 65,
     "metadata": {
      "tags": []
     },
     "output_type": "execute_result"
    }
   ],
   "source": [
    "int(a_2, base=2)"
   ]
  },
  {
   "cell_type": "code",
   "execution_count": null,
   "metadata": {
    "colab": {
     "base_uri": "https://localhost:8080/"
    },
    "executionInfo": {
     "elapsed": 578,
     "status": "ok",
     "timestamp": 1614264083197,
     "user": {
      "displayName": "Anastasiia Chernysheva",
      "photoUrl": "https://lh3.googleusercontent.com/a-/AOh14GhHyHwY-PuMRWX3mjSyss6pojv4D8xrqnEXatqg=s64",
      "userId": "13831218637705529605"
     },
     "user_tz": -180
    },
    "id": "qefUD6QLT4LP",
    "outputId": "cb9d0442-1b34-4f75-c258-ffa40fd4a218"
   },
   "outputs": [
    {
     "name": "stdout",
     "output_type": "stream",
     "text": [
      "0o173\n"
     ]
    },
    {
     "data": {
      "text/plain": [
       "123"
      ]
     },
     "execution_count": 66,
     "metadata": {
      "tags": []
     },
     "output_type": "execute_result"
    }
   ],
   "source": [
    "a_8 = oct(a)\n",
    "print(a_8)\n",
    "int(a_8, base=8)"
   ]
  },
  {
   "cell_type": "code",
   "execution_count": null,
   "metadata": {
    "colab": {
     "base_uri": "https://localhost:8080/"
    },
    "executionInfo": {
     "elapsed": 631,
     "status": "ok",
     "timestamp": 1614258684410,
     "user": {
      "displayName": "Anastasiia Chernysheva",
      "photoUrl": "https://lh3.googleusercontent.com/a-/AOh14GhHyHwY-PuMRWX3mjSyss6pojv4D8xrqnEXatqg=s64",
      "userId": "13831218637705529605"
     },
     "user_tz": -180
    },
    "id": "ogEKPdOxUGiS",
    "outputId": "a3be4477-6009-402a-8eba-f03f12fb3fa4"
   },
   "outputs": [
    {
     "name": "stdout",
     "output_type": "stream",
     "text": [
      "0x7b\n"
     ]
    },
    {
     "data": {
      "text/plain": [
       "123"
      ]
     },
     "execution_count": 22,
     "metadata": {
      "tags": []
     },
     "output_type": "execute_result"
    }
   ],
   "source": [
    "a_16 = hex(a)\n",
    "print(a_16)\n",
    "int(a_8, base=16)"
   ]
  },
  {
   "cell_type": "markdown",
   "metadata": {
    "id": "JVWyAnzKUPLP"
   },
   "source": [
    "\n",
    "\n",
    "> С помощью функции `int()` можно переводить числа из систем счисления с основаниями от 2 до 36.\n",
    "\n"
   ]
  },
  {
   "cell_type": "markdown",
   "metadata": {
    "id": "VSPi2O1hUcGH"
   },
   "source": [
    "\n",
    "Функции, переводящие значения в одноименные типы данных:\n",
    "*   `str()` - строка\n",
    "*   `float()` - вещественное число\n",
    "*   `bool()` - логическое значение\n",
    "*   `list()` - список\n",
    "*   `set()` - множество\n",
    "*   `dict()` - словарь\n",
    "*   `tuple()` - кортеж\n",
    "\n",
    "\n"
   ]
  },
  {
   "cell_type": "markdown",
   "metadata": {
    "id": "-uCOoM3RpG5q"
   },
   "source": [
    "*   `ord()` - дает код буквы в таблице Unicode\n",
    "*   `chr()` - дает букву по коду из таблицы Unicode"
   ]
  },
  {
   "cell_type": "markdown",
   "metadata": {
    "id": "GP-MbAYUU8UV"
   },
   "source": [
    "Функции, о которых часто забывают:\n",
    "\n",
    "\n",
    "*   `all()` - проверяет, что все значения равны `True` или приводятся к нему\n",
    "*   `any()` - проверяет, что хотя бы одно значение равны `True` или приводится к нему\n",
    "\n"
   ]
  },
  {
   "cell_type": "code",
   "execution_count": null,
   "metadata": {
    "id": "yjouCXnyV1PY"
   },
   "outputs": [],
   "source": [
    "letters = [\"a\", \"b\", \"c\"]\n",
    "numbers = [0, 0]\n",
    "boleans = [True, False, True]"
   ]
  },
  {
   "cell_type": "code",
   "execution_count": null,
   "metadata": {
    "colab": {
     "base_uri": "https://localhost:8080/"
    },
    "executionInfo": {
     "elapsed": 631,
     "status": "ok",
     "timestamp": 1614696545735,
     "user": {
      "displayName": "Anastasiia Chernysheva",
      "photoUrl": "https://lh3.googleusercontent.com/a-/AOh14GhHyHwY-PuMRWX3mjSyss6pojv4D8xrqnEXatqg=s64",
      "userId": "13831218637705529605"
     },
     "user_tz": -180
    },
    "id": "uMqHzx1TV_7E",
    "outputId": "c859b9ec-8b8d-4116-aef8-9cf7685f30e4"
   },
   "outputs": [
    {
     "name": "stdout",
     "output_type": "stream",
     "text": [
      "True\n",
      "False\n",
      "False\n"
     ]
    }
   ],
   "source": [
    "print(all(letters))\n",
    "print(all(numbers))\n",
    "print(all(boleans))"
   ]
  },
  {
   "cell_type": "code",
   "execution_count": null,
   "metadata": {
    "colab": {
     "base_uri": "https://localhost:8080/"
    },
    "executionInfo": {
     "elapsed": 560,
     "status": "ok",
     "timestamp": 1614264378474,
     "user": {
      "displayName": "Anastasiia Chernysheva",
      "photoUrl": "https://lh3.googleusercontent.com/a-/AOh14GhHyHwY-PuMRWX3mjSyss6pojv4D8xrqnEXatqg=s64",
      "userId": "13831218637705529605"
     },
     "user_tz": -180
    },
    "id": "0UbQcY7xWJ5F",
    "outputId": "cbf43d7a-7e02-46c1-ff72-bd31c50015be"
   },
   "outputs": [
    {
     "name": "stdout",
     "output_type": "stream",
     "text": [
      "True\n",
      "False\n",
      "True\n"
     ]
    }
   ],
   "source": [
    "print(any(letters))\n",
    "print(any(numbers))\n",
    "print(any(boleans))"
   ]
  },
  {
   "cell_type": "markdown",
   "metadata": {
    "id": "JGMAUH3mWQns"
   },
   "source": [
    "\n",
    "\n",
    "*   `enumerate()` - возвращает набор кортежей, состоящих из порядкового номера элемента и самого элемента, часто используется в циклах\n",
    "*   `filter()` - фильтрует значения по заданному правилу (правило задаётся в виде функции, которая возвращает `True` или `False`)\n",
    "*   `map()` - преобразовывает значения в наборе по заданному правилу (правило задаётся в виде функции)\n",
    "*   `zip()` - склеивает несколько наборов в один. Результатом склейки является набор из кортежей, где первым элементом является элемент из первого набора, вторым элементом — элемент из второго набора и т.д.\n",
    "\n"
   ]
  },
  {
   "cell_type": "code",
   "execution_count": null,
   "metadata": {
    "colab": {
     "base_uri": "https://localhost:8080/"
    },
    "executionInfo": {
     "elapsed": 514,
     "status": "ok",
     "timestamp": 1614696686274,
     "user": {
      "displayName": "Anastasiia Chernysheva",
      "photoUrl": "https://lh3.googleusercontent.com/a-/AOh14GhHyHwY-PuMRWX3mjSyss6pojv4D8xrqnEXatqg=s64",
      "userId": "13831218637705529605"
     },
     "user_tz": -180
    },
    "id": "Ych7dox9WsrO",
    "outputId": "aa7a6283-24d6-475f-92a6-a6b4fa5bad1f"
   },
   "outputs": [
    {
     "name": "stdout",
     "output_type": "stream",
     "text": [
      "(0, 'a') (1, 'b') (2, 'c')\n"
     ]
    },
    {
     "data": {
      "text/plain": [
       "[(0, 'a'), (1, 'b'), (2, 'c')]"
      ]
     },
     "execution_count": 12,
     "metadata": {
      "tags": []
     },
     "output_type": "execute_result"
    }
   ],
   "source": [
    "letters = [\"a\", \"b\", \"c\"]\n",
    "print(*enumerate(letters))\n",
    "en_let = list(enumerate(letters))\n",
    "en_let"
   ]
  },
  {
   "cell_type": "code",
   "execution_count": null,
   "metadata": {
    "id": "qmzeDVu6W-Li"
   },
   "outputs": [],
   "source": [
    "def greater_than5(x):\n",
    "  return x > 5"
   ]
  },
  {
   "cell_type": "code",
   "execution_count": null,
   "metadata": {
    "colab": {
     "base_uri": "https://localhost:8080/"
    },
    "executionInfo": {
     "elapsed": 476,
     "status": "ok",
     "timestamp": 1614264582026,
     "user": {
      "displayName": "Anastasiia Chernysheva",
      "photoUrl": "https://lh3.googleusercontent.com/a-/AOh14GhHyHwY-PuMRWX3mjSyss6pojv4D8xrqnEXatqg=s64",
      "userId": "13831218637705529605"
     },
     "user_tz": -180
    },
    "id": "DjtO4YpmXQeS",
    "outputId": "78874cf3-a3e3-447c-b6ec-3de6ec5b7bda"
   },
   "outputs": [
    {
     "name": "stdout",
     "output_type": "stream",
     "text": [
      "10 13\n"
     ]
    },
    {
     "data": {
      "text/plain": [
       "[10, 13]"
      ]
     },
     "execution_count": 75,
     "metadata": {
      "tags": []
     },
     "output_type": "execute_result"
    }
   ],
   "source": [
    "numbers = [10, 2, 13, 0]\n",
    "print(*filter(greater_than5, numbers))\n",
    "filtered = list(filter(greater_than5, numbers))\n",
    "filtered"
   ]
  },
  {
   "cell_type": "code",
   "execution_count": null,
   "metadata": {
    "colab": {
     "base_uri": "https://localhost:8080/"
    },
    "executionInfo": {
     "elapsed": 520,
     "status": "ok",
     "timestamp": 1614696881243,
     "user": {
      "displayName": "Anastasiia Chernysheva",
      "photoUrl": "https://lh3.googleusercontent.com/a-/AOh14GhHyHwY-PuMRWX3mjSyss6pojv4D8xrqnEXatqg=s64",
      "userId": "13831218637705529605"
     },
     "user_tz": -180
    },
    "id": "FScCHBBMXiND",
    "outputId": "b43d1d67-ddd4-48e2-b688-104cfce47c38"
   },
   "outputs": [
    {
     "name": "stdout",
     "output_type": "stream",
     "text": [
      "0b1010 0b10 0b1101 0b0\n",
      "['0b1010', '0b10', '0b1101', '0b0']\n"
     ]
    }
   ],
   "source": [
    "numbers = [10, 2, 13, 0]\n",
    "print(*map(bin, numbers))\n",
    "mapped = list(map(bin, numbers))\n",
    "print(mapped)"
   ]
  },
  {
   "cell_type": "code",
   "execution_count": null,
   "metadata": {
    "colab": {
     "base_uri": "https://localhost:8080/"
    },
    "executionInfo": {
     "elapsed": 453,
     "status": "ok",
     "timestamp": 1614264712764,
     "user": {
      "displayName": "Anastasiia Chernysheva",
      "photoUrl": "https://lh3.googleusercontent.com/a-/AOh14GhHyHwY-PuMRWX3mjSyss6pojv4D8xrqnEXatqg=s64",
      "userId": "13831218637705529605"
     },
     "user_tz": -180
    },
    "id": "TLrNYEkHYOnh",
    "outputId": "05b21797-52a8-492e-ea48-681990936cfd"
   },
   "outputs": [
    {
     "name": "stdout",
     "output_type": "stream",
     "text": [
      "(10, 'a') (2, 'b') (13, 'c')\n"
     ]
    },
    {
     "data": {
      "text/plain": [
       "[(10, 'a'), (2, 'b'), (13, 'c')]"
      ]
     },
     "execution_count": 77,
     "metadata": {
      "tags": []
     },
     "output_type": "execute_result"
    }
   ],
   "source": [
    "numbers = [10, 2, 13, 0]\n",
    "letters = [\"a\", \"b\", \"c\"]\n",
    "print(*zip(numbers, letters))\n",
    "zipped = list(zip(numbers, letters))\n",
    "zipped"
   ]
  },
  {
   "cell_type": "markdown",
   "metadata": {
    "id": "9i6kent_ctLA"
   },
   "source": [
    "## lambda-функции"
   ]
  },
  {
   "cell_type": "markdown",
   "metadata": {
    "id": "zIEPUsW9cyAo"
   },
   "source": [
    "`lambda`-функции - это простые функции в Python, состоящие из одного действия. Они не создаются через `def` и не занимают больше одной строки. "
   ]
  },
  {
   "cell_type": "code",
   "execution_count": 1,
   "metadata": {
    "executionInfo": {
     "elapsed": 679,
     "status": "ok",
     "timestamp": 1615469078557,
     "user": {
      "displayName": "Anastasiia Chernysheva",
      "photoUrl": "https://lh3.googleusercontent.com/a-/AOh14GhHyHwY-PuMRWX3mjSyss6pojv4D8xrqnEXatqg=s64",
      "userId": "13831218637705529605"
     },
     "user_tz": -180
    },
    "id": "BIDNMSSedWyR"
   },
   "outputs": [],
   "source": [
    "def p(x):\n",
    "  return x * x"
   ]
  },
  {
   "cell_type": "markdown",
   "metadata": {
    "id": "tqnW1nwEdiW-"
   },
   "source": [
    "Если такая однострочная функция нужна только один раз, то ее можно легко преобразовать в `lambda`-функцию."
   ]
  },
  {
   "cell_type": "code",
   "execution_count": 2,
   "metadata": {
    "executionInfo": {
     "elapsed": 596,
     "status": "ok",
     "timestamp": 1615469174184,
     "user": {
      "displayName": "Anastasiia Chernysheva",
      "photoUrl": "https://lh3.googleusercontent.com/a-/AOh14GhHyHwY-PuMRWX3mjSyss6pojv4D8xrqnEXatqg=s64",
      "userId": "13831218637705529605"
     },
     "user_tz": -180
    },
    "id": "t1oMSsjvdtVB"
   },
   "outputs": [],
   "source": [
    "power = lambda x: x * x"
   ]
  },
  {
   "cell_type": "code",
   "execution_count": 3,
   "metadata": {
    "colab": {
     "base_uri": "https://localhost:8080/"
    },
    "executionInfo": {
     "elapsed": 591,
     "status": "ok",
     "timestamp": 1615469186139,
     "user": {
      "displayName": "Anastasiia Chernysheva",
      "photoUrl": "https://lh3.googleusercontent.com/a-/AOh14GhHyHwY-PuMRWX3mjSyss6pojv4D8xrqnEXatqg=s64",
      "userId": "13831218637705529605"
     },
     "user_tz": -180
    },
    "id": "kLaRanoFd2Ui",
    "outputId": "33991d1f-2737-4c36-c3f6-3626210fff39"
   },
   "outputs": [
    {
     "name": "stdout",
     "output_type": "stream",
     "text": [
      "25 25\n"
     ]
    }
   ],
   "source": [
    "print(p(5), power(5))"
   ]
  },
  {
   "cell_type": "markdown",
   "metadata": {
    "id": "q4eS0v1WeAHs"
   },
   "source": [
    "Параметров может быть больше одного или не быть совсем."
   ]
  },
  {
   "cell_type": "code",
   "execution_count": 4,
   "metadata": {
    "executionInfo": {
     "elapsed": 626,
     "status": "ok",
     "timestamp": 1615469259898,
     "user": {
      "displayName": "Anastasiia Chernysheva",
      "photoUrl": "https://lh3.googleusercontent.com/a-/AOh14GhHyHwY-PuMRWX3mjSyss6pojv4D8xrqnEXatqg=s64",
      "userId": "13831218637705529605"
     },
     "user_tz": -180
    },
    "id": "N9r2TZ7zeGu9"
   },
   "outputs": [],
   "source": [
    "prod = lambda x, y: x * y"
   ]
  },
  {
   "cell_type": "code",
   "execution_count": 5,
   "metadata": {
    "colab": {
     "base_uri": "https://localhost:8080/"
    },
    "executionInfo": {
     "elapsed": 731,
     "status": "ok",
     "timestamp": 1615469273829,
     "user": {
      "displayName": "Anastasiia Chernysheva",
      "photoUrl": "https://lh3.googleusercontent.com/a-/AOh14GhHyHwY-PuMRWX3mjSyss6pojv4D8xrqnEXatqg=s64",
      "userId": "13831218637705529605"
     },
     "user_tz": -180
    },
    "id": "oxaYHYHgeLMw",
    "outputId": "f2e408ed-b60b-4626-a67d-65dbc8c5f25f"
   },
   "outputs": [
    {
     "name": "stdout",
     "output_type": "stream",
     "text": [
      "20\n"
     ]
    }
   ],
   "source": [
    "print(prod(5, 4))"
   ]
  },
  {
   "cell_type": "markdown",
   "metadata": {
    "id": "P_EuzaRSeOsB"
   },
   "source": [
    "Можно выполнять не только математические операции."
   ]
  },
  {
   "cell_type": "code",
   "execution_count": 15,
   "metadata": {
    "executionInfo": {
     "elapsed": 527,
     "status": "ok",
     "timestamp": 1615474717200,
     "user": {
      "displayName": "Anastasiia Chernysheva",
      "photoUrl": "https://lh3.googleusercontent.com/a-/AOh14GhHyHwY-PuMRWX3mjSyss6pojv4D8xrqnEXatqg=s64",
      "userId": "13831218637705529605"
     },
     "user_tz": -180
    },
    "id": "VRVGHBhleSmt"
   },
   "outputs": [],
   "source": [
    "is_even = lambda x: x % 2 == 0"
   ]
  },
  {
   "cell_type": "code",
   "execution_count": 14,
   "metadata": {
    "colab": {
     "base_uri": "https://localhost:8080/"
    },
    "executionInfo": {
     "elapsed": 560,
     "status": "ok",
     "timestamp": 1615474708118,
     "user": {
      "displayName": "Anastasiia Chernysheva",
      "photoUrl": "https://lh3.googleusercontent.com/a-/AOh14GhHyHwY-PuMRWX3mjSyss6pojv4D8xrqnEXatqg=s64",
      "userId": "13831218637705529605"
     },
     "user_tz": -180
    },
    "id": "f8OMY1-Xe4pJ",
    "outputId": "10aa2986-fb62-4c22-cedb-c15bd2c212f9"
   },
   "outputs": [
    {
     "name": "stdout",
     "output_type": "stream",
     "text": [
      "False\n"
     ]
    }
   ],
   "source": [
    "print(is_even(4))"
   ]
  },
  {
   "cell_type": "code",
   "execution_count": 12,
   "metadata": {
    "colab": {
     "base_uri": "https://localhost:8080/"
    },
    "executionInfo": {
     "elapsed": 466,
     "status": "ok",
     "timestamp": 1615474496459,
     "user": {
      "displayName": "Anastasiia Chernysheva",
      "photoUrl": "https://lh3.googleusercontent.com/a-/AOh14GhHyHwY-PuMRWX3mjSyss6pojv4D8xrqnEXatqg=s64",
      "userId": "13831218637705529605"
     },
     "user_tz": -180
    },
    "id": "zaVw5htme7bD",
    "outputId": "71d0ad96-3170-4669-e339-490076366545"
   },
   "outputs": [
    {
     "name": "stdout",
     "output_type": "stream",
     "text": [
      "False\n"
     ]
    }
   ],
   "source": [
    "print(is_even(13))"
   ]
  },
  {
   "cell_type": "markdown",
   "metadata": {
    "id": "-X67t5-He-7t"
   },
   "source": [
    "`lambda`-функции удобно использовать в качестве правила в функциях, где нужны правила, например, в `sorted()`, `map()` или `filter()`."
   ]
  },
  {
   "cell_type": "code",
   "execution_count": 10,
   "metadata": {
    "colab": {
     "base_uri": "https://localhost:8080/"
    },
    "executionInfo": {
     "elapsed": 586,
     "status": "ok",
     "timestamp": 1615469693511,
     "user": {
      "displayName": "Anastasiia Chernysheva",
      "photoUrl": "https://lh3.googleusercontent.com/a-/AOh14GhHyHwY-PuMRWX3mjSyss6pojv4D8xrqnEXatqg=s64",
      "userId": "13831218637705529605"
     },
     "user_tz": -180
    },
    "id": "fgWnM6v5fUdO",
    "outputId": "f551840c-fde2-4c30-dbfc-0f7677e8cf51"
   },
   "outputs": [
    {
     "name": "stdout",
     "output_type": "stream",
     "text": [
      "2 4 93\n"
     ]
    }
   ],
   "source": [
    "lst = [2, 4, \"d\", 93, \"go\"]\n",
    "print(*filter(lambda x: str(x).isdigit(), lst))"
   ]
  }
 ],
 "metadata": {
  "colab": {
   "authorship_tag": "ABX9TyPb+zc4LdzGiOjF+Z7VBHQ9",
   "name": "Тема 9. Функции.ipynb",
   "provenance": []
  },
  "kernelspec": {
   "display_name": "Python 3",
   "name": "python3"
  }
 },
 "nbformat": 4,
 "nbformat_minor": 0
}
