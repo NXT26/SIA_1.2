{
 "cells": [
  {
   "cell_type": "markdown",
   "metadata": {
    "id": "NcNjoeomEPYN"
   },
   "source": [
    "## Зачем нужны модули"
   ]
  },
  {
   "cell_type": "markdown",
   "metadata": {
    "id": "wTLzxlBYETkr"
   },
   "source": [
    "Встроенными типами данных, конструкциями и функциями много полезных задачек не нарешаешь, а решением задачек из учебника на жизнь не заработаешь. Обычно задачи более сложные, глубокие, с множеством этапов, часто похожих друг на друга. Чтобы не писать с нуля сотни раз похожий код, было придумано объединять полезные функции в модули. В модулях заложен какой-то полезный функционал, который можно применять, не вдаваясь в подробности реализации. Модули практически всегда имеют документацию (инструкцию по применению), поэтому их использование не доставляет особых проблем."
   ]
  },
  {
   "cell_type": "markdown",
   "metadata": {
    "id": "Tk2seUqKFqB0"
   },
   "source": [
    "Модули бывают двух видов:\n",
    "1. стандартные: устанавливаются вместе с Python.\n",
    "2. внешние: нужно сначала скачать и потом ручками установить."
   ]
  },
  {
   "cell_type": "markdown",
   "metadata": {
    "id": "eNsvS4bmGfFb"
   },
   "source": [
    "Модулей для Python очень много. Даже стандартных примерно 300. Знать их все совершенно не обязательно. Списочек всех модулей можно посмотреть [тут](https://docs.python.org/3/py-modindex.html)."
   ]
  },
  {
   "cell_type": "markdown",
   "metadata": {
    "id": "K7XFV6uiG8kF"
   },
   "source": [
    "Посмотрим, как работать с модулями на примере модуля для выполнения математических операций (math), работы со случайными числами (random) и дробями (fractions)."
   ]
  },
  {
   "cell_type": "markdown",
   "metadata": {
    "id": "kojYD2rGHOQ6"
   },
   "source": [
    "## Импорт модулей"
   ]
  },
  {
   "cell_type": "markdown",
   "metadata": {
    "id": "vM9w9hQ9HRvK"
   },
   "source": [
    "Чтобы использовать модуль, нужно его импортировать. Сделать это можно одним из двух способов:\n",
    "1. импортировать модуль целиком.\n",
    "2. импортировать нужную часть модуля."
   ]
  },
  {
   "cell_type": "markdown",
   "metadata": {
    "id": "JFaao_yAHd01"
   },
   "source": [
    "### Импорт всего модуля"
   ]
  },
  {
   "cell_type": "markdown",
   "metadata": {
    "id": "4DMm-JZEHiIP"
   },
   "source": [
    "Делается это так:"
   ]
  },
  {
   "cell_type": "code",
   "execution_count": null,
   "metadata": {
    "id": "0ETUY1CkDRWT"
   },
   "outputs": [],
   "source": [
    "import название_модуля"
   ]
  },
  {
   "cell_type": "markdown",
   "metadata": {
    "id": "SkwuEWeAHpUr"
   },
   "source": [
    "Далее методы модуля вызываются через точку. Посмотрим, как это работает на примере вычисления наибольшего общего делителя (gcd) при помощи модуля `math`."
   ]
  },
  {
   "cell_type": "code",
   "execution_count": null,
   "metadata": {
    "colab": {
     "base_uri": "https://localhost:8080/"
    },
    "executionInfo": {
     "elapsed": 1459,
     "status": "ok",
     "timestamp": 1615908263281,
     "user": {
      "displayName": "Anastasiia Chernysheva",
      "photoUrl": "https://lh3.googleusercontent.com/a-/AOh14GhHyHwY-PuMRWX3mjSyss6pojv4D8xrqnEXatqg=s64",
      "userId": "13831218637705529605"
     },
     "user_tz": -180
    },
    "id": "cTaL3tdpH39-",
    "outputId": "a1fd4025-394e-44a4-ded4-9ff118bbd1c9"
   },
   "outputs": [
    {
     "name": "stdout",
     "output_type": "stream",
     "text": [
      "120\n"
     ]
    }
   ],
   "source": [
    "import math\n",
    "result = math.gcd(0, 120)\n",
    "print(result)"
   ]
  },
  {
   "cell_type": "markdown",
   "metadata": {
    "id": "OA9Xe5cgIG1m"
   },
   "source": [
    "### Импорт части модуля"
   ]
  },
  {
   "cell_type": "markdown",
   "metadata": {
    "id": "UU3FKN4kIJdF"
   },
   "source": [
    "Делается это так:"
   ]
  },
  {
   "cell_type": "code",
   "execution_count": null,
   "metadata": {
    "id": "OuJ4wY0nILVb"
   },
   "outputs": [],
   "source": [
    "from название_модуля import функция_модуля_1, функция_модуля_2, ..."
   ]
  },
  {
   "cell_type": "markdown",
   "metadata": {
    "id": "3h6uO9CiIWN9"
   },
   "source": [
    "Продолжаем пример с НОД."
   ]
  },
  {
   "cell_type": "code",
   "execution_count": null,
   "metadata": {
    "colab": {
     "base_uri": "https://localhost:8080/"
    },
    "executionInfo": {
     "elapsed": 706,
     "status": "ok",
     "timestamp": 1615475650694,
     "user": {
      "displayName": "Anastasiia Chernysheva",
      "photoUrl": "https://lh3.googleusercontent.com/a-/AOh14GhHyHwY-PuMRWX3mjSyss6pojv4D8xrqnEXatqg=s64",
      "userId": "13831218637705529605"
     },
     "user_tz": -180
    },
    "id": "G5NdFDeMIYLo",
    "outputId": "8f93cdb5-6de6-4300-f4d3-91c08d0a3459"
   },
   "outputs": [
    {
     "name": "stdout",
     "output_type": "stream",
     "text": [
      "24\n"
     ]
    }
   ],
   "source": [
    "from math import gcd\n",
    "result = gcd(48, 120)\n",
    "print(result)"
   ]
  },
  {
   "cell_type": "markdown",
   "metadata": {
    "id": "K3U5RVc3ImX0"
   },
   "source": [
    "Удобно вызывать конкретную функцию, если точно знаете, что будете использовать более одного раза."
   ]
  },
  {
   "cell_type": "markdown",
   "metadata": {
    "id": "kA9gfSJlIvSS"
   },
   "source": [
    "### Изменение имен при импорте"
   ]
  },
  {
   "cell_type": "markdown",
   "metadata": {
    "id": "84OUuZhDIzgR"
   },
   "source": [
    "Названия модулей бывают длинными. В коде все же хочется придерживаться компактности. Для этого было придумано при вызове модуля переименовывать его для использования в программе."
   ]
  },
  {
   "cell_type": "code",
   "execution_count": null,
   "metadata": {
    "id": "zGwZM_XhJD-o"
   },
   "outputs": [],
   "source": [
    "import название_модуля as новое_название\n",
    "from название_модуля import функция as новое_название"
   ]
  },
  {
   "cell_type": "markdown",
   "metadata": {
    "id": "O47FVS02JBV2"
   },
   "source": [
    "Перепишем предыдущие два примера, воспользовавшись новыми знаниями."
   ]
  },
  {
   "cell_type": "code",
   "execution_count": null,
   "metadata": {
    "colab": {
     "base_uri": "https://localhost:8080/"
    },
    "executionInfo": {
     "elapsed": 527,
     "status": "ok",
     "timestamp": 1615463842456,
     "user": {
      "displayName": "Anastasiia Chernysheva",
      "photoUrl": "https://lh3.googleusercontent.com/a-/AOh14GhHyHwY-PuMRWX3mjSyss6pojv4D8xrqnEXatqg=s64",
      "userId": "13831218637705529605"
     },
     "user_tz": -180
    },
    "id": "Ex_XVMWTJVzw",
    "outputId": "b40c42b6-6d23-4020-e74e-a5157c12283b"
   },
   "outputs": [
    {
     "name": "stdout",
     "output_type": "stream",
     "text": [
      "24\n"
     ]
    }
   ],
   "source": [
    "import math as m\n",
    "result = m.gcd(48, 120)\n",
    "print(result)"
   ]
  },
  {
   "cell_type": "code",
   "execution_count": null,
   "metadata": {
    "colab": {
     "base_uri": "https://localhost:8080/"
    },
    "executionInfo": {
     "elapsed": 561,
     "status": "ok",
     "timestamp": 1615475777670,
     "user": {
      "displayName": "Anastasiia Chernysheva",
      "photoUrl": "https://lh3.googleusercontent.com/a-/AOh14GhHyHwY-PuMRWX3mjSyss6pojv4D8xrqnEXatqg=s64",
      "userId": "13831218637705529605"
     },
     "user_tz": -180
    },
    "id": "-xuV2rqJJhXT",
    "outputId": "1815664d-2333-46a1-ed36-0bf624f3e04a"
   },
   "outputs": [
    {
     "name": "stdout",
     "output_type": "stream",
     "text": [
      "24\n"
     ]
    }
   ],
   "source": [
    "from math import gcd as nod\n",
    "result = nod(48, 120)\n",
    "print(result)"
   ]
  },
  {
   "cell_type": "markdown",
   "metadata": {
    "id": "ZHqbgtljKZFy"
   },
   "source": [
    "## Математический модуль math"
   ]
  },
  {
   "cell_type": "markdown",
   "metadata": {
    "id": "Z7NPvdu9KdBU"
   },
   "source": [
    "Когда программистская задача требует вмешательства математики, часто используется встроенный модуль `math` (или внешний `numpy`). Посмотрим несколько полезных функций модуля `math`.\n",
    "\n",
    "\n",
    "*   округление\n",
    "*   сумма и произведение\n",
    "*   квадратные корни\n",
    "*   комбинаторика\n",
    "*   тригонометрия\n",
    "*   расстояние между точками\n",
    "\n",
    "Посмотреть все, что умеет модуль `math`. можно по [ссылочке](https://docs.python.org/3.8/library/math.html).\n",
    "\n"
   ]
  },
  {
   "cell_type": "markdown",
   "metadata": {
    "id": "Wrwi_tSLLNDZ"
   },
   "source": [
    "### Округление"
   ]
  },
  {
   "cell_type": "code",
   "execution_count": null,
   "metadata": {
    "colab": {
     "base_uri": "https://localhost:8080/"
    },
    "executionInfo": {
     "elapsed": 603,
     "status": "ok",
     "timestamp": 1615908883613,
     "user": {
      "displayName": "Anastasiia Chernysheva",
      "photoUrl": "https://lh3.googleusercontent.com/a-/AOh14GhHyHwY-PuMRWX3mjSyss6pojv4D8xrqnEXatqg=s64",
      "userId": "13831218637705529605"
     },
     "user_tz": -180
    },
    "id": "C6sNYhAprJQV",
    "outputId": "2e9bff99-5ae8-43fe-ed1e-e2e36a9257cd"
   },
   "outputs": [
    {
     "data": {
      "text/plain": [
       "3.4"
      ]
     },
     "execution_count": 4,
     "metadata": {
      "tags": []
     },
     "output_type": "execute_result"
    }
   ],
   "source": [
    "round(3.39847, 2)"
   ]
  },
  {
   "cell_type": "markdown",
   "metadata": {
    "id": "SXae11PcLQDk"
   },
   "source": [
    "Для округления есть три функции:\n",
    "1. `ceil()` - округляет в большую сторону\n",
    "2. `floor()` - округляет в меньшую сторону\n",
    "3. `trunc()` - отбрасывает дробную часть"
   ]
  },
  {
   "cell_type": "code",
   "execution_count": null,
   "metadata": {
    "colab": {
     "base_uri": "https://localhost:8080/"
    },
    "executionInfo": {
     "elapsed": 537,
     "status": "ok",
     "timestamp": 1615908957350,
     "user": {
      "displayName": "Anastasiia Chernysheva",
      "photoUrl": "https://lh3.googleusercontent.com/a-/AOh14GhHyHwY-PuMRWX3mjSyss6pojv4D8xrqnEXatqg=s64",
      "userId": "13831218637705529605"
     },
     "user_tz": -180
    },
    "id": "hGoFeBx8LdwY",
    "outputId": "237ba144-a817-4dfb-af4f-f3ac581f7038"
   },
   "outputs": [
    {
     "name": "stdout",
     "output_type": "stream",
     "text": [
      "10 0\n",
      "9 -1\n",
      "9 0\n",
      "9 -1\n"
     ]
    }
   ],
   "source": [
    "from math import ceil, floor, trunc\n",
    "\n",
    "a, b = 9.3, -0.7\n",
    "print(ceil(a), ceil(b))\n",
    "print(floor(a), floor(b))\n",
    "print(trunc(a), trunc(b))\n",
    "print(round(a), round(b))"
   ]
  },
  {
   "cell_type": "markdown",
   "metadata": {
    "id": "s10PTYxbMHO0"
   },
   "source": [
    "### Сумма и произведение"
   ]
  },
  {
   "cell_type": "markdown",
   "metadata": {
    "id": "iTtyu8A0MLzs"
   },
   "source": [
    "Для подсчета суммы есть функция `fsum()`, а для подсчета произведения - `prod()`. Отличаются от стандартных `sum()` и обычного произведения более высокой точностью работы с вещественными числами."
   ]
  },
  {
   "cell_type": "code",
   "execution_count": null,
   "metadata": {
    "colab": {
     "base_uri": "https://localhost:8080/"
    },
    "executionInfo": {
     "elapsed": 947,
     "status": "ok",
     "timestamp": 1615464758269,
     "user": {
      "displayName": "Anastasiia Chernysheva",
      "photoUrl": "https://lh3.googleusercontent.com/a-/AOh14GhHyHwY-PuMRWX3mjSyss6pojv4D8xrqnEXatqg=s64",
      "userId": "13831218637705529605"
     },
     "user_tz": -180
    },
    "id": "D5q8lPfdMftO",
    "outputId": "c25c6821-d2dc-440d-fac7-f88cf9d88a69"
   },
   "outputs": [
    {
     "name": "stdout",
     "output_type": "stream",
     "text": [
      "[0.1, 0.1, 0.1, 0.1, 0.1, 0.1, 0.1, 0.1, 0.1, 0.1]\n",
      "0.9999999999999999 1.0\n"
     ]
    }
   ],
   "source": [
    "from math import fsum\n",
    "lst = [0.1] * 10\n",
    "print(lst)\n",
    "print(sum(lst), fsum(lst))"
   ]
  },
  {
   "cell_type": "code",
   "execution_count": null,
   "metadata": {
    "colab": {
     "base_uri": "https://localhost:8080/",
     "height": 202
    },
    "executionInfo": {
     "elapsed": 605,
     "status": "error",
     "timestamp": 1615464845421,
     "user": {
      "displayName": "Anastasiia Chernysheva",
      "photoUrl": "https://lh3.googleusercontent.com/a-/AOh14GhHyHwY-PuMRWX3mjSyss6pojv4D8xrqnEXatqg=s64",
      "userId": "13831218637705529605"
     },
     "user_tz": -180
    },
    "id": "2clzxVKpNBeI",
    "outputId": "58de1363-535c-455c-bc72-81cc96359bbd"
   },
   "outputs": [
    {
     "ename": "AttributeError",
     "evalue": "ignored",
     "output_type": "error",
     "traceback": [
      "\u001b[0;31m---------------------------------------------------------------------------\u001b[0m",
      "\u001b[0;31mAttributeError\u001b[0m                            Traceback (most recent call last)",
      "\u001b[0;32m<ipython-input-11-16bec2183f6b>\u001b[0m in \u001b[0;36m<module>\u001b[0;34m()\u001b[0m\n\u001b[1;32m      1\u001b[0m \u001b[0;32mimport\u001b[0m \u001b[0mmath\u001b[0m\u001b[0;34m\u001b[0m\u001b[0;34m\u001b[0m\u001b[0m\n\u001b[1;32m      2\u001b[0m \u001b[0mr\u001b[0m \u001b[0;34m=\u001b[0m \u001b[0mrange\u001b[0m\u001b[0;34m(\u001b[0m\u001b[0;36m1\u001b[0m\u001b[0;34m,\u001b[0m \u001b[0;36m8\u001b[0m\u001b[0;34m,\u001b[0m \u001b[0;36m2\u001b[0m\u001b[0;34m)\u001b[0m\u001b[0;34m\u001b[0m\u001b[0;34m\u001b[0m\u001b[0m\n\u001b[0;32m----> 3\u001b[0;31m \u001b[0mprint\u001b[0m\u001b[0;34m(\u001b[0m\u001b[0mmath\u001b[0m\u001b[0;34m.\u001b[0m\u001b[0mprod\u001b[0m\u001b[0;34m(\u001b[0m\u001b[0mr\u001b[0m\u001b[0;34m)\u001b[0m\u001b[0;34m)\u001b[0m\u001b[0;34m\u001b[0m\u001b[0;34m\u001b[0m\u001b[0m\n\u001b[0m",
      "\u001b[0;31mAttributeError\u001b[0m: module 'math' has no attribute 'prod'"
     ]
    }
   ],
   "source": [
    "import math\n",
    "r = range(1, 8, 2)\n",
    "print(math.prod(r))"
   ]
  },
  {
   "cell_type": "code",
   "execution_count": null,
   "metadata": {
    "colab": {
     "base_uri": "https://localhost:8080/"
    },
    "executionInfo": {
     "elapsed": 617,
     "status": "ok",
     "timestamp": 1615476255136,
     "user": {
      "displayName": "Anastasiia Chernysheva",
      "photoUrl": "https://lh3.googleusercontent.com/a-/AOh14GhHyHwY-PuMRWX3mjSyss6pojv4D8xrqnEXatqg=s64",
      "userId": "13831218637705529605"
     },
     "user_tz": -180
    },
    "id": "wUo8qQg8Nn9H",
    "outputId": "8effd3eb-813f-4008-dab0-a40047f6efd4"
   },
   "outputs": [
    {
     "name": "stdout",
     "output_type": "stream",
     "text": [
      "Python 3.7.10\n"
     ]
    }
   ],
   "source": [
    "!python --version"
   ]
  },
  {
   "cell_type": "markdown",
   "metadata": {
    "id": "LjGcAnvPN2xI"
   },
   "source": [
    "### Квадратные корни"
   ]
  },
  {
   "cell_type": "markdown",
   "metadata": {
    "id": "PWzMVS-BN9Lf"
   },
   "source": [
    "Для корней есть две функции: `sqrt()` (просто извлекает корень) и `isqrt()` (извлекает целочисленный корень)."
   ]
  },
  {
   "cell_type": "code",
   "execution_count": null,
   "metadata": {
    "colab": {
     "base_uri": "https://localhost:8080/"
    },
    "executionInfo": {
     "elapsed": 1013,
     "status": "ok",
     "timestamp": 1615465193086,
     "user": {
      "displayName": "Anastasiia Chernysheva",
      "photoUrl": "https://lh3.googleusercontent.com/a-/AOh14GhHyHwY-PuMRWX3mjSyss6pojv4D8xrqnEXatqg=s64",
      "userId": "13831218637705529605"
     },
     "user_tz": -180
    },
    "id": "qZIiON1cON4_",
    "outputId": "fdaeb9e5-0a60-412b-f262-c71b497acabf"
   },
   "outputs": [
    {
     "name": "stdout",
     "output_type": "stream",
     "text": [
      "9.327379053088816\n"
     ]
    }
   ],
   "source": [
    "from math import sqrt\n",
    "x = 87\n",
    "print(sqrt(x))"
   ]
  },
  {
   "cell_type": "code",
   "execution_count": null,
   "metadata": {
    "colab": {
     "base_uri": "https://localhost:8080/",
     "height": 341
    },
    "executionInfo": {
     "elapsed": 711,
     "status": "error",
     "timestamp": 1615465204147,
     "user": {
      "displayName": "Anastasiia Chernysheva",
      "photoUrl": "https://lh3.googleusercontent.com/a-/AOh14GhHyHwY-PuMRWX3mjSyss6pojv4D8xrqnEXatqg=s64",
      "userId": "13831218637705529605"
     },
     "user_tz": -180
    },
    "id": "jcrcg9ZHOnr7",
    "outputId": "6c638a9b-4f75-46b7-b4ed-92fef6c5142a"
   },
   "outputs": [
    {
     "ename": "ImportError",
     "evalue": "ignored",
     "output_type": "error",
     "traceback": [
      "\u001b[0;31m---------------------------------------------------------------------------\u001b[0m",
      "\u001b[0;31mImportError\u001b[0m                               Traceback (most recent call last)",
      "\u001b[0;32m<ipython-input-16-e2a61b6355e3>\u001b[0m in \u001b[0;36m<module>\u001b[0;34m()\u001b[0m\n\u001b[0;32m----> 1\u001b[0;31m \u001b[0;32mfrom\u001b[0m \u001b[0mmath\u001b[0m \u001b[0;32mimport\u001b[0m \u001b[0misqrt\u001b[0m\u001b[0;34m\u001b[0m\u001b[0;34m\u001b[0m\u001b[0m\n\u001b[0m\u001b[1;32m      2\u001b[0m \u001b[0mx\u001b[0m \u001b[0;34m=\u001b[0m \u001b[0;36m87\u001b[0m\u001b[0;34m\u001b[0m\u001b[0;34m\u001b[0m\u001b[0m\n\u001b[1;32m      3\u001b[0m \u001b[0mprint\u001b[0m\u001b[0;34m(\u001b[0m\u001b[0misqrt\u001b[0m\u001b[0;34m(\u001b[0m\u001b[0mx\u001b[0m\u001b[0;34m)\u001b[0m\u001b[0;34m)\u001b[0m\u001b[0;34m\u001b[0m\u001b[0;34m\u001b[0m\u001b[0m\n",
      "\u001b[0;31mImportError\u001b[0m: cannot import name 'isqrt' from 'math' (unknown location)",
      "",
      "\u001b[0;31m---------------------------------------------------------------------------\u001b[0;32m\nNOTE: If your import is failing due to a missing package, you can\nmanually install dependencies using either !pip or !apt.\n\nTo view examples of installing some common dependencies, click the\n\"Open Examples\" button below.\n\u001b[0;31m---------------------------------------------------------------------------\u001b[0m\n"
     ]
    }
   ],
   "source": [
    "from math import isqrt\n",
    "x = 87\n",
    "print(isqrt(x))"
   ]
  },
  {
   "cell_type": "markdown",
   "metadata": {
    "id": "AVWTuVtRPPnu"
   },
   "source": [
    "### Комбинаторика"
   ]
  },
  {
   "cell_type": "markdown",
   "metadata": {
    "id": "35-xeioRPTZA"
   },
   "source": [
    "Из известных нам вещей, относящихся к комбинаторики, посмотрим факториал (количество перестановок). Можно еще считать количество размещений (`perm()`) и количество сочетаний (`comb()`). Почитать, что такое комбинаторика, можно [вот тут](https://ya-znau.ru/znaniya/zn/80)."
   ]
  },
  {
   "cell_type": "code",
   "execution_count": null,
   "metadata": {
    "colab": {
     "base_uri": "https://localhost:8080/"
    },
    "executionInfo": {
     "elapsed": 536,
     "status": "ok",
     "timestamp": 1615909393830,
     "user": {
      "displayName": "Anastasiia Chernysheva",
      "photoUrl": "https://lh3.googleusercontent.com/a-/AOh14GhHyHwY-PuMRWX3mjSyss6pojv4D8xrqnEXatqg=s64",
      "userId": "13831218637705529605"
     },
     "user_tz": -180
    },
    "id": "gasNr-iLOwYc",
    "outputId": "979bdabc-f965-43fd-b0b9-cedd8629f7f7"
   },
   "outputs": [
    {
     "name": "stdout",
     "output_type": "stream",
     "text": [
      "1307674368000\n"
     ]
    }
   ],
   "source": [
    "from math import factorial\n",
    "print(factorial(15))"
   ]
  },
  {
   "cell_type": "markdown",
   "metadata": {
    "id": "nzWGJUuhP9tj"
   },
   "source": [
    "### Тригонометрия"
   ]
  },
  {
   "cell_type": "markdown",
   "metadata": {
    "id": "1w6WR7x6QILI"
   },
   "source": [
    "В `math` есть тригонометрические функции и константы, например, число π. Про тригонометрию можно почитать [тут](https://epmat.ru/modul-geometriya/urok-1-trigonometriya/)."
   ]
  },
  {
   "cell_type": "code",
   "execution_count": null,
   "metadata": {
    "colab": {
     "base_uri": "https://localhost:8080/"
    },
    "executionInfo": {
     "elapsed": 516,
     "status": "ok",
     "timestamp": 1615909559399,
     "user": {
      "displayName": "Anastasiia Chernysheva",
      "photoUrl": "https://lh3.googleusercontent.com/a-/AOh14GhHyHwY-PuMRWX3mjSyss6pojv4D8xrqnEXatqg=s64",
      "userId": "13831218637705529605"
     },
     "user_tz": -180
    },
    "id": "IwLgE1-tQ0Ck",
    "outputId": "6baa8698-62f3-4b6f-c2ce-d3e91c01df46"
   },
   "outputs": [
    {
     "name": "stdout",
     "output_type": "stream",
     "text": [
      "-0.3048106211022167\n",
      "6.123233995736766e-17\n",
      "0.9999999999999999\n",
      "3.141592653589793\n"
     ]
    }
   ],
   "source": [
    "from math import sin, cos, tan, pi\n",
    "\n",
    "print(sin(60))\n",
    "print(cos(pi / 2))\n",
    "print(tan(pi / 4))\n",
    "print(math.pi)"
   ]
  },
  {
   "cell_type": "markdown",
   "metadata": {
    "id": "uXZF7521RXvl"
   },
   "source": [
    "### Расстояние между точками"
   ]
  },
  {
   "cell_type": "markdown",
   "metadata": {
    "id": "Ya7iOFJSRaI9"
   },
   "source": [
    "Для расчета расстояния между точками есть две функции:\n",
    "1. `dist()` - расстояние между точками\n",
    "2. `hypot()` - расстояние между точкой и началом координат"
   ]
  },
  {
   "cell_type": "code",
   "execution_count": null,
   "metadata": {
    "colab": {
     "base_uri": "https://localhost:8080/"
    },
    "executionInfo": {
     "elapsed": 599,
     "status": "ok",
     "timestamp": 1615466057244,
     "user": {
      "displayName": "Anastasiia Chernysheva",
      "photoUrl": "https://lh3.googleusercontent.com/a-/AOh14GhHyHwY-PuMRWX3mjSyss6pojv4D8xrqnEXatqg=s64",
      "userId": "13831218637705529605"
     },
     "user_tz": -180
    },
    "id": "UYS_B0RrRm1u",
    "outputId": "eb6474fc-ea9e-473d-ea4a-ea6418c24dcf"
   },
   "outputs": [
    {
     "name": "stdout",
     "output_type": "stream",
     "text": [
      "5.830951894845301\n"
     ]
    }
   ],
   "source": [
    "from math import hypot\n",
    "x1, x2 = (3, 5), (5, 7)\n",
    "print(hypot(*x1))"
   ]
  },
  {
   "cell_type": "code",
   "execution_count": null,
   "metadata": {
    "colab": {
     "base_uri": "https://localhost:8080/",
     "height": 341
    },
    "executionInfo": {
     "elapsed": 991,
     "status": "error",
     "timestamp": 1615466083238,
     "user": {
      "displayName": "Anastasiia Chernysheva",
      "photoUrl": "https://lh3.googleusercontent.com/a-/AOh14GhHyHwY-PuMRWX3mjSyss6pojv4D8xrqnEXatqg=s64",
      "userId": "13831218637705529605"
     },
     "user_tz": -180
    },
    "id": "DvCJfAAZR-nI",
    "outputId": "e5224037-209e-4a67-cd42-90c3f664aab4"
   },
   "outputs": [
    {
     "ename": "ImportError",
     "evalue": "ignored",
     "output_type": "error",
     "traceback": [
      "\u001b[0;31m---------------------------------------------------------------------------\u001b[0m",
      "\u001b[0;31mImportError\u001b[0m                               Traceback (most recent call last)",
      "\u001b[0;32m<ipython-input-23-ef1c046c501f>\u001b[0m in \u001b[0;36m<module>\u001b[0;34m()\u001b[0m\n\u001b[0;32m----> 1\u001b[0;31m \u001b[0;32mfrom\u001b[0m \u001b[0mmath\u001b[0m \u001b[0;32mimport\u001b[0m \u001b[0mdist\u001b[0m\u001b[0;34m\u001b[0m\u001b[0;34m\u001b[0m\u001b[0m\n\u001b[0m\u001b[1;32m      2\u001b[0m \u001b[0mx1\u001b[0m\u001b[0;34m,\u001b[0m \u001b[0mx2\u001b[0m \u001b[0;34m=\u001b[0m \u001b[0;34m(\u001b[0m\u001b[0;36m3\u001b[0m\u001b[0;34m,\u001b[0m \u001b[0;36m5\u001b[0m\u001b[0;34m)\u001b[0m\u001b[0;34m,\u001b[0m \u001b[0;34m(\u001b[0m\u001b[0;36m5\u001b[0m\u001b[0;34m,\u001b[0m \u001b[0;36m7\u001b[0m\u001b[0;34m)\u001b[0m\u001b[0;34m\u001b[0m\u001b[0;34m\u001b[0m\u001b[0m\n\u001b[1;32m      3\u001b[0m \u001b[0mprint\u001b[0m\u001b[0;34m(\u001b[0m\u001b[0mdist\u001b[0m\u001b[0;34m(\u001b[0m\u001b[0mx1\u001b[0m\u001b[0;34m,\u001b[0m \u001b[0mx2\u001b[0m\u001b[0;34m)\u001b[0m\u001b[0;34m)\u001b[0m\u001b[0;34m\u001b[0m\u001b[0;34m\u001b[0m\u001b[0m\n",
      "\u001b[0;31mImportError\u001b[0m: cannot import name 'dist' from 'math' (unknown location)",
      "",
      "\u001b[0;31m---------------------------------------------------------------------------\u001b[0;32m\nNOTE: If your import is failing due to a missing package, you can\nmanually install dependencies using either !pip or !apt.\n\nTo view examples of installing some common dependencies, click the\n\"Open Examples\" button below.\n\u001b[0;31m---------------------------------------------------------------------------\u001b[0m\n"
     ]
    }
   ],
   "source": [
    "from math import dist\n",
    "x1, x2 = (3, 5), (5, 7)\n",
    "print(dist(x1, x2))"
   ]
  },
  {
   "cell_type": "markdown",
   "metadata": {
    "id": "PwfAPb_qSHnw"
   },
   "source": [
    "## Модуль случайных чисел random"
   ]
  },
  {
   "cell_type": "markdown",
   "metadata": {
    "id": "GoGiRLLFSYia"
   },
   "source": [
    "Сгенерировать случайное значение - задача распространенная. Например. для тестирования алгоритма это бывает крайне полезно. Генерация случайнх чисел предусмотрена в модуле `random`."
   ]
  },
  {
   "cell_type": "markdown",
   "metadata": {
    "id": "WnFqnFIxSnp8"
   },
   "source": [
    "### Генерация случайных чисел\n",
    "\n"
   ]
  },
  {
   "cell_type": "markdown",
   "metadata": {
    "id": "77eJEoqISvp0"
   },
   "source": [
    "Функция `random()` генерирует случайное число от 0 до 1."
   ]
  },
  {
   "cell_type": "code",
   "execution_count": null,
   "metadata": {
    "colab": {
     "base_uri": "https://localhost:8080/"
    },
    "executionInfo": {
     "elapsed": 582,
     "status": "ok",
     "timestamp": 1615476846803,
     "user": {
      "displayName": "Anastasiia Chernysheva",
      "photoUrl": "https://lh3.googleusercontent.com/a-/AOh14GhHyHwY-PuMRWX3mjSyss6pojv4D8xrqnEXatqg=s64",
      "userId": "13831218637705529605"
     },
     "user_tz": -180
    },
    "id": "U-mp5J6US71k",
    "outputId": "9fcc4d75-6ae8-4e53-e119-66206a83df33"
   },
   "outputs": [
    {
     "name": "stdout",
     "output_type": "stream",
     "text": [
      "0.37186309662108574 0.9387506575537592\n"
     ]
    }
   ],
   "source": [
    "from random import random\n",
    "r1 = random()\n",
    "r2 = random()\n",
    "print(r1, r2)"
   ]
  },
  {
   "cell_type": "markdown",
   "metadata": {
    "id": "MIBXGg-JTP0r"
   },
   "source": [
    "Если нужно задать случайно целое число в каком-то диапазоне (включая границы), можно воспользоваться функцией `randint()`."
   ]
  },
  {
   "cell_type": "code",
   "execution_count": 4,
   "metadata": {
    "colab": {
     "base_uri": "https://localhost:8080/"
    },
    "executionInfo": {
     "elapsed": 1136,
     "status": "ok",
     "timestamp": 1616509063083,
     "user": {
      "displayName": "Anastasiia Chernysheva",
      "photoUrl": "https://lh3.googleusercontent.com/a-/AOh14GhHyHwY-PuMRWX3mjSyss6pojv4D8xrqnEXatqg=s64",
      "userId": "13831218637705529605"
     },
     "user_tz": -180
    },
    "id": "rz5QZHY8Talt",
    "outputId": "68a5b579-b3cf-4be5-9f75-f734c043ee79"
   },
   "outputs": [
    {
     "name": "stdout",
     "output_type": "stream",
     "text": [
      "5\n"
     ]
    }
   ],
   "source": [
    "from random import randint\n",
    "r = randint(4, 15)\n",
    "print(r)"
   ]
  },
  {
   "cell_type": "markdown",
   "metadata": {
    "id": "Au24WJlzTswX"
   },
   "source": [
    "Также модуль `random` добавляет разнообразия в работу с наборами данных.\n",
    "1. функция `choice()` позволяет выбрать случайный элемент из набора\n",
    "2. функция `shuffle()` перемешивает элементы в изменяемом наборе данных"
   ]
  },
  {
   "cell_type": "code",
   "execution_count": null,
   "metadata": {
    "colab": {
     "base_uri": "https://localhost:8080/"
    },
    "executionInfo": {
     "elapsed": 470,
     "status": "ok",
     "timestamp": 1615476995443,
     "user": {
      "displayName": "Anastasiia Chernysheva",
      "photoUrl": "https://lh3.googleusercontent.com/a-/AOh14GhHyHwY-PuMRWX3mjSyss6pojv4D8xrqnEXatqg=s64",
      "userId": "13831218637705529605"
     },
     "user_tz": -180
    },
    "id": "Ct_PK-2YUNfu",
    "outputId": "e0bff489-dc7b-4f80-e302-a3474436ee0d"
   },
   "outputs": [
    {
     "name": "stdout",
     "output_type": "stream",
     "text": [
      "34\n"
     ]
    }
   ],
   "source": [
    "from random import choice\n",
    "\n",
    "numbers = [1, 34, 12, 99, 40]\n",
    "print(choice(numbers))"
   ]
  },
  {
   "cell_type": "code",
   "execution_count": null,
   "metadata": {
    "colab": {
     "base_uri": "https://localhost:8080/"
    },
    "executionInfo": {
     "elapsed": 459,
     "status": "ok",
     "timestamp": 1615477004403,
     "user": {
      "displayName": "Anastasiia Chernysheva",
      "photoUrl": "https://lh3.googleusercontent.com/a-/AOh14GhHyHwY-PuMRWX3mjSyss6pojv4D8xrqnEXatqg=s64",
      "userId": "13831218637705529605"
     },
     "user_tz": -180
    },
    "id": "GYSDfEt3UXIU",
    "outputId": "68ed2c6a-d722-44df-e3a7-2f8e71506060"
   },
   "outputs": [
    {
     "name": "stdout",
     "output_type": "stream",
     "text": [
      "[34, 99, 40, 12, 1]\n"
     ]
    }
   ],
   "source": [
    "from random import shuffle\n",
    "\n",
    "numbers = [1, 34, 12, 99, 40]\n",
    "shuffle(numbers)\n",
    "print(numbers)"
   ]
  },
  {
   "cell_type": "markdown",
   "metadata": {
    "id": "QHjyNCZkUnQG"
   },
   "source": [
    "## Модуль дробей fractions"
   ]
  },
  {
   "cell_type": "markdown",
   "metadata": {
    "id": "93B3HgtlUq7g"
   },
   "source": [
    "`fractions` добавляет в Python обыкновенные дроби. Класс `Fraction()` создает обыкновенную дробь по введенным числителю и знаменателю. Над такой дробью можно выполнять все те же операции, что и над стандартными для Python числами, а еще функции округления из модуля `math`."
   ]
  },
  {
   "cell_type": "code",
   "execution_count": null,
   "metadata": {
    "colab": {
     "base_uri": "https://localhost:8080/"
    },
    "executionInfo": {
     "elapsed": 1040,
     "status": "ok",
     "timestamp": 1615467242392,
     "user": {
      "displayName": "Anastasiia Chernysheva",
      "photoUrl": "https://lh3.googleusercontent.com/a-/AOh14GhHyHwY-PuMRWX3mjSyss6pojv4D8xrqnEXatqg=s64",
      "userId": "13831218637705529605"
     },
     "user_tz": -180
    },
    "id": "e0H5kdfcVIEF",
    "outputId": "6d67865b-b70a-4b24-b2ed-18efb9c663aa"
   },
   "outputs": [
    {
     "name": "stdout",
     "output_type": "stream",
     "text": [
      "1/5\n",
      "5/9\n",
      "6004799503160661/36028797018963968\n",
      "1/2\n",
      "17/4\n"
     ]
    }
   ],
   "source": [
    "from fractions import Fraction\n",
    "\n",
    "a = Fraction(2, 10)\n",
    "b = Fraction(5, 9)\n",
    "c = Fraction(1/6)\n",
    "d = Fraction(0.5)\n",
    "e = Fraction(\"17/4\")\n",
    "print(a, b, c, d, e, sep=\"\\n\")"
   ]
  },
  {
   "cell_type": "code",
   "execution_count": null,
   "metadata": {
    "colab": {
     "base_uri": "https://localhost:8080/"
    },
    "executionInfo": {
     "elapsed": 648,
     "status": "ok",
     "timestamp": 1615467132108,
     "user": {
      "displayName": "Anastasiia Chernysheva",
      "photoUrl": "https://lh3.googleusercontent.com/a-/AOh14GhHyHwY-PuMRWX3mjSyss6pojv4D8xrqnEXatqg=s64",
      "userId": "13831218637705529605"
     },
     "user_tz": -180
    },
    "id": "qx0zPeEpVxC1",
    "outputId": "dd118bdf-cb07-4e4c-981e-56d8cfedefe6"
   },
   "outputs": [
    {
     "name": "stdout",
     "output_type": "stream",
     "text": [
      "34/45\n",
      "-16/45\n",
      "1/9\n",
      "9/25\n",
      "0\n",
      "1/5\n",
      "0.4089623530229582\n"
     ]
    }
   ],
   "source": [
    "print(a + b)\n",
    "print(a - b)\n",
    "print(a * b)\n",
    "print(a / b)\n",
    "print(a // b)\n",
    "print(a % b)\n",
    "print(a ** b)"
   ]
  },
  {
   "cell_type": "code",
   "execution_count": null,
   "metadata": {
    "colab": {
     "base_uri": "https://localhost:8080/"
    },
    "executionInfo": {
     "elapsed": 534,
     "status": "ok",
     "timestamp": 1615477272007,
     "user": {
      "displayName": "Anastasiia Chernysheva",
      "photoUrl": "https://lh3.googleusercontent.com/a-/AOh14GhHyHwY-PuMRWX3mjSyss6pojv4D8xrqnEXatqg=s64",
      "userId": "13831218637705529605"
     },
     "user_tz": -180
    },
    "id": "mvsZ4M2lWPmU",
    "outputId": "cdb9e8cd-1070-41d9-aa59-a9bf3c45e273"
   },
   "outputs": [
    {
     "name": "stdout",
     "output_type": "stream",
     "text": [
      "5 4 4\n"
     ]
    }
   ],
   "source": [
    "from math import floor, ceil, trunc\n",
    "print(ceil(e), floor(e), trunc(e))"
   ]
  },
  {
   "cell_type": "markdown",
   "metadata": {
    "id": "iw9E7gM6WIvZ"
   },
   "source": [
    "## Справка по модулям и функциям"
   ]
  },
  {
   "cell_type": "markdown",
   "metadata": {
    "id": "9-hXRvZVWnXT"
   },
   "source": [
    "Модулей слишком много, чтобы помнить о них все. Поэтому в Python для всего есть справка (помимо документации)."
   ]
  },
  {
   "cell_type": "code",
   "execution_count": 5,
   "metadata": {
    "colab": {
     "base_uri": "https://localhost:8080/"
    },
    "executionInfo": {
     "elapsed": 73876,
     "status": "ok",
     "timestamp": 1616509342272,
     "user": {
      "displayName": "Anastasiia Chernysheva",
      "photoUrl": "https://lh3.googleusercontent.com/a-/AOh14GhHyHwY-PuMRWX3mjSyss6pojv4D8xrqnEXatqg=s64",
      "userId": "13831218637705529605"
     },
     "user_tz": -180
    },
    "id": "P79pqCBxWuu8",
    "outputId": "f8e79426-ae56-4312-ccc1-1d8ab18c311a"
   },
   "outputs": [
    {
     "name": "stdout",
     "output_type": "stream",
     "text": [
      "\n",
      "Welcome to Python 3.7's help utility!\n",
      "\n",
      "If this is your first time using Python, you should definitely check out\n",
      "the tutorial on the Internet at https://docs.python.org/3.7/tutorial/.\n",
      "\n",
      "Enter the name of any module, keyword, or topic to get help on writing\n",
      "Python programs and using Python modules.  To quit this help utility and\n",
      "return to the interpreter, just type \"quit\".\n",
      "\n",
      "To get a list of available modules, keywords, symbols, or topics, type\n",
      "\"modules\", \"keywords\", \"symbols\", or \"topics\".  Each module also comes\n",
      "with a one-line summary of what it does; to list the modules whose name\n",
      "or summary contain a given string such as \"spam\", type \"modules spam\".\n",
      "\n",
      "help> topics\n",
      "\n",
      "Here is a list of available topics.  Enter any topic name to get more help.\n",
      "\n",
      "ASSERTION           DELETION            LOOPING             SHIFTING\n",
      "ASSIGNMENT          DICTIONARIES        MAPPINGMETHODS      SLICINGS\n",
      "ATTRIBUTEMETHODS    DICTIONARYLITERALS  MAPPINGS            SPECIALATTRIBUTES\n",
      "ATTRIBUTES          DYNAMICFEATURES     METHODS             SPECIALIDENTIFIERS\n",
      "AUGMENTEDASSIGNMENT ELLIPSIS            MODULES             SPECIALMETHODS\n",
      "BASICMETHODS        EXCEPTIONS          NAMESPACES          STRINGMETHODS\n",
      "BINARY              EXECUTION           NONE                STRINGS\n",
      "BITWISE             EXPRESSIONS         NUMBERMETHODS       SUBSCRIPTS\n",
      "BOOLEAN             FLOAT               NUMBERS             TRACEBACKS\n",
      "CALLABLEMETHODS     FORMATTING          OBJECTS             TRUTHVALUE\n",
      "CALLS               FRAMEOBJECTS        OPERATORS           TUPLELITERALS\n",
      "CLASSES             FRAMES              PACKAGES            TUPLES\n",
      "CODEOBJECTS         FUNCTIONS           POWER               TYPEOBJECTS\n",
      "COMPARISON          IDENTIFIERS         PRECEDENCE          TYPES\n",
      "COMPLEX             IMPORTING           PRIVATENAMES        UNARY\n",
      "CONDITIONAL         INTEGER             RETURNING           UNICODE\n",
      "CONTEXTMANAGERS     LISTLITERALS        SCOPING             \n",
      "CONVERSIONS         LISTS               SEQUENCEMETHODS     \n",
      "DEBUGGING           LITERALS            SEQUENCES           \n",
      "\n",
      "help> OBJECTS\n",
      "Objects, values and types\n",
      "*************************\n",
      "\n",
      "*Objects* are Python’s abstraction for data.  All data in a Python\n",
      "program is represented by objects or by relations between objects. (In\n",
      "a sense, and in conformance to Von Neumann’s model of a “stored\n",
      "program computer”, code is also represented by objects.)\n",
      "\n",
      "Every object has an identity, a type and a value.  An object’s\n",
      "*identity* never changes once it has been created; you may think of it\n",
      "as the object’s address in memory.  The ‘\"is\"’ operator compares the\n",
      "identity of two objects; the \"id()\" function returns an integer\n",
      "representing its identity.\n",
      "\n",
      "**CPython implementation detail:** For CPython, \"id(x)\" is the memory\n",
      "address where \"x\" is stored.\n",
      "\n",
      "An object’s type determines the operations that the object supports\n",
      "(e.g., “does it have a length?”) and also defines the possible values\n",
      "for objects of that type.  The \"type()\" function returns an object’s\n",
      "type (which is an object itself).  Like its identity, an object’s\n",
      "*type* is also unchangeable. [1]\n",
      "\n",
      "The *value* of some objects can change.  Objects whose value can\n",
      "change are said to be *mutable*; objects whose value is unchangeable\n",
      "once they are created are called *immutable*. (The value of an\n",
      "immutable container object that contains a reference to a mutable\n",
      "object can change when the latter’s value is changed; however the\n",
      "container is still considered immutable, because the collection of\n",
      "objects it contains cannot be changed.  So, immutability is not\n",
      "strictly the same as having an unchangeable value, it is more subtle.)\n",
      "An object’s mutability is determined by its type; for instance,\n",
      "numbers, strings and tuples are immutable, while dictionaries and\n",
      "lists are mutable.\n",
      "\n",
      "Objects are never explicitly destroyed; however, when they become\n",
      "unreachable they may be garbage-collected.  An implementation is\n",
      "allowed to postpone garbage collection or omit it altogether — it is a\n",
      "matter of implementation quality how garbage collection is\n",
      "implemented, as long as no objects are collected that are still\n",
      "reachable.\n",
      "\n",
      "**CPython implementation detail:** CPython currently uses a reference-\n",
      "counting scheme with (optional) delayed detection of cyclically linked\n",
      "garbage, which collects most objects as soon as they become\n",
      "unreachable, but is not guaranteed to collect garbage containing\n",
      "circular references.  See the documentation of the \"gc\" module for\n",
      "information on controlling the collection of cyclic garbage. Other\n",
      "implementations act differently and CPython may change. Do not depend\n",
      "on immediate finalization of objects when they become unreachable (so\n",
      "you should always close files explicitly).\n",
      "\n",
      "Note that the use of the implementation’s tracing or debugging\n",
      "facilities may keep objects alive that would normally be collectable.\n",
      "Also note that catching an exception with a ‘\"try\"…\"except\"’ statement\n",
      "may keep objects alive.\n",
      "\n",
      "Some objects contain references to “external” resources such as open\n",
      "files or windows.  It is understood that these resources are freed\n",
      "when the object is garbage-collected, but since garbage collection is\n",
      "not guaranteed to happen, such objects also provide an explicit way to\n",
      "release the external resource, usually a \"close()\" method. Programs\n",
      "are strongly recommended to explicitly close such objects.  The\n",
      "‘\"try\"…\"finally\"’ statement and the ‘\"with\"’ statement provide\n",
      "convenient ways to do this.\n",
      "\n",
      "Some objects contain references to other objects; these are called\n",
      "*containers*. Examples of containers are tuples, lists and\n",
      "dictionaries.  The references are part of a container’s value.  In\n",
      "most cases, when we talk about the value of a container, we imply the\n",
      "values, not the identities of the contained objects; however, when we\n",
      "talk about the mutability of a container, only the identities of the\n",
      "immediately contained objects are implied.  So, if an immutable\n",
      "container (like a tuple) contains a reference to a mutable object, its\n",
      "value changes if that mutable object is changed.\n",
      "\n",
      "Types affect almost all aspects of object behavior.  Even the\n",
      "importance of object identity is affected in some sense: for immutable\n",
      "types, operations that compute new values may actually return a\n",
      "reference to any existing object with the same type and value, while\n",
      "for mutable objects this is not allowed.  E.g., after \"a = 1; b = 1\",\n",
      "\"a\" and \"b\" may or may not refer to the same object with the value\n",
      "one, depending on the implementation, but after \"c = []; d = []\", \"c\"\n",
      "and \"d\" are guaranteed to refer to two different, unique, newly\n",
      "created empty lists. (Note that \"c = d = []\" assigns the same object\n",
      "to both \"c\" and \"d\".)\n",
      "\n",
      "Related help topics: TYPES\n",
      "\n",
      "help> math\n",
      "Help on built-in module math:\n",
      "\n",
      "NAME\n",
      "    math\n",
      "\n",
      "DESCRIPTION\n",
      "    This module provides access to the mathematical functions\n",
      "    defined by the C standard.\n",
      "\n",
      "FUNCTIONS\n",
      "    acos(x, /)\n",
      "        Return the arc cosine (measured in radians) of x.\n",
      "    \n",
      "    acosh(x, /)\n",
      "        Return the inverse hyperbolic cosine of x.\n",
      "    \n",
      "    asin(x, /)\n",
      "        Return the arc sine (measured in radians) of x.\n",
      "    \n",
      "    asinh(x, /)\n",
      "        Return the inverse hyperbolic sine of x.\n",
      "    \n",
      "    atan(x, /)\n",
      "        Return the arc tangent (measured in radians) of x.\n",
      "    \n",
      "    atan2(y, x, /)\n",
      "        Return the arc tangent (measured in radians) of y/x.\n",
      "        \n",
      "        Unlike atan(y/x), the signs of both x and y are considered.\n",
      "    \n",
      "    atanh(x, /)\n",
      "        Return the inverse hyperbolic tangent of x.\n",
      "    \n",
      "    ceil(x, /)\n",
      "        Return the ceiling of x as an Integral.\n",
      "        \n",
      "        This is the smallest integer >= x.\n",
      "    \n",
      "    copysign(x, y, /)\n",
      "        Return a float with the magnitude (absolute value) of x but the sign of y.\n",
      "        \n",
      "        On platforms that support signed zeros, copysign(1.0, -0.0)\n",
      "        returns -1.0.\n",
      "    \n",
      "    cos(x, /)\n",
      "        Return the cosine of x (measured in radians).\n",
      "    \n",
      "    cosh(x, /)\n",
      "        Return the hyperbolic cosine of x.\n",
      "    \n",
      "    degrees(x, /)\n",
      "        Convert angle x from radians to degrees.\n",
      "    \n",
      "    erf(x, /)\n",
      "        Error function at x.\n",
      "    \n",
      "    erfc(x, /)\n",
      "        Complementary error function at x.\n",
      "    \n",
      "    exp(x, /)\n",
      "        Return e raised to the power of x.\n",
      "    \n",
      "    expm1(x, /)\n",
      "        Return exp(x)-1.\n",
      "        \n",
      "        This function avoids the loss of precision involved in the direct evaluation of exp(x)-1 for small x.\n",
      "    \n",
      "    fabs(x, /)\n",
      "        Return the absolute value of the float x.\n",
      "    \n",
      "    factorial(x, /)\n",
      "        Find x!.\n",
      "        \n",
      "        Raise a ValueError if x is negative or non-integral.\n",
      "    \n",
      "    floor(x, /)\n",
      "        Return the floor of x as an Integral.\n",
      "        \n",
      "        This is the largest integer <= x.\n",
      "    \n",
      "    fmod(x, y, /)\n",
      "        Return fmod(x, y), according to platform C.\n",
      "        \n",
      "        x % y may differ.\n",
      "    \n",
      "    frexp(x, /)\n",
      "        Return the mantissa and exponent of x, as pair (m, e).\n",
      "        \n",
      "        m is a float and e is an int, such that x = m * 2.**e.\n",
      "        If x is 0, m and e are both 0.  Else 0.5 <= abs(m) < 1.0.\n",
      "    \n",
      "    fsum(seq, /)\n",
      "        Return an accurate floating point sum of values in the iterable seq.\n",
      "        \n",
      "        Assumes IEEE-754 floating point arithmetic.\n",
      "    \n",
      "    gamma(x, /)\n",
      "        Gamma function at x.\n",
      "    \n",
      "    gcd(x, y, /)\n",
      "        greatest common divisor of x and y\n",
      "    \n",
      "    hypot(x, y, /)\n",
      "        Return the Euclidean distance, sqrt(x*x + y*y).\n",
      "    \n",
      "    isclose(a, b, *, rel_tol=1e-09, abs_tol=0.0)\n",
      "        Determine whether two floating point numbers are close in value.\n",
      "        \n",
      "          rel_tol\n",
      "            maximum difference for being considered \"close\", relative to the\n",
      "            magnitude of the input values\n",
      "          abs_tol\n",
      "            maximum difference for being considered \"close\", regardless of the\n",
      "            magnitude of the input values\n",
      "        \n",
      "        Return True if a is close in value to b, and False otherwise.\n",
      "        \n",
      "        For the values to be considered close, the difference between them\n",
      "        must be smaller than at least one of the tolerances.\n",
      "        \n",
      "        -inf, inf and NaN behave similarly to the IEEE 754 Standard.  That\n",
      "        is, NaN is not close to anything, even itself.  inf and -inf are\n",
      "        only close to themselves.\n",
      "    \n",
      "    isfinite(x, /)\n",
      "        Return True if x is neither an infinity nor a NaN, and False otherwise.\n",
      "    \n",
      "    isinf(x, /)\n",
      "        Return True if x is a positive or negative infinity, and False otherwise.\n",
      "    \n",
      "    isnan(x, /)\n",
      "        Return True if x is a NaN (not a number), and False otherwise.\n",
      "    \n",
      "    ldexp(x, i, /)\n",
      "        Return x * (2**i).\n",
      "        \n",
      "        This is essentially the inverse of frexp().\n",
      "    \n",
      "    lgamma(x, /)\n",
      "        Natural logarithm of absolute value of Gamma function at x.\n",
      "    \n",
      "    log(...)\n",
      "        log(x, [base=math.e])\n",
      "        Return the logarithm of x to the given base.\n",
      "        \n",
      "        If the base not specified, returns the natural logarithm (base e) of x.\n",
      "    \n",
      "    log10(x, /)\n",
      "        Return the base 10 logarithm of x.\n",
      "    \n",
      "    log1p(x, /)\n",
      "        Return the natural logarithm of 1+x (base e).\n",
      "        \n",
      "        The result is computed in a way which is accurate for x near zero.\n",
      "    \n",
      "    log2(x, /)\n",
      "        Return the base 2 logarithm of x.\n",
      "    \n",
      "    modf(x, /)\n",
      "        Return the fractional and integer parts of x.\n",
      "        \n",
      "        Both results carry the sign of x and are floats.\n",
      "    \n",
      "    pow(x, y, /)\n",
      "        Return x**y (x to the power of y).\n",
      "    \n",
      "    radians(x, /)\n",
      "        Convert angle x from degrees to radians.\n",
      "    \n",
      "    remainder(x, y, /)\n",
      "        Difference between x and the closest integer multiple of y.\n",
      "        \n",
      "        Return x - n*y where n*y is the closest integer multiple of y.\n",
      "        In the case where x is exactly halfway between two multiples of\n",
      "        y, the nearest even value of n is used. The result is always exact.\n",
      "    \n",
      "    sin(x, /)\n",
      "        Return the sine of x (measured in radians).\n",
      "    \n",
      "    sinh(x, /)\n",
      "        Return the hyperbolic sine of x.\n",
      "    \n",
      "    sqrt(x, /)\n",
      "        Return the square root of x.\n",
      "    \n",
      "    tan(x, /)\n",
      "        Return the tangent of x (measured in radians).\n",
      "    \n",
      "    tanh(x, /)\n",
      "        Return the hyperbolic tangent of x.\n",
      "    \n",
      "    trunc(x, /)\n",
      "        Truncates the Real x to the nearest Integral toward 0.\n",
      "        \n",
      "        Uses the __trunc__ magic method.\n",
      "\n",
      "DATA\n",
      "    e = 2.718281828459045\n",
      "    inf = inf\n",
      "    nan = nan\n",
      "    pi = 3.141592653589793\n",
      "    tau = 6.283185307179586\n",
      "\n",
      "FILE\n",
      "    (built-in)\n",
      "\n",
      "\n",
      "help> quit\n",
      "\n",
      "You are now leaving help and returning to the Python interpreter.\n",
      "If you want to ask for help on a particular object directly from the\n",
      "interpreter, you can type \"help(object)\".  Executing \"help('string')\"\n",
      "has the same effect as typing a particular string at the help> prompt.\n"
     ]
    }
   ],
   "source": [
    "help()"
   ]
  },
  {
   "cell_type": "code",
   "execution_count": null,
   "metadata": {
    "colab": {
     "base_uri": "https://localhost:8080/"
    },
    "executionInfo": {
     "elapsed": 575,
     "status": "ok",
     "timestamp": 1615467368242,
     "user": {
      "displayName": "Anastasiia Chernysheva",
      "photoUrl": "https://lh3.googleusercontent.com/a-/AOh14GhHyHwY-PuMRWX3mjSyss6pojv4D8xrqnEXatqg=s64",
      "userId": "13831218637705529605"
     },
     "user_tz": -180
    },
    "id": "8_8TYu40W7E2",
    "outputId": "e12947e2-88cb-4cce-c5a7-0a5b9f832c65"
   },
   "outputs": [
    {
     "name": "stdout",
     "output_type": "stream",
     "text": [
      "Help on built-in module math:\n",
      "\n",
      "NAME\n",
      "    math\n",
      "\n",
      "DESCRIPTION\n",
      "    This module provides access to the mathematical functions\n",
      "    defined by the C standard.\n",
      "\n",
      "FUNCTIONS\n",
      "    acos(x, /)\n",
      "        Return the arc cosine (measured in radians) of x.\n",
      "    \n",
      "    acosh(x, /)\n",
      "        Return the inverse hyperbolic cosine of x.\n",
      "    \n",
      "    asin(x, /)\n",
      "        Return the arc sine (measured in radians) of x.\n",
      "    \n",
      "    asinh(x, /)\n",
      "        Return the inverse hyperbolic sine of x.\n",
      "    \n",
      "    atan(x, /)\n",
      "        Return the arc tangent (measured in radians) of x.\n",
      "    \n",
      "    atan2(y, x, /)\n",
      "        Return the arc tangent (measured in radians) of y/x.\n",
      "        \n",
      "        Unlike atan(y/x), the signs of both x and y are considered.\n",
      "    \n",
      "    atanh(x, /)\n",
      "        Return the inverse hyperbolic tangent of x.\n",
      "    \n",
      "    ceil(x, /)\n",
      "        Return the ceiling of x as an Integral.\n",
      "        \n",
      "        This is the smallest integer >= x.\n",
      "    \n",
      "    copysign(x, y, /)\n",
      "        Return a float with the magnitude (absolute value) of x but the sign of y.\n",
      "        \n",
      "        On platforms that support signed zeros, copysign(1.0, -0.0)\n",
      "        returns -1.0.\n",
      "    \n",
      "    cos(x, /)\n",
      "        Return the cosine of x (measured in radians).\n",
      "    \n",
      "    cosh(x, /)\n",
      "        Return the hyperbolic cosine of x.\n",
      "    \n",
      "    degrees(x, /)\n",
      "        Convert angle x from radians to degrees.\n",
      "    \n",
      "    erf(x, /)\n",
      "        Error function at x.\n",
      "    \n",
      "    erfc(x, /)\n",
      "        Complementary error function at x.\n",
      "    \n",
      "    exp(x, /)\n",
      "        Return e raised to the power of x.\n",
      "    \n",
      "    expm1(x, /)\n",
      "        Return exp(x)-1.\n",
      "        \n",
      "        This function avoids the loss of precision involved in the direct evaluation of exp(x)-1 for small x.\n",
      "    \n",
      "    fabs(x, /)\n",
      "        Return the absolute value of the float x.\n",
      "    \n",
      "    factorial(x, /)\n",
      "        Find x!.\n",
      "        \n",
      "        Raise a ValueError if x is negative or non-integral.\n",
      "    \n",
      "    floor(x, /)\n",
      "        Return the floor of x as an Integral.\n",
      "        \n",
      "        This is the largest integer <= x.\n",
      "    \n",
      "    fmod(x, y, /)\n",
      "        Return fmod(x, y), according to platform C.\n",
      "        \n",
      "        x % y may differ.\n",
      "    \n",
      "    frexp(x, /)\n",
      "        Return the mantissa and exponent of x, as pair (m, e).\n",
      "        \n",
      "        m is a float and e is an int, such that x = m * 2.**e.\n",
      "        If x is 0, m and e are both 0.  Else 0.5 <= abs(m) < 1.0.\n",
      "    \n",
      "    fsum(seq, /)\n",
      "        Return an accurate floating point sum of values in the iterable seq.\n",
      "        \n",
      "        Assumes IEEE-754 floating point arithmetic.\n",
      "    \n",
      "    gamma(x, /)\n",
      "        Gamma function at x.\n",
      "    \n",
      "    gcd(x, y, /)\n",
      "        greatest common divisor of x and y\n",
      "    \n",
      "    hypot(x, y, /)\n",
      "        Return the Euclidean distance, sqrt(x*x + y*y).\n",
      "    \n",
      "    isclose(a, b, *, rel_tol=1e-09, abs_tol=0.0)\n",
      "        Determine whether two floating point numbers are close in value.\n",
      "        \n",
      "          rel_tol\n",
      "            maximum difference for being considered \"close\", relative to the\n",
      "            magnitude of the input values\n",
      "          abs_tol\n",
      "            maximum difference for being considered \"close\", regardless of the\n",
      "            magnitude of the input values\n",
      "        \n",
      "        Return True if a is close in value to b, and False otherwise.\n",
      "        \n",
      "        For the values to be considered close, the difference between them\n",
      "        must be smaller than at least one of the tolerances.\n",
      "        \n",
      "        -inf, inf and NaN behave similarly to the IEEE 754 Standard.  That\n",
      "        is, NaN is not close to anything, even itself.  inf and -inf are\n",
      "        only close to themselves.\n",
      "    \n",
      "    isfinite(x, /)\n",
      "        Return True if x is neither an infinity nor a NaN, and False otherwise.\n",
      "    \n",
      "    isinf(x, /)\n",
      "        Return True if x is a positive or negative infinity, and False otherwise.\n",
      "    \n",
      "    isnan(x, /)\n",
      "        Return True if x is a NaN (not a number), and False otherwise.\n",
      "    \n",
      "    ldexp(x, i, /)\n",
      "        Return x * (2**i).\n",
      "        \n",
      "        This is essentially the inverse of frexp().\n",
      "    \n",
      "    lgamma(x, /)\n",
      "        Natural logarithm of absolute value of Gamma function at x.\n",
      "    \n",
      "    log(...)\n",
      "        log(x, [base=math.e])\n",
      "        Return the logarithm of x to the given base.\n",
      "        \n",
      "        If the base not specified, returns the natural logarithm (base e) of x.\n",
      "    \n",
      "    log10(x, /)\n",
      "        Return the base 10 logarithm of x.\n",
      "    \n",
      "    log1p(x, /)\n",
      "        Return the natural logarithm of 1+x (base e).\n",
      "        \n",
      "        The result is computed in a way which is accurate for x near zero.\n",
      "    \n",
      "    log2(x, /)\n",
      "        Return the base 2 logarithm of x.\n",
      "    \n",
      "    modf(x, /)\n",
      "        Return the fractional and integer parts of x.\n",
      "        \n",
      "        Both results carry the sign of x and are floats.\n",
      "    \n",
      "    pow(x, y, /)\n",
      "        Return x**y (x to the power of y).\n",
      "    \n",
      "    radians(x, /)\n",
      "        Convert angle x from degrees to radians.\n",
      "    \n",
      "    remainder(x, y, /)\n",
      "        Difference between x and the closest integer multiple of y.\n",
      "        \n",
      "        Return x - n*y where n*y is the closest integer multiple of y.\n",
      "        In the case where x is exactly halfway between two multiples of\n",
      "        y, the nearest even value of n is used. The result is always exact.\n",
      "    \n",
      "    sin(x, /)\n",
      "        Return the sine of x (measured in radians).\n",
      "    \n",
      "    sinh(x, /)\n",
      "        Return the hyperbolic sine of x.\n",
      "    \n",
      "    sqrt(x, /)\n",
      "        Return the square root of x.\n",
      "    \n",
      "    tan(x, /)\n",
      "        Return the tangent of x (measured in radians).\n",
      "    \n",
      "    tanh(x, /)\n",
      "        Return the hyperbolic tangent of x.\n",
      "    \n",
      "    trunc(x, /)\n",
      "        Truncates the Real x to the nearest Integral toward 0.\n",
      "        \n",
      "        Uses the __trunc__ magic method.\n",
      "\n",
      "DATA\n",
      "    e = 2.718281828459045\n",
      "    inf = inf\n",
      "    nan = nan\n",
      "    pi = 3.141592653589793\n",
      "    tau = 6.283185307179586\n",
      "\n",
      "FILE\n",
      "    (built-in)\n",
      "\n",
      "\n"
     ]
    }
   ],
   "source": [
    "help(math)"
   ]
  },
  {
   "cell_type": "markdown",
   "metadata": {
    "id": "2rXagQPpXE4s"
   },
   "source": [
    "## Другие полезные модули"
   ]
  },
  {
   "cell_type": "markdown",
   "metadata": {
    "id": "APhVFf0GXIuc"
   },
   "source": [
    "Помимо математики, в Python есть масса полезных вещей. Их можно поизучать самостоятельно. Например:\n",
    "- Модуль `sqlite3` умеет работать с базами данных типа SQLite\n",
    "- Модуль `datetime` может работать с датами и временем\n",
    "- Модуль `tkinter` позволяет создавать простые оконные приложения\n",
    "- Модуль `re` может проводить сложный поиск по строкам с помощью регулярных выражений\n",
    "- Модуль `zlib` сжимает файлы как архиватор\n",
    "- Модуль `os` позволяет взаимодействовать с операционной системой"
   ]
  }
 ],
 "metadata": {
  "colab": {
   "authorship_tag": "ABX9TyMDYdtitaoiI/MRqTFhFhG1",
   "name": "Тема 11. Работа с модулями.ipynb",
   "provenance": []
  },
  "kernelspec": {
   "display_name": "Python 3",
   "name": "python3"
  }
 },
 "nbformat": 4,
 "nbformat_minor": 0
}
