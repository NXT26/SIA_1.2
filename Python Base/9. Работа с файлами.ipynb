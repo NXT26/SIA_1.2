{
 "cells": [
  {
   "cell_type": "markdown",
   "metadata": {
    "id": "N8tKRweHZaY6"
   },
   "source": [
    "# Файлы"
   ]
  },
  {
   "cell_type": "markdown",
   "metadata": {
    "id": "RoaBXv5-Zjbp"
   },
   "source": [
    "В жизни довольно редко информация остается внутри программы. Мы пишем программу, чтобы упростить обработку каких-то данных, а значит, получаем на вход данные откуда-то извне и после обработки должны отдать их миру.\n",
    "\n",
    "В компьютере любая информация хранится в файлах самых разнообразных форматов. Обычно файлы делятся на две группы:\n",
    "\n",
    "\n",
    "*   ***текстовые*** (txt, csv, xlsx, doc, html и др.) - в них хранится информация, которую может прочитать человек.\n",
    "*   ***двоичные*** - в них хранится любая не текстовая информация, т.к. если информация не является текстом, то хранится в закодированном виде. Это фильмы, музыка, изображения, программы и многое другое.\n",
    "\n"
   ]
  },
  {
   "cell_type": "markdown",
   "metadata": {
    "id": "GC_v1bc6a05U"
   },
   "source": [
    "# Этапы работы с файлами\n",
    "\n"
   ]
  },
  {
   "cell_type": "markdown",
   "metadata": {
    "id": "0_jJCtNba6OF"
   },
   "source": [
    "\n",
    "\n",
    "1.   Открытие файла\n",
    "2.   Запись в файл\n",
    "2.   Чтение из файла\n",
    "3.   Закрытие файла\n",
    "\n",
    "\n",
    "\n"
   ]
  },
  {
   "cell_type": "markdown",
   "metadata": {
    "id": "n0rlpsUWbFND"
   },
   "source": [
    "###Открытие файла"
   ]
  },
  {
   "cell_type": "markdown",
   "metadata": {
    "id": "tJYe6a2obSeV"
   },
   "source": [
    "Первое, что нужно сделать с файлом, чтобы как-то с ним работать - это открыть файл. Неважно, читаете вы информацию из файла или записываете, существовал раньше файл или нет - первым делом его надо открыть.\n",
    "\n",
    "Для открытия файла существует функция **`open()`**. Она принимает два обязательных параметра - путь к файлу и режим открытия."
   ]
  },
  {
   "cell_type": "markdown",
   "metadata": {
    "id": "E05GBnNAbv6k"
   },
   "source": [
    "***Путь к файлу*** - указывает на место хранения файла в файловой системе компьютера.\n",
    "\n",
    "Путь к файлу можно указать двумя способами:\n",
    "\n",
    "\n",
    "1.   ***Абсолютный*** - начинается с буквы диска и содержит полный путь по каталогам к файлу. Имеет такой вид: `Диск:/Папка1/Папка2/Папка3/название_файла.расширение`. Пример: `C:/PycharmProjects/AIP/tasks/main.py`.\n",
    "2.   ***Относительный*** - поиск файла ведется начиная с каталога, в котором лежит файл программы. Пример: `tasks/main.py`, если мы уже находимся в каталоге `C:/PycharmProjects/AIP`.\n",
    "\n",
    "Относительный путь используется чаще, т.к. абсолютный адрес меняется в тот момент, когда перемещается файл или папка, в котором он лежит. Заранее невозможно предугадать, где окажется файл.\n",
    "\n",
    "> Относительные пути поддерживают переход в верхнюю папку, для этого нужно указать две точки `..` как название папки.\n",
    "\n",
    "\n",
    "\n"
   ]
  },
  {
   "cell_type": "markdown",
   "metadata": {
    "id": "TbRRVvgmeHNV"
   },
   "source": [
    "***Режим открытия файла*** - определяет, как файл будет использоваться в программе.\n",
    "\n",
    "Существует 4 основных режима откртия файлов:\n",
    "\n",
    "\n",
    "1.   **`r`** - чтение файла\n",
    "2.   **`w`** - очистка содержимого файла и запись в него\n",
    "3.   **`a`** - запись в конец файла и его создание при необходимости\n",
    "4.   **`x`** - создание нового файла и запись в него (ошибка, если файл уже существует)\n",
    "\n",
    "Есть еще три дополнительных режима, которые можно комбинировать с основными и друг с другом:\n",
    "\n",
    "\n",
    "\n",
    "1.   **`t`** - открыть файл как текстовый (по умолчанию)\n",
    "2.   **`b`** - открыть файл как двоичный\n",
    "3.   **`+`** - открыть файл как на чтение, так и на запись\n",
    "\n",
    "\n",
    "\n"
   ]
  },
  {
   "cell_type": "code",
   "execution_count": 1,
   "metadata": {
    "executionInfo": {
     "elapsed": 1345,
     "status": "ok",
     "timestamp": 1615302395232,
     "user": {
      "displayName": "Anastasiia Chernysheva",
      "photoUrl": "https://lh3.googleusercontent.com/a-/AOh14GhHyHwY-PuMRWX3mjSyss6pojv4D8xrqnEXatqg=s64",
      "userId": "13831218637705529605"
     },
     "user_tz": -180
    },
    "id": "EBJWk4KPfQHW"
   },
   "outputs": [],
   "source": [
    "file = open(\"data1.txt\", \"x\", encoding=\"utf-8\")"
   ]
  },
  {
   "cell_type": "markdown",
   "metadata": {
    "id": "0lm44nopgF2i"
   },
   "source": [
    "## Запись в файл"
   ]
  },
  {
   "cell_type": "markdown",
   "metadata": {
    "id": "y35aFN67h0k7"
   },
   "source": [
    "Самый простой способ записать что-то в файл - использовать метод **`write()`**."
   ]
  },
  {
   "cell_type": "code",
   "execution_count": 3,
   "metadata": {
    "executionInfo": {
     "elapsed": 638,
     "status": "ok",
     "timestamp": 1615303570360,
     "user": {
      "displayName": "Anastasiia Chernysheva",
      "photoUrl": "https://lh3.googleusercontent.com/a-/AOh14GhHyHwY-PuMRWX3mjSyss6pojv4D8xrqnEXatqg=s64",
      "userId": "13831218637705529605"
     },
     "user_tz": -180
    },
    "id": "L53BCan_iU_H"
   },
   "outputs": [],
   "source": [
    "file = open(\"data1.txt\", \"w\")\n",
    "\n",
    "file.write(\"Hello World!\\n\")\n",
    "file.write(\"Hello Universe!\")\n",
    "\n",
    "file.close()"
   ]
  },
  {
   "cell_type": "markdown",
   "metadata": {
    "id": "Uv0i11Krio0Q"
   },
   "source": [
    "Чтобы добавить перенос строки, надо использовать спецсимвол.\n",
    "\n",
    "Для записи в файл списка строк, можно использовать метод **`writelines()`**."
   ]
  },
  {
   "cell_type": "code",
   "execution_count": 4,
   "metadata": {
    "executionInfo": {
     "elapsed": 618,
     "status": "ok",
     "timestamp": 1615303643667,
     "user": {
      "displayName": "Anastasiia Chernysheva",
      "photoUrl": "https://lh3.googleusercontent.com/a-/AOh14GhHyHwY-PuMRWX3mjSyss6pojv4D8xrqnEXatqg=s64",
      "userId": "13831218637705529605"
     },
     "user_tz": -180
    },
    "id": "QLPYiqAni3ro"
   },
   "outputs": [],
   "source": [
    "file = open(\"data1.txt\", \"w\")\n",
    "file.writelines([\"world\\n\", \"universe\"])\n",
    "file.close()"
   ]
  },
  {
   "cell_type": "markdown",
   "metadata": {
    "id": "8GlPzwLojmJb"
   },
   "source": [
    "Еще в файл можно записвать с помощью функции **`print()`**, указав именованный аргумент **`file`**. Указывать в нем нужно переменную, а не путь."
   ]
  },
  {
   "cell_type": "code",
   "execution_count": 7,
   "metadata": {
    "colab": {
     "base_uri": "https://localhost:8080/"
    },
    "executionInfo": {
     "elapsed": 5109,
     "status": "ok",
     "timestamp": 1615303833174,
     "user": {
      "displayName": "Anastasiia Chernysheva",
      "photoUrl": "https://lh3.googleusercontent.com/a-/AOh14GhHyHwY-PuMRWX3mjSyss6pojv4D8xrqnEXatqg=s64",
      "userId": "13831218637705529605"
     },
     "user_tz": -180
    },
    "id": "3gDST0_aj0mD",
    "outputId": "3aa1c0c1-bcf5-4070-a162-e2e67a5dbaf3"
   },
   "outputs": [
    {
     "name": "stdout",
     "output_type": "stream",
     "text": [
      "46541654\n"
     ]
    }
   ],
   "source": [
    "data = open(\"data1.txt\", \"w\")\n",
    "\n",
    "print(\"February\", file=data)\n",
    "print(int(input()), file=data)\n",
    "\n",
    "data.close()"
   ]
  },
  {
   "cell_type": "markdown",
   "metadata": {
    "id": "2cSDqEi-kLix"
   },
   "source": [
    "Как видим, можно не добавлять перенос строки. \n",
    "Функция **`print()`** работает точно так же, как для вывода информации на экран.Удобно."
   ]
  },
  {
   "cell_type": "code",
   "execution_count": 8,
   "metadata": {
    "executionInfo": {
     "elapsed": 942,
     "status": "ok",
     "timestamp": 1615303886105,
     "user": {
      "displayName": "Anastasiia Chernysheva",
      "photoUrl": "https://lh3.googleusercontent.com/a-/AOh14GhHyHwY-PuMRWX3mjSyss6pojv4D8xrqnEXatqg=s64",
      "userId": "13831218637705529605"
     },
     "user_tz": -180
    },
    "id": "BM6Ie1H8kQiB"
   },
   "outputs": [],
   "source": [
    "data = open(\"data1.txt\", \"w\")\n",
    "\n",
    "print(\"Январь\", \"Февраль\", \"Март\", \"Апрель\", \"Май\", sep=\"\\n\", file=data)\n",
    "\n",
    "data.close()"
   ]
  },
  {
   "cell_type": "markdown",
   "metadata": {
    "id": "xZfJkT_zgKao"
   },
   "source": [
    "## Чтение из файла"
   ]
  },
  {
   "cell_type": "markdown",
   "metadata": {
    "id": "eEwx6BFJk9ct"
   },
   "source": [
    "Чтобы прочитать весь файл сразу, можно использовать метод **`read()`**."
   ]
  },
  {
   "cell_type": "code",
   "execution_count": 9,
   "metadata": {
    "colab": {
     "base_uri": "https://localhost:8080/"
    },
    "executionInfo": {
     "elapsed": 783,
     "status": "ok",
     "timestamp": 1615304140078,
     "user": {
      "displayName": "Anastasiia Chernysheva",
      "photoUrl": "https://lh3.googleusercontent.com/a-/AOh14GhHyHwY-PuMRWX3mjSyss6pojv4D8xrqnEXatqg=s64",
      "userId": "13831218637705529605"
     },
     "user_tz": -180
    },
    "id": "LjIIyVOLlaSL",
    "outputId": "ab4b4716-9092-4c49-d8cb-fc8692a45f2e"
   },
   "outputs": [
    {
     "name": "stdout",
     "output_type": "stream",
     "text": [
      "Январь\n",
      "Февраль\n",
      "Март\n",
      "Апрель\n",
      "Май\n",
      "\n"
     ]
    }
   ],
   "source": [
    "data = open(\"data1.txt\", \"r\")\n",
    "content = data.read()\n",
    "data.close()\n",
    "print(content)"
   ]
  },
  {
   "cell_type": "markdown",
   "metadata": {
    "id": "hNY_8odJlmkP"
   },
   "source": [
    "Этот метод не удобно использовать, если в файле больше одной строки, т.к. для обработки строки придется самостоятельно разбивать.\n",
    "Чтобы прочитать файл в список строк, есть метод **`readlines()`**."
   ]
  },
  {
   "cell_type": "code",
   "execution_count": null,
   "metadata": {
    "colab": {
     "base_uri": "https://localhost:8080/"
    },
    "executionInfo": {
     "elapsed": 878,
     "status": "ok",
     "timestamp": 1614872362067,
     "user": {
      "displayName": "Anastasiia Chernysheva",
      "photoUrl": "https://lh3.googleusercontent.com/a-/AOh14GhHyHwY-PuMRWX3mjSyss6pojv4D8xrqnEXatqg=s64",
      "userId": "13831218637705529605"
     },
     "user_tz": -180
    },
    "id": "hkCpNlt7l4_F",
    "outputId": "cb6d0fe3-87bd-4608-9e5c-e46773c98406"
   },
   "outputs": [
    {
     "name": "stdout",
     "output_type": "stream",
     "text": [
      "['Январь\\n', 'Февраль\\n', 'Март\\n', 'Апрель\\n', 'Май\\n']\n"
     ]
    }
   ],
   "source": [
    "data = open(\"data1.txt\", \"r\")\n",
    "content = data.readlines()\n",
    "data.close()\n",
    "print(content)"
   ]
  },
  {
   "cell_type": "markdown",
   "metadata": {
    "id": "o9fvM-r6l-Gf"
   },
   "source": [
    "Единственный минус - метод читает перенос на новую строку как символ и оставляет его в строке. Но у нас есть метод **`rstrip()`**, который поможет это исправить."
   ]
  },
  {
   "cell_type": "code",
   "execution_count": 10,
   "metadata": {
    "colab": {
     "base_uri": "https://localhost:8080/"
    },
    "executionInfo": {
     "elapsed": 844,
     "status": "ok",
     "timestamp": 1615304291970,
     "user": {
      "displayName": "Anastasiia Chernysheva",
      "photoUrl": "https://lh3.googleusercontent.com/a-/AOh14GhHyHwY-PuMRWX3mjSyss6pojv4D8xrqnEXatqg=s64",
      "userId": "13831218637705529605"
     },
     "user_tz": -180
    },
    "id": "q9-eDnYHmQdl",
    "outputId": "f79ae952-e9a8-492c-dfaf-16bdc4e5fad2"
   },
   "outputs": [
    {
     "name": "stdout",
     "output_type": "stream",
     "text": [
      "['Январь', 'Февраль', 'Март', 'Апрель', 'Май']\n"
     ]
    }
   ],
   "source": [
    "data = open(\"data1.txt\", \"r\")\n",
    "content = [line.rstrip() for line in data.readlines()]\n",
    "data.close()\n",
    "print(content)"
   ]
  },
  {
   "cell_type": "markdown",
   "metadata": {
    "id": "inYOOVdOmfQK"
   },
   "source": [
    "Методы **`read()`** и **`readlines()`** удобны для работы с небольшими файлами. Но если файл занимает гигабайты памяти, то чтение всего содержимого файла сразу переполнит оперативную память. Значит, надо читать файлы построчно.\n",
    "\n",
    "\n",
    "*   можно воспользоваться циклом **`for`**\n",
    "*   можно воспользоваться методом **`readline()`**\n",
    "\n"
   ]
  },
  {
   "cell_type": "code",
   "execution_count": 11,
   "metadata": {
    "colab": {
     "base_uri": "https://localhost:8080/"
    },
    "executionInfo": {
     "elapsed": 667,
     "status": "ok",
     "timestamp": 1615304404102,
     "user": {
      "displayName": "Anastasiia Chernysheva",
      "photoUrl": "https://lh3.googleusercontent.com/a-/AOh14GhHyHwY-PuMRWX3mjSyss6pojv4D8xrqnEXatqg=s64",
      "userId": "13831218637705529605"
     },
     "user_tz": -180
    },
    "id": "jWiqhSAenIDR",
    "outputId": "ad987779-d1fa-4571-c568-3d3d08b97f80"
   },
   "outputs": [
    {
     "name": "stdout",
     "output_type": "stream",
     "text": [
      "Январь\n",
      "\n",
      "Февраль\n",
      "\n",
      "Март\n",
      "\n",
      "Апрель\n",
      "\n",
      "Май\n",
      "\n"
     ]
    }
   ],
   "source": [
    "data = open(\"data1.txt\", \"r\")\n",
    "\n",
    "for line in data:\n",
    "  print(line)\n",
    "\n",
    "data.close()"
   ]
  },
  {
   "cell_type": "markdown",
   "metadata": {
    "id": "KxPgh86pnTmX"
   },
   "source": [
    "Лишний **`\\n`** никуда не исчез, поэтому не забываем про **`rstrip()`**."
   ]
  },
  {
   "cell_type": "code",
   "execution_count": null,
   "metadata": {
    "colab": {
     "base_uri": "https://localhost:8080/"
    },
    "executionInfo": {
     "elapsed": 607,
     "status": "ok",
     "timestamp": 1614850959346,
     "user": {
      "displayName": "Anastasiia Chernysheva",
      "photoUrl": "https://lh3.googleusercontent.com/a-/AOh14GhHyHwY-PuMRWX3mjSyss6pojv4D8xrqnEXatqg=s64",
      "userId": "13831218637705529605"
     },
     "user_tz": -180
    },
    "id": "PjuIHm8Gnfx6",
    "outputId": "3539ee11-8740-4ca4-f34e-77deff469577"
   },
   "outputs": [
    {
     "name": "stdout",
     "output_type": "stream",
     "text": [
      "Январь\n",
      "Февраль\n",
      "Март\n",
      "Апрель\n",
      "Май\n"
     ]
    }
   ],
   "source": [
    "data = open(\"data.txt\", \"r\")\n",
    "\n",
    "for line in data:\n",
    "  print(line.rstrip())\n",
    "\n",
    "data.close()"
   ]
  },
  {
   "cell_type": "code",
   "execution_count": 12,
   "metadata": {
    "colab": {
     "base_uri": "https://localhost:8080/"
    },
    "executionInfo": {
     "elapsed": 853,
     "status": "ok",
     "timestamp": 1615304477665,
     "user": {
      "displayName": "Anastasiia Chernysheva",
      "photoUrl": "https://lh3.googleusercontent.com/a-/AOh14GhHyHwY-PuMRWX3mjSyss6pojv4D8xrqnEXatqg=s64",
      "userId": "13831218637705529605"
     },
     "user_tz": -180
    },
    "id": "D4JrMQTYnj9E",
    "outputId": "2824b2a2-745e-4be7-f90a-5183b74295e3"
   },
   "outputs": [
    {
     "name": "stdout",
     "output_type": "stream",
     "text": [
      "Январь Февраль\n"
     ]
    }
   ],
   "source": [
    "data = open(\"data1.txt\", \"r\")\n",
    "\n",
    "jan = data.readline().rstrip()\n",
    "feb = data.readline().rstrip()\n",
    "\n",
    "print(jan, feb)\n",
    "\n",
    "data.close()"
   ]
  },
  {
   "cell_type": "markdown",
   "metadata": {
    "id": "3PCd9X55gNMH"
   },
   "source": [
    "## Закрытие файла"
   ]
  },
  {
   "cell_type": "markdown",
   "metadata": {
    "id": "S6FaYUZVgRw_"
   },
   "source": [
    "Когда работа с файлом завершена, файл нужно закрыть. Таким образом мы говорим, что файл больше никак не связан с программой. Закрыть файл можно с помощью метода **`close()`**."
   ]
  },
  {
   "cell_type": "code",
   "execution_count": null,
   "metadata": {
    "id": "V0WVf6k2gmO3"
   },
   "outputs": [],
   "source": [
    "file = open(\"data1.txt\", \"r\")\n",
    "file.close()"
   ]
  },
  {
   "cell_type": "markdown",
   "metadata": {
    "id": "NHBg_L5TguyZ"
   },
   "source": [
    "\n",
    "> Если не закрыть файл, часть данных может в него не записаться.\n",
    "\n",
    "> В закрытый файл нельзя ничего записать.\n",
    "\n",
    "Проверить, закрыт ли файл, можно при помощи свойства **`closed`**.\n",
    "\n",
    "\n"
   ]
  },
  {
   "cell_type": "code",
   "execution_count": null,
   "metadata": {
    "colab": {
     "base_uri": "https://localhost:8080/"
    },
    "executionInfo": {
     "elapsed": 771,
     "status": "ok",
     "timestamp": 1614872661257,
     "user": {
      "displayName": "Anastasiia Chernysheva",
      "photoUrl": "https://lh3.googleusercontent.com/a-/AOh14GhHyHwY-PuMRWX3mjSyss6pojv4D8xrqnEXatqg=s64",
      "userId": "13831218637705529605"
     },
     "user_tz": -180
    },
    "id": "Yp6JTIUThO6B",
    "outputId": "8558f25d-992d-455f-884f-c4f9587bb685"
   },
   "outputs": [
    {
     "name": "stdout",
     "output_type": "stream",
     "text": [
      "False\n"
     ]
    }
   ],
   "source": [
    "file = open(\"data1.txt\", \"r\")\n",
    "print(file.closed)"
   ]
  },
  {
   "cell_type": "code",
   "execution_count": null,
   "metadata": {
    "colab": {
     "base_uri": "https://localhost:8080/"
    },
    "executionInfo": {
     "elapsed": 661,
     "status": "ok",
     "timestamp": 1614872667295,
     "user": {
      "displayName": "Anastasiia Chernysheva",
      "photoUrl": "https://lh3.googleusercontent.com/a-/AOh14GhHyHwY-PuMRWX3mjSyss6pojv4D8xrqnEXatqg=s64",
      "userId": "13831218637705529605"
     },
     "user_tz": -180
    },
    "id": "NphoVxp8hYRB",
    "outputId": "e97fb913-9932-4ade-99f3-1b75d6461285"
   },
   "outputs": [
    {
     "name": "stdout",
     "output_type": "stream",
     "text": [
      "True\n"
     ]
    }
   ],
   "source": [
    "file.close()\n",
    "print(file.closed)"
   ]
  }
 ],
 "metadata": {
  "colab": {
   "authorship_tag": "ABX9TyNJjDEtyXmXCF6zMgIYV0TJ",
   "collapsed_sections": [],
   "name": "Тема 10. Работа с файлами.ipynb",
   "provenance": []
  },
  "kernelspec": {
   "display_name": "Python 3",
   "name": "python3"
  }
 },
 "nbformat": 4,
 "nbformat_minor": 0
}
