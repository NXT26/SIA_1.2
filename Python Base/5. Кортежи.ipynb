{
 "cells": [
  {
   "cell_type": "markdown",
   "metadata": {
    "id": "YcYUc9VfBO6I"
   },
   "source": [
    "**КОРТЕЖИ**\n",
    "\n",
    "\n",
    "> **Кортеж** - НЕизменяемая структура данных. В остальном - совсем как список. Отличие: кортежи занимают меньше места в памяти.\n",
    "\n"
   ]
  },
  {
   "cell_type": "code",
   "execution_count": null,
   "metadata": {
    "colab": {
     "base_uri": "https://localhost:8080/"
    },
    "executionInfo": {
     "elapsed": 602,
     "status": "ok",
     "timestamp": 1608640010133,
     "user": {
      "displayName": "Anastasiia Chernysheva",
      "photoUrl": "https://lh3.googleusercontent.com/a-/AOh14GhHyHwY-PuMRWX3mjSyss6pojv4D8xrqnEXatqg=s64",
      "userId": "13831218637705529605"
     },
     "user_tz": -180
    },
    "id": "BXWPbxhXRVAX",
    "outputId": "a3825df5-5fe6-4ce6-eebe-5e1262c11a4b"
   },
   "outputs": [
    {
     "name": "stdout",
     "output_type": "stream",
     "text": [
      "[1, 2, 3]: 64\n",
      "(1, 2, 3): 48\n",
      "28\n"
     ]
    }
   ],
   "source": [
    "list1 = [1, 2, 3]\n",
    "tup1 = 1, 2, 3\n",
    "print(list1, list1.__sizeof__(), sep=\": \")  # метод __sizeof__() применяется ко всем типам данных и возвращает размер объекта в байтах\n",
    "print(tup1, tup1.__sizeof__(), sep=\": \")\n",
    "a = 1\n",
    "print(a.__sizeof__())"
   ]
  },
  {
   "cell_type": "code",
   "execution_count": null,
   "metadata": {
    "colab": {
     "base_uri": "https://localhost:8080/"
    },
    "executionInfo": {
     "elapsed": 986,
     "status": "ok",
     "timestamp": 1608637370713,
     "user": {
      "displayName": "Anastasiia Chernysheva",
      "photoUrl": "https://lh3.googleusercontent.com/a-/AOh14GhHyHwY-PuMRWX3mjSyss6pojv4D8xrqnEXatqg=s64",
      "userId": "13831218637705529605"
     },
     "user_tz": -180
    },
    "id": "lbBTIgPpBAwx",
    "outputId": "4f831f24-d198-4ac2-d5f3-fa93c22365e6"
   },
   "outputs": [
    {
     "name": "stdout",
     "output_type": "stream",
     "text": [
      "(1, 2)\n"
     ]
    }
   ],
   "source": [
    "tup = 1, 2\n",
    "print(tup)"
   ]
  },
  {
   "cell_type": "code",
   "execution_count": null,
   "metadata": {
    "colab": {
     "base_uri": "https://localhost:8080/"
    },
    "executionInfo": {
     "elapsed": 613,
     "status": "ok",
     "timestamp": 1608638447024,
     "user": {
      "displayName": "Anastasiia Chernysheva",
      "photoUrl": "https://lh3.googleusercontent.com/a-/AOh14GhHyHwY-PuMRWX3mjSyss6pojv4D8xrqnEXatqg=s64",
      "userId": "13831218637705529605"
     },
     "user_tz": -180
    },
    "id": "s1TM3bFSUpBD",
    "outputId": "98b4514c-fdae-4df7-e45d-9e3e93433bd5"
   },
   "outputs": [
    {
     "name": "stdout",
     "output_type": "stream",
     "text": [
      "(1, 2, 4)\n"
     ]
    }
   ],
   "source": [
    "tup = (1, 2, 4)\n",
    "print(tup)"
   ]
  },
  {
   "cell_type": "code",
   "execution_count": null,
   "metadata": {
    "colab": {
     "base_uri": "https://localhost:8080/"
    },
    "executionInfo": {
     "elapsed": 566,
     "status": "ok",
     "timestamp": 1608637464989,
     "user": {
      "displayName": "Anastasiia Chernysheva",
      "photoUrl": "https://lh3.googleusercontent.com/a-/AOh14GhHyHwY-PuMRWX3mjSyss6pojv4D8xrqnEXatqg=s64",
      "userId": "13831218637705529605"
     },
     "user_tz": -180
    },
    "id": "Lp8SbH4LExjC",
    "outputId": "8c48c211-c33c-4946-8607-af04ee77b292"
   },
   "outputs": [
    {
     "name": "stdout",
     "output_type": "stream",
     "text": [
      "()\n",
      "()\n"
     ]
    }
   ],
   "source": [
    "tup1 = ()\n",
    "tup2 = tuple()\n",
    "print(tup1)\n",
    "print(tup2)"
   ]
  },
  {
   "cell_type": "code",
   "execution_count": null,
   "metadata": {
    "colab": {
     "base_uri": "https://localhost:8080/"
    },
    "executionInfo": {
     "elapsed": 902,
     "status": "ok",
     "timestamp": 1608819511445,
     "user": {
      "displayName": "Anastasiia Chernysheva",
      "photoUrl": "https://lh3.googleusercontent.com/a-/AOh14GhHyHwY-PuMRWX3mjSyss6pojv4D8xrqnEXatqg=s64",
      "userId": "13831218637705529605"
     },
     "user_tz": -180
    },
    "id": "ahFXA0XxUtdr",
    "outputId": "eb8de1ea-977e-4173-92b9-4daed95711d0"
   },
   "outputs": [
    {
     "name": "stdout",
     "output_type": "stream",
     "text": [
      "('qwerty',)\n"
     ]
    }
   ],
   "source": [
    "tup = ('qwerty',)\n",
    "print(tup)"
   ]
  },
  {
   "cell_type": "code",
   "execution_count": null,
   "metadata": {
    "colab": {
     "base_uri": "https://localhost:8080/"
    },
    "executionInfo": {
     "elapsed": 598,
     "status": "ok",
     "timestamp": 1608649767030,
     "user": {
      "displayName": "Anastasiia Chernysheva",
      "photoUrl": "https://lh3.googleusercontent.com/a-/AOh14GhHyHwY-PuMRWX3mjSyss6pojv4D8xrqnEXatqg=s64",
      "userId": "13831218637705529605"
     },
     "user_tz": -180
    },
    "id": "qsjp1G51E8L8",
    "outputId": "3a0924d0-7903-4e4e-83d8-3c9c5cbdddc1"
   },
   "outputs": [
    {
     "name": "stdout",
     "output_type": "stream",
     "text": [
      "('A', 'B', 'C', 'D', 'E', 'F', 'G', 'H', 'I', 'J', 'K', 'L', 'M', 'O', 'P', 'Q', 'R', 'S', 'T', 'U', 'V', 'W', 'X', 'Y', 'Z')\n",
      "(1, 3, 6, 7)\n"
     ]
    }
   ],
   "source": [
    "text = \"ABCDEFGHIJKLMOPQRSTUVWXYZ\"\n",
    "tup_from_text = tuple(text)\n",
    "print(tup_from_text)\n",
    "list2 = [1, 3, 6, 7]\n",
    "print(tuple(list2))"
   ]
  },
  {
   "cell_type": "code",
   "execution_count": null,
   "metadata": {
    "colab": {
     "base_uri": "https://localhost:8080/"
    },
    "executionInfo": {
     "elapsed": 735,
     "status": "ok",
     "timestamp": 1608649784129,
     "user": {
      "displayName": "Anastasiia Chernysheva",
      "photoUrl": "https://lh3.googleusercontent.com/a-/AOh14GhHyHwY-PuMRWX3mjSyss6pojv4D8xrqnEXatqg=s64",
      "userId": "13831218637705529605"
     },
     "user_tz": -180
    },
    "id": "_nNZnjZOFRtb",
    "outputId": "ddb93c43-1579-47de-940e-766258607042"
   },
   "outputs": [
    {
     "name": "stdout",
     "output_type": "stream",
     "text": [
      "(0, 1, 2, 3, 4, 5, 6, 7)\n"
     ]
    }
   ],
   "source": [
    "tup_from_range = tuple(range(8))\n",
    "print(tup_from_range)"
   ]
  },
  {
   "cell_type": "markdown",
   "metadata": {
    "id": "YEayKoRIBNn5"
   },
   "source": [
    "Можно создать список из элементов разных типов. Как и список.\n",
    "\n"
   ]
  },
  {
   "cell_type": "code",
   "execution_count": null,
   "metadata": {
    "colab": {
     "base_uri": "https://localhost:8080/"
    },
    "executionInfo": {
     "elapsed": 663,
     "status": "ok",
     "timestamp": 1608649797661,
     "user": {
      "displayName": "Anastasiia Chernysheva",
      "photoUrl": "https://lh3.googleusercontent.com/a-/AOh14GhHyHwY-PuMRWX3mjSyss6pojv4D8xrqnEXatqg=s64",
      "userId": "13831218637705529605"
     },
     "user_tz": -180
    },
    "id": "3m5jUcgGFzwR",
    "outputId": "3a3f5669-bdf4-4c41-d2d6-3ac0ffa28d17"
   },
   "outputs": [
    {
     "name": "stdout",
     "output_type": "stream",
     "text": [
      "('text', 1.5, 6, True, None, [1, 2, 3], ('dfsdfv', 5), {'dflkvn', 'dfv'})\n",
      "8\n"
     ]
    }
   ],
   "source": [
    "random_tup = \"text\", 1.5, 6, True, None, [1, 2, 3], (\"dfsdfv\", 5), {\"dflkvn\", \"dfv\"}\n",
    "print(random_tup)\n",
    "print(len(random_tup))"
   ]
  },
  {
   "cell_type": "markdown",
   "metadata": {
    "id": "QMywHB9hVGyb"
   },
   "source": [
    "Можно создавать двумерные кортежи. Как двумерные списки."
   ]
  },
  {
   "cell_type": "code",
   "execution_count": null,
   "metadata": {
    "colab": {
     "base_uri": "https://localhost:8080/"
    },
    "executionInfo": {
     "elapsed": 607,
     "status": "ok",
     "timestamp": 1608638615512,
     "user": {
      "displayName": "Anastasiia Chernysheva",
      "photoUrl": "https://lh3.googleusercontent.com/a-/AOh14GhHyHwY-PuMRWX3mjSyss6pojv4D8xrqnEXatqg=s64",
      "userId": "13831218637705529605"
     },
     "user_tz": -180
    },
    "id": "2GYyhZgJVNnM",
    "outputId": "b664b84e-5f88-4f53-9365-46bf345bb79a"
   },
   "outputs": [
    {
     "name": "stdout",
     "output_type": "stream",
     "text": [
      "((1, 2), (3, 4), (5, 6))\n"
     ]
    }
   ],
   "source": [
    "two_dim_tup = (1, 2), (3, 4), (5, 6)\n",
    "print(two_dim_tup)"
   ]
  },
  {
   "cell_type": "markdown",
   "metadata": {
    "id": "zQKz62IcGnhQ"
   },
   "source": [
    "**Базовые операции над кортежами**"
   ]
  },
  {
   "cell_type": "code",
   "execution_count": null,
   "metadata": {
    "colab": {
     "base_uri": "https://localhost:8080/"
    },
    "executionInfo": {
     "elapsed": 650,
     "status": "ok",
     "timestamp": 1608638736847,
     "user": {
      "displayName": "Anastasiia Chernysheva",
      "photoUrl": "https://lh3.googleusercontent.com/a-/AOh14GhHyHwY-PuMRWX3mjSyss6pojv4D8xrqnEXatqg=s64",
      "userId": "13831218637705529605"
     },
     "user_tz": -180
    },
    "id": "k0rjS6eiGr1C",
    "outputId": "900d6ad0-f0b2-4f1a-9f1a-895995e424f6"
   },
   "outputs": [
    {
     "name": "stdout",
     "output_type": "stream",
     "text": [
      "(1, 3, 5, 1, 3, 4)\n",
      "(1, 3, 5, 1, 3, 5, 1, 3, 5, 1, 3, 5, 1, 3, 5, 1, 3, 5, 1, 3, 5, 1, 3, 5, 1, 3, 5, 1, 3, 5, 1, 3, 5, 1, 3, 5, 1, 3, 5, 1, 3, 5, 1, 3, 5, 1, 3, 5, 1, 3, 5, 1, 3, 5, 1, 3, 5, 1, 3, 5)\n"
     ]
    }
   ],
   "source": [
    "odd = 1, 3, 5\n",
    "even = 1, 3, 4\n",
    "\n",
    "print(odd + even)\n",
    "print(odd * 20)"
   ]
  },
  {
   "cell_type": "code",
   "execution_count": null,
   "metadata": {
    "colab": {
     "base_uri": "https://localhost:8080/"
    },
    "executionInfo": {
     "elapsed": 725,
     "status": "ok",
     "timestamp": 1608638743797,
     "user": {
      "displayName": "Anastasiia Chernysheva",
      "photoUrl": "https://lh3.googleusercontent.com/a-/AOh14GhHyHwY-PuMRWX3mjSyss6pojv4D8xrqnEXatqg=s64",
      "userId": "13831218637705529605"
     },
     "user_tz": -180
    },
    "id": "yy-_HX4RG6EB",
    "outputId": "81244e9e-fc27-4cc8-9df0-7335d6e03059"
   },
   "outputs": [
    {
     "name": "stdout",
     "output_type": "stream",
     "text": [
      "True\n",
      "True\n"
     ]
    }
   ],
   "source": [
    "print(3 in odd)\n",
    "print(6 not in even)"
   ]
  },
  {
   "cell_type": "code",
   "execution_count": null,
   "metadata": {
    "colab": {
     "base_uri": "https://localhost:8080/"
    },
    "executionInfo": {
     "elapsed": 678,
     "status": "ok",
     "timestamp": 1608649915745,
     "user": {
      "displayName": "Anastasiia Chernysheva",
      "photoUrl": "https://lh3.googleusercontent.com/a-/AOh14GhHyHwY-PuMRWX3mjSyss6pojv4D8xrqnEXatqg=s64",
      "userId": "13831218637705529605"
     },
     "user_tz": -180
    },
    "id": "abV6f7s8HFaw",
    "outputId": "7ae9894b-5d5c-4983-d97a-fa7f7a74ef61"
   },
   "outputs": [
    {
     "name": "stdout",
     "output_type": "stream",
     "text": [
      "False\n"
     ]
    }
   ],
   "source": [
    "print(odd < even)"
   ]
  },
  {
   "cell_type": "markdown",
   "metadata": {
    "id": "YfRp-PwmHRvr"
   },
   "source": [
    "**Перебор элементов**"
   ]
  },
  {
   "cell_type": "code",
   "execution_count": null,
   "metadata": {
    "colab": {
     "base_uri": "https://localhost:8080/"
    },
    "executionInfo": {
     "elapsed": 585,
     "status": "ok",
     "timestamp": 1608649933771,
     "user": {
      "displayName": "Anastasiia Chernysheva",
      "photoUrl": "https://lh3.googleusercontent.com/a-/AOh14GhHyHwY-PuMRWX3mjSyss6pojv4D8xrqnEXatqg=s64",
      "userId": "13831218637705529605"
     },
     "user_tz": -180
    },
    "id": "6rVVyGFoHU_2",
    "outputId": "4dc608a5-d3c3-4a21-a981-5d63309a9a27"
   },
   "outputs": [
    {
     "name": "stdout",
     "output_type": "stream",
     "text": [
      "54\n",
      "126\n",
      "63\n",
      "36\n",
      "0\n"
     ]
    }
   ],
   "source": [
    "numbers = 6, 14, 7, 4, 0\n",
    "\n",
    "for num in numbers:\n",
    "  print(num * 9)"
   ]
  },
  {
   "cell_type": "markdown",
   "metadata": {
    "id": "o6tEOrciV9Ma"
   },
   "source": [
    "**Функции и методы для работы с кортежами**"
   ]
  },
  {
   "cell_type": "markdown",
   "metadata": {
    "id": "7VCZ7E-zWwya"
   },
   "source": [
    "**`1. Функция len(кортеж)`**"
   ]
  },
  {
   "cell_type": "code",
   "execution_count": null,
   "metadata": {
    "colab": {
     "base_uri": "https://localhost:8080/"
    },
    "executionInfo": {
     "elapsed": 493,
     "status": "ok",
     "timestamp": 1608819811550,
     "user": {
      "displayName": "Anastasiia Chernysheva",
      "photoUrl": "https://lh3.googleusercontent.com/a-/AOh14GhHyHwY-PuMRWX3mjSyss6pojv4D8xrqnEXatqg=s64",
      "userId": "13831218637705529605"
     },
     "user_tz": -180
    },
    "id": "ISOcr1yQHsgU",
    "outputId": "fe701ca2-7861-40d7-e521-35ad563597b2"
   },
   "outputs": [
    {
     "name": "stdout",
     "output_type": "stream",
     "text": [
      "5\n"
     ]
    }
   ],
   "source": [
    "numbers = 6, 14, 7, 4, 0\n",
    "size = len(numbers)\n",
    "print(size)"
   ]
  },
  {
   "cell_type": "markdown",
   "metadata": {
    "id": "gtjwuGC9YwQz"
   },
   "source": [
    "**`2. Функции min(кортеж) и max(кортеж)`**"
   ]
  },
  {
   "cell_type": "code",
   "execution_count": null,
   "metadata": {
    "colab": {
     "base_uri": "https://localhost:8080/"
    },
    "executionInfo": {
     "elapsed": 612,
     "status": "ok",
     "timestamp": 1608639591558,
     "user": {
      "displayName": "Anastasiia Chernysheva",
      "photoUrl": "https://lh3.googleusercontent.com/a-/AOh14GhHyHwY-PuMRWX3mjSyss6pojv4D8xrqnEXatqg=s64",
      "userId": "13831218637705529605"
     },
     "user_tz": -180
    },
    "id": "guZEt-yiY057",
    "outputId": "3c50861c-1e28-4014-8b15-49842b62cb54"
   },
   "outputs": [
    {
     "name": "stdout",
     "output_type": "stream",
     "text": [
      "min: 0, max: 14\n"
     ]
    }
   ],
   "source": [
    "numbers = 6, 14, 7, 4, 0\n",
    "min_num = min(numbers)\n",
    "max_num = max(numbers)\n",
    "print(f\"min: {min_num}, max: {max_num}\")"
   ]
  },
  {
   "cell_type": "markdown",
   "metadata": {
    "id": "R6X5-gikfhQj"
   },
   "source": [
    "**`3. Функция sorted(кортеж, [key], [reverse])`**"
   ]
  },
  {
   "cell_type": "code",
   "execution_count": null,
   "metadata": {
    "colab": {
     "base_uri": "https://localhost:8080/"
    },
    "executionInfo": {
     "elapsed": 590,
     "status": "ok",
     "timestamp": 1608819940636,
     "user": {
      "displayName": "Anastasiia Chernysheva",
      "photoUrl": "https://lh3.googleusercontent.com/a-/AOh14GhHyHwY-PuMRWX3mjSyss6pojv4D8xrqnEXatqg=s64",
      "userId": "13831218637705529605"
     },
     "user_tz": -180
    },
    "id": "mj--zufffO84",
    "outputId": "2023aec7-3ad1-4ad6-b822-53b6c15ec70a"
   },
   "outputs": [
    {
     "name": "stdout",
     "output_type": "stream",
     "text": [
      "(0, 4, 6, 7, 14)\n"
     ]
    }
   ],
   "source": [
    "numbers = 6, 14, 7, 4, 0\n",
    "print(tuple(sorted(numbers)))"
   ]
  },
  {
   "cell_type": "code",
   "execution_count": null,
   "metadata": {
    "colab": {
     "base_uri": "https://localhost:8080/"
    },
    "executionInfo": {
     "elapsed": 940,
     "status": "ok",
     "timestamp": 1608819964684,
     "user": {
      "displayName": "Anastasiia Chernysheva",
      "photoUrl": "https://lh3.googleusercontent.com/a-/AOh14GhHyHwY-PuMRWX3mjSyss6pojv4D8xrqnEXatqg=s64",
      "userId": "13831218637705529605"
     },
     "user_tz": -180
    },
    "id": "aW13Pnbofs_-",
    "outputId": "2d313b5d-d33f-4c80-82c0-2d90d64e8440"
   },
   "outputs": [
    {
     "name": "stdout",
     "output_type": "stream",
     "text": [
      "('letters', 'qwerty', 'abc')\n"
     ]
    }
   ],
   "source": [
    "words = \"qwerty\", \"abc\", \"letters\"\n",
    "print(tuple(sorted(words, key=len, reverse=True)))"
   ]
  },
  {
   "cell_type": "markdown",
   "metadata": {
    "id": "BJkDc_ysf9B5"
   },
   "source": [
    "**`4. Функция reversed(кортеж)`**"
   ]
  },
  {
   "cell_type": "code",
   "execution_count": null,
   "metadata": {
    "colab": {
     "base_uri": "https://localhost:8080/"
    },
    "executionInfo": {
     "elapsed": 612,
     "status": "ok",
     "timestamp": 1608820032682,
     "user": {
      "displayName": "Anastasiia Chernysheva",
      "photoUrl": "https://lh3.googleusercontent.com/a-/AOh14GhHyHwY-PuMRWX3mjSyss6pojv4D8xrqnEXatqg=s64",
      "userId": "13831218637705529605"
     },
     "user_tz": -180
    },
    "id": "LPZ6wqSofUUE",
    "outputId": "181a1072-658c-40ae-d31b-548d445c6384"
   },
   "outputs": [
    {
     "name": "stdout",
     "output_type": "stream",
     "text": [
      "(0, 4, 7, 14, 6)\n"
     ]
    }
   ],
   "source": [
    "numbers = 6, 14, 7, 4, 0\n",
    "print(tuple(reversed(numbers)))"
   ]
  },
  {
   "cell_type": "markdown",
   "metadata": {
    "id": "RKPv0s84W2tB"
   },
   "source": [
    "**5. Метод index(значение, [начало], [конец])**"
   ]
  },
  {
   "cell_type": "code",
   "execution_count": null,
   "metadata": {
    "colab": {
     "base_uri": "https://localhost:8080/"
    },
    "executionInfo": {
     "elapsed": 564,
     "status": "ok",
     "timestamp": 1608820207139,
     "user": {
      "displayName": "Anastasiia Chernysheva",
      "photoUrl": "https://lh3.googleusercontent.com/a-/AOh14GhHyHwY-PuMRWX3mjSyss6pojv4D8xrqnEXatqg=s64",
      "userId": "13831218637705529605"
     },
     "user_tz": -180
    },
    "id": "2Q8ved2-W_Q2",
    "outputId": "08289a4a-028c-4227-f91e-a933d03011c8"
   },
   "outputs": [
    {
     "name": "stdout",
     "output_type": "stream",
     "text": [
      "error\n"
     ]
    }
   ],
   "source": [
    "numbers = 6, 14, 7, 4, 0\n",
    "if 40 in numbers:\n",
    "  print(numbers.index(40))\n",
    "else:\n",
    "  print(\"error\")"
   ]
  },
  {
   "cell_type": "markdown",
   "metadata": {
    "id": "p3tbMZCKXVn_"
   },
   "source": [
    "**`6. Метод count(значение)`**"
   ]
  },
  {
   "cell_type": "code",
   "execution_count": null,
   "metadata": {
    "colab": {
     "base_uri": "https://localhost:8080/"
    },
    "executionInfo": {
     "elapsed": 736,
     "status": "ok",
     "timestamp": 1608639191344,
     "user": {
      "displayName": "Anastasiia Chernysheva",
      "photoUrl": "https://lh3.googleusercontent.com/a-/AOh14GhHyHwY-PuMRWX3mjSyss6pojv4D8xrqnEXatqg=s64",
      "userId": "13831218637705529605"
     },
     "user_tz": -180
    },
    "id": "d4HdUjX6XZ_w",
    "outputId": "b076a672-e3bb-4bf0-8c6f-d444925d9750"
   },
   "outputs": [
    {
     "name": "stdout",
     "output_type": "stream",
     "text": [
      "3\n"
     ]
    }
   ],
   "source": [
    "numbers = 6, 14, 7, 4, 0, 7, 4, 4\n",
    "print(numbers.count(4))"
   ]
  },
  {
   "cell_type": "markdown",
   "metadata": {
    "id": "bYwvc52-IkhQ"
   },
   "source": [
    "**`7. К кортежам тоже можно применять срезы`**"
   ]
  },
  {
   "cell_type": "code",
   "execution_count": null,
   "metadata": {
    "colab": {
     "base_uri": "https://localhost:8080/"
    },
    "executionInfo": {
     "elapsed": 566,
     "status": "ok",
     "timestamp": 1612451190644,
     "user": {
      "displayName": "Anastasiia Chernysheva",
      "photoUrl": "https://lh3.googleusercontent.com/a-/AOh14GhHyHwY-PuMRWX3mjSyss6pojv4D8xrqnEXatqg=s64",
      "userId": "13831218637705529605"
     },
     "user_tz": -180
    },
    "id": "cuyUXVZUI202",
    "outputId": "6c415b55-efd8-441a-9266-91f5fdd7a164"
   },
   "outputs": [
    {
     "name": "stdout",
     "output_type": "stream",
     "text": [
      "(6, 14)\n",
      "(6, 14)\n",
      "(14, 7, 4)\n",
      "(6, 14, 7)\n",
      "(0, 4, 7, 14, 6)\n"
     ]
    }
   ],
   "source": [
    "numbers = 6, 14, 7, 4, 0\n",
    "\n",
    "print(numbers[1:4])\n",
    "print(numbers[:3])\n",
    "print(numbers[::-1])"
   ]
  },
  {
   "cell_type": "markdown",
   "metadata": {
    "id": "-QswZf58I_so"
   },
   "source": [
    "**`8. Можно обращаться к элементам кортежа по индексу`**"
   ]
  },
  {
   "cell_type": "code",
   "execution_count": null,
   "metadata": {
    "colab": {
     "base_uri": "https://localhost:8080/"
    },
    "executionInfo": {
     "elapsed": 722,
     "status": "ok",
     "timestamp": 1608639281573,
     "user": {
      "displayName": "Anastasiia Chernysheva",
      "photoUrl": "https://lh3.googleusercontent.com/a-/AOh14GhHyHwY-PuMRWX3mjSyss6pojv4D8xrqnEXatqg=s64",
      "userId": "13831218637705529605"
     },
     "user_tz": -180
    },
    "id": "saI46bB8JE_F",
    "outputId": "74b5f91d-0b9b-4b4d-c2d9-b8f426d79f46"
   },
   "outputs": [
    {
     "name": "stdout",
     "output_type": "stream",
     "text": [
      "14\n"
     ]
    }
   ],
   "source": [
    "numbers = 6, 14, 7, 4, 0\n",
    "print(numbers[1])"
   ]
  },
  {
   "cell_type": "code",
   "execution_count": null,
   "metadata": {
    "colab": {
     "base_uri": "https://localhost:8080/"
    },
    "executionInfo": {
     "elapsed": 397,
     "status": "ok",
     "timestamp": 1608820330934,
     "user": {
      "displayName": "Anastasiia Chernysheva",
      "photoUrl": "https://lh3.googleusercontent.com/a-/AOh14GhHyHwY-PuMRWX3mjSyss6pojv4D8xrqnEXatqg=s64",
      "userId": "13831218637705529605"
     },
     "user_tz": -180
    },
    "id": "_tuVl3awYTM6",
    "outputId": "d3935708-fcf0-432e-c750-48c8be37a48d"
   },
   "outputs": [
    {
     "name": "stdout",
     "output_type": "stream",
     "text": [
      "7\n"
     ]
    }
   ],
   "source": [
    "numbers = 3, [4, 5, 2, 7], 2, 1\n",
    "print(numbers[1][3])"
   ]
  },
  {
   "cell_type": "markdown",
   "metadata": {
    "id": "F43e7JN9X4YC"
   },
   "source": [
    "Но нельзя изменить элемент по индексу."
   ]
  },
  {
   "cell_type": "code",
   "execution_count": null,
   "metadata": {
    "colab": {
     "base_uri": "https://localhost:8080/",
     "height": 237
    },
    "executionInfo": {
     "elapsed": 1169,
     "status": "error",
     "timestamp": 1612450910163,
     "user": {
      "displayName": "Anastasiia Chernysheva",
      "photoUrl": "https://lh3.googleusercontent.com/a-/AOh14GhHyHwY-PuMRWX3mjSyss6pojv4D8xrqnEXatqg=s64",
      "userId": "13831218637705529605"
     },
     "user_tz": -180
    },
    "id": "VOcl1MFQX7rB",
    "outputId": "73dab299-eef0-4e73-9bf9-3caf555ba07e"
   },
   "outputs": [
    {
     "name": "stdout",
     "output_type": "stream",
     "text": [
      "14\n"
     ]
    },
    {
     "ename": "TypeError",
     "evalue": "ignored",
     "output_type": "error",
     "traceback": [
      "\u001b[0;31m---------------------------------------------------------------------------\u001b[0m",
      "\u001b[0;31mTypeError\u001b[0m                                 Traceback (most recent call last)",
      "\u001b[0;32m<ipython-input-1-fa26eb9480c6>\u001b[0m in \u001b[0;36m<module>\u001b[0;34m()\u001b[0m\n\u001b[1;32m      1\u001b[0m \u001b[0mnumbers\u001b[0m \u001b[0;34m=\u001b[0m \u001b[0;36m6\u001b[0m\u001b[0;34m,\u001b[0m \u001b[0;36m14\u001b[0m\u001b[0;34m,\u001b[0m \u001b[0;36m7\u001b[0m\u001b[0;34m,\u001b[0m \u001b[0;36m4\u001b[0m\u001b[0;34m,\u001b[0m \u001b[0;36m0\u001b[0m\u001b[0;34m\u001b[0m\u001b[0;34m\u001b[0m\u001b[0m\n\u001b[1;32m      2\u001b[0m \u001b[0mprint\u001b[0m\u001b[0;34m(\u001b[0m\u001b[0mnumbers\u001b[0m\u001b[0;34m[\u001b[0m\u001b[0;36m1\u001b[0m\u001b[0;34m]\u001b[0m\u001b[0;34m)\u001b[0m\u001b[0;34m\u001b[0m\u001b[0;34m\u001b[0m\u001b[0m\n\u001b[0;32m----> 3\u001b[0;31m \u001b[0mnumbers\u001b[0m\u001b[0;34m[\u001b[0m\u001b[0;36m1\u001b[0m\u001b[0;34m]\u001b[0m \u001b[0;34m=\u001b[0m \u001b[0;36m6\u001b[0m\u001b[0;34m\u001b[0m\u001b[0;34m\u001b[0m\u001b[0m\n\u001b[0m\u001b[1;32m      4\u001b[0m \u001b[0mprint\u001b[0m\u001b[0;34m(\u001b[0m\u001b[0mnumbers\u001b[0m\u001b[0;34m)\u001b[0m\u001b[0;34m\u001b[0m\u001b[0;34m\u001b[0m\u001b[0m\n",
      "\u001b[0;31mTypeError\u001b[0m: 'tuple' object does not support item assignment"
     ]
    }
   ],
   "source": [
    "numbers = 6, 14, 7, 4, 0\n",
    "print(numbers[1])\n",
    "numbers[1] = 6\n",
    "print(numbers)"
   ]
  },
  {
   "cell_type": "markdown",
   "metadata": {
    "id": "1nlQ9uiEJiJw"
   },
   "source": [
    "Заменять срезы кортежа нельзя."
   ]
  },
  {
   "cell_type": "code",
   "execution_count": null,
   "metadata": {
    "colab": {
     "base_uri": "https://localhost:8080/",
     "height": 202
    },
    "executionInfo": {
     "elapsed": 618,
     "status": "error",
     "timestamp": 1608820483754,
     "user": {
      "displayName": "Anastasiia Chernysheva",
      "photoUrl": "https://lh3.googleusercontent.com/a-/AOh14GhHyHwY-PuMRWX3mjSyss6pojv4D8xrqnEXatqg=s64",
      "userId": "13831218637705529605"
     },
     "user_tz": -180
    },
    "id": "tVCLTM1CJMcb",
    "outputId": "c8bc0dc8-7016-4235-9a8f-c01944958fc5"
   },
   "outputs": [
    {
     "ename": "TypeError",
     "evalue": "ignored",
     "output_type": "error",
     "traceback": [
      "\u001b[0;31m---------------------------------------------------------------------------\u001b[0m",
      "\u001b[0;31mTypeError\u001b[0m                                 Traceback (most recent call last)",
      "\u001b[0;32m<ipython-input-15-21790649028e>\u001b[0m in \u001b[0;36m<module>\u001b[0;34m()\u001b[0m\n\u001b[1;32m      1\u001b[0m \u001b[0mnumbers\u001b[0m \u001b[0;34m=\u001b[0m \u001b[0;36m6\u001b[0m\u001b[0;34m,\u001b[0m \u001b[0;36m14\u001b[0m\u001b[0;34m,\u001b[0m \u001b[0;36m7\u001b[0m\u001b[0;34m,\u001b[0m \u001b[0;36m4\u001b[0m\u001b[0;34m,\u001b[0m \u001b[0;36m0\u001b[0m\u001b[0;34m\u001b[0m\u001b[0;34m\u001b[0m\u001b[0m\n\u001b[0;32m----> 2\u001b[0;31m \u001b[0mnumbers\u001b[0m\u001b[0;34m[\u001b[0m\u001b[0;34m:\u001b[0m\u001b[0;36m3\u001b[0m\u001b[0;34m]\u001b[0m \u001b[0;34m=\u001b[0m \u001b[0;36m5\u001b[0m\u001b[0;34m,\u001b[0m \u001b[0;36m5\u001b[0m\u001b[0;34m,\u001b[0m \u001b[0;36m5\u001b[0m\u001b[0;34m\u001b[0m\u001b[0;34m\u001b[0m\u001b[0m\n\u001b[0m\u001b[1;32m      3\u001b[0m \u001b[0mprint\u001b[0m\u001b[0;34m(\u001b[0m\u001b[0mnumbers\u001b[0m\u001b[0;34m)\u001b[0m\u001b[0;34m\u001b[0m\u001b[0;34m\u001b[0m\u001b[0m\n",
      "\u001b[0;31mTypeError\u001b[0m: 'tuple' object does not support item assignment"
     ]
    }
   ],
   "source": [
    "numbers = 6, 14, 7, 4, 0\n",
    "numbers[:3] = 5, 5, 5\n",
    "print(numbers)"
   ]
  },
  {
   "cell_type": "markdown",
   "metadata": {
    "id": "AFcCkjo6OIvr"
   },
   "source": [
    "**`9. Ввод кортежа с клавиатуры`**"
   ]
  },
  {
   "cell_type": "code",
   "execution_count": null,
   "metadata": {
    "colab": {
     "base_uri": "https://localhost:8080/"
    },
    "executionInfo": {
     "elapsed": 3061,
     "status": "ok",
     "timestamp": 1608820601682,
     "user": {
      "displayName": "Anastasiia Chernysheva",
      "photoUrl": "https://lh3.googleusercontent.com/a-/AOh14GhHyHwY-PuMRWX3mjSyss6pojv4D8xrqnEXatqg=s64",
      "userId": "13831218637705529605"
     },
     "user_tz": -180
    },
    "id": "lIerkE0pEfjC",
    "outputId": "b613a3c4-5bba-4cca-cf32-c0efef0ded5d"
   },
   "outputs": [
    {
     "name": "stdout",
     "output_type": "stream",
     "text": [
      "2 3 5\n",
      "(2, 3, 5)\n"
     ]
    }
   ],
   "source": [
    "new_tup = tuple([int(i) for i in input().split()])\n",
    "print(new_tup)"
   ]
  },
  {
   "cell_type": "code",
   "execution_count": null,
   "metadata": {
    "colab": {
     "base_uri": "https://localhost:8080/"
    },
    "executionInfo": {
     "elapsed": 3598,
     "status": "ok",
     "timestamp": 1608820635115,
     "user": {
      "displayName": "Anastasiia Chernysheva",
      "photoUrl": "https://lh3.googleusercontent.com/a-/AOh14GhHyHwY-PuMRWX3mjSyss6pojv4D8xrqnEXatqg=s64",
      "userId": "13831218637705529605"
     },
     "user_tz": -180
    },
    "id": "eLEhiuExvyOt",
    "outputId": "244e22cb-7f87-45bd-976e-b8dfff6b80ca"
   },
   "outputs": [
    {
     "name": "stdout",
     "output_type": "stream",
     "text": [
      "5 8 6\n",
      "(5, 8, 6)\n"
     ]
    }
   ],
   "source": [
    "digits = tuple(int(i) for i in input().split())\n",
    "print(digits)"
   ]
  },
  {
   "cell_type": "markdown",
   "metadata": {
    "id": "GfI3s5ssb_9M"
   },
   "source": [
    "**`10. Распаковка кортежей`**"
   ]
  },
  {
   "cell_type": "code",
   "execution_count": null,
   "metadata": {
    "colab": {
     "base_uri": "https://localhost:8080/"
    },
    "executionInfo": {
     "elapsed": 510,
     "status": "ok",
     "timestamp": 1608820693960,
     "user": {
      "displayName": "Anastasiia Chernysheva",
      "photoUrl": "https://lh3.googleusercontent.com/a-/AOh14GhHyHwY-PuMRWX3mjSyss6pojv4D8xrqnEXatqg=s64",
      "userId": "13831218637705529605"
     },
     "user_tz": -180
    },
    "id": "MbMdxaRUcET_",
    "outputId": "f588856f-6b75-48b9-9d05-dbac164472d2"
   },
   "outputs": [
    {
     "name": "stdout",
     "output_type": "stream",
     "text": [
      "first: 1, second: 34, third: 5\n"
     ]
    }
   ],
   "source": [
    "tup = 1, 34, 5\n",
    "first = tup[0]\n",
    "second = tup[1]\n",
    "third = tup[2]\n",
    "print(f\"first: {first}, second: {second}, third: {third}\")"
   ]
  },
  {
   "cell_type": "code",
   "execution_count": null,
   "metadata": {
    "colab": {
     "base_uri": "https://localhost:8080/"
    },
    "executionInfo": {
     "elapsed": 558,
     "status": "ok",
     "timestamp": 1608820731883,
     "user": {
      "displayName": "Anastasiia Chernysheva",
      "photoUrl": "https://lh3.googleusercontent.com/a-/AOh14GhHyHwY-PuMRWX3mjSyss6pojv4D8xrqnEXatqg=s64",
      "userId": "13831218637705529605"
     },
     "user_tz": -180
    },
    "id": "7Yce9GGfcXf1",
    "outputId": "f6d4a379-c9f2-47d4-ab9b-e3be626c11a4"
   },
   "outputs": [
    {
     "name": "stdout",
     "output_type": "stream",
     "text": [
      "first: 1, second: 34, third: 5\n"
     ]
    }
   ],
   "source": [
    "tup = 1, 34, 5\n",
    "first, second, third = tup\n",
    "print(f\"first: {first}, second: {second}, third: {third}\")"
   ]
  },
  {
   "cell_type": "code",
   "execution_count": null,
   "metadata": {
    "colab": {
     "base_uri": "https://localhost:8080/"
    },
    "executionInfo": {
     "elapsed": 579,
     "status": "ok",
     "timestamp": 1608820743427,
     "user": {
      "displayName": "Anastasiia Chernysheva",
      "photoUrl": "https://lh3.googleusercontent.com/a-/AOh14GhHyHwY-PuMRWX3mjSyss6pojv4D8xrqnEXatqg=s64",
      "userId": "13831218637705529605"
     },
     "user_tz": -180
    },
    "id": "-miSYn32C1yV",
    "outputId": "452bf04c-268b-4ce1-ca39-88fc92b45f98"
   },
   "outputs": [
    {
     "name": "stdout",
     "output_type": "stream",
     "text": [
      "1 34 5\n"
     ]
    }
   ],
   "source": [
    "lst = [1, 34, 5]\n",
    "f, s, t = lst\n",
    "print(f, s, t)"
   ]
  },
  {
   "cell_type": "code",
   "execution_count": null,
   "metadata": {
    "colab": {
     "base_uri": "https://localhost:8080/",
     "height": 202
    },
    "executionInfo": {
     "elapsed": 551,
     "status": "error",
     "timestamp": 1608820803750,
     "user": {
      "displayName": "Anastasiia Chernysheva",
      "photoUrl": "https://lh3.googleusercontent.com/a-/AOh14GhHyHwY-PuMRWX3mjSyss6pojv4D8xrqnEXatqg=s64",
      "userId": "13831218637705529605"
     },
     "user_tz": -180
    },
    "id": "UHs62pcxccLM",
    "outputId": "e7c4680f-3b61-43a0-9d6a-67d4da4fc57d"
   },
   "outputs": [
    {
     "ename": "ValueError",
     "evalue": "ignored",
     "output_type": "error",
     "traceback": [
      "\u001b[0;31m---------------------------------------------------------------------------\u001b[0m",
      "\u001b[0;31mValueError\u001b[0m                                Traceback (most recent call last)",
      "\u001b[0;32m<ipython-input-23-56f59a1aa139>\u001b[0m in \u001b[0;36m<module>\u001b[0;34m()\u001b[0m\n\u001b[1;32m      1\u001b[0m \u001b[0mtup\u001b[0m \u001b[0;34m=\u001b[0m \u001b[0;36m1\u001b[0m\u001b[0;34m,\u001b[0m \u001b[0;36m34\u001b[0m\u001b[0;34m,\u001b[0m \u001b[0;36m5\u001b[0m\u001b[0;34m\u001b[0m\u001b[0;34m\u001b[0m\u001b[0m\n\u001b[0;32m----> 2\u001b[0;31m \u001b[0mfirst\u001b[0m\u001b[0;34m,\u001b[0m \u001b[0msecond\u001b[0m\u001b[0;34m,\u001b[0m \u001b[0mthird\u001b[0m\u001b[0;34m,\u001b[0m \u001b[0mfourth\u001b[0m \u001b[0;34m=\u001b[0m \u001b[0mtup\u001b[0m\u001b[0;34m\u001b[0m\u001b[0;34m\u001b[0m\u001b[0m\n\u001b[0m\u001b[1;32m      3\u001b[0m \u001b[0mprint\u001b[0m\u001b[0;34m(\u001b[0m\u001b[0;34mf\"first: {first}, second: {second}\"\u001b[0m\u001b[0;34m)\u001b[0m\u001b[0;34m\u001b[0m\u001b[0;34m\u001b[0m\u001b[0m\n",
      "\u001b[0;31mValueError\u001b[0m: not enough values to unpack (expected 4, got 3)"
     ]
    }
   ],
   "source": [
    "tup = 1, 34, 5\n",
    "first, second, third, fourth = tup\n",
    "print(f\"first: {first}, second: {second}\")"
   ]
  },
  {
   "cell_type": "code",
   "execution_count": null,
   "metadata": {
    "colab": {
     "base_uri": "https://localhost:8080/"
    },
    "executionInfo": {
     "elapsed": 456,
     "status": "ok",
     "timestamp": 1608820869450,
     "user": {
      "displayName": "Anastasiia Chernysheva",
      "photoUrl": "https://lh3.googleusercontent.com/a-/AOh14GhHyHwY-PuMRWX3mjSyss6pojv4D8xrqnEXatqg=s64",
      "userId": "13831218637705529605"
     },
     "user_tz": -180
    },
    "id": "_TFHPIqNchUw",
    "outputId": "893bf6b8-d69d-411b-85f7-ca3bc98660f6"
   },
   "outputs": [
    {
     "name": "stdout",
     "output_type": "stream",
     "text": [
      "first: 1, rest: [5]\n"
     ]
    }
   ],
   "source": [
    "tup = 1, 34, 5\n",
    "first, second, *rest = tup\n",
    "print(f\"first: {first}, rest: {rest}\")"
   ]
  },
  {
   "cell_type": "markdown",
   "metadata": {
    "id": "5I6TZO4Ga0oT"
   },
   "source": [
    "😉 Немножко изменить кортежи все же можно: если элементом кортежа является изменяемая структура данных. Например, список."
   ]
  },
  {
   "cell_type": "code",
   "execution_count": null,
   "metadata": {
    "colab": {
     "base_uri": "https://localhost:8080/"
    },
    "executionInfo": {
     "elapsed": 634,
     "status": "ok",
     "timestamp": 1608820981986,
     "user": {
      "displayName": "Anastasiia Chernysheva",
      "photoUrl": "https://lh3.googleusercontent.com/a-/AOh14GhHyHwY-PuMRWX3mjSyss6pojv4D8xrqnEXatqg=s64",
      "userId": "13831218637705529605"
     },
     "user_tz": -180
    },
    "id": "pLQUpFLpa8HI",
    "outputId": "45fc81ae-4d4c-47b8-9b8a-254b11f49e9a"
   },
   "outputs": [
    {
     "name": "stdout",
     "output_type": "stream",
     "text": [
      "(1, 2, [12, 13, 14, 100], 5, 8)\n"
     ]
    }
   ],
   "source": [
    "tup = 1, 2, [12, 13, 14], 5, 8\n",
    "tup[2].append(100)\n",
    "print(tup)"
   ]
  },
  {
   "cell_type": "markdown",
   "metadata": {
    "id": "-DVIdGpvbOoz"
   },
   "source": [
    "😉 Одновременное переназначение переменных - тоже работа с кортежами."
   ]
  },
  {
   "cell_type": "code",
   "execution_count": null,
   "metadata": {
    "colab": {
     "base_uri": "https://localhost:8080/"
    },
    "executionInfo": {
     "elapsed": 726,
     "status": "ok",
     "timestamp": 1608640347704,
     "user": {
      "displayName": "Anastasiia Chernysheva",
      "photoUrl": "https://lh3.googleusercontent.com/a-/AOh14GhHyHwY-PuMRWX3mjSyss6pojv4D8xrqnEXatqg=s64",
      "userId": "13831218637705529605"
     },
     "user_tz": -180
    },
    "id": "PjZbZd6rbv4w",
    "outputId": "99b7e5bb-675d-407e-f231-839f0d3b604c"
   },
   "outputs": [
    {
     "name": "stdout",
     "output_type": "stream",
     "text": [
      "a: 3, b: 6\n",
      "a: 6, b: 3\n"
     ]
    }
   ],
   "source": [
    "a = 3\n",
    "b = 6\n",
    "print(f\"a: {a}, b: {b}\")\n",
    "a, b = b, a\n",
    "print(f\"a: {a}, b: {b}\")"
   ]
  },
  {
   "cell_type": "code",
   "execution_count": null,
   "metadata": {
    "id": "Xr0Jk_AlwrGA"
   },
   "outputs": [],
   "source": [
    "a, b, c = 1, 2, 3"
   ]
  }
 ],
 "metadata": {
  "colab": {
   "authorship_tag": "ABX9TyMmngCWu0Aya97Q7uS66X+w",
   "provenance": []
  },
  "kernelspec": {
   "display_name": "Python 3",
   "name": "python3"
  }
 },
 "nbformat": 4,
 "nbformat_minor": 0
}
