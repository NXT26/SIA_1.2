{
 "cells": [
  {
   "cell_type": "markdown",
   "metadata": {
    "id": "vvpj0_5NPDO-"
   },
   "source": [
    "# Внешние модули"
   ]
  },
  {
   "cell_type": "markdown",
   "metadata": {
    "id": "PmSW6bX7PGKV"
   },
   "source": [
    "Модули бывают двух видов:\n",
    "1. стандартные: устанавливаются вместе с Python.\n",
    "2. внешние: нужно сначала скачать и потом ручками установить.\n",
    "\n",
    "Внешних модулей суествует невероятно много. Написать их может любой программист и выложить в свободный доступ, а исходный код и документацию разместить, например, на Github. Модули, которые существуют достаточно давно, а значит, и успешно используются, имеют не просто страничку на Github, а целый сайт, максимально подробно описывающий способы взаимодействия с функционалом модуля."
   ]
  },
  {
   "cell_type": "markdown",
   "metadata": {
    "id": "RcuIkcBCQfTx"
   },
   "source": [
    "Обзорно посмотрим несколько таких модулей:\n",
    "\n",
    "\n",
    "*   `requests` - модуль для выполнения запросов к интернет-ресурсам.\n",
    "*   `beautifulsoup4` - модуль для работы с данными, полученными из интернет-ресурсов.\n",
    "*   `pandas` - модуль для работы с большими таблицами.\n",
    "*   `numpy` - модуль для работы с математическими операциями.\n",
    "*   `matplotlib` - модуль для построения графиков.\n",
    "\n"
   ]
  },
  {
   "cell_type": "markdown",
   "metadata": {
    "id": "MYGsb-ohReJF"
   },
   "source": [
    "## Установка внешних модулей"
   ]
  },
  {
   "cell_type": "markdown",
   "metadata": {
    "id": "KsEVTWKnRhyg"
   },
   "source": [
    "Прежде чем подгрузить внешний модуль в программу, его нужно скачать и установить. Если мы попробуем просто вызвать внешний модуль, в большинстве случаев Python любезно подскажет, что мы пытаемся сделать что-то неправильное. В большинстве, но не всегда. Некоторые внешние модули уже стали неотъемлемой частью Python и устанавливаются вместе с ним. Такой, например, модуль `requests`. Если модуль не предустановлен, то его устанавливают с помощью менеджера пакетов `pip`."
   ]
  },
  {
   "cell_type": "code",
   "execution_count": null,
   "metadata": {
    "colab": {
     "base_uri": "https://localhost:8080/"
    },
    "executionInfo": {
     "elapsed": 4283,
     "status": "ok",
     "timestamp": 1616053687743,
     "user": {
      "displayName": "Anastasiia Chernysheva",
      "photoUrl": "https://lh3.googleusercontent.com/a-/AOh14GhHyHwY-PuMRWX3mjSyss6pojv4D8xrqnEXatqg=s64",
      "userId": "13831218637705529605"
     },
     "user_tz": -180
    },
    "id": "u7EUziNuR85K",
    "outputId": "fd29feec-b158-4742-ff68-58a9a4c249df"
   },
   "outputs": [
    {
     "name": "stdout",
     "output_type": "stream",
     "text": [
      "Requirement already satisfied: bs4 in /usr/local/lib/python3.7/dist-packages (0.0.1)\n",
      "Requirement already satisfied: beautifulsoup4 in /usr/local/lib/python3.7/dist-packages (from bs4) (4.6.3)\n"
     ]
    }
   ],
   "source": [
    "!pip install bs4"
   ]
  },
  {
   "cell_type": "markdown",
   "metadata": {
    "id": "PYm1AyymUpLI"
   },
   "source": [
    "Если модуль уже установлен, Python вам об этом сообщит. В Google Colab достаточно много модулей уже предустановлено. В PyCharm для установки модуля надо перейти на вкладочку `Terminal` и ввести `pip install название_модуля`. Восклицательный знак писать не нужно, это особенность взаимодействия с Google Colab."
   ]
  },
  {
   "cell_type": "markdown",
   "metadata": {
    "id": "TPvaxd5CVZU_"
   },
   "source": [
    "![image.png](data:image/png;base64,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)"
   ]
  },
  {
   "cell_type": "markdown",
   "metadata": {
    "id": "ShMQ0l2iRQkg"
   },
   "source": [
    "## requests"
   ]
  },
  {
   "cell_type": "markdown",
   "metadata": {
    "id": "UvnFo4dDVeHt"
   },
   "source": [
    "`requests` - это модуль для выполнения различного рода запросов к интернет-ресурсам. Он позволяет выполнять следующие действия:\n",
    "\n",
    "\n",
    "*   обращаться к веб-странице и получать с нее информацию; выполнять так называемые GET-запросы\n",
    "*   передавать веб-ресурсу информацию, выполнять POST-запросы\n",
    "*   производить аутентификацию\n",
    "\n",
    "Обо всем, что умеет `requests`, всегда можно почитать в [документации](https://requests.readthedocs.io/en/master/).\n",
    "\n"
   ]
  },
  {
   "cell_type": "markdown",
   "metadata": {
    "id": "H7akL-55XgS6"
   },
   "source": [
    "Получать какую-то информацию требуется значительно чаще. Посмотрим этот случай. Например, заглянем на сайт Гринписа: https://greenpeace.ru/news/2021/01/14/vlasti-francii-otvetjat-v-sude-za-klimaticheskoe-bezdejstvie/."
   ]
  },
  {
   "cell_type": "code",
   "execution_count": null,
   "metadata": {
    "colab": {
     "base_uri": "https://localhost:8080/"
    },
    "executionInfo": {
     "elapsed": 3898,
     "status": "ok",
     "timestamp": 1616080490668,
     "user": {
      "displayName": "Anastasiia Chernysheva",
      "photoUrl": "https://lh3.googleusercontent.com/a-/AOh14GhHyHwY-PuMRWX3mjSyss6pojv4D8xrqnEXatqg=s64",
      "userId": "13831218637705529605"
     },
     "user_tz": -180
    },
    "id": "vvoKujm7XsDX",
    "outputId": "26d9ec9a-5a61-4049-a5b6-fd42cb2f1beb"
   },
   "outputs": [
    {
     "data": {
      "text/plain": [
       "<Response [200]>"
      ]
     },
     "execution_count": 1,
     "metadata": {
      "tags": []
     },
     "output_type": "execute_result"
    }
   ],
   "source": [
    "import requests\n",
    "response = requests.get(\"https://greenpeace.ru/news/2021/01/14/vlasti-francii-otvetjat-v-sude-za-klimaticheskoe-bezdejstvie/\")\n",
    "response"
   ]
  },
  {
   "cell_type": "markdown",
   "metadata": {
    "id": "juLlFnO9YJ-L"
   },
   "source": [
    "Объект `response` хранит информацию о статусе страницы. Мы сейчас получили статус 200. Это значит, что страница доступна и с информации с нее можно работать. Если статут равен 404, значит, страница не существует, 403 - доступ запрещен, 407 - необходима авторизация. Статусов существует очень [много](https://requests.readthedocs.io/en/master/api/#status-code-lookup)."
   ]
  },
  {
   "cell_type": "markdown",
   "metadata": {
    "id": "f5l55TDvZYrc"
   },
   "source": [
    "Чтобы проверить, какой статус у страницы, можно вопспользоваться методом `status_code`."
   ]
  },
  {
   "cell_type": "code",
   "execution_count": null,
   "metadata": {
    "colab": {
     "base_uri": "https://localhost:8080/"
    },
    "executionInfo": {
     "elapsed": 906,
     "status": "ok",
     "timestamp": 1616080699343,
     "user": {
      "displayName": "Anastasiia Chernysheva",
      "photoUrl": "https://lh3.googleusercontent.com/a-/AOh14GhHyHwY-PuMRWX3mjSyss6pojv4D8xrqnEXatqg=s64",
      "userId": "13831218637705529605"
     },
     "user_tz": -180
    },
    "id": "mmE9MTKbZhz0",
    "outputId": "8389adf1-a04d-4ad6-a875-fbba1a0ace68"
   },
   "outputs": [
    {
     "name": "stdout",
     "output_type": "stream",
     "text": [
      "ok\n"
     ]
    }
   ],
   "source": [
    "if response.status_code == 200:\n",
    "  print(\"ok\")"
   ]
  },
  {
   "cell_type": "markdown",
   "metadata": {
    "id": "5AITJH-oZtG3"
   },
   "source": [
    "Но нам бы хотелось получать не только сообщение о том, что со страничкой можно работать, но и информацию с нее. Это можно сделать методом `text`."
   ]
  },
  {
   "cell_type": "code",
   "execution_count": null,
   "metadata": {
    "colab": {
     "base_uri": "https://localhost:8080/",
     "height": 1000
    },
    "executionInfo": {
     "elapsed": 955,
     "status": "ok",
     "timestamp": 1616080734645,
     "user": {
      "displayName": "Anastasiia Chernysheva",
      "photoUrl": "https://lh3.googleusercontent.com/a-/AOh14GhHyHwY-PuMRWX3mjSyss6pojv4D8xrqnEXatqg=s64",
      "userId": "13831218637705529605"
     },
     "user_tz": -180
    },
    "id": "vtW6JZHAZ1X8",
    "outputId": "39788b86-55d9-4977-9e0d-63e4bd8fa604"
   },
   "outputs": [
    {
     "data": {
      "application/vnd.google.colaboratory.intrinsic+json": {
       "type": "string"
      },
      "text/plain": [
       "'<!DOCTYPE html>\\n<html class=\"color-scheme-base_light\" data-layout=\"row\" lang=\"ru\">\\n    <head>\\n\\n        <meta charset=\"UTF-8\">\\n\\t\\t<meta name=\"theme-color\" content=\"#66сс00\"/>\\n        <meta name=\"viewport\" content=\"width=device-width, initial-scale=1.0\">\\n        <link rel=\"profile\" href=\"http://gmpg.org/xfn/11\">\\n\\t\\t<meta name=\"googlebot\" content=\"all\">\\n\\t\\t<meta name=\"googlebot-news\" content=\"all\">\\n\\t\\t<meta name=\"google-site-verification\" content=\"d_z0H5IUA8Tqd-n6Ml983KPwdvYqEVGlpnbStVrgaCY\" />\\n\\t\\t<link rel=\"alternate\" href=\"https://greenpeace.ru\" hreflang=\"ru-ru\" />\\n\\t<meta property=\"og:image\" content=\"\"/>\\n\\t<meta property=\"og:title\" content=\"Власти Франции ответят в суде за климатическое бездействие\"/>\\n\\t<meta name=\"Description\" property=\"og:description\"\\tcontent=\"Сегодня состоялось слушание дела. Требование поддержало более двух миллионов французов.\" />\\n\\n\\n        <title>Власти Франции ответят в суде за климатическое бездействие</title>\\n<link rel=\\'dns-prefetch\\' href=\\'//fonts.googleapis.com\\' />\\n<link rel=\\'dns-prefetch\\' href=\\'//s.w.org\\' />\\n<link rel=\"alternate\" type=\"application/rss+xml\" title=\" &raquo; Feed\" href=\"https://greenpeace.ru/feed/\" />\\n<link rel=\"alternate\" type=\"application/rss+xml\" title=\" &raquo; Comments Feed\" href=\"https://greenpeace.ru/comments/feed/\" />\\n\\t\\t<script type=\"text/javascript\">\\n\\t\\t\\twindow._wpemojiSettings = {\"baseUrl\":\"https:\\\\/\\\\/s.w.org\\\\/images\\\\/core\\\\/emoji\\\\/11\\\\/72x72\\\\/\",\"ext\":\".png\",\"svgUrl\":\"https:\\\\/\\\\/s.w.org\\\\/images\\\\/core\\\\/emoji\\\\/11\\\\/svg\\\\/\",\"svgExt\":\".svg\",\"source\":{\"concatemoji\":\"https:\\\\/\\\\/greenpeace.ru\\\\/wp-includes\\\\/js\\\\/wp-emoji-release.min.js?ver=4.9.16\"}};\\n\\t\\t\\t!function(a,b,c){function d(a,b){var c=String.fromCharCode;l.clearRect(0,0,k.width,k.height),l.fillText(c.apply(this,a),0,0);var d=k.toDataURL();l.clearRect(0,0,k.width,k.height),l.fillText(c.apply(this,b),0,0);var e=k.toDataURL();return d===e}function e(a){var b;if(!l||!l.fillText)return!1;switch(l.textBaseline=\"top\",l.font=\"600 32px Arial\",a){case\"flag\":return!(b=d([55356,56826,55356,56819],[55356,56826,8203,55356,56819]))&&(b=d([55356,57332,56128,56423,56128,56418,56128,56421,56128,56430,56128,56423,56128,56447],[55356,57332,8203,56128,56423,8203,56128,56418,8203,56128,56421,8203,56128,56430,8203,56128,56423,8203,56128,56447]),!b);case\"emoji\":return b=d([55358,56760,9792,65039],[55358,56760,8203,9792,65039]),!b}return!1}function f(a){var c=b.createElement(\"script\");c.src=a,c.defer=c.type=\"text/javascript\",b.getElementsByTagName(\"head\")[0].appendChild(c)}var g,h,i,j,k=b.createElement(\"canvas\"),l=k.getContext&&k.getContext(\"2d\");for(j=Array(\"flag\",\"emoji\"),c.supports={everything:!0,everythingExceptFlag:!0},i=0;i<j.length;i++)c.supports[j[i]]=e(j[i]),c.supports.everything=c.supports.everything&&c.supports[j[i]],\"flag\"!==j[i]&&(c.supports.everythingExceptFlag=c.supports.everythingExceptFlag&&c.supports[j[i]]);c.supports.everythingExceptFlag=c.supports.everythingExceptFlag&&!c.supports.flag,c.DOMReady=!1,c.readyCallback=function(){c.DOMReady=!0},c.supports.everything||(h=function(){c.readyCallback()},b.addEventListener?(b.addEventListener(\"DOMContentLoaded\",h,!1),a.addEventListener(\"load\",h,!1)):(a.attachEvent(\"onload\",h),b.attachEvent(\"onreadystatechange\",function(){\"complete\"===b.readyState&&c.readyCallback()})),g=c.source||{},g.concatemoji?f(g.concatemoji):g.wpemoji&&g.twemoji&&(f(g.twemoji),f(g.wpemoji)))}(window,document,window._wpemojiSettings);\\n\\t\\t</script>\\n\\t\\t<style type=\"text/css\">\\nimg.wp-smiley,\\nimg.emoji {\\n\\tdisplay: inline !important;\\n\\tborder: none !important;\\n\\tbox-shadow: none !important;\\n\\theight: 1em !important;\\n\\twidth: 1em !important;\\n\\tmargin: 0 .07em !important;\\n\\tvertical-align: -0.1em !important;\\n\\tbackground: none !important;\\n\\tpadding: 0 !important;\\n}\\n</style>\\n<link rel=\\'stylesheet\\' id=\\'ktt_-angular-material.min-css\\'  href=\\'https://greenpeace.ru/wp-content/themes/narratium/assets/stylesheets/angular-material.min.css?ver=4.9.16\\' type=\\'text/css\\' media=\\'all\\' />\\n<link rel=\\'stylesheet\\' id=\\'ktt_-base-css\\'  href=\\'https://greenpeace.ru/wp-content/themes/narratium/assets/stylesheets/base.css?ver=4.9.16\\' type=\\'text/css\\' media=\\'all\\' />\\n<style id=\\'ktt_-base-inline-css\\' type=\\'text/css\\'>\\n.site-typeface-title, site-typeface-title-1, site-typeface-title-2, site-typeface-title-3 {font-family:\\'open sans\\';font-weight:normal;} .site-typeface-headline {font-family:\\'open sans\\';font-weight:normal;} .site-typeface-content {font-family:\\'open sans\\';font-weight:normal;} .site-typeface-body {font-family:\\'open sans\\';font-weight:normal;} html, body {font-size:18px;line-height:1.4em;} body h1 {font-size:2.2em;line-height:1.1em;font-weight:normal;} body h2 {font-size:2em;line-height:1.1em;font-weight:normal;} body h3 {font-size:1.8em;line-height:1.1em;font-weight:normal;} .typo-size-content {font-size:21px;line-height:1.5em;}  .color-scheme-base_light .site-palette-yang-1-color a, .site-palette-yang-2-color a, .site-palette-yang-3-color a, .site-palette-yang-4-color a {color:#efe8e9;}  .color-scheme-base_light .site-palette-yin-1-color a, .site-palette-yin-2-color a, .site-palette-yin-3-color a, .site-palette-yin-4-color a {color:#4A3Ddd;}  .color-scheme-base_light .site-palette-yang-1-background-color a {color:#4A3Ddd;}  .color-scheme-base_light .site-palette-yin-1-background-color a {color:#efe8e9;}  .color-scheme-base_light .site-palette-yin-1-color .site-palette-special-1-color, .site-palette-yin-2-color .site-palette-special-1-color, .site-palette-yin-3-color .site-palette-special-1-color, .site-palette-yin-4-color .site-palette-special-1-color {color:#4A3Ddd;}  .color-scheme-base_light .site-palette-yin-1-background-color .site-palette-special-1-background-color, .site-palette-yin-2-background-color .site-palette-special-1-background-color, .site-palette-yin-3-background-color .site-palette-special-1-background-color, .site-palette-yin-4-background-color .site-palette-special-1-background-color {background-color:#4A3Ddd;}  .color-scheme-base_light .site-palette-yin-1-border-color .site-palette-special-1-border-color, .site-palette-yin-2-border-color .site-palette-special-1-border-color, .site-palette-yin-3-border-color .site-palette-special-1-border-color, .site-palette-yin-4-border-color .site-palette-special-1-border-color {border-color:#4A3Ddd;}  .color-scheme-base_light .site-palette-yin-1-color .site-palette-special-2-color, .site-palette-yin-2-color .site-palette-special-2-color, .site-palette-yin-3-color .site-palette-special-2-color, .site-palette-yin-4-color .site-palette-special-2-color {color:#ab5d6a;}  .color-scheme-base_light .site-palette-yin-1-background-color .site-palette-special-2-background-color, .site-palette-yin-2-background-color .site-palette-special-2-background-color, .site-palette-yin-3-background-color .site-palette-special-2-background-color, .site-palette-yin-4-background-color .site-palette-special-2-background-color {background-color:#ab5d6a;}  .color-scheme-base_light .site-palette-yin-1-border-color .site-palette-special-2-border-color, .site-palette-yin-2-border-color .site-palette-special-2-border-color, .site-palette-yin-3-border-color .site-palette-special-2-border-color, .site-palette-yin-4-border-color .site-palette-special-2-border-color {border-color:#ab5d6a;}  .color-scheme-base_light .site-palette-yin-1-color .site-palette-special-1-color, .site-palette-yin-2-color .site-palette-special-1-color, .site-palette-yin-3-color .site-palette-special-1-color, .site-palette-yin-4-color .site-palette-special-1-color {color:#4A3Ddd;}  .color-scheme-base_light .site-palette-yin-1-background-color .site-palette-special-1-background-color, .site-palette-yin-2-background-color .site-palette-special-1-background-color, .site-palette-yin-3-background-color .site-palette-special-1-background-color, .site-palette-yin-4-background-color .site-palette-special-1-background-color {background-color:#4A3Ddd;}  .color-scheme-base_light .site-palette-yin-1-border-color .site-palette-special-1-border-color, .site-palette-yin-2-border-color .site-palette-special-1-border-color, .site-palette-yin-3-border-color .site-palette-special-1-border-color, .site-palette-yin-4-border-color .site-palette-special-1-border-color {border-color:#4A3Ddd;}  .color-scheme-base_light .site-palette-yin-1-color .site-palette-special-2-color, .site-palette-yin-2-color .site-palette-special-2-color, .site-palette-yin-3-color .site-palette-special-2-color, .site-palette-yin-4-color .site-palette-special-2-color {color:#ab5d6a;}  .color-scheme-base_light .site-palette-yin-1-background-color .site-palette-special-2-background-color, .site-palette-yin-2-background-color .site-palette-special-2-background-color, .site-palette-yin-3-background-color .site-palette-special-2-background-color, .site-palette-yin-4-background-color .site-palette-special-2-background-color {background-color:#ab5d6a;}  .color-scheme-base_light .site-palette-yin-1-border-color .site-palette-special-2-border-color, .site-palette-yin-2-border-color .site-palette-special-2-border-color, .site-palette-yin-3-border-color .site-palette-special-2-border-color, .site-palette-yin-4-border-color .site-palette-special-2-border-color {border-color:#ab5d6a;}  .color-scheme-base_light .site-palette-yin-1-color, .color-scheme-base_light a.site-palette-yin-1-color {color:#27262B;}  .color-scheme-base_light .site-palette-yin-2-color, .color-scheme-base_light a.site-palette-yin-2-color {color:#474748;}  .color-scheme-base_light .site-palette-yin-3-color, .color-scheme-base_light a.site-palette-yin-3-color {color:#6C606F;}  .color-scheme-base_light .site-palette-yin-4-color, .color-scheme-base_light a.site-palette-yin-4-color {color:#99939F;}  .color-scheme-base_light .site-palette-yang-1-color, .color-scheme-base_light a.site-palette-yang-1-color {color:#F6F9FC;}  .color-scheme-base_light .site-palette-yang-2-color, .color-scheme-base_light a.site-palette-yang-2-color {color:#F0F3F5;}  .color-scheme-base_light .site-palette-yang-3-color, .color-scheme-base_light a.site-palette-yang-3-color {color:#e2e8e9;}  .color-scheme-base_light .site-palette-yang-4-color, .color-scheme-base_light a.site-palette-yang-4-color {color:#d2d8d9;}  .color-scheme-base_light .site-palette-yin-1-background-color, .color-scheme-base_light a.site-palette-yin-1-background-color {background-color:#27262B;}  .color-scheme-base_light .site-palette-yin-2-background-color, .color-scheme-base_light a.site-palette-yin-2-background-color {background-color:#474748;}  .color-scheme-base_light .site-palette-yin-3-background-color, .color-scheme-base_light a.site-palette-yin-3-background-color {background-color:#6C606F;}  .color-scheme-base_light .site-palette-yin-4-background-color, .color-scheme-base_light a.site-palette-yin-4-background-color {background-color:#99939F;}  .color-scheme-base_light .site-palette-yang-1-background-color, .color-scheme-base_light a.site-palette-yang-1-background-color {background-color:#F6F9FC;}  .color-scheme-base_light .site-palette-yang-2-background-color, .color-scheme-base_light a.site-palette-yang-2-background-color {background-color:#F0F3F5;}  .color-scheme-base_light .site-palette-yang-3-background-color, .color-scheme-base_light a.site-palette-yang-3-background-color {background-color:#e2e8e9;}  .color-scheme-base_light .site-palette-yang-4-background-color, .color-scheme-base_light a.site-palette-yang-4-background-color {background-color:#d2d8d9;}  .color-scheme-base_light .site-palette-yin-1-border-color, .color-scheme-base_light a.site-palette-yin-1-border-color {border-color:#27262B;}  .color-scheme-base_light .site-palette-yin-2-border-color, .color-scheme-base_light a.site-palette-yin-2-border-color {border-color:#474748;}  .color-scheme-base_light .site-palette-yin-3-border-color, .color-scheme-base_light a.site-palette-yin-3-border-color {border-color:#6C606F;}  .color-scheme-base_light .site-palette-yin-4-border-color, .color-scheme-base_light a.site-palette-yin-4-border-color {border-color:#99939F;}  .color-scheme-base_light .site-palette-yang-1-border-color, .color-scheme-base_light a.site-palette-yang-1-border-color {border-color:#F6F9FC;}  .color-scheme-base_light .site-palette-yang-2-border-color, .color-scheme-base_light a.site-palette-yang-2-border-color {border-color:#F0F3F5;}  .color-scheme-base_light .site-palette-yang-3-border-color, .color-scheme-base_light a.site-palette-yang-3-border-color {border-color:#e2e8e9;}  .color-scheme-base_light .site-palette-yang-4-border-color, .color-scheme-base_light a.site-palette-yang-4-border-color {border-color:#d2d8d9;}  .color-scheme-base_light .site-palette-yin-1-gradient-from-20 {background:linear-gradient(0deg, #27262B 20%, rgba(200,200,200,0) 100%);}  .color-scheme-base_light .site-palette-yin-2-gradient-from-20 {background:linear-gradient(0deg, #474748 20%, rgba(200,200,200,0) 100%);}  .color-scheme-base_light .site-palette-yin-3-gradient-from-20 {background:linear-gradient(0deg, #6C606F 20%, rgba(200,200,200,0) 100%);}  .color-scheme-base_light .site-palette-yin-4-gradient-from-20 {background:linear-gradient(0deg, #99939F 20%, rgba(200,200,200,0) 100%);}  .color-scheme-base_light .site-palette-yang-1-gradient-from-20 {background:linear-gradient(0deg, #F6F9FC 20%, rgba(200,200,200,0) 100%);}  .color-scheme-base_light .site-palette-yang-2-gradient-from-20 {background:linear-gradient(0deg, #F0F3F5 20%, rgba(200,200,200,0) 100%);}  .color-scheme-base_light .site-palette-yang-3-gradient-from-20 {background:linear-gradient(0deg, #e2e8e9 20%, rgba(200,200,200,0) 100%);}  .color-scheme-base_light .site-palette-yang-4-gradient-from-20 {background:linear-gradient(0deg, #d2d8d9 20%, rgba(200,200,200,0) 100%);} \\n</style>\\n<link rel=\\'stylesheet\\' id=\\'ktt_-icons-css\\'  href=\\'https://greenpeace.ru/wp-content/themes/narratium/assets/stylesheets/icons.css?ver=4.9.16\\' type=\\'text/css\\' media=\\'all\\' />\\n<link rel=\\'stylesheet\\' id=\\'ktt_-ajax-transitions-base-css\\'  href=\\'https://greenpeace.ru/wp-content/themes/narratium/theme-features/site-ajax-animations/src/css/ajax-transitions-base.css?ver=4.9.16\\' type=\\'text/css\\' media=\\'all\\' />\\n<link rel=\\'stylesheet\\' id=\\'ktt_-template-single-css\\'  href=\\'https://greenpeace.ru/wp-content/themes/narratium/assets/stylesheets/template-single.css?ver=4.9.16\\' type=\\'text/css\\' media=\\'all\\' />\\n<link rel=\\'stylesheet\\' id=\\'wp-block-library-css\\'  href=\\'https://greenpeace.ru/wp-content/plugins/gutenberg/build/block-library/style.css?ver=1547559838\\' type=\\'text/css\\' media=\\'all\\' />\\n<link rel=\\'stylesheet\\' id=\\'gutenberg-faq-block-style-css\\'  href=\\'https://greenpeace.ru/wp-content/plugins/faq-block-for-gutenberg/includes/../assets/css/style.css?ver=4.9.16\\' type=\\'text/css\\' media=\\'all\\' />\\n<link rel=\\'stylesheet\\' id=\\'ktt_-material-icons-css\\'  href=\\'https://fonts.googleapis.com/icon?family=Material+Icons&#038;ver=4.9.16\\' type=\\'text/css\\' media=\\'all\\' />\\n<link rel=\\'stylesheet\\' id=\\'addthis_all_pages-css\\'  href=\\'https://greenpeace.ru/wp-content/plugins/addthis/frontend/build/addthis_wordpress_public.min.css?ver=4.9.16\\' type=\\'text/css\\' media=\\'all\\' />\\n<link rel=\\'stylesheet\\' id=\\'narratium_-google-fonts-css\\'  href=\\'//fonts.googleapis.com/css?family=Open+Sans%3A300%2C300italic%2Cregular%2Citalic%2C600%2C600italic%2C700%2C700italic%2C800%2C800italic%7C&#038;ver=1.0.0\\' type=\\'text/css\\' media=\\'all\\' />\\n<script type=\\'text/javascript\\' src=\\'https://greenpeace.ru/wp-includes/js/jquery/jquery.js?ver=1.12.4\\'></script>\\n<script type=\\'text/javascript\\' src=\\'https://greenpeace.ru/wp-includes/js/jquery/jquery-migrate.min.js?ver=1.4.1\\'></script>\\n<link rel=\\'https://api.w.org/\\' href=\\'https://greenpeace.ru/wp-json/\\' />\\n<link rel=\"EditURI\" type=\"application/rsd+xml\" title=\"RSD\" href=\"https://greenpeace.ru/xmlrpc.php?rsd\" />\\n<link rel=\"wlwmanifest\" type=\"application/wlwmanifest+xml\" href=\"https://greenpeace.ru/wp-includes/wlwmanifest.xml\" /> \\n<link rel=\\'prev\\' title=\\'Чем кормить птиц зимой?\\' href=\\'https://greenpeace.ru/how-to/2021/01/14/chem-kormit-ptic-zimoj/\\' />\\n<link rel=\\'next\\' title=\\'Наш коллега Евгений Усов умер от Covid-19\\' href=\\'https://greenpeace.ru/news/2021/01/16/nash-kollega-evgenij-usov-umer-ot-covid-19/\\' />\\n<meta name=\"generator\" content=\"WordPress 4.9.16\" />\\n<link rel=\"canonical\" href=\"https://greenpeace.ru/news/2021/01/14/vlasti-francii-otvetjat-v-sude-za-klimaticheskoe-bezdejstvie/\" />\\n<link rel=\\'shortlink\\' href=\\'https://greenpeace.ru/?p=34802\\' />\\n<link rel=\"alternate\" type=\"application/json+oembed\" href=\"https://greenpeace.ru/wp-json/oembed/1.0/embed?url=https%3A%2F%2Fgreenpeace.ru%2Fnews%2F2021%2F01%2F14%2Fvlasti-francii-otvetjat-v-sude-za-klimaticheskoe-bezdejstvie%2F\" />\\n<link rel=\"alternate\" type=\"text/xml+oembed\" href=\"https://greenpeace.ru/wp-json/oembed/1.0/embed?url=https%3A%2F%2Fgreenpeace.ru%2Fnews%2F2021%2F01%2F14%2Fvlasti-francii-otvetjat-v-sude-za-klimaticheskoe-bezdejstvie%2F&#038;format=xml\" />\\n\\t\\t<style>\\n\\n\\t\\t      .ktt-interview-question:before, .ktt-interview-answer:before {\\n\\t\\t        position:absolute;\\n\\t\\t        width:200px;\\n\\t\\t        text-align:right;\\n\\t\\t        margin-left:-220px;\\n\\t\\t        font-size:0.65em;\\n\\t\\t        font-weight:200;\\n\\t\\t      }\\n\\n\\n\\t\\t      @media  screen and (min-width : 0px) and (max-width : 768px) {\\n\\t\\t        .ktt-interview-question:before, .ktt-interview-answer:before {\\n\\t\\t          position:relative;\\n\\t\\t          display:block;\\n\\t\\t          text-align:left;\\n\\t\\t          margin:0;\\n\\t\\t        }\\n\\t\\t      }\\n\\n\\t\\t\\t.ktt-interview-question:before {\\n\\t\\t\\t     content:\\'Question\\';\\n\\t\\t\\t}\\n\\t\\t\\t.ktt-interview-answer:before {\\n\\t\\t\\t     content:\\'Answer\\';\\n\\t\\t\\t}\\n\\n\\n\\t\\t\\t\\n\\t\\t\\t\\n\\t\\t</style>\\n\\t\\t\\t\\t<meta name=\"twitter:card\" \\t\\t\\tcontent=\"summary_large_image\">\\n\\t\\t<meta name=\"twitter:site\" \\t\\t\\tcontent=\"@greenpeaceru\">\\n\\t\\t<meta name=\"twitter:creator\" \\t\\tcontent=\"@greenpeaceru\">\\n\\t\\t<meta name=\"twitter:title\" \\t\\t\\tcontent=\"Власти Франции ответят в суде за климатическое бездействие\">\\n\\t\\t<meta name=\"twitter:description\" \\tcontent=\"Сегодня состоялось слушание дела. Требование поддержало более двух миллионов французов.\">\\n\\t\\t<meta name=\"twitter:domain\" \\t\\tcontent=\"https://greenpeace.ru/\">\\n\\t\\t<meta name=\"twitter:image:src\" \\t\\tcontent=\"\">\\n\\t\\t\\t\\t<meta property=\"fb:app_id\"          content=\"162272797154940\" /> \\n\\t\\t<meta property=\"og:image\" \\t\\t\\tcontent=\"\"/>\\n\\t\\t<meta property=\"og:title\" \\t\\t\\tcontent=\"Власти Франции ответят в суде за климатическое бездействие\"/>\\n\\t\\t<meta name=\"Description\" property=\"og:description\"     content=\"Сегодня состоялось слушание дела. Требование поддержало более двух миллионов французов.\" />\\n\\t\\t<meta property=\"og:url\" \\t\\t\\tcontent=\"https://greenpeace.ru/news/2021/01/14/vlasti-francii-otvetjat-v-sude-za-klimaticheskoe-bezdejstvie/\"/>\\n\\t\\t<meta property=\"og:site_name\" \\t\\tcontent=\"Greenpeace в России\"/>\\n\\t\\t<meta property=\"og:type\" \\t\\t\\tcontent=\"article\" />\\n\\t\\t<meta property=\"og:author\" \\tcontent=\"Олеся Викулова\" />\\n\\n\\t\\t<meta property=\"oggg:section\" content=\"Array\"/>\\n\\n\\t\\t<meta property=\"og:publisher\" \\tcontent=\"https://www.facebook.com/GreenpeaceRussia/\" />\\n\\t\\t<link rel=\"shortcut icon\" type=\"image/x-icon\" href=\"/wp-content/uploads/2019/06/G-sign-2019-1.png\" />\\n<link rel=\"icon\" href=\"https://greenpeace.ru/wp-content/uploads/2019/06/cropped-G-sign-2019-1-1-32x32.png\" sizes=\"32x32\" />\\n<link rel=\"icon\" href=\"https://greenpeace.ru/wp-content/uploads/2019/06/cropped-G-sign-2019-1-1-192x192.png\" sizes=\"192x192\" />\\n<link rel=\"apple-touch-icon-precomposed\" href=\"https://greenpeace.ru/wp-content/uploads/2019/06/cropped-G-sign-2019-1-1-180x180.png\" />\\n<meta name=\"msapplication-TileImage\" content=\"https://greenpeace.ru/wp-content/uploads/2019/06/cropped-G-sign-2019-1-1-270x270.png\" />\\n\\t\\t<script type=\"text/javascript\" src=\"https://cdnjs.cloudflare.com/ajax/libs/slick-carousel/1.9.0/slick.min.js\"></script>\\n\\t\\t<script type=\"text/javascript\" src=\"/wp-content/themes/narratium/js/jquery.color-2.1.2.min.js\"></script>\\n\\t\\t<script type=\"text/javascript\" src=\"/wp-content/themes/narratium/script.js?1614675806\"></script>\\n\\n\\t\\t<link rel=\\'stylesheet\\' id=\\'font-general\\'  href=\\'/wp-content/themes/narratium/style.css?1613559430\\' type=\\'text/css\\' media=\\'all\\' />\\t\\n\\t\\t<link rel=\\'stylesheet\\' href=\\'/font/fontello/css/pin.css\\' type=\\'text/css\\' media=\\'all\\' />\\t\\n\\t\\t\\n\\t\\t\\n<!-- Global site tag (gtag.js) - Google Analytics -->\\n<script async src=\"https://www.googletagmanager.com/gtag/js?id=UA-125972325-1\"></script>\\n<script>\\n  window.dataLayer = window.dataLayer || [];\\n  function gtag(){dataLayer.push(arguments);}\\n  gtag(\\'js\\', new Date());\\n\\n  gtag(\\'config\\', \\'UA-125972325-1\\');\\n  gtag(\\'config\\', \\'UA-125972325-2\\', {\\n  \\'linker\\': {\\n    \\'domains\\': [\\'greenpeace.ru\\', \\'act.greenpeace.org\\', \\'join.greenpeace.ru\\']\\n  }\\n});\\n  gtag(\\'config\\', \\'UA-109290164-1\\');\\n</script>\\n<!-- Global site tag (gtag.js) - Google Analytics 4 -->\\n<script async src=\"https://www.googletagmanager.com/gtag/js?id=G-RFR48NQTE5\"></script>\\n<script>\\n  window.dataLayer = window.dataLayer || [];\\n  function gtag(){dataLayer.push(arguments);}\\n  gtag(\\'js\\', new Date());\\n\\n  gtag(\\'config\\', \\'G-RFR48NQTE5\\');\\n</script>\\n\\n<script>\\n//Campaign information \\nwindow.dataLayer = window.dataLayer || [];\\n dataLayer.push({\\n \\'officeName\\': \\'Russia\\',\\n \\'gBasket\\': \\'\\',\\n \\'gCampaign\\': \\'\\',\\n \\'gScope\\': \\'National\\',\\n \\'gDepartment\\': \\'Campaign\\',\\n \\'pageType\\': \\'Campaign Page\\',\\n});\\n</script>\\n\\t\\t\\n<!-- Google Tag Manager -->\\n<script>(function(w,d,s,l,i){w[l]=w[l]||[];w[l].push({\\'gtm.start\\':\\nnew Date().getTime(),event:\\'gtm.js\\'});var f=d.getElementsByTagName(s)[0],\\nj=d.createElement(s),dl=l!=\\'dataLayer\\'?\\'&l=\\'+l:\\'\\';j.async=true;j.src=\\n\\'https://www.googletagmanager.com/gtm.js?id=\\'+i+dl;f.parentNode.insertBefore(j,f);\\n})(window,document,\\'script\\',\\'dataLayer\\',\\'GTM-WW2Q835\\');</script>\\n<!-- End Google Tag Manager -->\\t\\t\\n<!-- Google Tag Manager -->\\n<script>(function(w,d,s,l,i){w[l]=w[l]||[];w[l].push({\\'gtm.start\\':\\nnew Date().getTime(),event:\\'gtm.js\\'});var f=d.getElementsByTagName(s)[0],\\nj=d.createElement(s),dl=l!=\\'dataLayer\\'?\\'&l=\\'+l:\\'\\';j.async=true;j.src=\\n\\'https://www.googletagmanager.com/gtm.js?id=\\'+i+dl;f.parentNode.insertBefore(j,f);\\n})(window,document,\\'script\\',\\'dataLayer\\',\\'GTM-P9P82X4\\');</script>\\n<!-- End Google Tag Manager -->\\n\\t\\t\\n\\n\\t\\t\\n<!-- Yandex.Metrika counter -->\\n<script type=\"text/javascript\" >\\n   (function(m,e,t,r,i,k,a){m[i]=m[i]||function(){(m[i].a=m[i].a||[]).push(arguments)};\\n   m[i].l=1*new Date();k=e.createElement(t),a=e.getElementsByTagName(t)[0],k.async=1,k.src=r,a.parentNode.insertBefore(k,a)})\\n   (window, document, \"script\", \"https://mc.yandex.ru/metrika/tag.js\", \"ym\");\\n\\n   ym(50848277, \"init\", {\\n        clickmap:true,\\n        trackLinks:true,\\n        accurateTrackBounce:true,\\n        webvisor:true\\n   });\\n</script>\\n<noscript><div><img src=\"https://mc.yandex.ru/watch/50848277\" style=\"position:absolute; left:-9999px;\" alt=\"\" /></div></noscript>\\n<!-- /Yandex.Metrika counter -->\\n<!-- Facebook Pixel Code -->\\n<script>\\n  !function(f,b,e,v,n,t,s)\\n  {if(f.fbq)return;n=f.fbq=function(){n.callMethod?\\n  n.callMethod.apply(n,arguments):n.queue.push(arguments)};\\n  if(!f._fbq)f._fbq=n;n.push=n;n.loaded=!0;n.version=\\'2.0\\';\\n  n.queue=[];t=b.createElement(e);t.async=!0;\\n  t.src=v;s=b.getElementsByTagName(e)[0];\\n  s.parentNode.insertBefore(t,s)}(window, document,\\'script\\',\\n  \\'https://connect.facebook.net/en_US/fbevents.js\\');\\n  fbq(\\'init\\', \\'1420758151316145\\');\\n  fbq(\\'track\\', \\'PageView\\');\\n</script>\\n<noscript><img height=\"1\" width=\"1\" style=\"display:none\"\\n  src=\"https://www.facebook.com/tr?id=1420758151316145&ev=PageView&noscript=1\"\\n/></noscript>\\n<!-- End Facebook Pixel Code -->\\n<script type=\"text/javascript\">!function(){var t=document.createElement(\"script\");t.type=\"text/javascript\",t.async=!0,t.src=\"https://vk.com/js/api/openapi.js?160\",t.onload=function(){VK.Retargeting.Init(\"VK-RTRG-348467-2la1o\"),VK.Retargeting.Hit()},document.head.appendChild(t)}();</script><noscript><img src=\"https://vk.com/rtrg?p=VK-RTRG-348467-2la1o\" style=\"position:fixed; left:-999px;\" alt=\"\"/></noscript>\\n\\t\\n\\n    </head>\\n    <body\\n      data-ng-app=main_app data-ng-controller=main_app_controller    data-ng-cloak\\n    data-layout=\"column\"\\n    data-flex\\n    class=\"post-template post-template-template-news-page post-template-template-news-page-php single single-post postid-34802 single-format-standard wp-custom-logo site-palette-yang-1-background-color site-palette-yin-1-color site-typeface-body news-page\">\\n<!-- Google Tag Manager (noscript) -->\\n<noscript><iframe src=\"https://www.googletagmanager.com/ns.html?id=GTM-WW2Q835\"\\nheight=\"0\" width=\"0\" style=\"display:none;visibility:hidden\"></iframe></noscript>\\n<!-- End Google Tag Manager (noscript) -->\\n<!-- Google Tag Manager (noscript) -->\\n<noscript><iframe src=\"https://www.googletagmanager.com/ns.html?id=GTM-P9P82X4\"\\nheight=\"0\" width=\"0\" style=\"display:none;visibility:hidden\"></iframe></noscript>\\n<!-- End Google Tag Manager (noscript) -->\\t\\t\\n\\t\\t\\n\\n          <div id=\"loader\" class=\"pageload-overlay\" data-opening=\"M 0,0 80,-10 80,60 0,70 0,0\" data-closing=\"M 0,-10 80,-20 80,-10 0,0 0,-10\">\\n\\t\\t\\t\\t<svg xmlns=\"http://www.w3.org/2000/svg\" width=\"100%\" height=\"100%\" viewBox=\"0 0 80 60\" preserveAspectRatio=\"none\">\\n\\t\\t\\t\\t\\t<path d=\"M 0,70 80,60 80,80 0,80 0,70\"/>\\n\\t\\t\\t\\t</svg>\\n\\t</div>\\n      <!-- MENU -->\\n    <div id=\"site-menu-block\"\\n          data-layout-align=\"start center\"\\n          class=\" max-width-400px width-100 position-relative overlay-contentpush overlay site-left-sidenav site-sidenav site-palette-yang-2-background-color site-palette-yin-2-color\"\\n          data-layout=\"column\">\\n\\n          <md-button\\n          id=\"close-site-menu\"\\n          aria-label=\"Menu\"\\n          data-flex\\n          data-ng-click=\"open_left_sidenav()\"\\n          style=\"right:-37px;float:right;line-height:20px;padding:0;vertical-align:middle;top: 45%\"\\n          class=\"close-site-menu position-absolute hide-xs show-gt-xs display-block text-align-center md-fab site-palette-yang-1-color site-palette-yin-1-background-color\" >\\n          <i style=\"margin:0;font-size:30px;\" class=\"material-icons\">close</i>\\n          </md-button>\\n\\n          <div\\n          data-layout=\"column\"\\n          class=\"width-100 text-size-small  site-palette-yin-2-color\">\\n\\n\\n\\n\\n\\n\\n                                        <div class=\"section classic-link-inside padding-both-20\">\\n\\n                        <div\\n                        data-layout=\"row\"\\n                        data-layout-align=\"space-between stretch\"\\n                        class=\"margin-bottom-20 clear-both width-100 overflow-hidden border-radius-4\">\\n                          <a\\n                            data-flex=\"auto\"\\n                            data-md-no-ink\\n                            aria-label=\"Home\"\\n                            href=\"https://greenpeace.ru/\"\\n                            class=\"button-behaviour cursor-pointer display-block padding-both-10 padding-left-20 padding-right-20  text-align-center site-palette-yin-2-color site-palette-yang-4-background-color\" >\\n                            <i class=\" text-size-4xlarge material-icons\">home</i>\\n                            <span class=\" text-size-small font-weight-700\"  >Обратно на главную</span>\\n                          </a>\\n\\t\\t\\t\\t\\t\\t\\t\\n\\t\\t\\t\\t\\t\\t\\t\\n\\n                          <md-button\\n                            data-flex\\n                            data-ng-click=\"open_left_sidenav()\"\\n                            data-hide-gt-xs\\n                            aria-label=\"Close\"\\n                            data-md-no-ink\\n                            style=\"text-transform:none;border-radius:0 4px 4px 0;margin:0;padding:0;\"\\n                            class=\" display-block cursor-pointer padding-both-10 padding-left-20 padding-right-20  text-align-center site-palette-yang-2-color site-palette-yin-1-background-color\">\\n                            <i class=\"text-size-4xlarge material-icons\">close</i>\\n                            <span class=\" text-size-xsmall\" data-hide-xs >Закрыть</span>\\n                          </md-button>\\n\\n                        </div>\\n\\t\\t\\t\\t\\t\\t\\n<div id=\"search-2\" class=\"padding-both-20 border-radius-3 site-palette-yang-1-background-color widget widget_search\"><form role=\"search\" method=\"get\" class=\"search-form\" action=\"https://greenpeace.ru/\">\\n\\t\\t\\t\\t<label>\\n\\t\\t\\t\\t\\t<span class=\"screen-reader-text\">Search for:</span>\\n\\t\\t\\t\\t\\t<input type=\"search\" class=\"search-field\" placeholder=\"Search &hellip;\" value=\"\" name=\"s\" />\\n\\t\\t\\t\\t</label>\\n\\t\\t\\t\\t<input type=\"submit\" class=\"search-submit\" value=\"Search\" />\\n\\t\\t\\t</form></div>\\t\\t\\t\\t\\t\\t\\n                        <hr class=\"margin-bottom-20 site-palette-yang-4-border-color \">\\n\\n\\n                        \\n                    </div>\\n\\n\\t\\t\\t  \\n\\t\\t\\t  <div class=\"menu-categories-menu-container navi-menu-categories\"><ul id=\"menu-categories-menu\" class=\"frontpage-extra-menu  margin-auto display-inline\"><li id=\"menu-item-2604\" class=\"menu-item menu-item-type-custom menu-item-object-custom menu-item-2604\"><a href=\"/publications/news/\">Новости</a></li>\\n<li id=\"menu-item-2603\" class=\"menu-item menu-item-type-custom menu-item-object-custom menu-item-2603\"><a href=\"/publications/blogs/\">Блоги</a></li>\\n<li id=\"menu-item-2606\" class=\"menu-item menu-item-type-custom menu-item-object-custom menu-item-2606\"><a href=\"/publications/stories/\">Истории</a></li>\\n<li id=\"menu-item-2607\" class=\"menu-item menu-item-type-taxonomy menu-item-object-category menu-item-2607 icon-volume-up\"><a href=\"/publications/podcast/\">Подкаст</a></li>\\n<li id=\"menu-item-2605\" class=\"menu-item menu-item-type-custom menu-item-object-custom menu-item-2605\"><a href=\"/publications/how-to/\">Инструкции</a></li>\\n<li id=\"menu-item-2602\" class=\"menu-item menu-item-type-taxonomy menu-item-object-category menu-item-2602\"><a href=\"/publications/expert-opinions/\">Мнение&nbsp;эксперта</a></li>\\n</ul>\\n\\t\\t\\t  <hr class=\"margin-bottom-10 site-palette-yang-4-border-color\">\\t  \\n\\t\\t\\t  </div>\\n\\t\\t\\t  \\n\\t\\t\\t  \\n                    <div class=\"padding-bottom-40 padding-left-40 padding-right-40 text-align-center typo-size-xsmall\">\\n\\t\\t\\t\\t\\t\\t<div class=\"navi-menu-main\">\\n\\t\\t\\t\\t\\t\\t<ul>\\n\\t\\t\\t\\t\\t\\t\\t<li><a href=\"/o-greenpeace/\">О Greenpeace</a></li>\\n\\t\\t\\t\\t\\t\\t\\t<ul class=\"navi-menu-categories-include\">\\n\\t\\t\\t\\t\\t\\t\\t\\t<li><a href=\"/o-greenpeace/structure/\">Как устроен Greenpeace в России</a></li>\\n\\t\\t\\t\\t\\t\\t\\t\\t<li><a href=\"/o-greenpeace/reports/\">Отчёты о нашей работе</a></li>\\n\\t\\t\\t\\t\\t\\t\\t</ul>\\n\\t\\t\\t\\t\\t\\t\\t<li><a href=\"/projects/\">Наши проекты</a></li>\\n\\t\\t\\t\\t\\t\\t\\t<li><a href=\"/volunteers/\">Станьте волонтёром</a></li>\\n\\t\\t\\t\\t\\t\\t\\t<li><a class=\"desktop GTM-donate-button check_utm\" href=\"https://join.greenpeace.ru/index.php?iAppealID=4506?utm_source=greenpeace.ru&utm_medium=referral&utm_campaign=brand&utm_content=menu&utm_term=desktop\" target=\"_blank\" rel=\"noopener\">Станьте сторонником<i class=\"material-icons favorite_border\">favorite_border</i></a>\\n\\t\\t\\t\\t\\t\\t\\t\\t\\n\\t\\t\\t\\t\\t\\t\\t\\t<a class=\"mobile GTM-donate-button check_utm\" href=\"https://join.greenpeace.ru/index.php?iAppealID=4507?utm_source=greenpeace.ru&utm_medium=referral&utm_campaign=brand&utm_content=menu&utm_term=mobile\" target=\"_blank\" rel=\"noopener\">Станьте сторонником<i class=\"material-icons favorite_border\">favorite_border</i></a>\\n\\t\\t\\t\\t\\t\\t\\t\\t\\n\\t\\t\\t\\t\\t\\t\\t<ul class=\"navi-menu-categories-include\">\\n\\t\\t\\t\\t\\t\\t\\t\\t<li><a href=\"https://heroesfornature.ru/?utm_source=greenpeace.ru&utm_medium=referral&utm_campaign=brand&utm_content=menu\" target=\"_blank\" rel=\"noopener\">Создайте проект и помогите Greenpeace</a></li>\\n\\t\\t\\t\\t\\t\\t\\t\\t<li><a href=\"/direct-dialog/\">«Прямой диалог» на улицах города</a></li>\\n\\t\\t\\t\\t\\t\\t\\t\\t</ul>\\n\\t\\t\\t\\t\\t\\t\\t</li>\\n\\t\\t\\t\\t\\t\\t\\t<li><a href=\"/job/\">Работа в Greenpeace</a></li>\\n\\t\\t\\t\\t\\t\\t\\t<li><a href=\"/faq/\">FAQ — частые вопросы к нам</a></li>\\n\\t\\t\\t\\t\\t\\t\\t<li><a href=\"/privacy-policy/\">Политика конфиденциальности</a></li>\\n\\t\\t\\t\\t\\t\\t\\t<li><a href=\"/contacts/\">Контакты</a>\\n\\t\\t\\t\\t\\t\\t\\t<hr class=\"margin-top-30 margin-bottom-10 site-palette-yang-4-border-color\">\\n\\t\\t\\t\\t\\t\\t\\t</li>\\n\\t\\t\\t\\t\\t\\t</ul>\\n\\t\\t\\t\\t\\t\\t</div>\\n\\t\\t\\t\\t\\t\\t\\n\\t\\t\\t\\t\\t\\t\\n\\t\\t\\t\\t\\t\\t\\n                        \\t\\t\\t\\t\\t\\t<div class=\"classic-link-inside\">\\t  \\n<div class=\"padding-top-10 padding-bottom-10 margin-auto\">\\n\\t<a href=\"http://www.facebook.com/GreenpeaceRussia\" target=\"_blank\" rel=\"noopener\"><span class=\"icon-facebook\" style=\"color: #4596a5;padding:0 10px;font-size: 2em;\"></span></a>\\n\\t<a href=\"http://vk.com/club66871\" target=\"_blank\" rel=\"noopener\"><span class=\"icon-vk\" style=\"color: #4596a5;padding:0 10px;font-size: 2em;\"></span></a>\\n\\t<a href=\"https://www.youtube.com/user/GreenpeaceRussia?sub_confirmation=1\" target=\"_blank\" rel=\"noopener\"><span class=\"icon-youtube\" style=\"color:#4596a5;padding:0 10px;font-size: 2em;\"></span></a>\\n\\t<a href=\"tg://resolve?domain=greenpeaceru\" target=\"_blank\" rel=\"noopener\"><span class=\"icon-paper-plane\" style=\"color: #4596a5;padding:0 10px;font-size: 2em;\"></span></a>\\n\\t<a href=\"https://instagram.com/greenpeaceru/\" target=\"_blank\" rel=\"noopener\"><span class=\"icon-instagram\" style=\"color:#4596a5;padding:0 10px;font-size: 2em;\"></span></a>\\n</div>\\n\\t\\t\\t\\t  <hr class=\"margin-bottom-30 site-palette-yang-4-border-color \">\\n\\t\\t\\t\\t\\t\\t</div>\\n <img src=\"/wp-content/uploads/2018/09/earth-peace-sign.png\" width=\"80%\">\\n                                          \\t\\t\\t<div class=\" footer-firm \">\\n                  \\t\\t\\t\\t\\t\\t\\t<p>Greenpeace <span style=\"font-weight: 400\">—</span> это независимая международная природоохранная некоммерческая организация.</p>\\n<p>Мы работаем <strong>только на частные пожертвования граждан</strong> и не принимаем финансирования от коммерческих, государственных и политических организаций.</p>\\n<p>ОМННО «Совет Гринпис» © 2021</p>                  \\t\\t\\t</div>\\n                  \\t\\t\\t                    </div>\\n\\n\\n          </div>\\n\\n\\n\\n    </div>\\n        <div data-layout-padding class=\"header-menu-wrap min-width-300px position-fixed top-0 left-0 z-index-20\">\\n\\n      \\n    <md-button\\n    id=\"open-site-menu\"\\n    md-no-ink\\n    aria-label=\"Меню\"\\n        ng-href=\"https://greenpeace.ru/\"    style=\"background-image:url(\\'https://greenpeace.ru/wp-content/uploads/2019/06/cropped-G-sign-2019-1-1-150x150.png\\');background-position:center center;background-size:cover\"\\n    class=\"button-behaviour site-menu-handle-open site-logo-button md-fab site-palette-yang-1-color site-palette-yang-1-background-color\" >\\n    </md-button>\\n\\n    \\n    <span\\n    data-ng-click=\"open_left_sidenav()\"\\n    class=\"ng-cloak menu-handle cursor-pointer button-behaviour display-inline-block box-shadow site-menu-handle-open padding-left-20 padding-right-10 text-size-xsmall position-relative site-palette-yin-2-color site-palette-yang-4-background-color border-radius-4\">\\n      <i class=\"ng-cloak material-icons\">menu</i>\\n      <span class=\"ng-cloak\">Меню</span>\\n    </span>\\n\\n    \\n\\n    \\n    </div>\\n    \\n        <div\\n        id=\"site-wrap\"\\n        data-flex=\"auto\"\\n        data-layout=\"row\"\\n        data-layout-sm=\"column\"\\n        data-layout-xs=\"column\"\\n        class=\"site-wrap\">\\n\\n<style>\\n\\t.donate {\\n/*\\t\\theight: calc(40vw - 15px);\\n\\t\\tmin-height: calc(500px - 15px);\\n\\t\\tdisplay: table;\\n\\t\\tposition: relative;*/\\n\\t}\\n\\t.donate iframe{\\n\\t\\twidth:100%;\\n\\t\\theight:100%;\\n\\t\\toverflow-x:hidden;\\n\\t}\\n.iframe-embed {\\n    position: absolute;\\n    top: 0;\\n    left: 0;\\n/*    bottom: 0;*/\\n    height: 100%;\\n    width: 100%;\\n    border: 0;\\n\\toverflow: hidden;\\n}\\n.iframe-embed-wrapper {\\n    position: relative;\\n    overflow: hidden;\\n}\\n.iframe-embed-responsive-16by9 {\\n    padding-bottom: 90%;\\n\\tmargin: 50px 90px 0;\\n}\\n@media screen and (max-width: 1200px) { .iframe-embed-responsive-16by9 {padding-bottom: 120%;margin: 30px 0 0;}}\\n@media screen and (max-width: 950px) { .iframe-embed-responsive-16by9 {padding-bottom: 100%;margin: 30px 0 0;}}\\n@media screen and (max-width: 800px) { .iframe-embed-responsive-16by9 {padding-bottom: 100%;margin: 30px 0 0;}}\\n@media screen and (max-width: 770px) { .iframe-embed-responsive-16by9 {padding-bottom: 105%;}}\\n@media screen and (max-width: 730px) { .iframe-embed-responsive-16by9 {padding-bottom: 120%;}}\\n@media screen and (max-width: 640px) { .iframe-embed-responsive-16by9 {padding-bottom: 130%;}}\\n@media screen and (max-width: 600px) { .iframe-embed-responsive-16by9 {padding-bottom: 150%;}}\\n@media screen and (max-width: 550px) { .iframe-embed-responsive-16by9 {padding-bottom: 200%;}}\\n@media screen and (max-width: 465px) { .iframe-embed-responsive-16by9 {padding-bottom: 230%;}}\\n@media screen and (max-width: 430px) { .iframe-embed-responsive-16by9 {padding-bottom: 250%;}}\\n@media screen and (max-width: 400px) { .iframe-embed-responsive-16by9 {padding-bottom: 270%;}}\\n@media screen and (max-width: 380px) { .iframe-embed-responsive-16by9 {padding-bottom: 300%;}}\\n@media screen and (max-width: 360px) { .iframe-embed-responsive-16by9 {padding-bottom: 320%;}}\\n@media screen and (max-width: 333px) { .iframe-embed-responsive-16by9 {padding-bottom: 350%;}}\\n</style>\\n\\n\\n\\n\\n\\n\\n        <div\\n        id=\"basic-sideheader\"\\n        data-flex\\n        data-flex-xs=\"none\"\\n        data-flex-sm=\"none\"\\n        data-background-thumb=\"https://greenpeace.ru/wp-content/uploads/2019/05/cropped-GP0STRR32_PressMedia_compressed-2-127x300.jpg\"\\n        data-background-large=\"https://greenpeace.ru/wp-content/uploads/2019/05/cropped-GP0STRR32_PressMedia_compressed-2.jpg\"\\n        class=\"max-width-400px min-width-400px basic-sideheader overflow-hidden site-palette-yin-1-background-color\"\\n        >\\n\\n            \\n\\n            <div                        style=\"position:relative;z-index:10;\"\\n            data-layout-align=\"end stretch\"\\n            data-layout=\"column\"\\n            class=\"card-content site-palette-yang-1-color text-align-center font-white-color backdrop-dark-gradient-light height-100vh site-palette-yang-1-color ktt-backgroundy basic-sideheader-content\"\\n            >\\n\\n                \\n\\n    <div class=\"padding-top-50 padding-left-30 padding-right-30 padding-bottom-10 use-responsive-text-sizes-fixes\">\\n\\n                <a\\n        href=\"https://greenpeace.ru/\"\\n        class=\"padding-bottom-20 typo-size-upper-small site-header-subtitle display-block site-palette-yang-1-color\">\\n          <img alt=\"Logo\" style=\"width:100%\" src=\"https://greenpeace.ru/wp-content/uploads/2019/06/GP-logo-2019.svg\">\\n        </a>\\n        \\n                    <a\\n            href=\"https://greenpeace.ru/\"\\n            class=\"link-white-color site-typeface-title typo-size-xxxlarge site-header-title display-block site-palette-yang-1-color\">\\n                <!--  -->\\n            </a>\\n\\n            <div class=\"max-width-500px margin-auto text-size-base opacity-05 site-header-subtitle display-block site-palette-yang-1-color\">\\n              <h4><strong>мы сохраняем природу</strong><br /><strong>и мир на Земле</strong></h4>\\n<p>отделение международной<br />некоммерческой организации<br />в России</p>\\n            </div>\\n        \\n\\n        \\n\\n\\n\\n        \\n        <div class=\"padding-both-20\"></div>\\n\\t\\t\\n\\t\\t\\n          <hr class=\"opacity-01\">\\n          <div class=\"link-white-color  padding-top-5 padding-bottom-5 typo-size-small menu-site-menu-container\">\\n          <div class=\"menu-categories-menu-container\"><ul id=\"menu-categories-menu\" class=\"frontpage-extra-menu  margin-auto display-inline\"><li id=\"menu-item-2604\" class=\"menu-item menu-item-type-custom menu-item-object-custom menu-item-2604\"><a href=\"/publications/news/\">Новости</a></li>\\n<li id=\"menu-item-2603\" class=\"menu-item menu-item-type-custom menu-item-object-custom menu-item-2603\"><a href=\"/publications/blogs/\">Блоги</a></li>\\n<li id=\"menu-item-2606\" class=\"menu-item menu-item-type-custom menu-item-object-custom menu-item-2606\"><a href=\"/publications/stories/\">Истории</a></li>\\n<li id=\"menu-item-28837\" class=\"menu-item menu-item-type-taxonomy menu-item-object-category menu-item-28837\"><a href=\"https://greenpeace.ru/publications/podcast/\">Подкаст</a></li>\\n<li id=\"menu-item-2605\" class=\"menu-item menu-item-type-custom menu-item-object-custom menu-item-2605\"><a href=\"/publications/how-to/\">Инструкции</a></li>\\n<li id=\"menu-item-2602\" class=\"menu-item menu-item-type-taxonomy menu-item-object-category menu-item-2602\"><a href=\"https://greenpeace.ru/publications/expert-opinions/\">Мнение эксперта</a></li>\\n</ul></div>          </div>\\n          \\n        \\n    </div>\\n\\n\\n\\n\\n\\n\\n\\n    \\n    <div class=\"nextprev-buttons post-item-meta  link-white-color text-align-center\" data-layout=\"row\">\\n\\n        \\t\\t\\n\\t\\t<span data-flex=\"50\">    \\n            <md-tooltip md-direction=\"top\">Узнай, чем занимается Гринпис</md-tooltip>\\n            <a\\n            class=\"padding-top-20 padding-bottom-20 display-block activist\"\\n            alt=\"Узнай, чем занимается Гринпис\"\\n            href=\"/projects/\">\\n              Узнай\\n            </a>\\n        </span>\\n\\n        <span data-flex=\"50\" class=\"act-button\">\\n            <md-tooltip md-direction=\"top\">Твоя помощь поддержит нашу работу</md-tooltip>\\n            <a\\n            class=\"padding-top-20 padding-bottom-20 display-block activist GTM-donate-button desktop check_utm\"\\n            alt=\"Узнай, как ты можешь помочь природе\"\\n            href=\"https://join.greenpeace.ru/index.php?iAppealID=4502&utm_source=greenpeace.ru&utm_medium=referral&utm_campaign=brand&utm_content=button&utm_term=desktop-index\" rel=\"noopener\">\\n            \\tПомоги\\n            </a>\\n\\t\\t\\t<a\\n            class=\"padding-top-20 padding-bottom-20 display-block activist GTM-donate-button mobile check_utm\"\\n            alt=\"Узнай, как ты можешь помочь природе\"\\n            href=\"https://join.greenpeace.ru/index.php?iAppealID=4503&utm_source=greenpeace.ru&utm_medium=referral&utm_campaign=brand&utm_content=button&utm_term=mobile-index\" rel=\"noopener\">\\n            \\tПомоги\\n            </a>\\n        </span>\\n\\n    </div>\\n\\n\\n    \\n            </div>\\n\\n        </div>\\n\\n\\n        <script>\\n        jQuery( document ).ready(function() {\\n            jQuery( \"#basic-sideheader\" ).ktt_backgroundy();\\n        });\\n        </script>\\n\\n  \\n    <div data-flex=\"auto\" id=\"site-body\" class=\"use-responsive-padding-fixes-only-width use-responsive-text-sizes-fixes post-34802 post type-post status-publish format-standard hentry category-news tag-climate\">\\n\\n\\n    \\t\\t<div class=\"typography-responsive site-body-content-wrap padding-both-30 padding-top-40\">\\n    \\t\\t\\t<div class=\"max-width-800px margin-auto site-typeface-content site-body-content  padding-bottom-40 padding-top-40 typo-size-content\">\\n\\n                \\t\\t\\t\\t\\n\\n              \\t\\n\\t\\t\\t\\t\\t\\n                    <p class=\"post-item-meta typo-size-xsmall\">\\t\\n\\t\\t\\t\\t\\t\\t\\t<span class=\"ornament-line-before-amper\">\\n\\t\\t\\t\\t\\t\\t\\t\\t<span class=\"icon-folder opacity-08\" id=\"gtm_category\"><a href=\"https://greenpeace.ru/publications/news/\" rel=\"category tag\">Новость</a></span>\\n\\t\\t\\t\\t\\t\\t\\t</span>  \\n\\t\\t\\t\\t\\t\\t\\t<span class=\"ornament-line-before-amper\"> \\n\\t\\t\\t\\t\\t\\t\\t\\t<span class=\"icon-calendar-2 opacity-08\">14/01/2021</span>\\t\\n\\t\\t\\t\\t\\t\\t\\t</span>\\n\\t\\t\\t\\t\\t\\t\\t<span class=\"ornament-line-before-amper desktop\"> \\n\\t\\t\\t\\t\\t\\t\\t\\t<span class=\"icon-paper-plane\" style=\"color: #505054;\">читать и обсуждать <a href=\"tg://resolve?domain=greenpeaceru\" style=\"background-color: #4a3ddd21;\">наши&nbsp;новости&nbsp;в&nbsp;телеграме</a>\\n\\t\\t\\t\\t\\t\\t\\t\\t</span>\\n\\t\\t\\t\\t\\t\\t\\t</span>\\n\\t\\t\\t\\t\\t\\t\\t<span class=\"mobile\"> \\n\\t\\t\\t\\t\\t\\t\\t\\t<span class=\"icon-paper-plane\" style=\"color: #505054;padding: 0 0px;font-size: 1.1em;\">читайте&nbsp;наши&nbsp;новости&nbsp;<a href=\"tg://resolve?domain=greenpeaceru\" style=\"background-color: #4a3ddd21;\">в&nbsp;телеграме</a>\\n\\t\\t\\t\\t\\t\\t\\t\\t</span>\\n\\t\\t\\t\\t\\t\\t\\t</span>\\n\\t\\t\\t\\t\\t\\n\\t\\t\\t\\t\\t</p>\\n\\n\\t\\t\\t\\t\\t\\n\\t\\t\\t\\t\\t\\n\\n                    <h1 class=\"padding-top-30 padding-bottom-10 site-typeface-title typo-size-xlarge post-title\">\\n                      Власти Франции ответят в суде за климатическое бездействие                     </h1>\\n\\n                                        <h4 class=\"typo-weight-800 site-palette-yin-3-color padding-top-20 padding-bottom-10 site-typeface-headline typo-size-small post-subtitle news-post-subtitle\">\\n                      Сегодня состоялось слушание дела. Требование поддержало более двух миллионов французов.                    </h4>\\n                    \\n\\n\\n                    <div class=\"at-above-post addthis_tool\" data-url=\"https://greenpeace.ru/news/2021/01/14/vlasti-francii-otvetjat-v-sude-za-klimaticheskoe-bezdejstvie/\"></div>\\n<p><span style=\"font-weight: 400;\">Greenpeace Франции совместно с другими НКО (Notre Affaire à Tous, Фонд Николя Юло и Oxfam France) требуют от властей возместить ущерб, причинённый гражданам страны из-за политики в области экологии и начать активные действия в рамках предыдущих соглашений. Соответствующий иск подали ещё два года назад из-за бездействия государства в решении проблемы климатического кризиса. Сегодня состоялось слушание дела в суде Парижа, решение по которому будет вынесено в течение двух недель.&nbsp;</span></p>\\n\\n\\n\\n<p><span style=\"font-weight: 400;\">Хотя климатический кризис остаётся одной из главных проблем для французов (в 2020 году были побиты новые температурные рекорды), государство продолжает откладывать принятие необходимых мер. Выбросы парниковых газов в течение последних пяти лет продолжали снижаться вдвое медленнее, чем показатели, предусмотренные законом. В декабре прошлого года Высший совет по климату (независимый орган, созданный в 2018 году и состоящий из экспертов по климату) проанализировал, что две трети плана стимулирования не работают и, наоборот, могут способствовать увеличению выбросов.&nbsp;</span></p>\\n\\n\\n\\n<p><span style=\"font-weight: 400;\">В Greenpeace Франции надеются, что суд признает обязанность государств бороться с климатическим кризисом — это подтверждает Хартия окружающей среды 2004 года и Европейская конвенция о правах человека. </span></p>\\n\\n\\n\\n<blockquote class=\"wp-block-quote\"><p><span style=\"font-weight: 400;\">«Такое решение было бы историческим и закрепило в законе, что борьба с изменением климата играет важную роль в защите основных прав граждан».</span></p><cite>Greenpeace France</cite></blockquote>\\n\\n\\n\\n<p><span style=\"font-weight: 400;\">Кроме того, Greenpeace Франции ранее запустил петицию «Дело века», которую уже поддержало более двух миллионов граждан.&nbsp;</span></p>\\n\\n\\n\\n<p><span style=\"font-weight: 400;\">«Климатический кризис оказывает серьёзное воздействие на жизнь каждого из нас: увеличение дней с экстремально высокой температурой приводит к повышению смертности людей по всему миру, растёт ареал распространения различных вирусов и инфекций. В России тоже остро стоит </span><a href=\"https://climatescience.ru/climate-2020-12-09.pdf?_ga=2.104332352.1990835110.1609256341-133469842.1597066306\"><span style=\"font-weight: 400;\">необходимость скорейшего начала технологической трансформации экономики</span></a><span style=\"font-weight: 400;\"> в сторону климатически устойчивых технологий. Мы надеемся, что судебный процесс во Франции будет выигран людьми и станет примером в том числе и для нашего государства в вопросах важности срочного принятия мер по решению климатического кризиса», — прокомментировала руководительница энергетического отдела Greenpeace в России Елена Сакирко.</span></p>\\n<!-- AddThis Advanced Settings above via filter on the_content --><!-- AddThis Advanced Settings below via filter on the_content --><!-- AddThis Advanced Settings generic via filter on the_content --><!-- AddThis Share Buttons above via filter on the_content --><!-- AddThis Share Buttons below via filter on the_content --><div class=\"at-below-post addthis_tool\" data-url=\"https://greenpeace.ru/news/2021/01/14/vlasti-francii-otvetjat-v-sude-za-klimaticheskoe-bezdejstvie/\"></div><!-- AddThis Share Buttons generic via filter on the_content -->\\n                    <div class=\"clearfix  padding-both-20\">\\n\\t\\t<div  class=\"post-item-meta text-align-center padding-bottom-40 site-palette-yang-1-background-color news-sharing-buttons\" data-layout=\"row\">\\n\\t\\t\\t<span data-flex=\"100\">\\n\\t\\t\\t\\t<!-- Go to www.addthis.com/dashboard to customize your tools --> \\n\\t\\t\\t\\t<div class=\"addthis_inline_share_toolbox\"></div>\\n\\t\\t  \\t</span>\\n\\t\\t</div>\\n\\t\\t\\t\\t\\t</div>\\n\\n\\n                    \\t\\t\\n\\t\\n                                        <p id=\"tag-list\" class=\"display-block padding-top-20\">\\n                      \\t\\t\\t<a id=\"gtm_tag\"\\n\\t\\t\\tclass=\"icon-tag site-typeface-body margin-right-10 margin-bottom-5 display-inline-block link-chip typo-size-xsmall border-radius-2 padding-top-5 padding-bottom-5 padding-left-10 padding-right-10\"\\n\\t\\t\\tng-href=\"https://greenpeace.ru/tag/climate/\">\\n\\t\\t\\t\\tклимат\\t\\t\\t</a>\\n\\t\\t\\t                    </p>\\n\\n\\t\\t\\t\\t\\t<!-- mediator -->\\n\\t\\t\\t\\t\\t<script>!function(e){function t(t,n){if(!(n in e)){for(var r,a=e.document,i=a.scripts,o=i.length;o--;)if(-1!==i[o].src.indexOf(t)){r=i[o];break}if(!r){r=a.createElement(\"script\"),r.type=\"text/javascript\",r.async=!0,r.defer=!0,r.src=t,r.charset=\"UTF-8\";var d=function(){var e=a.getElementsByTagName(\"script\")[0];e.parentNode.insertBefore(r,e)};\"[object Opera]\"==e.opera?a.addEventListener?a.addEventListener(\"DOMContentLoaded\",d,!1):e.attachEvent(\"onload\",d):d()}}}t(\"//mediator.mail.ru/script/28214304/\",\"_mediator\")}(window);</script>\\n\\t\\t\\t\\t\\t<!-- /mediator -->\\n\\t\\t\\t\\t\\t\\n              <div class=\"widget widget_ktt_posts_list_widget\"><h2 class=\"widgettitle\">Другие новости</h2>        <div data-layout=\"row\" >\\n\\n          \\n\\n          <div data-flex >\\n            <a\\n            href=\"https://greenpeace.ru/news/2021/02/26/greenpeace-potreboval-ot-pravitelstva-strogoj-jekologicheskoj-povestki-v-arktike/\"\\n            alt=\"Greenpeace потребовал от правительства строгой экологической повестки в Арктике\"\\n            title=\"Greenpeace потребовал от правительства строгой экологической повестки в Арктике\"\\n            class=\"classic-link site-typeface-title display-block text-size-medium font-weight-700\">Greenpeace потребовал от правительства строгой экологической повестки в Арктике</a>\\n\\t\\t\\t  \\n\\t\\t\\t  \\n            <div data-flex class=\" item-meta site-palette-yin-4-color post-item-meta classic-link-inside text-size-2xsmall padding-top-5\">\\n\\n                \\n\\t\\t\\t\\t\\t\\t\\t\\t\\n\\t\\t\\t\\t\\n\\t\\t\\t\\t\\n\\t\\t\\t\\t                <span class=\"meta ornament-line-before-amper\">\\n\\n                     <span class=\"icon-calendar-2\"> 26/02/2021</span>\\n\\n                </span>\\n                \\n                \\n            </div>\\n\\n\\n          </div>\\n        </div>\\n\\n                  <div class=\"margin-bottom-20\"></div>\\n        \\n              <div data-layout=\"row\" >\\n\\n          \\n\\n          <div data-flex >\\n            <a\\n            href=\"https://greenpeace.ru/news/2021/02/05/pomozhet-li-besprecedentnoe-reshenie-suda-po-norilskoj-avarii-reshit-jekologicheskie-problemy/\"\\n            alt=\"Поможет ли беспрецедентное решение суда по норильской аварии решить экологические проблемы?\"\\n            title=\"Поможет ли беспрецедентное решение суда по норильской аварии решить экологические проблемы?\"\\n            class=\"classic-link site-typeface-title display-block text-size-medium font-weight-700\">Поможет ли беспрецедентное решение суда по норильской аварии решить экологические проблемы?</a>\\n\\t\\t\\t  \\n\\t\\t\\t  \\n            <div data-flex class=\" item-meta site-palette-yin-4-color post-item-meta classic-link-inside text-size-2xsmall padding-top-5\">\\n\\n                \\n\\t\\t\\t\\t\\t\\t\\t\\t\\n\\t\\t\\t\\t\\n\\t\\t\\t\\t\\n\\t\\t\\t\\t                <span class=\"meta ornament-line-before-amper\">\\n\\n                     <span class=\"icon-calendar-2\"> 05/02/2021</span>\\n\\n                </span>\\n                \\n                \\n            </div>\\n\\n\\n          </div>\\n        </div>\\n\\n                  <div class=\"margin-bottom-20\"></div>\\n        \\n              <div data-layout=\"row\" >\\n\\n          \\n\\n          <div data-flex >\\n            <a\\n            href=\"https://greenpeace.ru/news/2021/02/03/sud-francii-vpervye-priznal-pravitelstvo-vinovnym-v-klimaticheskom-bezdejstvii/\"\\n            alt=\"Суд Франции впервые признал правительство виновным в климатическом бездействии\"\\n            title=\"Суд Франции впервые признал правительство виновным в климатическом бездействии\"\\n            class=\"classic-link site-typeface-title display-block text-size-medium font-weight-700\">Суд Франции впервые признал правительство виновным в климатическом бездействии</a>\\n\\t\\t\\t  \\n\\t\\t\\t  \\n            <div data-flex class=\" item-meta site-palette-yin-4-color post-item-meta classic-link-inside text-size-2xsmall padding-top-5\">\\n\\n                \\n\\t\\t\\t\\t\\t\\t\\t\\t\\n\\t\\t\\t\\t\\n\\t\\t\\t\\t\\n\\t\\t\\t\\t                <span class=\"meta ornament-line-before-amper\">\\n\\n                     <span class=\"icon-calendar-2\"> 03/02/2021</span>\\n\\n                </span>\\n                \\n                \\n            </div>\\n\\n\\n          </div>\\n        </div>\\n\\n                  <div class=\"margin-bottom-20\"></div>\\n        \\n              <div data-layout=\"row\" >\\n\\n          \\n\\n          <div data-flex >\\n            <a\\n            href=\"https://greenpeace.ru/news/2021/01/29/greenpeace-vypustil-finalnyj-jepizod-seriala-rrreakcija/\"\\n            alt=\"Greenpeace выпустил финальный эпизод сериала #РРРЕАКЦИЯ\"\\n            title=\"Greenpeace выпустил финальный эпизод сериала #РРРЕАКЦИЯ\"\\n            class=\"classic-link site-typeface-title display-block text-size-medium font-weight-700\">Greenpeace выпустил финальный эпизод сериала #РРРЕАКЦИЯ</a>\\n\\t\\t\\t  \\n\\t\\t\\t  \\n            <div data-flex class=\" item-meta site-palette-yin-4-color post-item-meta classic-link-inside text-size-2xsmall padding-top-5\">\\n\\n                \\n\\t\\t\\t\\t\\t\\t\\t\\t\\n\\t\\t\\t\\t\\n\\t\\t\\t\\t\\n\\t\\t\\t\\t                <span class=\"meta ornament-line-before-amper\">\\n\\n                     <span class=\"icon-calendar-2\"> 29/01/2021</span>\\n\\n                </span>\\n                \\n                \\n            </div>\\n\\n\\n          </div>\\n        </div>\\n\\n                  <div class=\"margin-bottom-20\"></div>\\n        \\n              <div data-layout=\"row\" >\\n\\n          \\n\\n          <div data-flex >\\n            <a\\n            href=\"https://greenpeace.ru/news/2021/01/21/ssha-vernjotsja-v-parizhskoe-soglashenie-i-zamorozit-rjad-proektov/\"\\n            alt=\"США вернётся в Парижское соглашение и заморозит ряд проектов\"\\n            title=\"США вернётся в Парижское соглашение и заморозит ряд проектов\"\\n            class=\"classic-link site-typeface-title display-block text-size-medium font-weight-700\">США вернётся в Парижское соглашение и заморозит ряд проектов</a>\\n\\t\\t\\t  \\n\\t\\t\\t  \\n            <div data-flex class=\" item-meta site-palette-yin-4-color post-item-meta classic-link-inside text-size-2xsmall padding-top-5\">\\n\\n                \\n\\t\\t\\t\\t\\t\\t\\t\\t\\n\\t\\t\\t\\t\\n\\t\\t\\t\\t\\n\\t\\t\\t\\t                <span class=\"meta ornament-line-before-amper\">\\n\\n                     <span class=\"icon-calendar-2\"> 21/01/2021</span>\\n\\n                </span>\\n                \\n                \\n            </div>\\n\\n\\n          </div>\\n        </div>\\n\\n        \\n      </div>\\n\\n    \\t\\t\\t\\t    \\t\\t\\t\\t\\n\\t\\t\\t\\t\\t\\n\\t\\t\\t\\t\\t\\n    \\t\\t\\t</div>\\n    \\t\\t</div>\\n\\n\\n\\n\\n                <div data-hide-gt-sm>\\n        <div class=\"padding-both-30\"></div>\\n        <hr class=\"site-palette-yang-4-border-color padding-both-0 margin-both-0\">\\n\\n        <p class=\"max-width-800px site-typeface-title-1  typo-size-small text-align-center margin-auto padding-both-0\" data-layout=\"row\">\\n\\n\\t\\t\\t\\n\\t\\t\\t<span data-flex=\"50\">    \\n            <md-tooltip md-direction=\"top\">Узнай, чем занимается Гринпис</md-tooltip>\\n            <a\\n            class=\"padding-top-20 padding-bottom-20 display-block activist\"\\n            alt=\"Узнай, чем занимается Гринпис\"\\n            href=\"/projects/\">\\n              Узнай\\n            </a>\\n        </span>\\n\\n        <span data-flex=\"50\" class=\"act-button\">\\n            <md-tooltip md-direction=\"top\">Твоя помощь поддержит нашу работу</md-tooltip>\\n            <a\\n            class=\"padding-top-20 padding-bottom-20 display-block activist GTM-donate-button desktop check_utm\"\\n            alt=\"Узнай, как ты можешь помочь природе\"\\n            href=\"https://join.greenpeace.ru/index.php?iAppealID=4508&utm_source=greenpeace.ru&utm_medium=referral&utm_campaign=brand&utm_content=button&utm_term=desktop-news\">\\n            \\tПомоги\\n            </a>\\n\\t\\t\\t<a\\n            class=\"padding-top-20 padding-bottom-20 display-block activist GTM-donate-button mobile check_utm\"\\n            alt=\"Узнай, как ты можешь помочь природе\"\\n            href=\"https://join.greenpeace.ru/index.php?iAppealID=4509&utm_source=greenpeace.ru&utm_medium=referral&utm_campaign=brand&utm_content=button&utm_term=mobile-news\">\\n            \\tПомоги\\n            </a>\\n        </span>\\n\\n        </p>\\n        </div>\\n\\n\\n\\n\\n    </div>\\n\\n\\n\\n\\n\\n\\n<script>\\ndocument.getElementsByClassName(\"news-card-block\")[0].insertAdjacentHTML( \\'afterend\\',\\n  \\'<div class=\"podcast-announce-block\">\\' +\\n    \\'Слушайте&nbsp;наш&nbsp;<a href=\"/publications/podcast/\">подкаст</a> <span style=\"font-size:1.4em; margin: 0 10px;\">🎙</span>\\' +\\n      \\'«<a href=\"/publications/podcast/\" class=\"episode\">Куда&nbsp;смотрит&nbsp;Гринпис?</a>»\\' +\\n  \\'</div>\\'\\n);\\n</script>\\n</div> \\n<script type=\"text/javascript\" id=\"cookieinfo\" site=\"cookieinfoscript.com\"\\n\\tsrc=\"/misc/popup/cookie.js\"\\n\\tdata-font-family=\"GeometriaBold\"\\n\\tdata-bg=\"#66cc00\"\\n\\tdata-fg=\"#212121\"\\n\\tdata-font-size=\"0.8rem\"\\n\\tdata-link=\"#FFF\"\\n\\tdata-cookie=\"CookieInfoScript\"\\n\\tdata-text-align=\"left\"\\n\\tdata-close-text=\"✖\"\\n\\tdata-divlinkbg=\"#FFF\"\\n\\tdata-message=\"У НАС НА САЙТЕ ЕСТЬ КУКИ.\"\\n\\tdata-linkmsg=\"ЧТО ЭТО?\"\\n\\tdata-moreinfo=\"https://greenpeace.ru/privacy-policy/\"\\n\\tdata-cookie=\"greenpeace.ru cookie\">\\n</script>\\n\\n\\t<span\\n\\tid=\"back-to-top-trigger\"\\n\\tonclick=\"jQuery(\\'html,body\\').animate({ scrollTop: 0 }, \\'slow\\');jQuery(\\'.back-to-top-trigger\\').removeClass(\\'show\\').addClass(\\'hide\\');\"\\n\\tclass=\"back-to-top-trigger hide text-size-3xlarge line-height-0 button-behaviour box-shadow padding-both-0 border-rounded-full site-palette-yin-1-background-color site-palette-yang-1-color margin-right-20 margin-bottom-20 cursor-pointer position-fixed pin-bottom pin-right \">\\n\\t\\t\\t<i class=\"material-icons\">keyboard_arrow_up</i>\\n\\t</span>\\n\\t<script data-cfasync=\"false\" type=\"text/javascript\">if (window.addthis_product === undefined) { window.addthis_product = \"wpp\"; } if (window.wp_product_version === undefined) { window.wp_product_version = \"wpp-6.1.8\"; } if (window.wp_blog_version === undefined) { window.wp_blog_version = \"4.9.16\"; } if (window.addthis_share === undefined) { window.addthis_share = {\"passthrough\":{\"twitter\":{\"via\":\"greenpeaceru\"}}}; } if (window.addthis_config === undefined) { window.addthis_config = {\"data_track_clickback\":true,\"data_ga_property\":\"UA-125972325-1\",\"data_ga_social\":true,\"ui_atversion\":\"300\"}; } if (window.addthis_plugin_info === undefined) { window.addthis_plugin_info = {\"info_status\":\"enabled\",\"cms_name\":\"WordPress\",\"plugin_name\":\"Share Buttons by AddThis\",\"plugin_version\":\"6.1.8\",\"plugin_mode\":\"AddThis\",\"anonymous_profile_id\":\"wp-05f3c6d25106865c2297353bcd98f4b9\",\"page_info\":{\"template\":\"posts\",\"post_type\":\"\"},\"sharing_enabled_on_post_via_metabox\":false}; } \\n                    (function() {\\n                      var first_load_interval_id = setInterval(function () {\\n                        if (typeof window.addthis !== \\'undefined\\') {\\n                          window.clearInterval(first_load_interval_id);\\n                          if (typeof window.addthis_layers !== \\'undefined\\' && Object.getOwnPropertyNames(window.addthis_layers).length > 0) {\\n                            window.addthis.layers(window.addthis_layers);\\n                          }\\n                          if (Array.isArray(window.addthis_layers_tools)) {\\n                            for (i = 0; i < window.addthis_layers_tools.length; i++) {\\n                              window.addthis.layers(window.addthis_layers_tools[i]);\\n                            }\\n                          }\\n                        }\\n                     },1000)\\n                    }());\\n                </script> <script data-cfasync=\"false\" type=\"text/javascript\" src=\"https://s7.addthis.com/js/300/addthis_widget.js#pubid=ra-5b62dd7d36fed7a4\"></script><script type=\\'text/javascript\\' src=\\'https://greenpeace.ru/wp-content/themes/narratium/assets/js/ktt-backgroundy.js?ver=4.9.16\\'></script>\\n<script type=\\'text/javascript\\' src=\\'https://greenpeace.ru/wp-includes/js/comment-reply.min.js?ver=4.9.16\\'></script>\\n<script type=\\'text/javascript\\' src=\\'https://greenpeace.ru/wp-content/themes/narratium/assets/js/angular.min.js?ver=4.9.16\\'></script>\\n<script type=\\'text/javascript\\' src=\\'https://greenpeace.ru/wp-content/themes/narratium/assets/js/angular-animate.min.js?ver=4.9.16\\'></script>\\n<script type=\\'text/javascript\\' src=\\'https://greenpeace.ru/wp-content/themes/narratium/assets/js/angular-aria.min.js?ver=4.9.16\\'></script>\\n<script type=\\'text/javascript\\' src=\\'https://greenpeace.ru/wp-content/themes/narratium/assets/js/angular-material.min.js?ver=4.9.16\\'></script>\\n<script type=\\'text/javascript\\' src=\\'https://greenpeace.ru/wp-content/themes/narratium/assets/js/main-app.js?ver=4.9.16\\'></script>\\n<script type=\\'text/javascript\\'>\\n\\t\\t \\tjQuery(\\'body\\').on( \\'DOMMouseScroll mousewheel\\', function ( event ) {\\n\\t\\t \\t\\tif( event.originalEvent.detail > 0 || event.originalEvent.wheelDelta < 0 ) {\\n\\t\\t \\t\\t\\t//The scroll is going down...\\n\\t\\t \\t\\t\\tjQuery(\\'.back-to-top-trigger\\').removeClass(\\'show\\').addClass(\\'hide\\');\\n\\t\\t \\t\\t} else {\\n\\t\\t \\t\\t\\t//Scroll is going up. Only if we are far from top we display the div\\n\\t\\t \\t\\t\\tif (jQuery(window).scrollTop() > jQuery(window).height()) {\\n\\t\\t \\t\\t\\t\\tjQuery(\\'.back-to-top-trigger\\').addClass(\\'show\\').removeClass(\\'hide\\');\\n\\t\\t \\t\\t\\t}\\n\\t\\t \\t\\t}\\n\\t\\t \\t});\\n  \\t\\n  \\t/**\\n  \\t* Controller main_app\\n    * TODO: libs filter\\n  \\t*/\\n  \\tmain_app.controller(\\'main_app_controller\\',  function($scope, $compile, $http, $q, $timeout, $mdSidenav) {\\n\\n  \\t      \\t\\n\\n  $scope.open_left_sidenav = function() {;\\n\\n        var container = jQuery( \\'#site-wrap\\' );\\n        overlay = jQuery( \\'#site-menu-block\\' );\\n\\n        var btnclick = function rm() {\\n\\n          overlay.removeClass(\\'open\\');\\n          container.removeClass(\\'overlay-open\\');\\n          jQuery(\\'body\\').removeClass(\\'overflow-hidden\\');\\n          overlay.addClass(\\'close\\');\\n          jQuery(\\'.site-menu-handle-open\\').show();\\n          jQuery(\\'.site-menu-handle-close\\').hide();\\n\\n        }\\n\\n        if( overlay.hasClass(\\'open\\') ) {\\n\\n            btnclick();\\n            document.getElementById(\"site-wrap\").removeEventListener(\"click\", btnclick);\\n\\n        } else {\\n\\n              overlay.addClass( \\'open\\' );\\n              container.addClass( \\'overlay-open\\' );\\n              overlay.removeClass(\\'close\\');\\n              jQuery(\\'body\\').addClass(\\'overflow-hidden\\');\\n              jQuery(\\'.site-menu-handle-close\\').show();\\n              jQuery(\\'.site-menu-handle-open\\').hide();\\n\\n              document.getElementById(\"site-wrap\").addEventListener(\"click\", btnclick);\\n\\n        }\\n\\n\\n  }\\n\\n\\n\\n  \\n  \\t});\\n  \\n</script>\\n<script type=\\'text/javascript\\' src=\\'https://greenpeace.ru/wp-content/themes/narratium/theme-features/site-ajax-animations/src/js/snap.svg-min.js?ver=4.9.16\\'></script>\\n<script type=\\'text/javascript\\' src=\\'https://greenpeace.ru/wp-content/themes/narratium/theme-features/site-ajax-animations/src/js/svgLoader.js?ver=4.9.16\\'></script>\\n<script type=\\'text/javascript\\'>\\nvar loader = new SVGLoader( document.getElementById( \"loader\" ), { speedIn : 500, easingIn : mina.easeinout } );\\n</script>\\n<script type=\\'text/javascript\\' src=\\'https://greenpeace.ru/wp-content/plugins/faq-block-for-gutenberg/includes/../assets/js/faq-block-for-gutenberg.js?ver=4.9.16\\'></script>\\n<script type=\\'text/javascript\\' src=\\'https://greenpeace.ru/wp-includes/js/wp-embed.min.js?ver=4.9.16\\'></script>\\n\\n<!-- // #site-content -->\\n\\n</body>\\n\\n\\n\\n</html>\\n'"
      ]
     },
     "execution_count": 3,
     "metadata": {
      "tags": []
     },
     "output_type": "execute_result"
    }
   ],
   "source": [
    "response.text"
   ]
  },
  {
   "cell_type": "markdown",
   "metadata": {
    "id": "_q0TWMPzZ7bR"
   },
   "source": [
    "Т.к. веб-странички формируеются при помощи html-разметки, мы ее и получаем. html-разметка, по сути, текстовый файлик. Дальше нам надо как-то вытягивать полезную информацию."
   ]
  },
  {
   "cell_type": "markdown",
   "metadata": {
    "id": "WTg2liXAa9_n"
   },
   "source": [
    "Часто при помощи `requests` осуществляют работу с API какого-то ресурса. API Вконтакте или Яндекса, например.\n",
    "\n",
    "\n",
    "> API (application programming interface) - описание способов взаимодействия одной программы с другой. Практически всегда для работы с API ресурса нужен ключ доступа.\n",
    "\n",
    "Очень простой API имеет, например, [Yandex Spellchecker API](https://yandex.ru/dev/speller/doc/dg/concepts/api-overview.html) - сервис для проверки орфографии.\n"
   ]
  },
  {
   "cell_type": "markdown",
   "metadata": {
    "id": "hi-Y6q43eLkP"
   },
   "source": [
    "Напишем простую функцию для проверки орфографии с помощью API Яндекса. На вход функция будет принимать одно слово или текст. Под текстом понимаем комбинации непробельных символов, разделенных одним или несколькими пробельными символами. Возвращает функция само слово и варианты исправлений для него. В случае, если на вход поступил текст - возвращается список слов текста с вариантами исправлений."
   ]
  },
  {
   "cell_type": "code",
   "execution_count": null,
   "metadata": {
    "id": "eMe_A0Ysli5_"
   },
   "outputs": [],
   "source": [
    "import requests"
   ]
  },
  {
   "cell_type": "code",
   "execution_count": null,
   "metadata": {
    "id": "juoiLcJad_1a"
   },
   "outputs": [],
   "source": [
    "def check_spelling(text):\n",
    "  domain = \"https://speller.yandex.net/services/spellservice.json\"\n",
    "  words = text.split()\n",
    "  if len(words) == 1:\n",
    "    response = requests.get(domain + \"/checkText?text=\" + words[0])\n",
    "    if response:\n",
    "      return response.json()[0][\"word\"], response.json()[0][\"s\"]\n",
    "    else:\n",
    "      return None\n",
    "  elif len(words) > 1:\n",
    "    words = \"+\".join(words)\n",
    "    response = requests.get(domain + \"/checkText?text=\" + words)\n",
    "    if response:\n",
    "      response = [(i[\"word\"], i[\"s\"]) for i in response.json()]\n",
    "      return response\n",
    "    else:\n",
    "      return None\n",
    "  return None"
   ]
  },
  {
   "cell_type": "code",
   "execution_count": null,
   "metadata": {
    "colab": {
     "base_uri": "https://localhost:8080/"
    },
    "executionInfo": {
     "elapsed": 1768,
     "status": "ok",
     "timestamp": 1617115049703,
     "user": {
      "displayName": "Anastasiia Chernysheva",
      "photoUrl": "https://lh3.googleusercontent.com/a-/AOh14GhHyHwY-PuMRWX3mjSyss6pojv4D8xrqnEXatqg=s64",
      "userId": "13831218637705529605"
     },
     "user_tz": -180
    },
    "id": "MzpWS-ILec-y",
    "outputId": "05859d35-e700-42fe-afa0-31a8bae817bd"
   },
   "outputs": [
    {
     "data": {
      "text/plain": [
       "[('алгаритм', ['алгоритм'])]"
      ]
     },
     "execution_count": 5,
     "metadata": {
      "tags": []
     },
     "output_type": "execute_result"
    }
   ],
   "source": [
    "check_spelling(\"Байес алгаритм\")"
   ]
  },
  {
   "cell_type": "markdown",
   "metadata": {
    "id": "aCY948Z4ewdE"
   },
   "source": [
    "Интересно работать с API Вконтакте, но для этого нужно сначала создать приложение для работы с API и изучить его методы."
   ]
  },
  {
   "cell_type": "markdown",
   "metadata": {
    "id": "W2mEtAHYfMmt"
   },
   "source": [
    "Для работы с данными из ВКонтакте необходимо получить токен доступа, зарегистрировав свое приложение, а именно:\n",
    "1. заходим на страничку [VK Developers](https://vk.com/dev) и переходим во вкладку \"Мои приложения\"\n",
    "2. создаем новое приложение, тип - \"Standalone-приложение\"\n",
    "3. даем приложению название\n",
    "4. в меню слева переходим в \"Настройки\" и сохраняем себе ID приложения\n",
    "5. важно не забыть подключить приложение\n",
    "6. самый простой способ получить токен - вставить в адресную строку браузера ссылку: https://oauth.vk.com/authorize?client_id=YourClientID&scope=ads&response_type=token, но вместо **YourClientID** нужно поставить тот ID приложения, который мы сохранили в пункте 4\n",
    "7. сслыка перекинет на новую страницу, где ВК запросит доступ к данным, а затем еще на одну с предупреждением о том, что нельзя копировать полученный токен куда попало. На этой странице из адресной строки нужно скопировать то, что написано после `access_token=`. Это и есть токен доступа."
   ]
  },
  {
   "cell_type": "markdown",
   "metadata": {
    "id": "tVbQV86fjPam"
   },
   "source": [
    "Еще одной интересной задачкой, которую можно решить при помощи модуля `requests`, является определение местоположения по IP-адресу. Для этого нам потребуется ресурс, содержащий информацию об IP-адресах. Вот [этот](https://ip-api.com), к примеру."
   ]
  },
  {
   "cell_type": "code",
   "execution_count": null,
   "metadata": {
    "colab": {
     "base_uri": "https://localhost:8080/"
    },
    "executionInfo": {
     "elapsed": 552,
     "status": "ok",
     "timestamp": 1617116685778,
     "user": {
      "displayName": "Anastasiia Chernysheva",
      "photoUrl": "https://lh3.googleusercontent.com/a-/AOh14GhHyHwY-PuMRWX3mjSyss6pojv4D8xrqnEXatqg=s64",
      "userId": "13831218637705529605"
     },
     "user_tz": -180
    },
    "id": "o6m44kFulUc_",
    "outputId": "a9d0524e-ecac-4ffb-9ee8-fcbdeecd0723"
   },
   "outputs": [
    {
     "data": {
      "text/plain": [
       "{'city': 'Washington',\n",
       " 'country': 'US',\n",
       " 'hostname': '212.41.221.35.bc.googleusercontent.com',\n",
       " 'ip': '35.221.41.212',\n",
       " 'loc': '38.8951,-77.0364',\n",
       " 'org': 'AS15169 Google LLC',\n",
       " 'postal': '20045',\n",
       " 'readme': 'https://ipinfo.io/missingauth',\n",
       " 'region': 'Washington, D.C.',\n",
       " 'timezone': 'America/New_York'}"
      ]
     },
     "execution_count": 23,
     "metadata": {
      "tags": []
     },
     "output_type": "execute_result"
    }
   ],
   "source": [
    "import requests\n",
    "domain = \"https://ipinfo.io/\"\n",
    "response = requests.get(domain + \"json\") # определить текущее местоположение\n",
    "response.json()"
   ]
  },
  {
   "cell_type": "code",
   "execution_count": null,
   "metadata": {
    "colab": {
     "base_uri": "https://localhost:8080/"
    },
    "executionInfo": {
     "elapsed": 525,
     "status": "ok",
     "timestamp": 1617118122444,
     "user": {
      "displayName": "Anastasiia Chernysheva",
      "photoUrl": "https://lh3.googleusercontent.com/a-/AOh14GhHyHwY-PuMRWX3mjSyss6pojv4D8xrqnEXatqg=s64",
      "userId": "13831218637705529605"
     },
     "user_tz": -180
    },
    "id": "7yLNI6vumM3Q",
    "outputId": "4a6d8daf-1387-4d8f-b955-ef828860c409"
   },
   "outputs": [
    {
     "data": {
      "text/plain": [
       "{'city': 'Canberra',\n",
       " 'country': 'AU',\n",
       " 'ip': '139.130.4.5',\n",
       " 'loc': '-35.2835,149.1281',\n",
       " 'org': 'AS1221 Telstra Corporation Ltd',\n",
       " 'postal': '2600',\n",
       " 'readme': 'https://ipinfo.io/missingauth',\n",
       " 'region': 'Australian Capital Territory',\n",
       " 'timezone': 'Australia/Sydney'}"
      ]
     },
     "execution_count": 27,
     "metadata": {
      "tags": []
     },
     "output_type": "execute_result"
    }
   ],
   "source": [
    "response = requests.get(domain + \"139.130.4.5/json\") # определить местоположение по конкретному IP-адресу\n",
    "response.json()"
   ]
  },
  {
   "cell_type": "markdown",
   "metadata": {
    "id": "nYr0pmJrmbvQ"
   },
   "source": [
    "Здесь данные получены в формате json - классическом формате для хранения структурированных текстовых данных. Обычно он имеет вид словаря (пары ключ-значение). Соответственно, работать с этим форматом можно, как с обычным словарем."
   ]
  },
  {
   "cell_type": "markdown",
   "metadata": {
    "id": "VLH9dJrzRTir"
   },
   "source": [
    "## beautifulsoup4"
   ]
  },
  {
   "cell_type": "markdown",
   "metadata": {
    "id": "Lyp-WTglfebO"
   },
   "source": [
    "Этот модуль упрощает работу с html-разметкой странички. Вернемся к примеру с сайтом Гринписа."
   ]
  },
  {
   "cell_type": "code",
   "execution_count": null,
   "metadata": {
    "colab": {
     "base_uri": "https://localhost:8080/",
     "height": 120
    },
    "executionInfo": {
     "elapsed": 1193,
     "status": "ok",
     "timestamp": 1616512275509,
     "user": {
      "displayName": "Anastasiia Chernysheva",
      "photoUrl": "https://lh3.googleusercontent.com/a-/AOh14GhHyHwY-PuMRWX3mjSyss6pojv4D8xrqnEXatqg=s64",
      "userId": "13831218637705529605"
     },
     "user_tz": -180
    },
    "id": "Cqjp6UBbfm6A",
    "outputId": "2fec4830-5096-42da-c20b-92f36d30c892"
   },
   "outputs": [
    {
     "data": {
      "application/vnd.google.colaboratory.intrinsic+json": {
       "type": "string"
      },
      "text/plain": [
       "'<!DOCTYPE html>\\n<html class=\"color-scheme-base_light\" data-layout=\"row\" lang=\"ru\">\\n    <head>\\n\\n        <meta charset=\"UTF-8\">\\n\\t\\t<meta name=\"theme-color\" content=\"#66сс00\"/>\\n        <meta name=\"viewport\" content=\"width=device-width, initial-scale=1.0\">\\n        <link rel=\"profile\" href=\"http://gmpg.org/xfn/11\">\\n\\t\\t<meta name=\"googlebot\" content=\"all\">\\n\\t\\t<meta name=\"googlebot-news\" content=\"all\">\\n\\t\\t<meta name=\"google-site-verification\" content=\"d_z0H5IUA8Tqd-n6Ml983KPwdvYqEVGlpnbStVrgaCY\" />\\n\\t\\t<link rel=\"alternate\" href=\"https://greenpeace.ru\" hreflang=\"ru-ru\" />\\n\\t<meta property=\"og:image\" content=\"\"/>\\n\\t<meta property=\"og:title\" content=\"Власти Франции ответят в суде за климатическое бездействие\"/>\\n\\t<meta name=\"Description\" property=\"og:description\"\\tcontent=\"Сегодня состоялось слушание дела. Требование поддержало более двух миллионов французов.\" />\\n\\n\\n        <title>Власти Франции ответят в суде за климатическое бездействие</title>\\n<link rel=\\'dns-prefetch\\' href=\\'//fonts.googleapis.com\\' />\\n<link rel=\\'dns-prefetch\\' href=\\'//s.w.org\\' />\\n<link rel=\"alternate\" type=\"application/rss+xml\" title=\" &raquo; Feed\" href=\"https://greenpeace.ru/feed/\" />\\n<link rel=\"alternate\" type=\"application/rss+xml\" title=\" &raquo; Comments Feed\" href=\"https://greenpeace.ru/comments/feed/\" />\\n\\t\\t<script type=\"text/javascript\">\\n\\t\\t\\twindow._wpemojiSettings = {\"baseUrl\":\"https:\\\\/\\\\/s.w.org\\\\/images\\\\/core\\\\/emoji\\\\/11\\\\/72x72\\\\/\",\"ext\":\".png\",\"svgUrl\":\"https:\\\\/\\\\/s.w.org\\\\/images\\\\/core\\\\/emoji\\\\/11\\\\/svg\\\\/\",\"svgExt\":\".svg\",\"source\":{\"concatemoji\":\"https:\\\\/\\\\/greenpeace.ru\\\\/wp-includes\\\\/js\\\\/wp-emoji-release.min.js?ver=4.9.16\"}};\\n\\t\\t\\t!function(a,b,c){function d(a,b){var c=String.fromCharCode;l.clearRect(0,0,k.width,k.height),l.fillText(c.apply(this,a),0,0);var d=k.toDataURL();l.clearRect(0,0,k.width,k.height),l.fillText(c.apply(this,b),0,0);var e=k.toDataURL();return d===e}function e(a){var b;if(!l||!l.fillText)return!1;switch(l.textBaseline=\"top\",l.font=\"600 32px Arial\",a){case\"flag\":return!(b=d([55356,56826,55356,56819],[55356,56826,8203,55356,56819]))&&(b=d([55356,57332,56128,56423,56128,56418,56128,56421,56128,56430,56128,56423,56128,56447],[55356,57332,8203,56128,56423,8203,56128,56418,8203,56128,56421,8203,56128,56430,8203,56128,56423,8203,56128,56447]),!b);case\"emoji\":return b=d([55358,56760,9792,65039],[55358,56760,8203,9792,65039]),!b}return!1}function f(a){var c=b.createElement(\"script\");c.src=a,c.defer=c.type=\"text/javascript\",b.getElementsByTagName(\"head\")[0].appendChild(c)}var g,h,i,j,k=b.createElement(\"canvas\"),l=k.getContext&&k.getContext(\"2d\");for(j=Array(\"flag\",\"emoji\"),c.supports={everything:!0,everythingExceptFlag:!0},i=0;i<j.length;i++)c.supports[j[i]]=e(j[i]),c.supports.everything=c.supports.everything&&c.supports[j[i]],\"flag\"!==j[i]&&(c.supports.everythingExceptFlag=c.supports.everythingExceptFlag&&c.supports[j[i]]);c.supports.everythingExceptFlag=c.supports.everythingExceptFlag&&!c.supports.flag,c.DOMReady=!1,c.readyCallback=function(){c.DOMReady=!0},c.supports.everything||(h=function(){c.readyCallback()},b.addEventListener?(b.addEventListener(\"DOMContentLoaded\",h,!1),a.addEventListener(\"load\",h,!1)):(a.attachEvent(\"onload\",h),b.attachEvent(\"onreadystatechange\",function(){\"complete\"===b.readyState&&c.readyCallback()})),g=c.source||{},g.concatemoji?f(g.concatemoji):g.wpemoji&&g.twemoji&&(f(g.twemoji),f(g.wpemoji)))}(window,document,window._wpemojiSettings);\\n\\t\\t</script>\\n\\t\\t<style type=\"text/css\">\\nimg.wp-smiley,\\nimg.emoji {\\n\\tdisplay: inline !important;\\n\\tborder: none !important;\\n\\tbox-shadow: none !important;\\n\\theight: 1em !important;\\n\\twidth: 1em !important;\\n\\tmargin: 0 .07em !important;\\n\\tvertical-align: -0.1em !important;\\n\\tbackground: none !important;\\n\\tpadding: 0 !important;\\n}\\n</style>\\n<link rel=\\'stylesheet\\' id=\\'ktt_-angular-material.min-css\\'  href=\\'https://greenpeace.ru/wp-content/themes/narratium/assets/stylesheets/angular-material.min.css?ver=4.9.16\\' type=\\'text/css\\' media=\\'all\\' />\\n<link rel=\\'stylesheet\\' id=\\'ktt_-base-css\\'  href=\\'https://greenpeace.ru/wp-content/themes/narratium/assets/stylesheets/base.css?ver=4.9.16\\' type=\\'text/css\\' media=\\'all\\' />\\n<style id=\\'ktt_-base-inline-css\\' type=\\'text/css\\'>\\n.site-typeface-title, site-typeface-title-1, site-typeface-title-2, site-typeface-title-3 {font-family:\\'open sans\\';font-weight:normal;} .site-typeface-headline {font-family:\\'open sans\\';font-weight:normal;} .site-typeface-content {font-family:\\'open sans\\';font-weight:normal;} .site-typeface-body {font-family:\\'open sans\\';font-weight:normal;} html, body {font-size:18px;line-height:1.4em;} body h1 {font-size:2.2em;line-height:1.1em;font-weight:normal;} body h2 {font-size:2em;line-height:1.1em;font-weight:normal;} body h3 {font-size:1.8em;line-height:1.1em;font-weight:normal;} .typo-size-content {font-size:21px;line-height:1.5em;}  .color-scheme-base_light .site-palette-yang-1-color a, .site-palette-yang-2-color a, .site-palette-yang-3-color a, .site-palette-yang-4-color a {color:#efe8e9;}  .color-scheme-base_light .site-palette-yin-1-color a, .site-palette-yin-2-color a, .site-palette-yin-3-color a, .site-palette-yin-4-color a {color:#4A3Ddd;}  .color-scheme-base_light .site-palette-yang-1-background-color a {color:#4A3Ddd;}  .color-scheme-base_light .site-palette-yin-1-background-color a {color:#efe8e9;}  .color-scheme-base_light .site-palette-yin-1-color .site-palette-special-1-color, .site-palette-yin-2-color .site-palette-special-1-color, .site-palette-yin-3-color .site-palette-special-1-color, .site-palette-yin-4-color .site-palette-special-1-color {color:#4A3Ddd;}  .color-scheme-base_light .site-palette-yin-1-background-color .site-palette-special-1-background-color, .site-palette-yin-2-background-color .site-palette-special-1-background-color, .site-palette-yin-3-background-color .site-palette-special-1-background-color, .site-palette-yin-4-background-color .site-palette-special-1-background-color {background-color:#4A3Ddd;}  .color-scheme-base_light .site-palette-yin-1-border-color .site-palette-special-1-border-color, .site-palette-yin-2-border-color .site-palette-special-1-border-color, .site-palette-yin-3-border-color .site-palette-special-1-border-color, .site-palette-yin-4-border-color .site-palette-special-1-border-color {border-color:#4A3Ddd;}  .color-scheme-base_light .site-palette-yin-1-color .site-palette-special-2-color, .site-palette-yin-2-color .site-palette-special-2-color, .site-palette-yin-3-color .site-palette-special-2-color, .site-palette-yin-4-color .site-palette-special-2-color {color:#ab5d6a;}  .color-scheme-base_light .site-palette-yin-1-background-color .site-palette-special-2-background-color, .site-palette-yin-2-background-color .site-palette-special-2-background-color, .site-palette-yin-3-background-color .site-palette-special-2-background-color, .site-palette-yin-4-background-color .site-palette-special-2-background-color {background-color:#ab5d6a;}  .color-scheme-base_light .site-palette-yin-1-border-color .site-palette-special-2-border-color, .site-palette-yin-2-border-color .site-palette-special-2-border-color, .site-palette-yin-3-border-color .site-palette-special-2-border-color, .site-palette-yin-4-border-color .site-palette-special-2-border-color {border-color:#ab5d6a;}  .color-scheme-base_light .site-palette-yin-1-color .site-palette-special-1-color, .site-palette-yin-2-color .site-palette-special-1-color, .site-palette-yin-3-color .site-palette-special-1-color, .site-palette-yin-4-color .site-palette-special-1-color {color:#4A3Ddd;}  .color-scheme-base_light .site-palette-yin-1-background-color .site-palette-special-1-background-color, .site-palette-yin-2-background-color .site-palette-special-1-background-color, .site-palette-yin-3-background-color .site-palette-special-1-background-color, .site-palette-yin-4-background-color .site-palette-special-1-background-color {background-color:#4A3Ddd;}  .color-scheme-base_light .site-palette-yin-1-border-color .site-palette-special-1-border-color, .site-palette-yin-2-border-color .site-palette-special-1-border-color, .site-palette-yin-3-border-color .site-palette-special-1-border-color, .site-palette-yin-4-border-color .site-palette-special-1-border-color {border-color:#4A3Ddd;}  .color-scheme-base_light .site-palette-yin-1-color .site-palette-special-2-color, .site-palette-yin-2-color .site-palette-special-2-color, .site-palette-yin-3-color .site-palette-special-2-color, .site-palette-yin-4-color .site-palette-special-2-color {color:#ab5d6a;}  .color-scheme-base_light .site-palette-yin-1-background-color .site-palette-special-2-background-color, .site-palette-yin-2-background-color .site-palette-special-2-background-color, .site-palette-yin-3-background-color .site-palette-special-2-background-color, .site-palette-yin-4-background-color .site-palette-special-2-background-color {background-color:#ab5d6a;}  .color-scheme-base_light .site-palette-yin-1-border-color .site-palette-special-2-border-color, .site-palette-yin-2-border-color .site-palette-special-2-border-color, .site-palette-yin-3-border-color .site-palette-special-2-border-color, .site-palette-yin-4-border-color .site-palette-special-2-border-color {border-color:#ab5d6a;}  .color-scheme-base_light .site-palette-yin-1-color, .color-scheme-base_light a.site-palette-yin-1-color {color:#27262B;}  .color-scheme-base_light .site-palette-yin-2-color, .color-scheme-base_light a.site-palette-yin-2-color {color:#474748;}  .color-scheme-base_light .site-palette-yin-3-color, .color-scheme-base_light a.site-palette-yin-3-color {color:#6C606F;}  .color-scheme-base_light .site-palette-yin-4-color, .color-scheme-base_light a.site-palette-yin-4-color {color:#99939F;}  .color-scheme-base_light .site-palette-yang-1-color, .color-scheme-base_light a.site-palette-yang-1-color {color:#F6F9FC;}  .color-scheme-base_light .site-palette-yang-2-color, .color-scheme-base_light a.site-palette-yang-2-color {color:#F0F3F5;}  .color-scheme-base_light .site-palette-yang-3-color, .color-scheme-base_light a.site-palette-yang-3-color {color:#e2e8e9;}  .color-scheme-base_light .site-palette-yang-4-color, .color-scheme-base_light a.site-palette-yang-4-color {color:#d2d8d9;}  .color-scheme-base_light .site-palette-yin-1-background-color, .color-scheme-base_light a.site-palette-yin-1-background-color {background-color:#27262B;}  .color-scheme-base_light .site-palette-yin-2-background-color, .color-scheme-base_light a.site-palette-yin-2-background-color {background-color:#474748;}  .color-scheme-base_light .site-palette-yin-3-background-color, .color-scheme-base_light a.site-palette-yin-3-background-color {background-color:#6C606F;}  .color-scheme-base_light .site-palette-yin-4-background-color, .color-scheme-base_light a.site-palette-yin-4-background-color {background-color:#99939F;}  .color-scheme-base_light .site-palette-yang-1-background-color, .color-scheme-base_light a.site-palette-yang-1-background-color {background-color:#F6F9FC;}  .color-scheme-base_light .site-palette-yang-2-background-color, .color-scheme-base_light a.site-palette-yang-2-background-color {background-color:#F0F3F5;}  .color-scheme-base_light .site-palette-yang-3-background-color, .color-scheme-base_light a.site-palette-yang-3-background-color {background-color:#e2e8e9;}  .color-scheme-base_light .site-palette-yang-4-background-color, .color-scheme-base_light a.site-palette-yang-4-background-color {background-color:#d2d8d9;}  .color-scheme-base_light .site-palette-yin-1-border-color, .color-scheme-base_light a.site-palette-yin-1-border-color {border-color:#27262B;}  .color-scheme-base_light .site-palette-yin-2-border-color, .color-scheme-base_light a.site-palette-yin-2-border-color {border-color:#474748;}  .color-scheme-base_light .site-palette-yin-3-border-color, .color-scheme-base_light a.site-palette-yin-3-border-color {border-color:#6C606F;}  .color-scheme-base_light .site-palette-yin-4-border-color, .color-scheme-base_light a.site-palette-yin-4-border-color {border-color:#99939F;}  .color-scheme-base_light .site-palette-yang-1-border-color, .color-scheme-base_light a.site-palette-yang-1-border-color {border-color:#F6F9FC;}  .color-scheme-base_light .site-palette-yang-2-border-color, .color-scheme-base_light a.site-palette-yang-2-border-color {border-color:#F0F3F5;}  .color-scheme-base_light .site-palette-yang-3-border-color, .color-scheme-base_light a.site-palette-yang-3-border-color {border-color:#e2e8e9;}  .color-scheme-base_light .site-palette-yang-4-border-color, .color-scheme-base_light a.site-palette-yang-4-border-color {border-color:#d2d8d9;}  .color-scheme-base_light .site-palette-yin-1-gradient-from-20 {background:linear-gradient(0deg, #27262B 20%, rgba(200,200,200,0) 100%);}  .color-scheme-base_light .site-palette-yin-2-gradient-from-20 {background:linear-gradient(0deg, #474748 20%, rgba(200,200,200,0) 100%);}  .color-scheme-base_light .site-palette-yin-3-gradient-from-20 {background:linear-gradient(0deg, #6C606F 20%, rgba(200,200,200,0) 100%);}  .color-scheme-base_light .site-palette-yin-4-gradient-from-20 {background:linear-gradient(0deg, #99939F 20%, rgba(200,200,200,0) 100%);}  .color-scheme-base_light .site-palette-yang-1-gradient-from-20 {background:linear-gradient(0deg, #F6F9FC 20%, rgba(200,200,200,0) 100%);}  .color-scheme-base_light .site-palette-yang-2-gradient-from-20 {background:linear-gradient(0deg, #F0F3F5 20%, rgba(200,200,200,0) 100%);}  .color-scheme-base_light .site-palette-yang-3-gradient-from-20 {background:linear-gradient(0deg, #e2e8e9 20%, rgba(200,200,200,0) 100%);}  .color-scheme-base_light .site-palette-yang-4-gradient-from-20 {background:linear-gradient(0deg, #d2d8d9 20%, rgba(200,200,200,0) 100%);} \\n</style>\\n<link rel=\\'stylesheet\\' id=\\'ktt_-icons-css\\'  href=\\'https://greenpeace.ru/wp-content/themes/narratium/assets/stylesheets/icons.css?ver=4.9.16\\' type=\\'text/css\\' media=\\'all\\' />\\n<link rel=\\'stylesheet\\' id=\\'ktt_-ajax-transitions-base-css\\'  href=\\'https://greenpeace.ru/wp-content/themes/narratium/theme-features/site-ajax-animations/src/css/ajax-transitions-base.css?ver=4.9.16\\' type=\\'text/css\\' media=\\'all\\' />\\n<link rel=\\'stylesheet\\' id=\\'ktt_-template-single-css\\'  href=\\'https://greenpeace.ru/wp-content/themes/narratium/assets/stylesheets/template-single.css?ver=4.9.16\\' type=\\'text/css\\' media=\\'all\\' />\\n<link rel=\\'stylesheet\\' id=\\'wp-block-library-css\\'  href=\\'https://greenpeace.ru/wp-content/plugins/gutenberg/build/block-library/style.css?ver=1547559838\\' type=\\'text/css\\' media=\\'all\\' />\\n<link rel=\\'stylesheet\\' id=\\'gutenberg-faq-block-style-css\\'  href=\\'https://greenpeace.ru/wp-content/plugins/faq-block-for-gutenberg/includes/../assets/css/style.css?ver=4.9.16\\' type=\\'text/css\\' media=\\'all\\' />\\n<link rel=\\'stylesheet\\' id=\\'ktt_-material-icons-css\\'  href=\\'https://fonts.googleapis.com/icon?family=Material+Icons&#038;ver=4.9.16\\' type=\\'text/css\\' media=\\'all\\' />\\n<link rel=\\'stylesheet\\' id=\\'addthis_all_pages-css\\'  href=\\'https://greenpeace.ru/wp-content/plugins/addthis/frontend/build/addthis_wordpress_public.min.css?ver=4.9.16\\' type=\\'text/css\\' media=\\'all\\' />\\n<link rel=\\'stylesheet\\' id=\\'narratium_-google-fonts-css\\'  href=\\'//fonts.googleapis.com/css?family=Open+Sans%3A300%2C300italic%2Cregular%2Citalic%2C600%2C600italic%2C700%2C700italic%2C800%2C800italic%7C&#038;ver=1.0.0\\' type=\\'text/css\\' media=\\'all\\' />\\n<script type=\\'text/javascript\\' src=\\'https://greenpeace.ru/wp-includes/js/jquery/jquery.js?ver=1.12.4\\'></script>\\n<script type=\\'text/javascript\\' src=\\'https://greenpeace.ru/wp-includes/js/jquery/jquery-migrate.min.js?ver=1.4.1\\'></script>\\n<link rel=\\'https://api.w.org/\\' href=\\'https://greenpeace.ru/wp-json/\\' />\\n<link rel=\"EditURI\" type=\"application/rsd+xml\" title=\"RSD\" href=\"https://greenpeace.ru/xmlrpc.php?rsd\" />\\n<link rel=\"wlwmanifest\" type=\"application/wlwmanifest+xml\" href=\"https://greenpeace.ru/wp-includes/wlwmanifest.xml\" /> \\n<link rel=\\'prev\\' title=\\'Чем кормить птиц зимой?\\' href=\\'https://greenpeace.ru/how-to/2021/01/14/chem-kormit-ptic-zimoj/\\' />\\n<link rel=\\'next\\' title=\\'Наш коллега Евгений Усов умер от Covid-19\\' href=\\'https://greenpeace.ru/news/2021/01/16/nash-kollega-evgenij-usov-umer-ot-covid-19/\\' />\\n<meta name=\"generator\" content=\"WordPress 4.9.16\" />\\n<link rel=\"canonical\" href=\"https://greenpeace.ru/news/2021/01/14/vlasti-francii-otvetjat-v-sude-za-klimaticheskoe-bezdejstvie/\" />\\n<link rel=\\'shortlink\\' href=\\'https://greenpeace.ru/?p=34802\\' />\\n<link rel=\"alternate\" type=\"application/json+oembed\" href=\"https://greenpeace.ru/wp-json/oembed/1.0/embed?url=https%3A%2F%2Fgreenpeace.ru%2Fnews%2F2021%2F01%2F14%2Fvlasti-francii-otvetjat-v-sude-za-klimaticheskoe-bezdejstvie%2F\" />\\n<link rel=\"alternate\" type=\"text/xml+oembed\" href=\"https://greenpeace.ru/wp-json/oembed/1.0/embed?url=https%3A%2F%2Fgreenpeace.ru%2Fnews%2F2021%2F01%2F14%2Fvlasti-francii-otvetjat-v-sude-za-klimaticheskoe-bezdejstvie%2F&#038;format=xml\" />\\n\\t\\t<style>\\n\\n\\t\\t      .ktt-interview-question:before, .ktt-interview-answer:before {\\n\\t\\t        position:absolute;\\n\\t\\t        width:200px;\\n\\t\\t        text-align:right;\\n\\t\\t        margin-left:-220px;\\n\\t\\t        font-size:0.65em;\\n\\t\\t        font-weight:200;\\n\\t\\t      }\\n\\n\\n\\t\\t      @media  screen and (min-width : 0px) and (max-width : 768px) {\\n\\t\\t        .ktt-interview-question:before, .ktt-interview-answer:before {\\n\\t\\t          position:relative;\\n\\t\\t          display:block;\\n\\t\\t          text-align:left;\\n\\t\\t          margin:0;\\n\\t\\t        }\\n\\t\\t      }\\n\\n\\t\\t\\t.ktt-interview-question:before {\\n\\t\\t\\t     content:\\'Question\\';\\n\\t\\t\\t}\\n\\t\\t\\t.ktt-interview-answer:before {\\n\\t\\t\\t     content:\\'Answer\\';\\n\\t\\t\\t}\\n\\n\\n\\t\\t\\t\\n\\t\\t\\t\\n\\t\\t</style>\\n\\t\\t\\t\\t<meta name=\"twitter:card\" \\t\\t\\tcontent=\"summary_large_image\">\\n\\t\\t<meta name=\"twitter:site\" \\t\\t\\tcontent=\"@greenpeaceru\">\\n\\t\\t<meta name=\"twitter:creator\" \\t\\tcontent=\"@greenpeaceru\">\\n\\t\\t<meta name=\"twitter:title\" \\t\\t\\tcontent=\"Власти Франции ответят в суде за климатическое бездействие\">\\n\\t\\t<meta name=\"twitter:description\" \\tcontent=\"Сегодня состоялось слушание дела. Требование поддержало более двух миллионов французов.\">\\n\\t\\t<meta name=\"twitter:domain\" \\t\\tcontent=\"https://greenpeace.ru/\">\\n\\t\\t<meta name=\"twitter:image:src\" \\t\\tcontent=\"\">\\n\\t\\t\\t\\t<meta property=\"fb:app_id\"          content=\"162272797154940\" /> \\n\\t\\t<meta property=\"og:image\" \\t\\t\\tcontent=\"\"/>\\n\\t\\t<meta property=\"og:title\" \\t\\t\\tcontent=\"Власти Франции ответят в суде за климатическое бездействие\"/>\\n\\t\\t<meta name=\"Description\" property=\"og:description\"     content=\"Сегодня состоялось слушание дела. Требование поддержало более двух миллионов французов.\" />\\n\\t\\t<meta property=\"og:url\" \\t\\t\\tcontent=\"https://greenpeace.ru/news/2021/01/14/vlasti-francii-otvetjat-v-sude-za-klimaticheskoe-bezdejstvie/\"/>\\n\\t\\t<meta property=\"og:site_name\" \\t\\tcontent=\"Greenpeace в России\"/>\\n\\t\\t<meta property=\"og:type\" \\t\\t\\tcontent=\"article\" />\\n\\t\\t<meta property=\"og:author\" \\tcontent=\"Олеся Викулова\" />\\n\\n\\t\\t<meta property=\"oggg:section\" content=\"Array\"/>\\n\\n\\t\\t<meta property=\"og:publisher\" \\tcontent=\"https://www.facebook.com/GreenpeaceRussia/\" />\\n\\t\\t<link rel=\"shortcut icon\" type=\"image/x-icon\" href=\"/wp-content/uploads/2019/06/G-sign-2019-1.png\" />\\n<link rel=\"icon\" href=\"https://greenpeace.ru/wp-content/uploads/2019/06/cropped-G-sign-2019-1-1-32x32.png\" sizes=\"32x32\" />\\n<link rel=\"icon\" href=\"https://greenpeace.ru/wp-content/uploads/2019/06/cropped-G-sign-2019-1-1-192x192.png\" sizes=\"192x192\" />\\n<link rel=\"apple-touch-icon-precomposed\" href=\"https://greenpeace.ru/wp-content/uploads/2019/06/cropped-G-sign-2019-1-1-180x180.png\" />\\n<meta name=\"msapplication-TileImage\" content=\"https://greenpeace.ru/wp-content/uploads/2019/06/cropped-G-sign-2019-1-1-270x270.png\" />\\n\\t\\t<script type=\"text/javascript\" src=\"https://cdnjs.cloudflare.com/ajax/libs/slick-carousel/1.9.0/slick.min.js\"></script>\\n\\t\\t<script type=\"text/javascript\" src=\"/wp-content/themes/narratium/js/jquery.color-2.1.2.min.js\"></script>\\n\\t\\t<script type=\"text/javascript\" src=\"/wp-content/themes/narratium/script.js?1614675806\"></script>\\n\\n\\t\\t<link rel=\\'stylesheet\\' id=\\'font-general\\'  href=\\'/wp-content/themes/narratium/style.css?1613559430\\' type=\\'text/css\\' media=\\'all\\' />\\t\\n\\t\\t<link rel=\\'stylesheet\\' href=\\'/font/fontello/css/pin.css\\' type=\\'text/css\\' media=\\'all\\' />\\t\\n\\t\\t\\n\\t\\t\\n<!-- Global site tag (gtag.js) - Google Analytics -->\\n<script async src=\"https://www.googletagmanager.com/gtag/js?id=UA-125972325-1\"></script>\\n<script>\\n  window.dataLayer = window.dataLayer || [];\\n  function gtag(){dataLayer.push(arguments);}\\n  gtag(\\'js\\', new Date());\\n\\n  gtag(\\'config\\', \\'UA-125972325-1\\');\\n  gtag(\\'config\\', \\'UA-125972325-2\\', {\\n  \\'linker\\': {\\n    \\'domains\\': [\\'greenpeace.ru\\', \\'act.greenpeace.org\\', \\'join.greenpeace.ru\\']\\n  }\\n});\\n  gtag(\\'config\\', \\'UA-109290164-1\\');\\n</script>\\n<!-- Global site tag (gtag.js) - Google Analytics 4 -->\\n<script async src=\"https://www.googletagmanager.com/gtag/js?id=G-RFR48NQTE5\"></script>\\n<script>\\n  window.dataLayer = window.dataLayer || [];\\n  function gtag(){dataLayer.push(arguments);}\\n  gtag(\\'js\\', new Date());\\n\\n  gtag(\\'config\\', \\'G-RFR48NQTE5\\');\\n</script>\\n\\n<script>\\n//Campaign information \\nwindow.dataLayer = window.dataLayer || [];\\n dataLayer.push({\\n \\'officeName\\': \\'Russia\\',\\n \\'gBasket\\': \\'\\',\\n \\'gCampaign\\': \\'\\',\\n \\'gScope\\': \\'National\\',\\n \\'gDepartment\\': \\'Campaign\\',\\n \\'pageType\\': \\'Campaign Page\\',\\n});\\n</script>\\n\\t\\t\\n<!-- Google Tag Manager -->\\n<script>(function(w,d,s,l,i){w[l]=w[l]||[];w[l].push({\\'gtm.start\\':\\nnew Date().getTime(),event:\\'gtm.js\\'});var f=d.getElementsByTagName(s)[0],\\nj=d.createElement(s),dl=l!=\\'dataLayer\\'?\\'&l=\\'+l:\\'\\';j.async=true;j.src=\\n\\'https://www.googletagmanager.com/gtm.js?id=\\'+i+dl;f.parentNode.insertBefore(j,f);\\n})(window,document,\\'script\\',\\'dataLayer\\',\\'GTM-WW2Q835\\');</script>\\n<!-- End Google Tag Manager -->\\t\\t\\n<!-- Google Tag Manager -->\\n<script>(function(w,d,s,l,i){w[l]=w[l]||[];w[l].push({\\'gtm.start\\':\\nnew Date().getTime(),event:\\'gtm.js\\'});var f=d.getElementsByTagName(s)[0],\\nj=d.createElement(s),dl=l!=\\'dataLayer\\'?\\'&l=\\'+l:\\'\\';j.async=true;j.src=\\n\\'https://www.googletagmanager.com/gtm.js?id=\\'+i+dl;f.parentNode.insertBefore(j,f);\\n})(window,document,\\'script\\',\\'dataLayer\\',\\'GTM-P9P82X4\\');</script>\\n<!-- End Google Tag Manager -->\\n\\t\\t\\n\\n\\t\\t\\n<!-- Yandex.Metrika counter -->\\n<script type=\"text/javascript\" >\\n   (function(m,e,t,r,i,k,a){m[i]=m[i]||function(){(m[i].a=m[i].a||[]).push(arguments)};\\n   m[i].l=1*new Date();k=e.createElement(t),a=e.getElementsByTagName(t)[0],k.async=1,k.src=r,a.parentNode.insertBefore(k,a)})\\n   (window, document, \"script\", \"https://mc.yandex.ru/metrika/tag.js\", \"ym\");\\n\\n   ym(50848277, \"init\", {\\n        clickmap:true,\\n        trackLinks:true,\\n        accurateTrackBounce:true,\\n        webvisor:true\\n   });\\n</script>\\n<noscript><div><img src=\"https://mc.yandex.ru/watch/50848277\" style=\"position:absolute; left:-9999px;\" alt=\"\" /></div></noscript>\\n<!-- /Yandex.Metrika counter -->\\n<!-- Facebook Pixel Code -->\\n<script>\\n  !function(f,b,e,v,n,t,s)\\n  {if(f.fbq)return;n=f.fbq=function(){n.callMethod?\\n  n.callMethod.apply(n,arguments):n.queue.push(arguments)};\\n  if(!f._fbq)f._fbq=n;n.push=n;n.loaded=!0;n.version=\\'2.0\\';\\n  n.queue=[];t=b.createElement(e);t.async=!0;\\n  t.src=v;s=b.getElementsByTagName(e)[0];\\n  s.parentNode.insertBefore(t,s)}(window, document,\\'script\\',\\n  \\'https://connect.facebook.net/en_US/fbevents.js\\');\\n  fbq(\\'init\\', \\'1420758151316145\\');\\n  fbq(\\'track\\', \\'PageView\\');\\n</script>\\n<noscript><img height=\"1\" width=\"1\" style=\"display:none\"\\n  src=\"https://www.facebook.com/tr?id=1420758151316145&ev=PageView&noscript=1\"\\n/></noscript>\\n<!-- End Facebook Pixel Code -->\\n<script type=\"text/javascript\">!function(){var t=document.createElement(\"script\");t.type=\"text/javascript\",t.async=!0,t.src=\"https://vk.com/js/api/openapi.js?160\",t.onload=function(){VK.Retargeting.Init(\"VK-RTRG-348467-2la1o\"),VK.Retargeting.Hit()},document.head.appendChild(t)}();</script><noscript><img src=\"https://vk.com/rtrg?p=VK-RTRG-348467-2la1o\" style=\"position:fixed; left:-999px;\" alt=\"\"/></noscript>\\n\\t\\n\\n    </head>\\n    <body\\n      data-ng-app=main_app data-ng-controller=main_app_controller    data-ng-cloak\\n    data-layout=\"column\"\\n    data-flex\\n    class=\"post-template post-template-template-news-page post-template-template-news-page-php single single-post postid-34802 single-format-standard wp-custom-logo site-palette-yang-1-background-color site-palette-yin-1-color site-typeface-body news-page\">\\n<!-- Google Tag Manager (noscript) -->\\n<noscript><iframe src=\"https://www.googletagmanager.com/ns.html?id=GTM-WW2Q835\"\\nheight=\"0\" width=\"0\" style=\"display:none;visibility:hidden\"></iframe></noscript>\\n<!-- End Google Tag Manager (noscript) -->\\n<!-- Google Tag Manager (noscript) -->\\n<noscript><iframe src=\"https://www.googletagmanager.com/ns.html?id=GTM-P9P82X4\"\\nheight=\"0\" width=\"0\" style=\"display:none;visibility:hidden\"></iframe></noscript>\\n<!-- End Google Tag Manager (noscript) -->\\t\\t\\n\\t\\t\\n\\n          <div id=\"loader\" class=\"pageload-overlay\" data-opening=\"M 0,0 80,-10 80,60 0,70 0,0\" data-closing=\"M 0,-10 80,-20 80,-10 0,0 0,-10\">\\n\\t\\t\\t\\t<svg xmlns=\"http://www.w3.org/2000/svg\" width=\"100%\" height=\"100%\" viewBox=\"0 0 80 60\" preserveAspectRatio=\"none\">\\n\\t\\t\\t\\t\\t<path d=\"M 0,70 80,60 80,80 0,80 0,70\"/>\\n\\t\\t\\t\\t</svg>\\n\\t</div>\\n      <!-- MENU -->\\n    <div id=\"site-menu-block\"\\n          data-layout-align=\"start center\"\\n          class=\" max-width-400px width-100 position-relative overlay-contentpush overlay site-left-sidenav site-sidenav site-palette-yang-2-background-color site-palette-yin-2-color\"\\n          data-layout=\"column\">\\n\\n          <md-button\\n          id=\"close-site-menu\"\\n          aria-label=\"Menu\"\\n          data-flex\\n          data-ng-click=\"open_left_sidenav()\"\\n          style=\"right:-37px;float:right;line-height:20px;padding:0;vertical-align:middle;top: 45%\"\\n          class=\"close-site-menu position-absolute hide-xs show-gt-xs display-block text-align-center md-fab site-palette-yang-1-color site-palette-yin-1-background-color\" >\\n          <i style=\"margin:0;font-size:30px;\" class=\"material-icons\">close</i>\\n          </md-button>\\n\\n          <div\\n          data-layout=\"column\"\\n          class=\"width-100 text-size-small  site-palette-yin-2-color\">\\n\\n\\n\\n\\n\\n\\n                                        <div class=\"section classic-link-inside padding-both-20\">\\n\\n                        <div\\n                        data-layout=\"row\"\\n                        data-layout-align=\"space-between stretch\"\\n                        class=\"margin-bottom-20 clear-both width-100 overflow-hidden border-radius-4\">\\n                          <a\\n                            data-flex=\"auto\"\\n                            data-md-no-ink\\n                            aria-label=\"Home\"\\n                            href=\"https://greenpeace.ru/\"\\n                            class=\"button-behaviour cursor-pointer display-block padding-both-10 padding-left-20 padding-right-20  text-align-center site-palette-yin-2-color site-palette-yang-4-background-color\" >\\n                            <i class=\" text-size-4xlarge material-icons\">home</i>\\n                            <span class=\" text-size-small font-weight-700\"  >Обратно на главную</span>\\n                          </a>\\n\\t\\t\\t\\t\\t\\t\\t\\n\\t\\t\\t\\t\\t\\t\\t\\n\\n                          <md-button\\n                            data-flex\\n                            data-ng-click=\"open_left_sidenav()\"\\n                            data-hide-gt-xs\\n                            aria-label=\"Close\"\\n                            data-md-no-ink\\n                            style=\"text-transform:none;border-radius:0 4px 4px 0;margin:0;padding:0;\"\\n                            class=\" display-block cursor-pointer padding-both-10 padding-left-20 padding-right-20  text-align-center site-palette-yang-2-color site-palette-yin-1-background-color\">\\n                            <i class=\"text-size-4xlarge material-icons\">close</i>\\n                            <span class=\" text-size-xsmall\" data-hide-xs >Закрыть</span>\\n                          </md-button>\\n\\n                        </div>\\n\\t\\t\\t\\t\\t\\t\\n<div id=\"search-2\" class=\"padding-both-20 border-radius-3 site-palette-yang-1-background-color widget widget_search\"><form role=\"search\" method=\"get\" class=\"search-form\" action=\"https://greenpeace.ru/\">\\n\\t\\t\\t\\t<label>\\n\\t\\t\\t\\t\\t<span class=\"screen-reader-text\">Search for:</span>\\n\\t\\t\\t\\t\\t<input type=\"search\" class=\"search-field\" placeholder=\"Search &hellip;\" value=\"\" name=\"s\" />\\n\\t\\t\\t\\t</label>\\n\\t\\t\\t\\t<input type=\"submit\" class=\"search-submit\" value=\"Search\" />\\n\\t\\t\\t</form></div>\\t\\t\\t\\t\\t\\t\\n                        <hr class=\"margin-bottom-20 site-palette-yang-4-border-color \">\\n\\n\\n                        \\n                    </div>\\n\\n\\t\\t\\t  \\n\\t\\t\\t  <div class=\"menu-categories-menu-container navi-menu-categories\"><ul id=\"menu-categories-menu\" class=\"frontpage-extra-menu  margin-auto display-inline\"><li id=\"menu-item-2604\" class=\"menu-item menu-item-type-custom menu-item-object-custom menu-item-2604\"><a href=\"/publications/news/\">Новости</a></li>\\n<li id=\"menu-item-2603\" class=\"menu-item menu-item-type-custom menu-item-object-custom menu-item-2603\"><a href=\"/publications/blogs/\">Блоги</a></li>\\n<li id=\"menu-item-2606\" class=\"menu-item menu-item-type-custom menu-item-object-custom menu-item-2606\"><a href=\"/publications/stories/\">Истории</a></li>\\n<li id=\"menu-item-2607\" class=\"menu-item menu-item-type-taxonomy menu-item-object-category menu-item-2607 icon-volume-up\"><a href=\"/publications/podcast/\">Подкаст</a></li>\\n<li id=\"menu-item-2605\" class=\"menu-item menu-item-type-custom menu-item-object-custom menu-item-2605\"><a href=\"/publications/how-to/\">Инструкции</a></li>\\n<li id=\"menu-item-2602\" class=\"menu-item menu-item-type-taxonomy menu-item-object-category menu-item-2602\"><a href=\"/publications/expert-opinions/\">Мнение&nbsp;эксперта</a></li>\\n</ul>\\n\\t\\t\\t  <hr class=\"margin-bottom-10 site-palette-yang-4-border-color\">\\t  \\n\\t\\t\\t  </div>\\n\\t\\t\\t  \\n\\t\\t\\t  \\n                    <div class=\"padding-bottom-40 padding-left-40 padding-right-40 text-align-center typo-size-xsmall\">\\n\\t\\t\\t\\t\\t\\t<div class=\"navi-menu-main\">\\n\\t\\t\\t\\t\\t\\t<ul>\\n\\t\\t\\t\\t\\t\\t\\t<li><a href=\"/o-greenpeace/\">О Greenpeace</a></li>\\n\\t\\t\\t\\t\\t\\t\\t<ul class=\"navi-menu-categories-include\">\\n\\t\\t\\t\\t\\t\\t\\t\\t<li><a href=\"/o-greenpeace/structure/\">Как устроен Greenpeace в России</a></li>\\n\\t\\t\\t\\t\\t\\t\\t\\t<li><a href=\"/o-greenpeace/reports/\">Отчёты о нашей работе</a></li>\\n\\t\\t\\t\\t\\t\\t\\t</ul>\\n\\t\\t\\t\\t\\t\\t\\t<li><a href=\"/projects/\">Наши проекты</a></li>\\n\\t\\t\\t\\t\\t\\t\\t<li><a href=\"/volunteers/\">Станьте волонтёром</a></li>\\n\\t\\t\\t\\t\\t\\t\\t<li><a class=\"desktop GTM-donate-button check_utm\" href=\"https://join.greenpeace.ru/index.php?iAppealID=4506?utm_source=greenpeace.ru&utm_medium=referral&utm_campaign=brand&utm_content=menu&utm_term=desktop\" target=\"_blank\" rel=\"noopener\">Станьте сторонником<i class=\"material-icons favorite_border\">favorite_border</i></a>\\n\\t\\t\\t\\t\\t\\t\\t\\t\\n\\t\\t\\t\\t\\t\\t\\t\\t<a class=\"mobile GTM-donate-button check_utm\" href=\"https://join.greenpeace.ru/index.php?iAppealID=4507?utm_source=greenpeace.ru&utm_medium=referral&utm_campaign=brand&utm_content=menu&utm_term=mobile\" target=\"_blank\" rel=\"noopener\">Станьте сторонником<i class=\"material-icons favorite_border\">favorite_border</i></a>\\n\\t\\t\\t\\t\\t\\t\\t\\t\\n\\t\\t\\t\\t\\t\\t\\t<ul class=\"navi-menu-categories-include\">\\n\\t\\t\\t\\t\\t\\t\\t\\t<li><a href=\"https://heroesfornature.ru/?utm_source=greenpeace.ru&utm_medium=referral&utm_campaign=brand&utm_content=menu\" target=\"_blank\" rel=\"noopener\">Создайте проект и помогите Greenpeace</a></li>\\n\\t\\t\\t\\t\\t\\t\\t\\t<li><a href=\"/direct-dialog/\">«Прямой диалог» на улицах города</a></li>\\n\\t\\t\\t\\t\\t\\t\\t\\t</ul>\\n\\t\\t\\t\\t\\t\\t\\t</li>\\n\\t\\t\\t\\t\\t\\t\\t<li><a href=\"/job/\">Работа в Greenpeace</a></li>\\n\\t\\t\\t\\t\\t\\t\\t<li><a href=\"/faq/\">FAQ — частые вопросы к нам</a></li>\\n\\t\\t\\t\\t\\t\\t\\t<li><a href=\"/privacy-policy/\">Политика конфиденциальности</a></li>\\n\\t\\t\\t\\t\\t\\t\\t<li><a href=\"/contacts/\">Контакты</a>\\n\\t\\t\\t\\t\\t\\t\\t<hr class=\"margin-top-30 margin-bottom-10 site-palette-yang-4-border-color\">\\n\\t\\t\\t\\t\\t\\t\\t</li>\\n\\t\\t\\t\\t\\t\\t</ul>\\n\\t\\t\\t\\t\\t\\t</div>\\n\\t\\t\\t\\t\\t\\t\\n\\t\\t\\t\\t\\t\\t\\n\\t\\t\\t\\t\\t\\t\\n                        \\t\\t\\t\\t\\t\\t<div class=\"classic-link-inside\">\\t  \\n<div class=\"padding-top-10 padding-bottom-10 margin-auto\">\\n\\t<a href=\"http://www.facebook.com/GreenpeaceRussia\" target=\"_blank\" rel=\"noopener\"><span class=\"icon-facebook\" style=\"color: #4596a5;padding:0 10px;font-size: 2em;\"></span></a>\\n\\t<a href=\"http://vk.com/club66871\" target=\"_blank\" rel=\"noopener\"><span class=\"icon-vk\" style=\"color: #4596a5;padding:0 10px;font-size: 2em;\"></span></a>\\n\\t<a href=\"https://www.youtube.com/user/GreenpeaceRussia?sub_confirmation=1\" target=\"_blank\" rel=\"noopener\"><span class=\"icon-youtube\" style=\"color:#4596a5;padding:0 10px;font-size: 2em;\"></span></a>\\n\\t<a href=\"tg://resolve?domain=greenpeaceru\" target=\"_blank\" rel=\"noopener\"><span class=\"icon-paper-plane\" style=\"color: #4596a5;padding:0 10px;font-size: 2em;\"></span></a>\\n\\t<a href=\"https://instagram.com/greenpeaceru/\" target=\"_blank\" rel=\"noopener\"><span class=\"icon-instagram\" style=\"color:#4596a5;padding:0 10px;font-size: 2em;\"></span></a>\\n</div>\\n\\t\\t\\t\\t  <hr class=\"margin-bottom-30 site-palette-yang-4-border-color \">\\n\\t\\t\\t\\t\\t\\t</div>\\n <img src=\"/wp-content/uploads/2018/09/earth-peace-sign.png\" width=\"80%\">\\n                                          \\t\\t\\t<div class=\" footer-firm \">\\n                  \\t\\t\\t\\t\\t\\t\\t<p>Greenpeace <span style=\"font-weight: 400\">—</span> это независимая международная природоохранная некоммерческая организация.</p>\\n<p>Мы работаем <strong>только на частные пожертвования граждан</strong> и не принимаем финансирования от коммерческих, государственных и политических организаций.</p>\\n<p>ОМННО «Совет Гринпис» © 2021</p>                  \\t\\t\\t</div>\\n                  \\t\\t\\t                    </div>\\n\\n\\n          </div>\\n\\n\\n\\n    </div>\\n        <div data-layout-padding class=\"header-menu-wrap min-width-300px position-fixed top-0 left-0 z-index-20\">\\n\\n      \\n    <md-button\\n    id=\"open-site-menu\"\\n    md-no-ink\\n    aria-label=\"Меню\"\\n        ng-href=\"https://greenpeace.ru/\"    style=\"background-image:url(\\'https://greenpeace.ru/wp-content/uploads/2019/06/cropped-G-sign-2019-1-1-150x150.png\\');background-position:center center;background-size:cover\"\\n    class=\"button-behaviour site-menu-handle-open site-logo-button md-fab site-palette-yang-1-color site-palette-yang-1-background-color\" >\\n    </md-button>\\n\\n    \\n    <span\\n    data-ng-click=\"open_left_sidenav()\"\\n    class=\"ng-cloak menu-handle cursor-pointer button-behaviour display-inline-block box-shadow site-menu-handle-open padding-left-20 padding-right-10 text-size-xsmall position-relative site-palette-yin-2-color site-palette-yang-4-background-color border-radius-4\">\\n      <i class=\"ng-cloak material-icons\">menu</i>\\n      <span class=\"ng-cloak\">Меню</span>\\n    </span>\\n\\n    \\n\\n    \\n    </div>\\n    \\n        <div\\n        id=\"site-wrap\"\\n        data-flex=\"auto\"\\n        data-layout=\"row\"\\n        data-layout-sm=\"column\"\\n        data-layout-xs=\"column\"\\n        class=\"site-wrap\">\\n\\n<style>\\n\\t.donate {\\n/*\\t\\theight: calc(40vw - 15px);\\n\\t\\tmin-height: calc(500px - 15px);\\n\\t\\tdisplay: table;\\n\\t\\tposition: relative;*/\\n\\t}\\n\\t.donate iframe{\\n\\t\\twidth:100%;\\n\\t\\theight:100%;\\n\\t\\toverflow-x:hidden;\\n\\t}\\n.iframe-embed {\\n    position: absolute;\\n    top: 0;\\n    left: 0;\\n/*    bottom: 0;*/\\n    height: 100%;\\n    width: 100%;\\n    border: 0;\\n\\toverflow: hidden;\\n}\\n.iframe-embed-wrapper {\\n    position: relative;\\n    overflow: hidden;\\n}\\n.iframe-embed-responsive-16by9 {\\n    padding-bottom: 90%;\\n\\tmargin: 50px 90px 0;\\n}\\n@media screen and (max-width: 1200px) { .iframe-embed-responsive-16by9 {padding-bottom: 120%;margin: 30px 0 0;}}\\n@media screen and (max-width: 950px) { .iframe-embed-responsive-16by9 {padding-bottom: 100%;margin: 30px 0 0;}}\\n@media screen and (max-width: 800px) { .iframe-embed-responsive-16by9 {padding-bottom: 100%;margin: 30px 0 0;}}\\n@media screen and (max-width: 770px) { .iframe-embed-responsive-16by9 {padding-bottom: 105%;}}\\n@media screen and (max-width: 730px) { .iframe-embed-responsive-16by9 {padding-bottom: 120%;}}\\n@media screen and (max-width: 640px) { .iframe-embed-responsive-16by9 {padding-bottom: 130%;}}\\n@media screen and (max-width: 600px) { .iframe-embed-responsive-16by9 {padding-bottom: 150%;}}\\n@media screen and (max-width: 550px) { .iframe-embed-responsive-16by9 {padding-bottom: 200%;}}\\n@media screen and (max-width: 465px) { .iframe-embed-responsive-16by9 {padding-bottom: 230%;}}\\n@media screen and (max-width: 430px) { .iframe-embed-responsive-16by9 {padding-bottom: 250%;}}\\n@media screen and (max-width: 400px) { .iframe-embed-responsive-16by9 {padding-bottom: 270%;}}\\n@media screen and (max-width: 380px) { .iframe-embed-responsive-16by9 {padding-bottom: 300%;}}\\n@media screen and (max-width: 360px) { .iframe-embed-responsive-16by9 {padding-bottom: 320%;}}\\n@media screen and (max-width: 333px) { .iframe-embed-responsive-16by9 {padding-bottom: 350%;}}\\n</style>\\n\\n\\n\\n\\n\\n\\n        <div\\n        id=\"basic-sideheader\"\\n        data-flex\\n        data-flex-xs=\"none\"\\n        data-flex-sm=\"none\"\\n        data-background-thumb=\"https://greenpeace.ru/wp-content/uploads/2019/05/cropped-GP0STRR32_PressMedia_compressed-2-127x300.jpg\"\\n        data-background-large=\"https://greenpeace.ru/wp-content/uploads/2019/05/cropped-GP0STRR32_PressMedia_compressed-2.jpg\"\\n        class=\"max-width-400px min-width-400px basic-sideheader overflow-hidden site-palette-yin-1-background-color\"\\n        >\\n\\n            \\n\\n            <div                        style=\"position:relative;z-index:10;\"\\n            data-layout-align=\"end stretch\"\\n            data-layout=\"column\"\\n            class=\"card-content site-palette-yang-1-color text-align-center font-white-color backdrop-dark-gradient-light height-100vh site-palette-yang-1-color ktt-backgroundy basic-sideheader-content\"\\n            >\\n\\n                \\n\\n    <div class=\"padding-top-50 padding-left-30 padding-right-30 padding-bottom-10 use-responsive-text-sizes-fixes\">\\n\\n                <a\\n        href=\"https://greenpeace.ru/\"\\n        class=\"padding-bottom-20 typo-size-upper-small site-header-subtitle display-block site-palette-yang-1-color\">\\n          <img alt=\"Logo\" style=\"width:100%\" src=\"https://greenpeace.ru/wp-content/uploads/2019/06/GP-logo-2019.svg\">\\n        </a>\\n        \\n                    <a\\n            href=\"https://greenpeace.ru/\"\\n            class=\"link-white-color site-typeface-title typo-size-xxxlarge site-header-title display-block site-palette-yang-1-color\">\\n                <!--  -->\\n            </a>\\n\\n            <div class=\"max-width-500px margin-auto text-size-base opacity-05 site-header-subtitle display-block site-palette-yang-1-color\">\\n              <h4><strong>мы сохраняем природу</strong><br /><strong>и мир на Земле</strong></h4>\\n<p>отделение международной<br />некоммерческой организации<br />в России</p>\\n            </div>\\n        \\n\\n        \\n\\n\\n\\n        \\n        <div class=\"padding-both-20\"></div>\\n\\t\\t\\n\\t\\t\\n          <hr class=\"opacity-01\">\\n          <div class=\"link-white-color  padding-top-5 padding-bottom-5 typo-size-small menu-site-menu-container\">\\n          <div class=\"menu-categories-menu-container\"><ul id=\"menu-categories-menu\" class=\"frontpage-extra-menu  margin-auto display-inline\"><li id=\"menu-item-2604\" class=\"menu-item menu-item-type-custom menu-item-object-custom menu-item-2604\"><a href=\"/publications/news/\">Новости</a></li>\\n<li id=\"menu-item-2603\" class=\"menu-item menu-item-type-custom menu-item-object-custom menu-item-2603\"><a href=\"/publications/blogs/\">Блоги</a></li>\\n<li id=\"menu-item-2606\" class=\"menu-item menu-item-type-custom menu-item-object-custom menu-item-2606\"><a href=\"/publications/stories/\">Истории</a></li>\\n<li id=\"menu-item-28837\" class=\"menu-item menu-item-type-taxonomy menu-item-object-category menu-item-28837\"><a href=\"https://greenpeace.ru/publications/podcast/\">Подкаст</a></li>\\n<li id=\"menu-item-2605\" class=\"menu-item menu-item-type-custom menu-item-object-custom menu-item-2605\"><a href=\"/publications/how-to/\">Инструкции</a></li>\\n<li id=\"menu-item-2602\" class=\"menu-item menu-item-type-taxonomy menu-item-object-category menu-item-2602\"><a href=\"https://greenpeace.ru/publications/expert-opinions/\">Мнение эксперта</a></li>\\n</ul></div>          </div>\\n          \\n        \\n    </div>\\n\\n\\n\\n\\n\\n\\n\\n    \\n    <div class=\"nextprev-buttons post-item-meta  link-white-color text-align-center\" data-layout=\"row\">\\n\\n        \\t\\t\\n\\t\\t<span data-flex=\"50\">    \\n            <md-tooltip md-direction=\"top\">Узнай, чем занимается Гринпис</md-tooltip>\\n            <a\\n            class=\"padding-top-20 padding-bottom-20 display-block activist\"\\n            alt=\"Узнай, чем занимается Гринпис\"\\n            href=\"/projects/\">\\n              Узнай\\n            </a>\\n        </span>\\n\\n        <span data-flex=\"50\" class=\"act-button\">\\n            <md-tooltip md-direction=\"top\">Твоя помощь поддержит нашу работу</md-tooltip>\\n            <a\\n            class=\"padding-top-20 padding-bottom-20 display-block activist GTM-donate-button desktop check_utm\"\\n            alt=\"Узнай, как ты можешь помочь природе\"\\n            href=\"https://join.greenpeace.ru/index.php?iAppealID=4502&utm_source=greenpeace.ru&utm_medium=referral&utm_campaign=brand&utm_content=button&utm_term=desktop-index\" rel=\"noopener\">\\n            \\tПомоги\\n            </a>\\n\\t\\t\\t<a\\n            class=\"padding-top-20 padding-bottom-20 display-block activist GTM-donate-button mobile check_utm\"\\n            alt=\"Узнай, как ты можешь помочь природе\"\\n            href=\"https://join.greenpeace.ru/index.php?iAppealID=4503&utm_source=greenpeace.ru&utm_medium=referral&utm_campaign=brand&utm_content=button&utm_term=mobile-index\" rel=\"noopener\">\\n            \\tПомоги\\n            </a>\\n        </span>\\n\\n    </div>\\n\\n\\n    \\n            </div>\\n\\n        </div>\\n\\n\\n        <script>\\n        jQuery( document ).ready(function() {\\n            jQuery( \"#basic-sideheader\" ).ktt_backgroundy();\\n        });\\n        </script>\\n\\n  \\n    <div data-flex=\"auto\" id=\"site-body\" class=\"use-responsive-padding-fixes-only-width use-responsive-text-sizes-fixes post-34802 post type-post status-publish format-standard hentry category-news tag-climate\">\\n\\n\\n    \\t\\t<div class=\"typography-responsive site-body-content-wrap padding-both-30 padding-top-40\">\\n    \\t\\t\\t<div class=\"max-width-800px margin-auto site-typeface-content site-body-content  padding-bottom-40 padding-top-40 typo-size-content\">\\n\\n                \\t\\t\\t\\t\\n\\n              \\t\\n\\t\\t\\t\\t\\t\\n                    <p class=\"post-item-meta typo-size-xsmall\">\\t\\n\\t\\t\\t\\t\\t\\t\\t<span class=\"ornament-line-before-amper\">\\n\\t\\t\\t\\t\\t\\t\\t\\t<span class=\"icon-folder opacity-08\" id=\"gtm_category\"><a href=\"https://greenpeace.ru/publications/news/\" rel=\"category tag\">Новость</a></span>\\n\\t\\t\\t\\t\\t\\t\\t</span>  \\n\\t\\t\\t\\t\\t\\t\\t<span class=\"ornament-line-before-amper\"> \\n\\t\\t\\t\\t\\t\\t\\t\\t<span class=\"icon-calendar-2 opacity-08\">14/01/2021</span>\\t\\n\\t\\t\\t\\t\\t\\t\\t</span>\\n\\t\\t\\t\\t\\t\\t\\t<span class=\"ornament-line-before-amper desktop\"> \\n\\t\\t\\t\\t\\t\\t\\t\\t<span class=\"icon-paper-plane\" style=\"color: #505054;\">читать и обсуждать <a href=\"tg://resolve?domain=greenpeaceru\" style=\"background-color: #4a3ddd21;\">наши&nbsp;новости&nbsp;в&nbsp;телеграме</a>\\n\\t\\t\\t\\t\\t\\t\\t\\t</span>\\n\\t\\t\\t\\t\\t\\t\\t</span>\\n\\t\\t\\t\\t\\t\\t\\t<span class=\"mobile\"> \\n\\t\\t\\t\\t\\t\\t\\t\\t<span class=\"icon-paper-plane\" style=\"color: #505054;padding: 0 0px;font-size: 1.1em;\">читайте&nbsp;наши&nbsp;новости&nbsp;<a href=\"tg://resolve?domain=greenpeaceru\" style=\"background-color: #4a3ddd21;\">в&nbsp;телеграме</a>\\n\\t\\t\\t\\t\\t\\t\\t\\t</span>\\n\\t\\t\\t\\t\\t\\t\\t</span>\\n\\t\\t\\t\\t\\t\\n\\t\\t\\t\\t\\t</p>\\n\\n\\t\\t\\t\\t\\t\\n\\t\\t\\t\\t\\t\\n\\n                    <h1 class=\"padding-top-30 padding-bottom-10 site-typeface-title typo-size-xlarge post-title\">\\n                      Власти Франции ответят в суде за климатическое бездействие                     </h1>\\n\\n                                        <h4 class=\"typo-weight-800 site-palette-yin-3-color padding-top-20 padding-bottom-10 site-typeface-headline typo-size-small post-subtitle news-post-subtitle\">\\n                      Сегодня состоялось слушание дела. Требование поддержало более двух миллионов французов.                    </h4>\\n                    \\n\\n\\n                    <div class=\"at-above-post addthis_tool\" data-url=\"https://greenpeace.ru/news/2021/01/14/vlasti-francii-otvetjat-v-sude-za-klimaticheskoe-bezdejstvie/\"></div>\\n<p><span style=\"font-weight: 400;\">Greenpeace Франции совместно с другими НКО (Notre Affaire à Tous, Фонд Николя Юло и Oxfam France) требуют от властей возместить ущерб, причинённый гражданам страны из-за политики в области экологии и начать активные действия в рамках предыдущих соглашений. Соответствующий иск подали ещё два года назад из-за бездействия государства в решении проблемы климатического кризиса. Сегодня состоялось слушание дела в суде Парижа, решение по которому будет вынесено в течение двух недель.&nbsp;</span></p>\\n\\n\\n\\n<p><span style=\"font-weight: 400;\">Хотя климатический кризис остаётся одной из главных проблем для французов (в 2020 году были побиты новые температурные рекорды), государство продолжает откладывать принятие необходимых мер. Выбросы парниковых газов в течение последних пяти лет продолжали снижаться вдвое медленнее, чем показатели, предусмотренные законом. В декабре прошлого года Высший совет по климату (независимый орган, созданный в 2018 году и состоящий из экспертов по климату) проанализировал, что две трети плана стимулирования не работают и, наоборот, могут способствовать увеличению выбросов.&nbsp;</span></p>\\n\\n\\n\\n<p><span style=\"font-weight: 400;\">В Greenpeace Франции надеются, что суд признает обязанность государств бороться с климатическим кризисом — это подтверждает Хартия окружающей среды 2004 года и Европейская конвенция о правах человека. </span></p>\\n\\n\\n\\n<blockquote class=\"wp-block-quote\"><p><span style=\"font-weight: 400;\">«Такое решение было бы историческим и закрепило в законе, что борьба с изменением климата играет важную роль в защите основных прав граждан».</span></p><cite>Greenpeace France</cite></blockquote>\\n\\n\\n\\n<p><span style=\"font-weight: 400;\">Кроме того, Greenpeace Франции ранее запустил петицию «Дело века», которую уже поддержало более двух миллионов граждан.&nbsp;</span></p>\\n\\n\\n\\n<p><span style=\"font-weight: 400;\">«Климатический кризис оказывает серьёзное воздействие на жизнь каждого из нас: увеличение дней с экстремально высокой температурой приводит к повышению смертности людей по всему миру, растёт ареал распространения различных вирусов и инфекций. В России тоже остро стоит </span><a href=\"https://climatescience.ru/climate-2020-12-09.pdf?_ga=2.104332352.1990835110.1609256341-133469842.1597066306\"><span style=\"font-weight: 400;\">необходимость скорейшего начала технологической трансформации экономики</span></a><span style=\"font-weight: 400;\"> в сторону климатически устойчивых технологий. Мы надеемся, что судебный процесс во Франции будет выигран людьми и станет примером в том числе и для нашего государства в вопросах важности срочного принятия мер по решению климатического кризиса», — прокомментировала руководительница энергетического отдела Greenpeace в России Елена Сакирко.</span></p>\\n<!-- AddThis Advanced Settings above via filter on the_content --><!-- AddThis Advanced Settings below via filter on the_content --><!-- AddThis Advanced Settings generic via filter on the_content --><!-- AddThis Share Buttons above via filter on the_content --><!-- AddThis Share Buttons below via filter on the_content --><div class=\"at-below-post addthis_tool\" data-url=\"https://greenpeace.ru/news/2021/01/14/vlasti-francii-otvetjat-v-sude-za-klimaticheskoe-bezdejstvie/\"></div><!-- AddThis Share Buttons generic via filter on the_content -->\\n                    <div class=\"clearfix  padding-both-20\">\\n\\t\\t<div  class=\"post-item-meta text-align-center padding-bottom-40 site-palette-yang-1-background-color news-sharing-buttons\" data-layout=\"row\">\\n\\t\\t\\t<span data-flex=\"100\">\\n\\t\\t\\t\\t<!-- Go to www.addthis.com/dashboard to customize your tools --> \\n\\t\\t\\t\\t<div class=\"addthis_inline_share_toolbox\"></div>\\n\\t\\t  \\t</span>\\n\\t\\t</div>\\n\\t\\t\\t\\t\\t</div>\\n\\n\\n                    \\t\\t\\n\\t\\n                                        <p id=\"tag-list\" class=\"display-block padding-top-20\">\\n                      \\t\\t\\t<a id=\"gtm_tag\"\\n\\t\\t\\tclass=\"icon-tag site-typeface-body margin-right-10 margin-bottom-5 display-inline-block link-chip typo-size-xsmall border-radius-2 padding-top-5 padding-bottom-5 padding-left-10 padding-right-10\"\\n\\t\\t\\tng-href=\"https://greenpeace.ru/tag/climate/\">\\n\\t\\t\\t\\tклимат\\t\\t\\t</a>\\n\\t\\t\\t                    </p>\\n\\n\\t\\t\\t\\t\\t<!-- mediator -->\\n\\t\\t\\t\\t\\t<script>!function(e){function t(t,n){if(!(n in e)){for(var r,a=e.document,i=a.scripts,o=i.length;o--;)if(-1!==i[o].src.indexOf(t)){r=i[o];break}if(!r){r=a.createElement(\"script\"),r.type=\"text/javascript\",r.async=!0,r.defer=!0,r.src=t,r.charset=\"UTF-8\";var d=function(){var e=a.getElementsByTagName(\"script\")[0];e.parentNode.insertBefore(r,e)};\"[object Opera]\"==e.opera?a.addEventListener?a.addEventListener(\"DOMContentLoaded\",d,!1):e.attachEvent(\"onload\",d):d()}}}t(\"//mediator.mail.ru/script/28214304/\",\"_mediator\")}(window);</script>\\n\\t\\t\\t\\t\\t<!-- /mediator -->\\n\\t\\t\\t\\t\\t\\n              <div class=\"widget widget_ktt_posts_list_widget\"><h2 class=\"widgettitle\">Другие новости</h2>        <div data-layout=\"row\" >\\n\\n          \\n\\n          <div data-flex >\\n            <a\\n            href=\"https://greenpeace.ru/news/2021/03/19/po-vsemu-miru-proshla-globalnaja-zabastovka-za-klimat/\"\\n            alt=\"По всему миру прошла глобальная забастовка за климат\"\\n            title=\"По всему миру прошла глобальная забастовка за климат\"\\n            class=\"classic-link site-typeface-title display-block text-size-medium font-weight-700\">По всему миру прошла глобальная забастовка за климат</a>\\n\\t\\t\\t  \\n\\t\\t\\t  \\n            <div data-flex class=\" item-meta site-palette-yin-4-color post-item-meta classic-link-inside text-size-2xsmall padding-top-5\">\\n\\n                \\n\\t\\t\\t\\t\\t\\t\\t\\t\\n\\t\\t\\t\\t\\n\\t\\t\\t\\t\\n\\t\\t\\t\\t                <span class=\"meta ornament-line-before-amper\">\\n\\n                     <span class=\"icon-calendar-2\"> 19/03/2021</span>\\n\\n                </span>\\n                \\n                \\n            </div>\\n\\n\\n          </div>\\n        </div>\\n\\n                  <div class=\"margin-bottom-20\"></div>\\n        \\n              <div data-layout=\"row\" >\\n\\n          \\n\\n          <div data-flex >\\n            <a\\n            href=\"https://greenpeace.ru/news/2021/02/26/greenpeace-potreboval-ot-pravitelstva-strogoj-jekologicheskoj-povestki-v-arktike/\"\\n            alt=\"Greenpeace потребовал от правительства строгой экологической повестки в Арктике\"\\n            title=\"Greenpeace потребовал от правительства строгой экологической повестки в Арктике\"\\n            class=\"classic-link site-typeface-title display-block text-size-medium font-weight-700\">Greenpeace потребовал от правительства строгой экологической повестки в Арктике</a>\\n\\t\\t\\t  \\n\\t\\t\\t  \\n            <div data-flex class=\" item-meta site-palette-yin-4-color post-item-meta classic-link-inside text-size-2xsmall padding-top-5\">\\n\\n                \\n\\t\\t\\t\\t\\t\\t\\t\\t\\n\\t\\t\\t\\t\\n\\t\\t\\t\\t\\n\\t\\t\\t\\t                <span class=\"meta ornament-line-before-amper\">\\n\\n                     <span class=\"icon-calendar-2\"> 26/02/2021</span>\\n\\n                </span>\\n                \\n                \\n            </div>\\n\\n\\n          </div>\\n        </div>\\n\\n                  <div class=\"margin-bottom-20\"></div>\\n        \\n              <div data-layout=\"row\" >\\n\\n          \\n\\n          <div data-flex >\\n            <a\\n            href=\"https://greenpeace.ru/news/2021/02/05/pomozhet-li-besprecedentnoe-reshenie-suda-po-norilskoj-avarii-reshit-jekologicheskie-problemy/\"\\n            alt=\"Поможет ли беспрецедентное решение суда по норильской аварии решить экологические проблемы?\"\\n            title=\"Поможет ли беспрецедентное решение суда по норильской аварии решить экологические проблемы?\"\\n            class=\"classic-link site-typeface-title display-block text-size-medium font-weight-700\">Поможет ли беспрецедентное решение суда по норильской аварии решить экологические проблемы?</a>\\n\\t\\t\\t  \\n\\t\\t\\t  \\n            <div data-flex class=\" item-meta site-palette-yin-4-color post-item-meta classic-link-inside text-size-2xsmall padding-top-5\">\\n\\n                \\n\\t\\t\\t\\t\\t\\t\\t\\t\\n\\t\\t\\t\\t\\n\\t\\t\\t\\t\\n\\t\\t\\t\\t                <span class=\"meta ornament-line-before-amper\">\\n\\n                     <span class=\"icon-calendar-2\"> 05/02/2021</span>\\n\\n                </span>\\n                \\n                \\n            </div>\\n\\n\\n          </div>\\n        </div>\\n\\n                  <div class=\"margin-bottom-20\"></div>\\n        \\n              <div data-layout=\"row\" >\\n\\n          \\n\\n          <div data-flex >\\n            <a\\n            href=\"https://greenpeace.ru/news/2021/02/03/sud-francii-vpervye-priznal-pravitelstvo-vinovnym-v-klimaticheskom-bezdejstvii/\"\\n            alt=\"Суд Франции впервые признал правительство виновным в климатическом бездействии\"\\n            title=\"Суд Франции впервые признал правительство виновным в климатическом бездействии\"\\n            class=\"classic-link site-typeface-title display-block text-size-medium font-weight-700\">Суд Франции впервые признал правительство виновным в климатическом бездействии</a>\\n\\t\\t\\t  \\n\\t\\t\\t  \\n            <div data-flex class=\" item-meta site-palette-yin-4-color post-item-meta classic-link-inside text-size-2xsmall padding-top-5\">\\n\\n                \\n\\t\\t\\t\\t\\t\\t\\t\\t\\n\\t\\t\\t\\t\\n\\t\\t\\t\\t\\n\\t\\t\\t\\t                <span class=\"meta ornament-line-before-amper\">\\n\\n                     <span class=\"icon-calendar-2\"> 03/02/2021</span>\\n\\n                </span>\\n                \\n                \\n            </div>\\n\\n\\n          </div>\\n        </div>\\n\\n                  <div class=\"margin-bottom-20\"></div>\\n        \\n              <div data-layout=\"row\" >\\n\\n          \\n\\n          <div data-flex >\\n            <a\\n            href=\"https://greenpeace.ru/news/2021/01/29/greenpeace-vypustil-finalnyj-jepizod-seriala-rrreakcija/\"\\n            alt=\"Greenpeace выпустил финальный эпизод сериала #РРРЕАКЦИЯ\"\\n            title=\"Greenpeace выпустил финальный эпизод сериала #РРРЕАКЦИЯ\"\\n            class=\"classic-link site-typeface-title display-block text-size-medium font-weight-700\">Greenpeace выпустил финальный эпизод сериала #РРРЕАКЦИЯ</a>\\n\\t\\t\\t  \\n\\t\\t\\t  \\n            <div data-flex class=\" item-meta site-palette-yin-4-color post-item-meta classic-link-inside text-size-2xsmall padding-top-5\">\\n\\n                \\n\\t\\t\\t\\t\\t\\t\\t\\t\\n\\t\\t\\t\\t\\n\\t\\t\\t\\t\\n\\t\\t\\t\\t                <span class=\"meta ornament-line-before-amper\">\\n\\n                     <span class=\"icon-calendar-2\"> 29/01/2021</span>\\n\\n                </span>\\n                \\n                \\n            </div>\\n\\n\\n          </div>\\n        </div>\\n\\n        \\n      </div>\\n\\n    \\t\\t\\t\\t    \\t\\t\\t\\t\\n\\t\\t\\t\\t\\t\\n\\t\\t\\t\\t\\t\\n    \\t\\t\\t</div>\\n    \\t\\t</div>\\n\\n\\n\\n\\n                <div data-hide-gt-sm>\\n        <div class=\"padding-both-30\"></div>\\n        <hr class=\"site-palette-yang-4-border-color padding-both-0 margin-both-0\">\\n\\n        <p class=\"max-width-800px site-typeface-title-1  typo-size-small text-align-center margin-auto padding-both-0\" data-layout=\"row\">\\n\\n\\t\\t\\t\\n\\t\\t\\t<span data-flex=\"50\">    \\n            <md-tooltip md-direction=\"top\">Узнай, чем занимается Гринпис</md-tooltip>\\n            <a\\n            class=\"padding-top-20 padding-bottom-20 display-block activist\"\\n            alt=\"Узнай, чем занимается Гринпис\"\\n            href=\"/projects/\">\\n              Узнай\\n            </a>\\n        </span>\\n\\n        <span data-flex=\"50\" class=\"act-button\">\\n            <md-tooltip md-direction=\"top\">Твоя помощь поддержит нашу работу</md-tooltip>\\n            <a\\n            class=\"padding-top-20 padding-bottom-20 display-block activist GTM-donate-button desktop check_utm\"\\n            alt=\"Узнай, как ты можешь помочь природе\"\\n            href=\"https://join.greenpeace.ru/index.php?iAppealID=4508&utm_source=greenpeace.ru&utm_medium=referral&utm_campaign=brand&utm_content=button&utm_term=desktop-news\">\\n            \\tПомоги\\n            </a>\\n\\t\\t\\t<a\\n            class=\"padding-top-20 padding-bottom-20 display-block activist GTM-donate-button mobile check_utm\"\\n            alt=\"Узнай, как ты можешь помочь природе\"\\n            href=\"https://join.greenpeace.ru/index.php?iAppealID=4509&utm_source=greenpeace.ru&utm_medium=referral&utm_campaign=brand&utm_content=button&utm_term=mobile-news\">\\n            \\tПомоги\\n            </a>\\n        </span>\\n\\n        </p>\\n        </div>\\n\\n\\n\\n\\n    </div>\\n\\n\\n\\n\\n\\n\\n<script>\\ndocument.getElementsByClassName(\"news-card-block\")[0].insertAdjacentHTML( \\'afterend\\',\\n  \\'<div class=\"podcast-announce-block\">\\' +\\n    \\'Слушайте&nbsp;наш&nbsp;<a href=\"/publications/podcast/\">подкаст</a> <span style=\"font-size:1.4em; margin: 0 10px;\">🎙</span>\\' +\\n      \\'«<a href=\"/publications/podcast/\" class=\"episode\">Куда&nbsp;смотрит&nbsp;Гринпис?</a>»\\' +\\n  \\'</div>\\'\\n);\\n</script>\\n</div> \\n<script type=\"text/javascript\" id=\"cookieinfo\" site=\"cookieinfoscript.com\"\\n\\tsrc=\"/misc/popup/cookie.js\"\\n\\tdata-font-family=\"GeometriaBold\"\\n\\tdata-bg=\"#66cc00\"\\n\\tdata-fg=\"#212121\"\\n\\tdata-font-size=\"0.8rem\"\\n\\tdata-link=\"#FFF\"\\n\\tdata-cookie=\"CookieInfoScript\"\\n\\tdata-text-align=\"left\"\\n\\tdata-close-text=\"✖\"\\n\\tdata-divlinkbg=\"#FFF\"\\n\\tdata-message=\"У НАС НА САЙТЕ ЕСТЬ КУКИ.\"\\n\\tdata-linkmsg=\"ЧТО ЭТО?\"\\n\\tdata-moreinfo=\"https://greenpeace.ru/privacy-policy/\"\\n\\tdata-cookie=\"greenpeace.ru cookie\">\\n</script>\\n\\n\\t<span\\n\\tid=\"back-to-top-trigger\"\\n\\tonclick=\"jQuery(\\'html,body\\').animate({ scrollTop: 0 }, \\'slow\\');jQuery(\\'.back-to-top-trigger\\').removeClass(\\'show\\').addClass(\\'hide\\');\"\\n\\tclass=\"back-to-top-trigger hide text-size-3xlarge line-height-0 button-behaviour box-shadow padding-both-0 border-rounded-full site-palette-yin-1-background-color site-palette-yang-1-color margin-right-20 margin-bottom-20 cursor-pointer position-fixed pin-bottom pin-right \">\\n\\t\\t\\t<i class=\"material-icons\">keyboard_arrow_up</i>\\n\\t</span>\\n\\t<script data-cfasync=\"false\" type=\"text/javascript\">if (window.addthis_product === undefined) { window.addthis_product = \"wpp\"; } if (window.wp_product_version === undefined) { window.wp_product_version = \"wpp-6.1.8\"; } if (window.wp_blog_version === undefined) { window.wp_blog_version = \"4.9.16\"; } if (window.addthis_share === undefined) { window.addthis_share = {\"passthrough\":{\"twitter\":{\"via\":\"greenpeaceru\"}}}; } if (window.addthis_config === undefined) { window.addthis_config = {\"data_track_clickback\":true,\"data_ga_property\":\"UA-125972325-1\",\"data_ga_social\":true,\"ui_atversion\":\"300\"}; } if (window.addthis_plugin_info === undefined) { window.addthis_plugin_info = {\"info_status\":\"enabled\",\"cms_name\":\"WordPress\",\"plugin_name\":\"Share Buttons by AddThis\",\"plugin_version\":\"6.1.8\",\"plugin_mode\":\"AddThis\",\"anonymous_profile_id\":\"wp-05f3c6d25106865c2297353bcd98f4b9\",\"page_info\":{\"template\":\"posts\",\"post_type\":\"\"},\"sharing_enabled_on_post_via_metabox\":false}; } \\n                    (function() {\\n                      var first_load_interval_id = setInterval(function () {\\n                        if (typeof window.addthis !== \\'undefined\\') {\\n                          window.clearInterval(first_load_interval_id);\\n                          if (typeof window.addthis_layers !== \\'undefined\\' && Object.getOwnPropertyNames(window.addthis_layers).length > 0) {\\n                            window.addthis.layers(window.addthis_layers);\\n                          }\\n                          if (Array.isArray(window.addthis_layers_tools)) {\\n                            for (i = 0; i < window.addthis_layers_tools.length; i++) {\\n                              window.addthis.layers(window.addthis_layers_tools[i]);\\n                            }\\n                          }\\n                        }\\n                     },1000)\\n                    }());\\n                </script> <script data-cfasync=\"false\" type=\"text/javascript\" src=\"https://s7.addthis.com/js/300/addthis_widget.js#pubid=ra-5b62dd7d36fed7a4\"></script><script type=\\'text/javascript\\' src=\\'https://greenpeace.ru/wp-content/themes/narratium/assets/js/ktt-backgroundy.js?ver=4.9.16\\'></script>\\n<script type=\\'text/javascript\\' src=\\'https://greenpeace.ru/wp-includes/js/comment-reply.min.js?ver=4.9.16\\'></script>\\n<script type=\\'text/javascript\\' src=\\'https://greenpeace.ru/wp-content/themes/narratium/assets/js/angular.min.js?ver=4.9.16\\'></script>\\n<script type=\\'text/javascript\\' src=\\'https://greenpeace.ru/wp-content/themes/narratium/assets/js/angular-animate.min.js?ver=4.9.16\\'></script>\\n<script type=\\'text/javascript\\' src=\\'https://greenpeace.ru/wp-content/themes/narratium/assets/js/angular-aria.min.js?ver=4.9.16\\'></script>\\n<script type=\\'text/javascript\\' src=\\'https://greenpeace.ru/wp-content/themes/narratium/assets/js/angular-material.min.js?ver=4.9.16\\'></script>\\n<script type=\\'text/javascript\\' src=\\'https://greenpeace.ru/wp-content/themes/narratium/assets/js/main-app.js?ver=4.9.16\\'></script>\\n<script type=\\'text/javascript\\'>\\n\\t\\t \\tjQuery(\\'body\\').on( \\'DOMMouseScroll mousewheel\\', function ( event ) {\\n\\t\\t \\t\\tif( event.originalEvent.detail > 0 || event.originalEvent.wheelDelta < 0 ) {\\n\\t\\t \\t\\t\\t//The scroll is going down...\\n\\t\\t \\t\\t\\tjQuery(\\'.back-to-top-trigger\\').removeClass(\\'show\\').addClass(\\'hide\\');\\n\\t\\t \\t\\t} else {\\n\\t\\t \\t\\t\\t//Scroll is going up. Only if we are far from top we display the div\\n\\t\\t \\t\\t\\tif (jQuery(window).scrollTop() > jQuery(window).height()) {\\n\\t\\t \\t\\t\\t\\tjQuery(\\'.back-to-top-trigger\\').addClass(\\'show\\').removeClass(\\'hide\\');\\n\\t\\t \\t\\t\\t}\\n\\t\\t \\t\\t}\\n\\t\\t \\t});\\n  \\t\\n  \\t/**\\n  \\t* Controller main_app\\n    * TODO: libs filter\\n  \\t*/\\n  \\tmain_app.controller(\\'main_app_controller\\',  function($scope, $compile, $http, $q, $timeout, $mdSidenav) {\\n\\n  \\t      \\t\\n\\n  $scope.open_left_sidenav = function() {;\\n\\n        var container = jQuery( \\'#site-wrap\\' );\\n        overlay = jQuery( \\'#site-menu-block\\' );\\n\\n        var btnclick = function rm() {\\n\\n          overlay.removeClass(\\'open\\');\\n          container.removeClass(\\'overlay-open\\');\\n          jQuery(\\'body\\').removeClass(\\'overflow-hidden\\');\\n          overlay.addClass(\\'close\\');\\n          jQuery(\\'.site-menu-handle-open\\').show();\\n          jQuery(\\'.site-menu-handle-close\\').hide();\\n\\n        }\\n\\n        if( overlay.hasClass(\\'open\\') ) {\\n\\n            btnclick();\\n            document.getElementById(\"site-wrap\").removeEventListener(\"click\", btnclick);\\n\\n        } else {\\n\\n              overlay.addClass( \\'open\\' );\\n              container.addClass( \\'overlay-open\\' );\\n              overlay.removeClass(\\'close\\');\\n              jQuery(\\'body\\').addClass(\\'overflow-hidden\\');\\n              jQuery(\\'.site-menu-handle-close\\').show();\\n              jQuery(\\'.site-menu-handle-open\\').hide();\\n\\n              document.getElementById(\"site-wrap\").addEventListener(\"click\", btnclick);\\n\\n        }\\n\\n\\n  }\\n\\n\\n\\n  \\n  \\t});\\n  \\n</script>\\n<script type=\\'text/javascript\\' src=\\'https://greenpeace.ru/wp-content/themes/narratium/theme-features/site-ajax-animations/src/js/snap.svg-min.js?ver=4.9.16\\'></script>\\n<script type=\\'text/javascript\\' src=\\'https://greenpeace.ru/wp-content/themes/narratium/theme-features/site-ajax-animations/src/js/svgLoader.js?ver=4.9.16\\'></script>\\n<script type=\\'text/javascript\\'>\\nvar loader = new SVGLoader( document.getElementById( \"loader\" ), { speedIn : 500, easingIn : mina.easeinout } );\\n</script>\\n<script type=\\'text/javascript\\' src=\\'https://greenpeace.ru/wp-content/plugins/faq-block-for-gutenberg/includes/../assets/js/faq-block-for-gutenberg.js?ver=4.9.16\\'></script>\\n<script type=\\'text/javascript\\' src=\\'https://greenpeace.ru/wp-includes/js/wp-embed.min.js?ver=4.9.16\\'></script>\\n\\n<!-- // #site-content -->\\n\\n</body>\\n\\n\\n\\n</html>\\n'"
      ]
     },
     "execution_count": 12,
     "metadata": {
      "tags": []
     },
     "output_type": "execute_result"
    }
   ],
   "source": [
    "import requests\n",
    "response = requests.get(\"https://greenpeace.ru/news/2021/01/14/vlasti-francii-otvetjat-v-sude-za-klimaticheskoe-bezdejstvie/\")\n",
    "response.text"
   ]
  },
  {
   "cell_type": "code",
   "execution_count": null,
   "metadata": {
    "colab": {
     "base_uri": "https://localhost:8080/"
    },
    "executionInfo": {
     "elapsed": 870,
     "status": "ok",
     "timestamp": 1616512277130,
     "user": {
      "displayName": "Anastasiia Chernysheva",
      "photoUrl": "https://lh3.googleusercontent.com/a-/AOh14GhHyHwY-PuMRWX3mjSyss6pojv4D8xrqnEXatqg=s64",
      "userId": "13831218637705529605"
     },
     "user_tz": -180
    },
    "id": "sohXN9M1fz0l",
    "outputId": "3b3397a9-676e-417e-d58b-0ccebabe6075"
   },
   "outputs": [
    {
     "data": {
      "text/plain": [
       "<!DOCTYPE html>\n",
       "\n",
       "<html class=\"color-scheme-base_light\" data-layout=\"row\" lang=\"ru\">\n",
       "<head>\n",
       "<meta charset=\"utf-8\"/>\n",
       "<meta content=\"#66сс00\" name=\"theme-color\">\n",
       "<meta content=\"width=device-width, initial-scale=1.0\" name=\"viewport\"/>\n",
       "<link href=\"http://gmpg.org/xfn/11\" rel=\"profile\"/>\n",
       "<meta content=\"all\" name=\"googlebot\"/>\n",
       "<meta content=\"all\" name=\"googlebot-news\"/>\n",
       "<meta content=\"d_z0H5IUA8Tqd-n6Ml983KPwdvYqEVGlpnbStVrgaCY\" name=\"google-site-verification\">\n",
       "<link href=\"https://greenpeace.ru\" hreflang=\"ru-ru\" rel=\"alternate\">\n",
       "<meta content=\"\" property=\"og:image\">\n",
       "<meta content=\"Власти Франции ответят в суде за климатическое бездействие\" property=\"og:title\">\n",
       "<meta content=\"Сегодня состоялось слушание дела. Требование поддержало более двух миллионов французов.\" name=\"Description\" property=\"og:description\"/>\n",
       "<title>Власти Франции ответят в суде за климатическое бездействие</title>\n",
       "<link href=\"//fonts.googleapis.com\" rel=\"dns-prefetch\"/>\n",
       "<link href=\"//s.w.org\" rel=\"dns-prefetch\"/>\n",
       "<link href=\"https://greenpeace.ru/feed/\" rel=\"alternate\" title=\" » Feed\" type=\"application/rss+xml\"/>\n",
       "<link href=\"https://greenpeace.ru/comments/feed/\" rel=\"alternate\" title=\" » Comments Feed\" type=\"application/rss+xml\"/>\n",
       "<script type=\"text/javascript\">\n",
       "\t\t\twindow._wpemojiSettings = {\"baseUrl\":\"https:\\/\\/s.w.org\\/images\\/core\\/emoji\\/11\\/72x72\\/\",\"ext\":\".png\",\"svgUrl\":\"https:\\/\\/s.w.org\\/images\\/core\\/emoji\\/11\\/svg\\/\",\"svgExt\":\".svg\",\"source\":{\"concatemoji\":\"https:\\/\\/greenpeace.ru\\/wp-includes\\/js\\/wp-emoji-release.min.js?ver=4.9.16\"}};\n",
       "\t\t\t!function(a,b,c){function d(a,b){var c=String.fromCharCode;l.clearRect(0,0,k.width,k.height),l.fillText(c.apply(this,a),0,0);var d=k.toDataURL();l.clearRect(0,0,k.width,k.height),l.fillText(c.apply(this,b),0,0);var e=k.toDataURL();return d===e}function e(a){var b;if(!l||!l.fillText)return!1;switch(l.textBaseline=\"top\",l.font=\"600 32px Arial\",a){case\"flag\":return!(b=d([55356,56826,55356,56819],[55356,56826,8203,55356,56819]))&&(b=d([55356,57332,56128,56423,56128,56418,56128,56421,56128,56430,56128,56423,56128,56447],[55356,57332,8203,56128,56423,8203,56128,56418,8203,56128,56421,8203,56128,56430,8203,56128,56423,8203,56128,56447]),!b);case\"emoji\":return b=d([55358,56760,9792,65039],[55358,56760,8203,9792,65039]),!b}return!1}function f(a){var c=b.createElement(\"script\");c.src=a,c.defer=c.type=\"text/javascript\",b.getElementsByTagName(\"head\")[0].appendChild(c)}var g,h,i,j,k=b.createElement(\"canvas\"),l=k.getContext&&k.getContext(\"2d\");for(j=Array(\"flag\",\"emoji\"),c.supports={everything:!0,everythingExceptFlag:!0},i=0;i<j.length;i++)c.supports[j[i]]=e(j[i]),c.supports.everything=c.supports.everything&&c.supports[j[i]],\"flag\"!==j[i]&&(c.supports.everythingExceptFlag=c.supports.everythingExceptFlag&&c.supports[j[i]]);c.supports.everythingExceptFlag=c.supports.everythingExceptFlag&&!c.supports.flag,c.DOMReady=!1,c.readyCallback=function(){c.DOMReady=!0},c.supports.everything||(h=function(){c.readyCallback()},b.addEventListener?(b.addEventListener(\"DOMContentLoaded\",h,!1),a.addEventListener(\"load\",h,!1)):(a.attachEvent(\"onload\",h),b.attachEvent(\"onreadystatechange\",function(){\"complete\"===b.readyState&&c.readyCallback()})),g=c.source||{},g.concatemoji?f(g.concatemoji):g.wpemoji&&g.twemoji&&(f(g.twemoji),f(g.wpemoji)))}(window,document,window._wpemojiSettings);\n",
       "\t\t</script>\n",
       "<style type=\"text/css\">\n",
       "img.wp-smiley,\n",
       "img.emoji {\n",
       "\tdisplay: inline !important;\n",
       "\tborder: none !important;\n",
       "\tbox-shadow: none !important;\n",
       "\theight: 1em !important;\n",
       "\twidth: 1em !important;\n",
       "\tmargin: 0 .07em !important;\n",
       "\tvertical-align: -0.1em !important;\n",
       "\tbackground: none !important;\n",
       "\tpadding: 0 !important;\n",
       "}\n",
       "</style>\n",
       "<link href=\"https://greenpeace.ru/wp-content/themes/narratium/assets/stylesheets/angular-material.min.css?ver=4.9.16\" id=\"ktt_-angular-material.min-css\" media=\"all\" rel=\"stylesheet\" type=\"text/css\"/>\n",
       "<link href=\"https://greenpeace.ru/wp-content/themes/narratium/assets/stylesheets/base.css?ver=4.9.16\" id=\"ktt_-base-css\" media=\"all\" rel=\"stylesheet\" type=\"text/css\"/>\n",
       "<style id=\"ktt_-base-inline-css\" type=\"text/css\">\n",
       ".site-typeface-title, site-typeface-title-1, site-typeface-title-2, site-typeface-title-3 {font-family:'open sans';font-weight:normal;} .site-typeface-headline {font-family:'open sans';font-weight:normal;} .site-typeface-content {font-family:'open sans';font-weight:normal;} .site-typeface-body {font-family:'open sans';font-weight:normal;} html, body {font-size:18px;line-height:1.4em;} body h1 {font-size:2.2em;line-height:1.1em;font-weight:normal;} body h2 {font-size:2em;line-height:1.1em;font-weight:normal;} body h3 {font-size:1.8em;line-height:1.1em;font-weight:normal;} .typo-size-content {font-size:21px;line-height:1.5em;}  .color-scheme-base_light .site-palette-yang-1-color a, .site-palette-yang-2-color a, .site-palette-yang-3-color a, .site-palette-yang-4-color a {color:#efe8e9;}  .color-scheme-base_light .site-palette-yin-1-color a, .site-palette-yin-2-color a, .site-palette-yin-3-color a, .site-palette-yin-4-color a {color:#4A3Ddd;}  .color-scheme-base_light .site-palette-yang-1-background-color a {color:#4A3Ddd;}  .color-scheme-base_light .site-palette-yin-1-background-color a {color:#efe8e9;}  .color-scheme-base_light .site-palette-yin-1-color .site-palette-special-1-color, .site-palette-yin-2-color .site-palette-special-1-color, .site-palette-yin-3-color .site-palette-special-1-color, .site-palette-yin-4-color .site-palette-special-1-color {color:#4A3Ddd;}  .color-scheme-base_light .site-palette-yin-1-background-color .site-palette-special-1-background-color, .site-palette-yin-2-background-color .site-palette-special-1-background-color, .site-palette-yin-3-background-color .site-palette-special-1-background-color, .site-palette-yin-4-background-color .site-palette-special-1-background-color {background-color:#4A3Ddd;}  .color-scheme-base_light .site-palette-yin-1-border-color .site-palette-special-1-border-color, .site-palette-yin-2-border-color .site-palette-special-1-border-color, .site-palette-yin-3-border-color .site-palette-special-1-border-color, .site-palette-yin-4-border-color .site-palette-special-1-border-color {border-color:#4A3Ddd;}  .color-scheme-base_light .site-palette-yin-1-color .site-palette-special-2-color, .site-palette-yin-2-color .site-palette-special-2-color, .site-palette-yin-3-color .site-palette-special-2-color, .site-palette-yin-4-color .site-palette-special-2-color {color:#ab5d6a;}  .color-scheme-base_light .site-palette-yin-1-background-color .site-palette-special-2-background-color, .site-palette-yin-2-background-color .site-palette-special-2-background-color, .site-palette-yin-3-background-color .site-palette-special-2-background-color, .site-palette-yin-4-background-color .site-palette-special-2-background-color {background-color:#ab5d6a;}  .color-scheme-base_light .site-palette-yin-1-border-color .site-palette-special-2-border-color, .site-palette-yin-2-border-color .site-palette-special-2-border-color, .site-palette-yin-3-border-color .site-palette-special-2-border-color, .site-palette-yin-4-border-color .site-palette-special-2-border-color {border-color:#ab5d6a;}  .color-scheme-base_light .site-palette-yin-1-color .site-palette-special-1-color, .site-palette-yin-2-color .site-palette-special-1-color, .site-palette-yin-3-color .site-palette-special-1-color, .site-palette-yin-4-color .site-palette-special-1-color {color:#4A3Ddd;}  .color-scheme-base_light .site-palette-yin-1-background-color .site-palette-special-1-background-color, .site-palette-yin-2-background-color .site-palette-special-1-background-color, .site-palette-yin-3-background-color .site-palette-special-1-background-color, .site-palette-yin-4-background-color .site-palette-special-1-background-color {background-color:#4A3Ddd;}  .color-scheme-base_light .site-palette-yin-1-border-color .site-palette-special-1-border-color, .site-palette-yin-2-border-color .site-palette-special-1-border-color, .site-palette-yin-3-border-color .site-palette-special-1-border-color, .site-palette-yin-4-border-color .site-palette-special-1-border-color {border-color:#4A3Ddd;}  .color-scheme-base_light .site-palette-yin-1-color .site-palette-special-2-color, .site-palette-yin-2-color .site-palette-special-2-color, .site-palette-yin-3-color .site-palette-special-2-color, .site-palette-yin-4-color .site-palette-special-2-color {color:#ab5d6a;}  .color-scheme-base_light .site-palette-yin-1-background-color .site-palette-special-2-background-color, .site-palette-yin-2-background-color .site-palette-special-2-background-color, .site-palette-yin-3-background-color .site-palette-special-2-background-color, .site-palette-yin-4-background-color .site-palette-special-2-background-color {background-color:#ab5d6a;}  .color-scheme-base_light .site-palette-yin-1-border-color .site-palette-special-2-border-color, .site-palette-yin-2-border-color .site-palette-special-2-border-color, .site-palette-yin-3-border-color .site-palette-special-2-border-color, .site-palette-yin-4-border-color .site-palette-special-2-border-color {border-color:#ab5d6a;}  .color-scheme-base_light .site-palette-yin-1-color, .color-scheme-base_light a.site-palette-yin-1-color {color:#27262B;}  .color-scheme-base_light .site-palette-yin-2-color, .color-scheme-base_light a.site-palette-yin-2-color {color:#474748;}  .color-scheme-base_light .site-palette-yin-3-color, .color-scheme-base_light a.site-palette-yin-3-color {color:#6C606F;}  .color-scheme-base_light .site-palette-yin-4-color, .color-scheme-base_light a.site-palette-yin-4-color {color:#99939F;}  .color-scheme-base_light .site-palette-yang-1-color, .color-scheme-base_light a.site-palette-yang-1-color {color:#F6F9FC;}  .color-scheme-base_light .site-palette-yang-2-color, .color-scheme-base_light a.site-palette-yang-2-color {color:#F0F3F5;}  .color-scheme-base_light .site-palette-yang-3-color, .color-scheme-base_light a.site-palette-yang-3-color {color:#e2e8e9;}  .color-scheme-base_light .site-palette-yang-4-color, .color-scheme-base_light a.site-palette-yang-4-color {color:#d2d8d9;}  .color-scheme-base_light .site-palette-yin-1-background-color, .color-scheme-base_light a.site-palette-yin-1-background-color {background-color:#27262B;}  .color-scheme-base_light .site-palette-yin-2-background-color, .color-scheme-base_light a.site-palette-yin-2-background-color {background-color:#474748;}  .color-scheme-base_light .site-palette-yin-3-background-color, .color-scheme-base_light a.site-palette-yin-3-background-color {background-color:#6C606F;}  .color-scheme-base_light .site-palette-yin-4-background-color, .color-scheme-base_light a.site-palette-yin-4-background-color {background-color:#99939F;}  .color-scheme-base_light .site-palette-yang-1-background-color, .color-scheme-base_light a.site-palette-yang-1-background-color {background-color:#F6F9FC;}  .color-scheme-base_light .site-palette-yang-2-background-color, .color-scheme-base_light a.site-palette-yang-2-background-color {background-color:#F0F3F5;}  .color-scheme-base_light .site-palette-yang-3-background-color, .color-scheme-base_light a.site-palette-yang-3-background-color {background-color:#e2e8e9;}  .color-scheme-base_light .site-palette-yang-4-background-color, .color-scheme-base_light a.site-palette-yang-4-background-color {background-color:#d2d8d9;}  .color-scheme-base_light .site-palette-yin-1-border-color, .color-scheme-base_light a.site-palette-yin-1-border-color {border-color:#27262B;}  .color-scheme-base_light .site-palette-yin-2-border-color, .color-scheme-base_light a.site-palette-yin-2-border-color {border-color:#474748;}  .color-scheme-base_light .site-palette-yin-3-border-color, .color-scheme-base_light a.site-palette-yin-3-border-color {border-color:#6C606F;}  .color-scheme-base_light .site-palette-yin-4-border-color, .color-scheme-base_light a.site-palette-yin-4-border-color {border-color:#99939F;}  .color-scheme-base_light .site-palette-yang-1-border-color, .color-scheme-base_light a.site-palette-yang-1-border-color {border-color:#F6F9FC;}  .color-scheme-base_light .site-palette-yang-2-border-color, .color-scheme-base_light a.site-palette-yang-2-border-color {border-color:#F0F3F5;}  .color-scheme-base_light .site-palette-yang-3-border-color, .color-scheme-base_light a.site-palette-yang-3-border-color {border-color:#e2e8e9;}  .color-scheme-base_light .site-palette-yang-4-border-color, .color-scheme-base_light a.site-palette-yang-4-border-color {border-color:#d2d8d9;}  .color-scheme-base_light .site-palette-yin-1-gradient-from-20 {background:linear-gradient(0deg, #27262B 20%, rgba(200,200,200,0) 100%);}  .color-scheme-base_light .site-palette-yin-2-gradient-from-20 {background:linear-gradient(0deg, #474748 20%, rgba(200,200,200,0) 100%);}  .color-scheme-base_light .site-palette-yin-3-gradient-from-20 {background:linear-gradient(0deg, #6C606F 20%, rgba(200,200,200,0) 100%);}  .color-scheme-base_light .site-palette-yin-4-gradient-from-20 {background:linear-gradient(0deg, #99939F 20%, rgba(200,200,200,0) 100%);}  .color-scheme-base_light .site-palette-yang-1-gradient-from-20 {background:linear-gradient(0deg, #F6F9FC 20%, rgba(200,200,200,0) 100%);}  .color-scheme-base_light .site-palette-yang-2-gradient-from-20 {background:linear-gradient(0deg, #F0F3F5 20%, rgba(200,200,200,0) 100%);}  .color-scheme-base_light .site-palette-yang-3-gradient-from-20 {background:linear-gradient(0deg, #e2e8e9 20%, rgba(200,200,200,0) 100%);}  .color-scheme-base_light .site-palette-yang-4-gradient-from-20 {background:linear-gradient(0deg, #d2d8d9 20%, rgba(200,200,200,0) 100%);} \n",
       "</style>\n",
       "<link href=\"https://greenpeace.ru/wp-content/themes/narratium/assets/stylesheets/icons.css?ver=4.9.16\" id=\"ktt_-icons-css\" media=\"all\" rel=\"stylesheet\" type=\"text/css\"/>\n",
       "<link href=\"https://greenpeace.ru/wp-content/themes/narratium/theme-features/site-ajax-animations/src/css/ajax-transitions-base.css?ver=4.9.16\" id=\"ktt_-ajax-transitions-base-css\" media=\"all\" rel=\"stylesheet\" type=\"text/css\"/>\n",
       "<link href=\"https://greenpeace.ru/wp-content/themes/narratium/assets/stylesheets/template-single.css?ver=4.9.16\" id=\"ktt_-template-single-css\" media=\"all\" rel=\"stylesheet\" type=\"text/css\"/>\n",
       "<link href=\"https://greenpeace.ru/wp-content/plugins/gutenberg/build/block-library/style.css?ver=1547559838\" id=\"wp-block-library-css\" media=\"all\" rel=\"stylesheet\" type=\"text/css\"/>\n",
       "<link href=\"https://greenpeace.ru/wp-content/plugins/faq-block-for-gutenberg/includes/../assets/css/style.css?ver=4.9.16\" id=\"gutenberg-faq-block-style-css\" media=\"all\" rel=\"stylesheet\" type=\"text/css\"/>\n",
       "<link href=\"https://fonts.googleapis.com/icon?family=Material+Icons&amp;ver=4.9.16\" id=\"ktt_-material-icons-css\" media=\"all\" rel=\"stylesheet\" type=\"text/css\"/>\n",
       "<link href=\"https://greenpeace.ru/wp-content/plugins/addthis/frontend/build/addthis_wordpress_public.min.css?ver=4.9.16\" id=\"addthis_all_pages-css\" media=\"all\" rel=\"stylesheet\" type=\"text/css\"/>\n",
       "<link href=\"//fonts.googleapis.com/css?family=Open+Sans%3A300%2C300italic%2Cregular%2Citalic%2C600%2C600italic%2C700%2C700italic%2C800%2C800italic%7C&amp;ver=1.0.0\" id=\"narratium_-google-fonts-css\" media=\"all\" rel=\"stylesheet\" type=\"text/css\"/>\n",
       "<script src=\"https://greenpeace.ru/wp-includes/js/jquery/jquery.js?ver=1.12.4\" type=\"text/javascript\"></script>\n",
       "<script src=\"https://greenpeace.ru/wp-includes/js/jquery/jquery-migrate.min.js?ver=1.4.1\" type=\"text/javascript\"></script>\n",
       "<link href=\"https://greenpeace.ru/wp-json/\" rel=\"https://api.w.org/\"/>\n",
       "<link href=\"https://greenpeace.ru/xmlrpc.php?rsd\" rel=\"EditURI\" title=\"RSD\" type=\"application/rsd+xml\"/>\n",
       "<link href=\"https://greenpeace.ru/wp-includes/wlwmanifest.xml\" rel=\"wlwmanifest\" type=\"application/wlwmanifest+xml\"/>\n",
       "<link href=\"https://greenpeace.ru/how-to/2021/01/14/chem-kormit-ptic-zimoj/\" rel=\"prev\" title=\"Чем кормить птиц зимой?\"/>\n",
       "<link href=\"https://greenpeace.ru/news/2021/01/16/nash-kollega-evgenij-usov-umer-ot-covid-19/\" rel=\"next\" title=\"Наш коллега Евгений Усов умер от Covid-19\"/>\n",
       "<meta content=\"WordPress 4.9.16\" name=\"generator\"/>\n",
       "<link href=\"https://greenpeace.ru/news/2021/01/14/vlasti-francii-otvetjat-v-sude-za-klimaticheskoe-bezdejstvie/\" rel=\"canonical\"/>\n",
       "<link href=\"https://greenpeace.ru/?p=34802\" rel=\"shortlink\"/>\n",
       "<link href=\"https://greenpeace.ru/wp-json/oembed/1.0/embed?url=https%3A%2F%2Fgreenpeace.ru%2Fnews%2F2021%2F01%2F14%2Fvlasti-francii-otvetjat-v-sude-za-klimaticheskoe-bezdejstvie%2F\" rel=\"alternate\" type=\"application/json+oembed\"/>\n",
       "<link href=\"https://greenpeace.ru/wp-json/oembed/1.0/embed?url=https%3A%2F%2Fgreenpeace.ru%2Fnews%2F2021%2F01%2F14%2Fvlasti-francii-otvetjat-v-sude-za-klimaticheskoe-bezdejstvie%2F&amp;format=xml\" rel=\"alternate\" type=\"text/xml+oembed\"/>\n",
       "<style>\n",
       "\n",
       "\t\t      .ktt-interview-question:before, .ktt-interview-answer:before {\n",
       "\t\t        position:absolute;\n",
       "\t\t        width:200px;\n",
       "\t\t        text-align:right;\n",
       "\t\t        margin-left:-220px;\n",
       "\t\t        font-size:0.65em;\n",
       "\t\t        font-weight:200;\n",
       "\t\t      }\n",
       "\n",
       "\n",
       "\t\t      @media  screen and (min-width : 0px) and (max-width : 768px) {\n",
       "\t\t        .ktt-interview-question:before, .ktt-interview-answer:before {\n",
       "\t\t          position:relative;\n",
       "\t\t          display:block;\n",
       "\t\t          text-align:left;\n",
       "\t\t          margin:0;\n",
       "\t\t        }\n",
       "\t\t      }\n",
       "\n",
       "\t\t\t.ktt-interview-question:before {\n",
       "\t\t\t     content:'Question';\n",
       "\t\t\t}\n",
       "\t\t\t.ktt-interview-answer:before {\n",
       "\t\t\t     content:'Answer';\n",
       "\t\t\t}\n",
       "\n",
       "\n",
       "\t\t\t\n",
       "\t\t\t\n",
       "\t\t</style>\n",
       "<meta content=\"summary_large_image\" name=\"twitter:card\"/>\n",
       "<meta content=\"@greenpeaceru\" name=\"twitter:site\"/>\n",
       "<meta content=\"@greenpeaceru\" name=\"twitter:creator\"/>\n",
       "<meta content=\"Власти Франции ответят в суде за климатическое бездействие\" name=\"twitter:title\"/>\n",
       "<meta content=\"Сегодня состоялось слушание дела. Требование поддержало более двух миллионов французов.\" name=\"twitter:description\"/>\n",
       "<meta content=\"https://greenpeace.ru/\" name=\"twitter:domain\"/>\n",
       "<meta content=\"\" name=\"twitter:image:src\"/>\n",
       "<meta content=\"162272797154940\" property=\"fb:app_id\">\n",
       "<meta content=\"\" property=\"og:image\">\n",
       "<meta content=\"Власти Франции ответят в суде за климатическое бездействие\" property=\"og:title\">\n",
       "<meta content=\"Сегодня состоялось слушание дела. Требование поддержало более двух миллионов французов.\" name=\"Description\" property=\"og:description\">\n",
       "<meta content=\"https://greenpeace.ru/news/2021/01/14/vlasti-francii-otvetjat-v-sude-za-klimaticheskoe-bezdejstvie/\" property=\"og:url\">\n",
       "<meta content=\"Greenpeace в России\" property=\"og:site_name\">\n",
       "<meta content=\"article\" property=\"og:type\">\n",
       "<meta content=\"Олеся Викулова\" property=\"og:author\"/>\n",
       "<meta content=\"Array\" property=\"oggg:section\"/>\n",
       "<meta content=\"https://www.facebook.com/GreenpeaceRussia/\" property=\"og:publisher\"/>\n",
       "<link href=\"/wp-content/uploads/2019/06/G-sign-2019-1.png\" rel=\"shortcut icon\" type=\"image/x-icon\"/>\n",
       "<link href=\"https://greenpeace.ru/wp-content/uploads/2019/06/cropped-G-sign-2019-1-1-32x32.png\" rel=\"icon\" sizes=\"32x32\"/>\n",
       "<link href=\"https://greenpeace.ru/wp-content/uploads/2019/06/cropped-G-sign-2019-1-1-192x192.png\" rel=\"icon\" sizes=\"192x192\"/>\n",
       "<link href=\"https://greenpeace.ru/wp-content/uploads/2019/06/cropped-G-sign-2019-1-1-180x180.png\" rel=\"apple-touch-icon-precomposed\"/>\n",
       "<meta content=\"https://greenpeace.ru/wp-content/uploads/2019/06/cropped-G-sign-2019-1-1-270x270.png\" name=\"msapplication-TileImage\"/>\n",
       "<script src=\"https://cdnjs.cloudflare.com/ajax/libs/slick-carousel/1.9.0/slick.min.js\" type=\"text/javascript\"></script>\n",
       "<script src=\"/wp-content/themes/narratium/js/jquery.color-2.1.2.min.js\" type=\"text/javascript\"></script>\n",
       "<script src=\"/wp-content/themes/narratium/script.js?1614675806\" type=\"text/javascript\"></script>\n",
       "<link href=\"/wp-content/themes/narratium/style.css?1613559430\" id=\"font-general\" media=\"all\" rel=\"stylesheet\" type=\"text/css\"/>\n",
       "<link href=\"/font/fontello/css/pin.css\" media=\"all\" rel=\"stylesheet\" type=\"text/css\"/>\n",
       "<!-- Global site tag (gtag.js) - Google Analytics -->\n",
       "<script async=\"\" src=\"https://www.googletagmanager.com/gtag/js?id=UA-125972325-1\"></script>\n",
       "<script>\n",
       "  window.dataLayer = window.dataLayer || [];\n",
       "  function gtag(){dataLayer.push(arguments);}\n",
       "  gtag('js', new Date());\n",
       "\n",
       "  gtag('config', 'UA-125972325-1');\n",
       "  gtag('config', 'UA-125972325-2', {\n",
       "  'linker': {\n",
       "    'domains': ['greenpeace.ru', 'act.greenpeace.org', 'join.greenpeace.ru']\n",
       "  }\n",
       "});\n",
       "  gtag('config', 'UA-109290164-1');\n",
       "</script>\n",
       "<!-- Global site tag (gtag.js) - Google Analytics 4 -->\n",
       "<script async=\"\" src=\"https://www.googletagmanager.com/gtag/js?id=G-RFR48NQTE5\"></script>\n",
       "<script>\n",
       "  window.dataLayer = window.dataLayer || [];\n",
       "  function gtag(){dataLayer.push(arguments);}\n",
       "  gtag('js', new Date());\n",
       "\n",
       "  gtag('config', 'G-RFR48NQTE5');\n",
       "</script>\n",
       "<script>\n",
       "//Campaign information \n",
       "window.dataLayer = window.dataLayer || [];\n",
       " dataLayer.push({\n",
       " 'officeName': 'Russia',\n",
       " 'gBasket': '',\n",
       " 'gCampaign': '',\n",
       " 'gScope': 'National',\n",
       " 'gDepartment': 'Campaign',\n",
       " 'pageType': 'Campaign Page',\n",
       "});\n",
       "</script>\n",
       "<!-- Google Tag Manager -->\n",
       "<script>(function(w,d,s,l,i){w[l]=w[l]||[];w[l].push({'gtm.start':\n",
       "new Date().getTime(),event:'gtm.js'});var f=d.getElementsByTagName(s)[0],\n",
       "j=d.createElement(s),dl=l!='dataLayer'?'&l='+l:'';j.async=true;j.src=\n",
       "'https://www.googletagmanager.com/gtm.js?id='+i+dl;f.parentNode.insertBefore(j,f);\n",
       "})(window,document,'script','dataLayer','GTM-WW2Q835');</script>\n",
       "<!-- End Google Tag Manager -->\n",
       "<!-- Google Tag Manager -->\n",
       "<script>(function(w,d,s,l,i){w[l]=w[l]||[];w[l].push({'gtm.start':\n",
       "new Date().getTime(),event:'gtm.js'});var f=d.getElementsByTagName(s)[0],\n",
       "j=d.createElement(s),dl=l!='dataLayer'?'&l='+l:'';j.async=true;j.src=\n",
       "'https://www.googletagmanager.com/gtm.js?id='+i+dl;f.parentNode.insertBefore(j,f);\n",
       "})(window,document,'script','dataLayer','GTM-P9P82X4');</script>\n",
       "<!-- End Google Tag Manager -->\n",
       "<!-- Yandex.Metrika counter -->\n",
       "<script type=\"text/javascript\">\n",
       "   (function(m,e,t,r,i,k,a){m[i]=m[i]||function(){(m[i].a=m[i].a||[]).push(arguments)};\n",
       "   m[i].l=1*new Date();k=e.createElement(t),a=e.getElementsByTagName(t)[0],k.async=1,k.src=r,a.parentNode.insertBefore(k,a)})\n",
       "   (window, document, \"script\", \"https://mc.yandex.ru/metrika/tag.js\", \"ym\");\n",
       "\n",
       "   ym(50848277, \"init\", {\n",
       "        clickmap:true,\n",
       "        trackLinks:true,\n",
       "        accurateTrackBounce:true,\n",
       "        webvisor:true\n",
       "   });\n",
       "</script>\n",
       "<noscript><div><img alt=\"\" src=\"https://mc.yandex.ru/watch/50848277\" style=\"position:absolute; left:-9999px;\"/></div></noscript>\n",
       "<!-- /Yandex.Metrika counter -->\n",
       "<!-- Facebook Pixel Code -->\n",
       "<script>\n",
       "  !function(f,b,e,v,n,t,s)\n",
       "  {if(f.fbq)return;n=f.fbq=function(){n.callMethod?\n",
       "  n.callMethod.apply(n,arguments):n.queue.push(arguments)};\n",
       "  if(!f._fbq)f._fbq=n;n.push=n;n.loaded=!0;n.version='2.0';\n",
       "  n.queue=[];t=b.createElement(e);t.async=!0;\n",
       "  t.src=v;s=b.getElementsByTagName(e)[0];\n",
       "  s.parentNode.insertBefore(t,s)}(window, document,'script',\n",
       "  'https://connect.facebook.net/en_US/fbevents.js');\n",
       "  fbq('init', '1420758151316145');\n",
       "  fbq('track', 'PageView');\n",
       "</script>\n",
       "<noscript><img height=\"1\" src=\"https://www.facebook.com/tr?id=1420758151316145&amp;ev=PageView&amp;noscript=1\" style=\"display:none\" width=\"1\"/></noscript>\n",
       "<!-- End Facebook Pixel Code -->\n",
       "<script type=\"text/javascript\">!function(){var t=document.createElement(\"script\");t.type=\"text/javascript\",t.async=!0,t.src=\"https://vk.com/js/api/openapi.js?160\",t.onload=function(){VK.Retargeting.Init(\"VK-RTRG-348467-2la1o\"),VK.Retargeting.Hit()},document.head.appendChild(t)}();</script><noscript><img alt=\"\" src=\"https://vk.com/rtrg?p=VK-RTRG-348467-2la1o\" style=\"position:fixed; left:-999px;\"/></noscript>\n",
       "</meta></meta></meta></meta></meta></meta></meta></meta></meta></link></meta></meta></head>\n",
       "<body class=\"post-template post-template-template-news-page post-template-template-news-page-php single single-post postid-34802 single-format-standard wp-custom-logo site-palette-yang-1-background-color site-palette-yin-1-color site-typeface-body news-page\" data-flex=\"\" data-layout=\"column\" data-ng-app=\"main_app\" data-ng-cloak=\"\" data-ng-controller=\"main_app_controller\">\n",
       "<!-- Google Tag Manager (noscript) -->\n",
       "<noscript><iframe height=\"0\" src=\"https://www.googletagmanager.com/ns.html?id=GTM-WW2Q835\" style=\"display:none;visibility:hidden\" width=\"0\"></iframe></noscript>\n",
       "<!-- End Google Tag Manager (noscript) -->\n",
       "<!-- Google Tag Manager (noscript) -->\n",
       "<noscript><iframe height=\"0\" src=\"https://www.googletagmanager.com/ns.html?id=GTM-P9P82X4\" style=\"display:none;visibility:hidden\" width=\"0\"></iframe></noscript>\n",
       "<!-- End Google Tag Manager (noscript) -->\n",
       "<div class=\"pageload-overlay\" data-closing=\"M 0,-10 80,-20 80,-10 0,0 0,-10\" data-opening=\"M 0,0 80,-10 80,60 0,70 0,0\" id=\"loader\">\n",
       "<svg height=\"100%\" preserveaspectratio=\"none\" viewbox=\"0 0 80 60\" width=\"100%\" xmlns=\"http://www.w3.org/2000/svg\">\n",
       "<path d=\"M 0,70 80,60 80,80 0,80 0,70\"></path>\n",
       "</svg>\n",
       "</div>\n",
       "<!-- MENU -->\n",
       "<div class=\" max-width-400px width-100 position-relative overlay-contentpush overlay site-left-sidenav site-sidenav site-palette-yang-2-background-color site-palette-yin-2-color\" data-layout=\"column\" data-layout-align=\"start center\" id=\"site-menu-block\">\n",
       "<md-button aria-label=\"Menu\" class=\"close-site-menu position-absolute hide-xs show-gt-xs display-block text-align-center md-fab site-palette-yang-1-color site-palette-yin-1-background-color\" data-flex=\"\" data-ng-click=\"open_left_sidenav()\" id=\"close-site-menu\" style=\"right:-37px;float:right;line-height:20px;padding:0;vertical-align:middle;top: 45%\">\n",
       "<i class=\"material-icons\" style=\"margin:0;font-size:30px;\">close</i>\n",
       "</md-button>\n",
       "<div class=\"width-100 text-size-small site-palette-yin-2-color\" data-layout=\"column\">\n",
       "<div class=\"section classic-link-inside padding-both-20\">\n",
       "<div class=\"margin-bottom-20 clear-both width-100 overflow-hidden border-radius-4\" data-layout=\"row\" data-layout-align=\"space-between stretch\">\n",
       "<a aria-label=\"Home\" class=\"button-behaviour cursor-pointer display-block padding-both-10 padding-left-20 padding-right-20 text-align-center site-palette-yin-2-color site-palette-yang-4-background-color\" data-flex=\"auto\" data-md-no-ink=\"\" href=\"https://greenpeace.ru/\">\n",
       "<i class=\" text-size-4xlarge material-icons\">home</i>\n",
       "<span class=\" text-size-small font-weight-700\">Обратно на главную</span>\n",
       "</a>\n",
       "<md-button aria-label=\"Close\" class=\" display-block cursor-pointer padding-both-10 padding-left-20 padding-right-20 text-align-center site-palette-yang-2-color site-palette-yin-1-background-color\" data-flex=\"\" data-hide-gt-xs=\"\" data-md-no-ink=\"\" data-ng-click=\"open_left_sidenav()\" style=\"text-transform:none;border-radius:0 4px 4px 0;margin:0;padding:0;\">\n",
       "<i class=\"text-size-4xlarge material-icons\">close</i>\n",
       "<span class=\" text-size-xsmall\" data-hide-xs=\"\">Закрыть</span>\n",
       "</md-button>\n",
       "</div>\n",
       "<div class=\"padding-both-20 border-radius-3 site-palette-yang-1-background-color widget widget_search\" id=\"search-2\"><form action=\"https://greenpeace.ru/\" class=\"search-form\" method=\"get\" role=\"search\">\n",
       "<label>\n",
       "<span class=\"screen-reader-text\">Search for:</span>\n",
       "<input class=\"search-field\" name=\"s\" placeholder=\"Search …\" type=\"search\" value=\"\"/>\n",
       "</label>\n",
       "<input class=\"search-submit\" type=\"submit\" value=\"Search\"/>\n",
       "</form></div>\n",
       "<hr class=\"margin-bottom-20 site-palette-yang-4-border-color \"/>\n",
       "</div>\n",
       "<div class=\"menu-categories-menu-container navi-menu-categories\"><ul class=\"frontpage-extra-menu margin-auto display-inline\" id=\"menu-categories-menu\"><li class=\"menu-item menu-item-type-custom menu-item-object-custom menu-item-2604\" id=\"menu-item-2604\"><a href=\"/publications/news/\">Новости</a></li>\n",
       "<li class=\"menu-item menu-item-type-custom menu-item-object-custom menu-item-2603\" id=\"menu-item-2603\"><a href=\"/publications/blogs/\">Блоги</a></li>\n",
       "<li class=\"menu-item menu-item-type-custom menu-item-object-custom menu-item-2606\" id=\"menu-item-2606\"><a href=\"/publications/stories/\">Истории</a></li>\n",
       "<li class=\"menu-item menu-item-type-taxonomy menu-item-object-category menu-item-2607 icon-volume-up\" id=\"menu-item-2607\"><a href=\"/publications/podcast/\">Подкаст</a></li>\n",
       "<li class=\"menu-item menu-item-type-custom menu-item-object-custom menu-item-2605\" id=\"menu-item-2605\"><a href=\"/publications/how-to/\">Инструкции</a></li>\n",
       "<li class=\"menu-item menu-item-type-taxonomy menu-item-object-category menu-item-2602\" id=\"menu-item-2602\"><a href=\"/publications/expert-opinions/\">Мнение эксперта</a></li>\n",
       "</ul>\n",
       "<hr class=\"margin-bottom-10 site-palette-yang-4-border-color\"/>\n",
       "</div>\n",
       "<div class=\"padding-bottom-40 padding-left-40 padding-right-40 text-align-center typo-size-xsmall\">\n",
       "<div class=\"navi-menu-main\">\n",
       "<ul>\n",
       "<li><a href=\"/o-greenpeace/\">О Greenpeace</a></li>\n",
       "<ul class=\"navi-menu-categories-include\">\n",
       "<li><a href=\"/o-greenpeace/structure/\">Как устроен Greenpeace в России</a></li>\n",
       "<li><a href=\"/o-greenpeace/reports/\">Отчёты о нашей работе</a></li>\n",
       "</ul>\n",
       "<li><a href=\"/projects/\">Наши проекты</a></li>\n",
       "<li><a href=\"/volunteers/\">Станьте волонтёром</a></li>\n",
       "<li><a class=\"desktop GTM-donate-button check_utm\" href=\"https://join.greenpeace.ru/index.php?iAppealID=4506?utm_source=greenpeace.ru&amp;utm_medium=referral&amp;utm_campaign=brand&amp;utm_content=menu&amp;utm_term=desktop\" rel=\"noopener\" target=\"_blank\">Станьте сторонником<i class=\"material-icons favorite_border\">favorite_border</i></a>\n",
       "<a class=\"mobile GTM-donate-button check_utm\" href=\"https://join.greenpeace.ru/index.php?iAppealID=4507?utm_source=greenpeace.ru&amp;utm_medium=referral&amp;utm_campaign=brand&amp;utm_content=menu&amp;utm_term=mobile\" rel=\"noopener\" target=\"_blank\">Станьте сторонником<i class=\"material-icons favorite_border\">favorite_border</i></a>\n",
       "<ul class=\"navi-menu-categories-include\">\n",
       "<li><a href=\"https://heroesfornature.ru/?utm_source=greenpeace.ru&amp;utm_medium=referral&amp;utm_campaign=brand&amp;utm_content=menu\" rel=\"noopener\" target=\"_blank\">Создайте проект и помогите Greenpeace</a></li>\n",
       "<li><a href=\"/direct-dialog/\">«Прямой диалог» на улицах города</a></li>\n",
       "</ul>\n",
       "</li>\n",
       "<li><a href=\"/job/\">Работа в Greenpeace</a></li>\n",
       "<li><a href=\"/faq/\">FAQ — частые вопросы к нам</a></li>\n",
       "<li><a href=\"/privacy-policy/\">Политика конфиденциальности</a></li>\n",
       "<li><a href=\"/contacts/\">Контакты</a>\n",
       "<hr class=\"margin-top-30 margin-bottom-10 site-palette-yang-4-border-color\"/>\n",
       "</li>\n",
       "</ul>\n",
       "</div>\n",
       "<div class=\"classic-link-inside\">\n",
       "<div class=\"padding-top-10 padding-bottom-10 margin-auto\">\n",
       "<a href=\"http://www.facebook.com/GreenpeaceRussia\" rel=\"noopener\" target=\"_blank\"><span class=\"icon-facebook\" style=\"color: #4596a5;padding:0 10px;font-size: 2em;\"></span></a>\n",
       "<a href=\"http://vk.com/club66871\" rel=\"noopener\" target=\"_blank\"><span class=\"icon-vk\" style=\"color: #4596a5;padding:0 10px;font-size: 2em;\"></span></a>\n",
       "<a href=\"https://www.youtube.com/user/GreenpeaceRussia?sub_confirmation=1\" rel=\"noopener\" target=\"_blank\"><span class=\"icon-youtube\" style=\"color:#4596a5;padding:0 10px;font-size: 2em;\"></span></a>\n",
       "<a href=\"tg://resolve?domain=greenpeaceru\" rel=\"noopener\" target=\"_blank\"><span class=\"icon-paper-plane\" style=\"color: #4596a5;padding:0 10px;font-size: 2em;\"></span></a>\n",
       "<a href=\"https://instagram.com/greenpeaceru/\" rel=\"noopener\" target=\"_blank\"><span class=\"icon-instagram\" style=\"color:#4596a5;padding:0 10px;font-size: 2em;\"></span></a>\n",
       "</div>\n",
       "<hr class=\"margin-bottom-30 site-palette-yang-4-border-color \"/>\n",
       "</div>\n",
       "<img src=\"/wp-content/uploads/2018/09/earth-peace-sign.png\" width=\"80%\"/>\n",
       "<div class=\" footer-firm \">\n",
       "<p>Greenpeace <span style=\"font-weight: 400\">—</span> это независимая международная природоохранная некоммерческая организация.</p>\n",
       "<p>Мы работаем <strong>только на частные пожертвования граждан</strong> и не принимаем финансирования от коммерческих, государственных и политических организаций.</p>\n",
       "<p>ОМННО «Совет Гринпис» © 2021</p> </div>\n",
       "</div>\n",
       "</div>\n",
       "</div>\n",
       "<div class=\"header-menu-wrap min-width-300px position-fixed top-0 left-0 z-index-20\" data-layout-padding=\"\">\n",
       "<md-button aria-label=\"Меню\" class=\"button-behaviour site-menu-handle-open site-logo-button md-fab site-palette-yang-1-color site-palette-yang-1-background-color\" id=\"open-site-menu\" md-no-ink=\"\" ng-href=\"https://greenpeace.ru/\" style=\"background-image:url('https://greenpeace.ru/wp-content/uploads/2019/06/cropped-G-sign-2019-1-1-150x150.png');background-position:center center;background-size:cover\">\n",
       "</md-button>\n",
       "<span class=\"ng-cloak menu-handle cursor-pointer button-behaviour display-inline-block box-shadow site-menu-handle-open padding-left-20 padding-right-10 text-size-xsmall position-relative site-palette-yin-2-color site-palette-yang-4-background-color border-radius-4\" data-ng-click=\"open_left_sidenav()\">\n",
       "<i class=\"ng-cloak material-icons\">menu</i>\n",
       "<span class=\"ng-cloak\">Меню</span>\n",
       "</span>\n",
       "</div>\n",
       "<div class=\"site-wrap\" data-flex=\"auto\" data-layout=\"row\" data-layout-sm=\"column\" data-layout-xs=\"column\" id=\"site-wrap\">\n",
       "<style>\n",
       "\t.donate {\n",
       "/*\t\theight: calc(40vw - 15px);\n",
       "\t\tmin-height: calc(500px - 15px);\n",
       "\t\tdisplay: table;\n",
       "\t\tposition: relative;*/\n",
       "\t}\n",
       "\t.donate iframe{\n",
       "\t\twidth:100%;\n",
       "\t\theight:100%;\n",
       "\t\toverflow-x:hidden;\n",
       "\t}\n",
       ".iframe-embed {\n",
       "    position: absolute;\n",
       "    top: 0;\n",
       "    left: 0;\n",
       "/*    bottom: 0;*/\n",
       "    height: 100%;\n",
       "    width: 100%;\n",
       "    border: 0;\n",
       "\toverflow: hidden;\n",
       "}\n",
       ".iframe-embed-wrapper {\n",
       "    position: relative;\n",
       "    overflow: hidden;\n",
       "}\n",
       ".iframe-embed-responsive-16by9 {\n",
       "    padding-bottom: 90%;\n",
       "\tmargin: 50px 90px 0;\n",
       "}\n",
       "@media screen and (max-width: 1200px) { .iframe-embed-responsive-16by9 {padding-bottom: 120%;margin: 30px 0 0;}}\n",
       "@media screen and (max-width: 950px) { .iframe-embed-responsive-16by9 {padding-bottom: 100%;margin: 30px 0 0;}}\n",
       "@media screen and (max-width: 800px) { .iframe-embed-responsive-16by9 {padding-bottom: 100%;margin: 30px 0 0;}}\n",
       "@media screen and (max-width: 770px) { .iframe-embed-responsive-16by9 {padding-bottom: 105%;}}\n",
       "@media screen and (max-width: 730px) { .iframe-embed-responsive-16by9 {padding-bottom: 120%;}}\n",
       "@media screen and (max-width: 640px) { .iframe-embed-responsive-16by9 {padding-bottom: 130%;}}\n",
       "@media screen and (max-width: 600px) { .iframe-embed-responsive-16by9 {padding-bottom: 150%;}}\n",
       "@media screen and (max-width: 550px) { .iframe-embed-responsive-16by9 {padding-bottom: 200%;}}\n",
       "@media screen and (max-width: 465px) { .iframe-embed-responsive-16by9 {padding-bottom: 230%;}}\n",
       "@media screen and (max-width: 430px) { .iframe-embed-responsive-16by9 {padding-bottom: 250%;}}\n",
       "@media screen and (max-width: 400px) { .iframe-embed-responsive-16by9 {padding-bottom: 270%;}}\n",
       "@media screen and (max-width: 380px) { .iframe-embed-responsive-16by9 {padding-bottom: 300%;}}\n",
       "@media screen and (max-width: 360px) { .iframe-embed-responsive-16by9 {padding-bottom: 320%;}}\n",
       "@media screen and (max-width: 333px) { .iframe-embed-responsive-16by9 {padding-bottom: 350%;}}\n",
       "</style>\n",
       "<div class=\"max-width-400px min-width-400px basic-sideheader overflow-hidden site-palette-yin-1-background-color\" data-background-large=\"https://greenpeace.ru/wp-content/uploads/2019/05/cropped-GP0STRR32_PressMedia_compressed-2.jpg\" data-background-thumb=\"https://greenpeace.ru/wp-content/uploads/2019/05/cropped-GP0STRR32_PressMedia_compressed-2-127x300.jpg\" data-flex=\"\" data-flex-sm=\"none\" data-flex-xs=\"none\" id=\"basic-sideheader\">\n",
       "<div class=\"card-content site-palette-yang-1-color text-align-center font-white-color backdrop-dark-gradient-light height-100vh site-palette-yang-1-color ktt-backgroundy basic-sideheader-content\" data-layout=\"column\" data-layout-align=\"end stretch\" style=\"position:relative;z-index:10;\">\n",
       "<div class=\"padding-top-50 padding-left-30 padding-right-30 padding-bottom-10 use-responsive-text-sizes-fixes\">\n",
       "<a class=\"padding-bottom-20 typo-size-upper-small site-header-subtitle display-block site-palette-yang-1-color\" href=\"https://greenpeace.ru/\">\n",
       "<img alt=\"Logo\" src=\"https://greenpeace.ru/wp-content/uploads/2019/06/GP-logo-2019.svg\" style=\"width:100%\"/>\n",
       "</a>\n",
       "<a class=\"link-white-color site-typeface-title typo-size-xxxlarge site-header-title display-block site-palette-yang-1-color\" href=\"https://greenpeace.ru/\">\n",
       "<!-- -->\n",
       "</a>\n",
       "<div class=\"max-width-500px margin-auto text-size-base opacity-05 site-header-subtitle display-block site-palette-yang-1-color\">\n",
       "<h4><strong>мы сохраняем природу</strong><br/><strong>и мир на Земле</strong></h4>\n",
       "<p>отделение международной<br/>некоммерческой организации<br/>в России</p>\n",
       "</div>\n",
       "<div class=\"padding-both-20\"></div>\n",
       "<hr class=\"opacity-01\"/>\n",
       "<div class=\"link-white-color padding-top-5 padding-bottom-5 typo-size-small menu-site-menu-container\">\n",
       "<div class=\"menu-categories-menu-container\"><ul class=\"frontpage-extra-menu margin-auto display-inline\" id=\"menu-categories-menu\"><li class=\"menu-item menu-item-type-custom menu-item-object-custom menu-item-2604\" id=\"menu-item-2604\"><a href=\"/publications/news/\">Новости</a></li>\n",
       "<li class=\"menu-item menu-item-type-custom menu-item-object-custom menu-item-2603\" id=\"menu-item-2603\"><a href=\"/publications/blogs/\">Блоги</a></li>\n",
       "<li class=\"menu-item menu-item-type-custom menu-item-object-custom menu-item-2606\" id=\"menu-item-2606\"><a href=\"/publications/stories/\">Истории</a></li>\n",
       "<li class=\"menu-item menu-item-type-taxonomy menu-item-object-category menu-item-28837\" id=\"menu-item-28837\"><a href=\"https://greenpeace.ru/publications/podcast/\">Подкаст</a></li>\n",
       "<li class=\"menu-item menu-item-type-custom menu-item-object-custom menu-item-2605\" id=\"menu-item-2605\"><a href=\"/publications/how-to/\">Инструкции</a></li>\n",
       "<li class=\"menu-item menu-item-type-taxonomy menu-item-object-category menu-item-2602\" id=\"menu-item-2602\"><a href=\"https://greenpeace.ru/publications/expert-opinions/\">Мнение эксперта</a></li>\n",
       "</ul></div> </div>\n",
       "</div>\n",
       "<div class=\"nextprev-buttons post-item-meta link-white-color text-align-center\" data-layout=\"row\">\n",
       "<span data-flex=\"50\">\n",
       "<md-tooltip md-direction=\"top\">Узнай, чем занимается Гринпис</md-tooltip>\n",
       "<a alt=\"Узнай, чем занимается Гринпис\" class=\"padding-top-20 padding-bottom-20 display-block activist\" href=\"/projects/\">\n",
       "              Узнай\n",
       "            </a>\n",
       "</span>\n",
       "<span class=\"act-button\" data-flex=\"50\">\n",
       "<md-tooltip md-direction=\"top\">Твоя помощь поддержит нашу работу</md-tooltip>\n",
       "<a alt=\"Узнай, как ты можешь помочь природе\" class=\"padding-top-20 padding-bottom-20 display-block activist GTM-donate-button desktop check_utm\" href=\"https://join.greenpeace.ru/index.php?iAppealID=4502&amp;utm_source=greenpeace.ru&amp;utm_medium=referral&amp;utm_campaign=brand&amp;utm_content=button&amp;utm_term=desktop-index\" rel=\"noopener\">\n",
       "            \tПомоги\n",
       "            </a>\n",
       "<a alt=\"Узнай, как ты можешь помочь природе\" class=\"padding-top-20 padding-bottom-20 display-block activist GTM-donate-button mobile check_utm\" href=\"https://join.greenpeace.ru/index.php?iAppealID=4503&amp;utm_source=greenpeace.ru&amp;utm_medium=referral&amp;utm_campaign=brand&amp;utm_content=button&amp;utm_term=mobile-index\" rel=\"noopener\">\n",
       "            \tПомоги\n",
       "            </a>\n",
       "</span>\n",
       "</div>\n",
       "</div>\n",
       "</div>\n",
       "<script>\n",
       "        jQuery( document ).ready(function() {\n",
       "            jQuery( \"#basic-sideheader\" ).ktt_backgroundy();\n",
       "        });\n",
       "        </script>\n",
       "<div class=\"use-responsive-padding-fixes-only-width use-responsive-text-sizes-fixes post-34802 post type-post status-publish format-standard hentry category-news tag-climate\" data-flex=\"auto\" id=\"site-body\">\n",
       "<div class=\"typography-responsive site-body-content-wrap padding-both-30 padding-top-40\">\n",
       "<div class=\"max-width-800px margin-auto site-typeface-content site-body-content padding-bottom-40 padding-top-40 typo-size-content\">\n",
       "<p class=\"post-item-meta typo-size-xsmall\">\n",
       "<span class=\"ornament-line-before-amper\">\n",
       "<span class=\"icon-folder opacity-08\" id=\"gtm_category\"><a href=\"https://greenpeace.ru/publications/news/\" rel=\"category tag\">Новость</a></span>\n",
       "</span>\n",
       "<span class=\"ornament-line-before-amper\">\n",
       "<span class=\"icon-calendar-2 opacity-08\">14/01/2021</span>\n",
       "</span>\n",
       "<span class=\"ornament-line-before-amper desktop\">\n",
       "<span class=\"icon-paper-plane\" style=\"color: #505054;\">читать и обсуждать <a href=\"tg://resolve?domain=greenpeaceru\" style=\"background-color: #4a3ddd21;\">наши новости в телеграме</a>\n",
       "</span>\n",
       "</span>\n",
       "<span class=\"mobile\">\n",
       "<span class=\"icon-paper-plane\" style=\"color: #505054;padding: 0 0px;font-size: 1.1em;\">читайте наши новости <a href=\"tg://resolve?domain=greenpeaceru\" style=\"background-color: #4a3ddd21;\">в телеграме</a>\n",
       "</span>\n",
       "</span>\n",
       "</p>\n",
       "<h1 class=\"padding-top-30 padding-bottom-10 site-typeface-title typo-size-xlarge post-title\">\n",
       "                      Власти Франции ответят в суде за климатическое бездействие                     </h1>\n",
       "<h4 class=\"typo-weight-800 site-palette-yin-3-color padding-top-20 padding-bottom-10 site-typeface-headline typo-size-small post-subtitle news-post-subtitle\">\n",
       "                      Сегодня состоялось слушание дела. Требование поддержало более двух миллионов французов.                    </h4>\n",
       "<div class=\"at-above-post addthis_tool\" data-url=\"https://greenpeace.ru/news/2021/01/14/vlasti-francii-otvetjat-v-sude-za-klimaticheskoe-bezdejstvie/\"></div>\n",
       "<p><span style=\"font-weight: 400;\">Greenpeace Франции совместно с другими НКО (Notre Affaire à Tous, Фонд Николя Юло и Oxfam France) требуют от властей возместить ущерб, причинённый гражданам страны из-за политики в области экологии и начать активные действия в рамках предыдущих соглашений. Соответствующий иск подали ещё два года назад из-за бездействия государства в решении проблемы климатического кризиса. Сегодня состоялось слушание дела в суде Парижа, решение по которому будет вынесено в течение двух недель. </span></p>\n",
       "<p><span style=\"font-weight: 400;\">Хотя климатический кризис остаётся одной из главных проблем для французов (в 2020 году были побиты новые температурные рекорды), государство продолжает откладывать принятие необходимых мер. Выбросы парниковых газов в течение последних пяти лет продолжали снижаться вдвое медленнее, чем показатели, предусмотренные законом. В декабре прошлого года Высший совет по климату (независимый орган, созданный в 2018 году и состоящий из экспертов по климату) проанализировал, что две трети плана стимулирования не работают и, наоборот, могут способствовать увеличению выбросов. </span></p>\n",
       "<p><span style=\"font-weight: 400;\">В Greenpeace Франции надеются, что суд признает обязанность государств бороться с климатическим кризисом — это подтверждает Хартия окружающей среды 2004 года и Европейская конвенция о правах человека. </span></p>\n",
       "<blockquote class=\"wp-block-quote\"><p><span style=\"font-weight: 400;\">«Такое решение было бы историческим и закрепило в законе, что борьба с изменением климата играет важную роль в защите основных прав граждан».</span></p><cite>Greenpeace France</cite></blockquote>\n",
       "<p><span style=\"font-weight: 400;\">Кроме того, Greenpeace Франции ранее запустил петицию «Дело века», которую уже поддержало более двух миллионов граждан. </span></p>\n",
       "<p><span style=\"font-weight: 400;\">«Климатический кризис оказывает серьёзное воздействие на жизнь каждого из нас: увеличение дней с экстремально высокой температурой приводит к повышению смертности людей по всему миру, растёт ареал распространения различных вирусов и инфекций. В России тоже остро стоит </span><a href=\"https://climatescience.ru/climate-2020-12-09.pdf?_ga=2.104332352.1990835110.1609256341-133469842.1597066306\"><span style=\"font-weight: 400;\">необходимость скорейшего начала технологической трансформации экономики</span></a><span style=\"font-weight: 400;\"> в сторону климатически устойчивых технологий. Мы надеемся, что судебный процесс во Франции будет выигран людьми и станет примером в том числе и для нашего государства в вопросах важности срочного принятия мер по решению климатического кризиса», — прокомментировала руководительница энергетического отдела Greenpeace в России Елена Сакирко.</span></p>\n",
       "<!-- AddThis Advanced Settings above via filter on the_content --><!-- AddThis Advanced Settings below via filter on the_content --><!-- AddThis Advanced Settings generic via filter on the_content --><!-- AddThis Share Buttons above via filter on the_content --><!-- AddThis Share Buttons below via filter on the_content --><div class=\"at-below-post addthis_tool\" data-url=\"https://greenpeace.ru/news/2021/01/14/vlasti-francii-otvetjat-v-sude-za-klimaticheskoe-bezdejstvie/\"></div><!-- AddThis Share Buttons generic via filter on the_content -->\n",
       "<div class=\"clearfix padding-both-20\">\n",
       "<div class=\"post-item-meta text-align-center padding-bottom-40 site-palette-yang-1-background-color news-sharing-buttons\" data-layout=\"row\">\n",
       "<span data-flex=\"100\">\n",
       "<!-- Go to www.addthis.com/dashboard to customize your tools -->\n",
       "<div class=\"addthis_inline_share_toolbox\"></div>\n",
       "</span>\n",
       "</div>\n",
       "</div>\n",
       "<p class=\"display-block padding-top-20\" id=\"tag-list\">\n",
       "<a class=\"icon-tag site-typeface-body margin-right-10 margin-bottom-5 display-inline-block link-chip typo-size-xsmall border-radius-2 padding-top-5 padding-bottom-5 padding-left-10 padding-right-10\" id=\"gtm_tag\" ng-href=\"https://greenpeace.ru/tag/climate/\">\n",
       "\t\t\t\tклимат\t\t\t</a>\n",
       "</p>\n",
       "<!-- mediator -->\n",
       "<script>!function(e){function t(t,n){if(!(n in e)){for(var r,a=e.document,i=a.scripts,o=i.length;o--;)if(-1!==i[o].src.indexOf(t)){r=i[o];break}if(!r){r=a.createElement(\"script\"),r.type=\"text/javascript\",r.async=!0,r.defer=!0,r.src=t,r.charset=\"UTF-8\";var d=function(){var e=a.getElementsByTagName(\"script\")[0];e.parentNode.insertBefore(r,e)};\"[object Opera]\"==e.opera?a.addEventListener?a.addEventListener(\"DOMContentLoaded\",d,!1):e.attachEvent(\"onload\",d):d()}}}t(\"//mediator.mail.ru/script/28214304/\",\"_mediator\")}(window);</script>\n",
       "<!-- /mediator -->\n",
       "<div class=\"widget widget_ktt_posts_list_widget\"><h2 class=\"widgettitle\">Другие новости</h2> <div data-layout=\"row\">\n",
       "<div data-flex=\"\">\n",
       "<a alt=\"По всему миру прошла глобальная забастовка за климат\" class=\"classic-link site-typeface-title display-block text-size-medium font-weight-700\" href=\"https://greenpeace.ru/news/2021/03/19/po-vsemu-miru-proshla-globalnaja-zabastovka-za-klimat/\" title=\"По всему миру прошла глобальная забастовка за климат\">По всему миру прошла глобальная забастовка за климат</a>\n",
       "<div class=\" item-meta site-palette-yin-4-color post-item-meta classic-link-inside text-size-2xsmall padding-top-5\" data-flex=\"\">\n",
       "<span class=\"meta ornament-line-before-amper\">\n",
       "<span class=\"icon-calendar-2\"> 19/03/2021</span>\n",
       "</span>\n",
       "</div>\n",
       "</div>\n",
       "</div>\n",
       "<div class=\"margin-bottom-20\"></div>\n",
       "<div data-layout=\"row\">\n",
       "<div data-flex=\"\">\n",
       "<a alt=\"Greenpeace потребовал от правительства строгой экологической повестки в Арктике\" class=\"classic-link site-typeface-title display-block text-size-medium font-weight-700\" href=\"https://greenpeace.ru/news/2021/02/26/greenpeace-potreboval-ot-pravitelstva-strogoj-jekologicheskoj-povestki-v-arktike/\" title=\"Greenpeace потребовал от правительства строгой экологической повестки в Арктике\">Greenpeace потребовал от правительства строгой экологической повестки в Арктике</a>\n",
       "<div class=\" item-meta site-palette-yin-4-color post-item-meta classic-link-inside text-size-2xsmall padding-top-5\" data-flex=\"\">\n",
       "<span class=\"meta ornament-line-before-amper\">\n",
       "<span class=\"icon-calendar-2\"> 26/02/2021</span>\n",
       "</span>\n",
       "</div>\n",
       "</div>\n",
       "</div>\n",
       "<div class=\"margin-bottom-20\"></div>\n",
       "<div data-layout=\"row\">\n",
       "<div data-flex=\"\">\n",
       "<a alt=\"Поможет ли беспрецедентное решение суда по норильской аварии решить экологические проблемы?\" class=\"classic-link site-typeface-title display-block text-size-medium font-weight-700\" href=\"https://greenpeace.ru/news/2021/02/05/pomozhet-li-besprecedentnoe-reshenie-suda-po-norilskoj-avarii-reshit-jekologicheskie-problemy/\" title=\"Поможет ли беспрецедентное решение суда по норильской аварии решить экологические проблемы?\">Поможет ли беспрецедентное решение суда по норильской аварии решить экологические проблемы?</a>\n",
       "<div class=\" item-meta site-palette-yin-4-color post-item-meta classic-link-inside text-size-2xsmall padding-top-5\" data-flex=\"\">\n",
       "<span class=\"meta ornament-line-before-amper\">\n",
       "<span class=\"icon-calendar-2\"> 05/02/2021</span>\n",
       "</span>\n",
       "</div>\n",
       "</div>\n",
       "</div>\n",
       "<div class=\"margin-bottom-20\"></div>\n",
       "<div data-layout=\"row\">\n",
       "<div data-flex=\"\">\n",
       "<a alt=\"Суд Франции впервые признал правительство виновным в климатическом бездействии\" class=\"classic-link site-typeface-title display-block text-size-medium font-weight-700\" href=\"https://greenpeace.ru/news/2021/02/03/sud-francii-vpervye-priznal-pravitelstvo-vinovnym-v-klimaticheskom-bezdejstvii/\" title=\"Суд Франции впервые признал правительство виновным в климатическом бездействии\">Суд Франции впервые признал правительство виновным в климатическом бездействии</a>\n",
       "<div class=\" item-meta site-palette-yin-4-color post-item-meta classic-link-inside text-size-2xsmall padding-top-5\" data-flex=\"\">\n",
       "<span class=\"meta ornament-line-before-amper\">\n",
       "<span class=\"icon-calendar-2\"> 03/02/2021</span>\n",
       "</span>\n",
       "</div>\n",
       "</div>\n",
       "</div>\n",
       "<div class=\"margin-bottom-20\"></div>\n",
       "<div data-layout=\"row\">\n",
       "<div data-flex=\"\">\n",
       "<a alt=\"Greenpeace выпустил финальный эпизод сериала #РРРЕАКЦИЯ\" class=\"classic-link site-typeface-title display-block text-size-medium font-weight-700\" href=\"https://greenpeace.ru/news/2021/01/29/greenpeace-vypustil-finalnyj-jepizod-seriala-rrreakcija/\" title=\"Greenpeace выпустил финальный эпизод сериала #РРРЕАКЦИЯ\">Greenpeace выпустил финальный эпизод сериала #РРРЕАКЦИЯ</a>\n",
       "<div class=\" item-meta site-palette-yin-4-color post-item-meta classic-link-inside text-size-2xsmall padding-top-5\" data-flex=\"\">\n",
       "<span class=\"meta ornament-line-before-amper\">\n",
       "<span class=\"icon-calendar-2\"> 29/01/2021</span>\n",
       "</span>\n",
       "</div>\n",
       "</div>\n",
       "</div>\n",
       "</div>\n",
       "</div>\n",
       "</div>\n",
       "<div data-hide-gt-sm=\"\">\n",
       "<div class=\"padding-both-30\"></div>\n",
       "<hr class=\"site-palette-yang-4-border-color padding-both-0 margin-both-0\"/>\n",
       "<p class=\"max-width-800px site-typeface-title-1 typo-size-small text-align-center margin-auto padding-both-0\" data-layout=\"row\">\n",
       "<span data-flex=\"50\">\n",
       "<md-tooltip md-direction=\"top\">Узнай, чем занимается Гринпис</md-tooltip>\n",
       "<a alt=\"Узнай, чем занимается Гринпис\" class=\"padding-top-20 padding-bottom-20 display-block activist\" href=\"/projects/\">\n",
       "              Узнай\n",
       "            </a>\n",
       "</span>\n",
       "<span class=\"act-button\" data-flex=\"50\">\n",
       "<md-tooltip md-direction=\"top\">Твоя помощь поддержит нашу работу</md-tooltip>\n",
       "<a alt=\"Узнай, как ты можешь помочь природе\" class=\"padding-top-20 padding-bottom-20 display-block activist GTM-donate-button desktop check_utm\" href=\"https://join.greenpeace.ru/index.php?iAppealID=4508&amp;utm_source=greenpeace.ru&amp;utm_medium=referral&amp;utm_campaign=brand&amp;utm_content=button&amp;utm_term=desktop-news\">\n",
       "            \tПомоги\n",
       "            </a>\n",
       "<a alt=\"Узнай, как ты можешь помочь природе\" class=\"padding-top-20 padding-bottom-20 display-block activist GTM-donate-button mobile check_utm\" href=\"https://join.greenpeace.ru/index.php?iAppealID=4509&amp;utm_source=greenpeace.ru&amp;utm_medium=referral&amp;utm_campaign=brand&amp;utm_content=button&amp;utm_term=mobile-news\">\n",
       "            \tПомоги\n",
       "            </a>\n",
       "</span>\n",
       "</p>\n",
       "</div>\n",
       "</div>\n",
       "<script>\n",
       "document.getElementsByClassName(\"news-card-block\")[0].insertAdjacentHTML( 'afterend',\n",
       "  '<div class=\"podcast-announce-block\">' +\n",
       "    'Слушайте&nbsp;наш&nbsp;<a href=\"/publications/podcast/\">подкаст</a> <span style=\"font-size:1.4em; margin: 0 10px;\">🎙</span>' +\n",
       "      '«<a href=\"/publications/podcast/\" class=\"episode\">Куда&nbsp;смотрит&nbsp;Гринпис?</a>»' +\n",
       "  '</div>'\n",
       ");\n",
       "</script>\n",
       "</div>\n",
       "<script data-bg=\"#66cc00\" data-close-text=\"✖\" data-cookie=\"greenpeace.ru cookie\" data-divlinkbg=\"#FFF\" data-fg=\"#212121\" data-font-family=\"GeometriaBold\" data-font-size=\"0.8rem\" data-link=\"#FFF\" data-linkmsg=\"ЧТО ЭТО?\" data-message=\"У НАС НА САЙТЕ ЕСТЬ КУКИ.\" data-moreinfo=\"https://greenpeace.ru/privacy-policy/\" data-text-align=\"left\" id=\"cookieinfo\" site=\"cookieinfoscript.com\" src=\"/misc/popup/cookie.js\" type=\"text/javascript\">\n",
       "</script>\n",
       "<span class=\"back-to-top-trigger hide text-size-3xlarge line-height-0 button-behaviour box-shadow padding-both-0 border-rounded-full site-palette-yin-1-background-color site-palette-yang-1-color margin-right-20 margin-bottom-20 cursor-pointer position-fixed pin-bottom pin-right \" id=\"back-to-top-trigger\" onclick=\"jQuery('html,body').animate({ scrollTop: 0 }, 'slow');jQuery('.back-to-top-trigger').removeClass('show').addClass('hide');\">\n",
       "<i class=\"material-icons\">keyboard_arrow_up</i>\n",
       "</span>\n",
       "<script data-cfasync=\"false\" type=\"text/javascript\">if (window.addthis_product === undefined) { window.addthis_product = \"wpp\"; } if (window.wp_product_version === undefined) { window.wp_product_version = \"wpp-6.1.8\"; } if (window.wp_blog_version === undefined) { window.wp_blog_version = \"4.9.16\"; } if (window.addthis_share === undefined) { window.addthis_share = {\"passthrough\":{\"twitter\":{\"via\":\"greenpeaceru\"}}}; } if (window.addthis_config === undefined) { window.addthis_config = {\"data_track_clickback\":true,\"data_ga_property\":\"UA-125972325-1\",\"data_ga_social\":true,\"ui_atversion\":\"300\"}; } if (window.addthis_plugin_info === undefined) { window.addthis_plugin_info = {\"info_status\":\"enabled\",\"cms_name\":\"WordPress\",\"plugin_name\":\"Share Buttons by AddThis\",\"plugin_version\":\"6.1.8\",\"plugin_mode\":\"AddThis\",\"anonymous_profile_id\":\"wp-05f3c6d25106865c2297353bcd98f4b9\",\"page_info\":{\"template\":\"posts\",\"post_type\":\"\"},\"sharing_enabled_on_post_via_metabox\":false}; } \n",
       "                    (function() {\n",
       "                      var first_load_interval_id = setInterval(function () {\n",
       "                        if (typeof window.addthis !== 'undefined') {\n",
       "                          window.clearInterval(first_load_interval_id);\n",
       "                          if (typeof window.addthis_layers !== 'undefined' && Object.getOwnPropertyNames(window.addthis_layers).length > 0) {\n",
       "                            window.addthis.layers(window.addthis_layers);\n",
       "                          }\n",
       "                          if (Array.isArray(window.addthis_layers_tools)) {\n",
       "                            for (i = 0; i < window.addthis_layers_tools.length; i++) {\n",
       "                              window.addthis.layers(window.addthis_layers_tools[i]);\n",
       "                            }\n",
       "                          }\n",
       "                        }\n",
       "                     },1000)\n",
       "                    }());\n",
       "                </script> <script data-cfasync=\"false\" src=\"https://s7.addthis.com/js/300/addthis_widget.js#pubid=ra-5b62dd7d36fed7a4\" type=\"text/javascript\"></script><script src=\"https://greenpeace.ru/wp-content/themes/narratium/assets/js/ktt-backgroundy.js?ver=4.9.16\" type=\"text/javascript\"></script>\n",
       "<script src=\"https://greenpeace.ru/wp-includes/js/comment-reply.min.js?ver=4.9.16\" type=\"text/javascript\"></script>\n",
       "<script src=\"https://greenpeace.ru/wp-content/themes/narratium/assets/js/angular.min.js?ver=4.9.16\" type=\"text/javascript\"></script>\n",
       "<script src=\"https://greenpeace.ru/wp-content/themes/narratium/assets/js/angular-animate.min.js?ver=4.9.16\" type=\"text/javascript\"></script>\n",
       "<script src=\"https://greenpeace.ru/wp-content/themes/narratium/assets/js/angular-aria.min.js?ver=4.9.16\" type=\"text/javascript\"></script>\n",
       "<script src=\"https://greenpeace.ru/wp-content/themes/narratium/assets/js/angular-material.min.js?ver=4.9.16\" type=\"text/javascript\"></script>\n",
       "<script src=\"https://greenpeace.ru/wp-content/themes/narratium/assets/js/main-app.js?ver=4.9.16\" type=\"text/javascript\"></script>\n",
       "<script type=\"text/javascript\">\n",
       "\t\t \tjQuery('body').on( 'DOMMouseScroll mousewheel', function ( event ) {\n",
       "\t\t \t\tif( event.originalEvent.detail > 0 || event.originalEvent.wheelDelta < 0 ) {\n",
       "\t\t \t\t\t//The scroll is going down...\n",
       "\t\t \t\t\tjQuery('.back-to-top-trigger').removeClass('show').addClass('hide');\n",
       "\t\t \t\t} else {\n",
       "\t\t \t\t\t//Scroll is going up. Only if we are far from top we display the div\n",
       "\t\t \t\t\tif (jQuery(window).scrollTop() > jQuery(window).height()) {\n",
       "\t\t \t\t\t\tjQuery('.back-to-top-trigger').addClass('show').removeClass('hide');\n",
       "\t\t \t\t\t}\n",
       "\t\t \t\t}\n",
       "\t\t \t});\n",
       "  \t\n",
       "  \t/**\n",
       "  \t* Controller main_app\n",
       "    * TODO: libs filter\n",
       "  \t*/\n",
       "  \tmain_app.controller('main_app_controller',  function($scope, $compile, $http, $q, $timeout, $mdSidenav) {\n",
       "\n",
       "  \t      \t\n",
       "\n",
       "  $scope.open_left_sidenav = function() {;\n",
       "\n",
       "        var container = jQuery( '#site-wrap' );\n",
       "        overlay = jQuery( '#site-menu-block' );\n",
       "\n",
       "        var btnclick = function rm() {\n",
       "\n",
       "          overlay.removeClass('open');\n",
       "          container.removeClass('overlay-open');\n",
       "          jQuery('body').removeClass('overflow-hidden');\n",
       "          overlay.addClass('close');\n",
       "          jQuery('.site-menu-handle-open').show();\n",
       "          jQuery('.site-menu-handle-close').hide();\n",
       "\n",
       "        }\n",
       "\n",
       "        if( overlay.hasClass('open') ) {\n",
       "\n",
       "            btnclick();\n",
       "            document.getElementById(\"site-wrap\").removeEventListener(\"click\", btnclick);\n",
       "\n",
       "        } else {\n",
       "\n",
       "              overlay.addClass( 'open' );\n",
       "              container.addClass( 'overlay-open' );\n",
       "              overlay.removeClass('close');\n",
       "              jQuery('body').addClass('overflow-hidden');\n",
       "              jQuery('.site-menu-handle-close').show();\n",
       "              jQuery('.site-menu-handle-open').hide();\n",
       "\n",
       "              document.getElementById(\"site-wrap\").addEventListener(\"click\", btnclick);\n",
       "\n",
       "        }\n",
       "\n",
       "\n",
       "  }\n",
       "\n",
       "\n",
       "\n",
       "  \n",
       "  \t});\n",
       "  \n",
       "</script>\n",
       "<script src=\"https://greenpeace.ru/wp-content/themes/narratium/theme-features/site-ajax-animations/src/js/snap.svg-min.js?ver=4.9.16\" type=\"text/javascript\"></script>\n",
       "<script src=\"https://greenpeace.ru/wp-content/themes/narratium/theme-features/site-ajax-animations/src/js/svgLoader.js?ver=4.9.16\" type=\"text/javascript\"></script>\n",
       "<script type=\"text/javascript\">\n",
       "var loader = new SVGLoader( document.getElementById( \"loader\" ), { speedIn : 500, easingIn : mina.easeinout } );\n",
       "</script>\n",
       "<script src=\"https://greenpeace.ru/wp-content/plugins/faq-block-for-gutenberg/includes/../assets/js/faq-block-for-gutenberg.js?ver=4.9.16\" type=\"text/javascript\"></script>\n",
       "<script src=\"https://greenpeace.ru/wp-includes/js/wp-embed.min.js?ver=4.9.16\" type=\"text/javascript\"></script>\n",
       "<!-- // #site-content -->\n",
       "</body>\n",
       "</html>"
      ]
     },
     "execution_count": 13,
     "metadata": {
      "tags": []
     },
     "output_type": "execute_result"
    }
   ],
   "source": [
    "from bs4 import BeautifulSoup as bs\n",
    "soup = bs(response.text, \"html.parser\")\n",
    "soup"
   ]
  },
  {
   "cell_type": "markdown",
   "metadata": {
    "id": "VNyXEEeLf-hC"
   },
   "source": [
    "Это уже вполне читаемо, но нам обычно нужно не все, а только самая полезная информация. К примеру, заголовок и текст. Для этого нам нужно уметь читать html-разметку и понимать, под какими тегам содержится нужная информация. Заголовки обычно хранятся под тегами `h1`, `h2` или `h3`. Основной текст под тегом `p`. `beautifulsoup` имеет массу полезных методов для извлечения нужной информации со странички. Со всеми его возможностями всегда можно ознакомиться в [документации](https://www.crummy.com/software/BeautifulSoup/bs4/doc.ru/)."
   ]
  },
  {
   "cell_type": "markdown",
   "metadata": {
    "id": "Dmct_sZHhRPw"
   },
   "source": [
    "Одну и ту же задачу в программировании обычно можно решить более чем одним способом. Так, например, и вытащить нужную информацию со странички можно по-разному. Можно по тегам разметки."
   ]
  },
  {
   "cell_type": "code",
   "execution_count": null,
   "metadata": {
    "colab": {
     "base_uri": "https://localhost:8080/"
    },
    "executionInfo": {
     "elapsed": 766,
     "status": "ok",
     "timestamp": 1616512280602,
     "user": {
      "displayName": "Anastasiia Chernysheva",
      "photoUrl": "https://lh3.googleusercontent.com/a-/AOh14GhHyHwY-PuMRWX3mjSyss6pojv4D8xrqnEXatqg=s64",
      "userId": "13831218637705529605"
     },
     "user_tz": -180
    },
    "id": "0JlUgk5ef98v",
    "outputId": "72cbbae5-392d-4131-e142-f90e9c9cf1ea"
   },
   "outputs": [
    {
     "name": "stdout",
     "output_type": "stream",
     "text": [
      "<h1 class=\"padding-top-30 padding-bottom-10 site-typeface-title typo-size-xlarge post-title\">\n",
      "                      Власти Франции ответят в суде за климатическое бездействие                     </h1>\n",
      "Title: Власти Франции ответят в суде за климатическое бездействие\n"
     ]
    }
   ],
   "source": [
    "title = soup.find(\"h1\", {\"class\": \"padding-top-30 padding-bottom-10 site-typeface-title typo-size-xlarge post-title\"})\n",
    "print(title)\n",
    "print(f\"Title: {title.text.strip()}\")"
   ]
  },
  {
   "cell_type": "markdown",
   "metadata": {
    "id": "h5D0a3NUhCRT"
   },
   "source": [
    "А можно воспользоваться специальными методами `beautifulsoup`."
   ]
  },
  {
   "cell_type": "code",
   "execution_count": null,
   "metadata": {
    "colab": {
     "base_uri": "https://localhost:8080/"
    },
    "executionInfo": {
     "elapsed": 770,
     "status": "ok",
     "timestamp": 1616512283049,
     "user": {
      "displayName": "Anastasiia Chernysheva",
      "photoUrl": "https://lh3.googleusercontent.com/a-/AOh14GhHyHwY-PuMRWX3mjSyss6pojv4D8xrqnEXatqg=s64",
      "userId": "13831218637705529605"
     },
     "user_tz": -180
    },
    "id": "yAWV0jUwg9YS",
    "outputId": "79d3fa8e-e01a-4797-cf1e-1ad6319fed03"
   },
   "outputs": [
    {
     "data": {
      "text/plain": [
       "<title>Власти Франции ответят в суде за климатическое бездействие</title>"
      ]
     },
     "execution_count": 15,
     "metadata": {
      "tags": []
     },
     "output_type": "execute_result"
    }
   ],
   "source": [
    "soup.title"
   ]
  },
  {
   "cell_type": "code",
   "execution_count": null,
   "metadata": {
    "colab": {
     "base_uri": "https://localhost:8080/",
     "height": 35
    },
    "executionInfo": {
     "elapsed": 1035,
     "status": "ok",
     "timestamp": 1616512284494,
     "user": {
      "displayName": "Anastasiia Chernysheva",
      "photoUrl": "https://lh3.googleusercontent.com/a-/AOh14GhHyHwY-PuMRWX3mjSyss6pojv4D8xrqnEXatqg=s64",
      "userId": "13831218637705529605"
     },
     "user_tz": -180
    },
    "id": "JJqOVzg4hhrt",
    "outputId": "ee789517-a767-4054-82bf-5398774ab4e0"
   },
   "outputs": [
    {
     "data": {
      "application/vnd.google.colaboratory.intrinsic+json": {
       "type": "string"
      },
      "text/plain": [
       "'Власти Франции ответят в суде за климатическое бездействие'"
      ]
     },
     "execution_count": 16,
     "metadata": {
      "tags": []
     },
     "output_type": "execute_result"
    }
   ],
   "source": [
    "soup.title.string"
   ]
  },
  {
   "cell_type": "markdown",
   "metadata": {
    "id": "E2eHpl1Vhs7B"
   },
   "source": [
    "Получить текст странички обычно сложнее, т.к. авторы непредсказуемы в выборе тегов. Поэтому тут наиболее оптимальный способ работы - теги."
   ]
  },
  {
   "cell_type": "code",
   "execution_count": null,
   "metadata": {
    "colab": {
     "base_uri": "https://localhost:8080/"
    },
    "executionInfo": {
     "elapsed": 773,
     "status": "ok",
     "timestamp": 1616512287182,
     "user": {
      "displayName": "Anastasiia Chernysheva",
      "photoUrl": "https://lh3.googleusercontent.com/a-/AOh14GhHyHwY-PuMRWX3mjSyss6pojv4D8xrqnEXatqg=s64",
      "userId": "13831218637705529605"
     },
     "user_tz": -180
    },
    "id": "QnnhkqI4hyEi",
    "outputId": "41c86d70-eece-4cbd-8e81-4321271702f9"
   },
   "outputs": [
    {
     "data": {
      "text/plain": [
       "[<span style=\"font-weight: 400;\">Greenpeace Франции совместно с другими НКО (Notre Affaire à Tous, Фонд Николя Юло и Oxfam France) требуют от властей возместить ущерб, причинённый гражданам страны из-за политики в области экологии и начать активные действия в рамках предыдущих соглашений. Соответствующий иск подали ещё два года назад из-за бездействия государства в решении проблемы климатического кризиса. Сегодня состоялось слушание дела в суде Парижа, решение по которому будет вынесено в течение двух недель. </span>,\n",
       " <span style=\"font-weight: 400;\">Хотя климатический кризис остаётся одной из главных проблем для французов (в 2020 году были побиты новые температурные рекорды), государство продолжает откладывать принятие необходимых мер. Выбросы парниковых газов в течение последних пяти лет продолжали снижаться вдвое медленнее, чем показатели, предусмотренные законом. В декабре прошлого года Высший совет по климату (независимый орган, созданный в 2018 году и состоящий из экспертов по климату) проанализировал, что две трети плана стимулирования не работают и, наоборот, могут способствовать увеличению выбросов. </span>,\n",
       " <span style=\"font-weight: 400;\">В Greenpeace Франции надеются, что суд признает обязанность государств бороться с климатическим кризисом — это подтверждает Хартия окружающей среды 2004 года и Европейская конвенция о правах человека. </span>,\n",
       " <span style=\"font-weight: 400;\">«Такое решение было бы историческим и закрепило в законе, что борьба с изменением климата играет важную роль в защите основных прав граждан».</span>,\n",
       " <span style=\"font-weight: 400;\">Кроме того, Greenpeace Франции ранее запустил петицию «Дело века», которую уже поддержало более двух миллионов граждан. </span>,\n",
       " <span style=\"font-weight: 400;\">«Климатический кризис оказывает серьёзное воздействие на жизнь каждого из нас: увеличение дней с экстремально высокой температурой приводит к повышению смертности людей по всему миру, растёт ареал распространения различных вирусов и инфекций. В России тоже остро стоит </span>,\n",
       " <span style=\"font-weight: 400;\">необходимость скорейшего начала технологической трансформации экономики</span>,\n",
       " <span style=\"font-weight: 400;\"> в сторону климатически устойчивых технологий. Мы надеемся, что судебный процесс во Франции будет выигран людьми и станет примером в том числе и для нашего государства в вопросах важности срочного принятия мер по решению климатического кризиса», — прокомментировала руководительница энергетического отдела Greenpeace в России Елена Сакирко.</span>]"
      ]
     },
     "execution_count": 17,
     "metadata": {
      "tags": []
     },
     "output_type": "execute_result"
    }
   ],
   "source": [
    "paragraphs_soup = soup.findAll(\"span\", {\"style\": \"font-weight: 400;\"})\n",
    "paragraphs_soup"
   ]
  },
  {
   "cell_type": "code",
   "execution_count": null,
   "metadata": {
    "colab": {
     "base_uri": "https://localhost:8080/",
     "height": 222
    },
    "executionInfo": {
     "elapsed": 768,
     "status": "ok",
     "timestamp": 1616512289558,
     "user": {
      "displayName": "Anastasiia Chernysheva",
      "photoUrl": "https://lh3.googleusercontent.com/a-/AOh14GhHyHwY-PuMRWX3mjSyss6pojv4D8xrqnEXatqg=s64",
      "userId": "13831218637705529605"
     },
     "user_tz": -180
    },
    "id": "13UBQ5k1h1c3",
    "outputId": "8bb70d34-1295-403b-954b-52d4e079f82b"
   },
   "outputs": [
    {
     "data": {
      "application/vnd.google.colaboratory.intrinsic+json": {
       "type": "string"
      },
      "text/plain": [
       "'Greenpeace Франции совместно с другими НКО (Notre Affaire à Tous, Фонд Николя Юло и Oxfam France) требуют от властей возместить ущерб, причинённый гражданам страны из-за политики в области экологии и начать активные действия в рамках предыдущих соглашений. Соответствующий иск подали ещё два года назад из-за бездействия государства в решении проблемы климатического кризиса. Сегодня состоялось слушание дела в суде Парижа, решение по которому будет вынесено в течение двух недель.\\xa0Хотя климатический кризис остаётся одной из главных проблем для французов (в 2020 году были побиты новые температурные рекорды), государство продолжает откладывать принятие необходимых мер. Выбросы парниковых газов в течение последних пяти лет продолжали снижаться вдвое медленнее, чем показатели, предусмотренные законом. В декабре прошлого года Высший совет по климату (независимый орган, созданный в 2018 году и состоящий из экспертов по климату) проанализировал, что две трети плана стимулирования не работают и, наоборот, могут способствовать увеличению выбросов.\\xa0В Greenpeace Франции надеются, что суд признает обязанность государств бороться с климатическим кризисом — это подтверждает Хартия окружающей среды 2004 года и Европейская конвенция о правах человека. «Такое решение было бы историческим и закрепило в законе, что борьба с изменением климата играет важную роль в защите основных прав граждан».Кроме того, Greenpeace Франции ранее запустил петицию «Дело века», которую уже поддержало более двух миллионов граждан.\\xa0«Климатический кризис оказывает серьёзное воздействие на жизнь каждого из нас: увеличение дней с экстремально высокой температурой приводит к повышению смертности людей по всему миру, растёт ареал распространения различных вирусов и инфекций. В России тоже остро стоит необходимость скорейшего начала технологической трансформации экономики в сторону климатически устойчивых технологий. Мы надеемся, что судебный процесс во Франции будет выигран людьми и станет примером в том числе и для нашего государства в вопросах важности срочного принятия мер по решению климатического кризиса», — прокомментировала руководительница энергетического отдела Greenpeace в России Елена Сакирко.'"
      ]
     },
     "execution_count": 18,
     "metadata": {
      "tags": []
     },
     "output_type": "execute_result"
    }
   ],
   "source": [
    "content = \"\".join([item.text for item in paragraphs_soup])\n",
    "content"
   ]
  },
  {
   "cell_type": "markdown",
   "metadata": {
    "id": "qthkRU5wRZKb"
   },
   "source": [
    "## matplotlib"
   ]
  },
  {
   "cell_type": "markdown",
   "metadata": {
    "id": "_Mkm2hfKu3m9"
   },
   "source": [
    "Это огромный модуль для визуализации графиков. Охватывает всевозможную математику и статистику. Большинство других модулей визуализации работают на его основе. Ссылочка на [документацию](https://matplotlib.org/stable/index.html)."
   ]
  },
  {
   "cell_type": "markdown",
   "metadata": {
    "id": "h8AF02qcv7sf"
   },
   "source": [
    "Посмотрим, как можно строить графики функций с помощью matplotlib."
   ]
  },
  {
   "cell_type": "code",
   "execution_count": null,
   "metadata": {
    "colab": {
     "base_uri": "https://localhost:8080/"
    },
    "executionInfo": {
     "elapsed": 3879,
     "status": "ok",
     "timestamp": 1617115479569,
     "user": {
      "displayName": "Anastasiia Chernysheva",
      "photoUrl": "https://lh3.googleusercontent.com/a-/AOh14GhHyHwY-PuMRWX3mjSyss6pojv4D8xrqnEXatqg=s64",
      "userId": "13831218637705529605"
     },
     "user_tz": -180
    },
    "id": "BBRiGz1GwiDb",
    "outputId": "b1f609ab-8475-4633-e46f-6d026cabf9bb"
   },
   "outputs": [
    {
     "name": "stdout",
     "output_type": "stream",
     "text": [
      "Requirement already satisfied: matplotlib in /usr/local/lib/python3.7/dist-packages (3.2.2)\n",
      "Requirement already satisfied: kiwisolver>=1.0.1 in /usr/local/lib/python3.7/dist-packages (from matplotlib) (1.3.1)\n",
      "Requirement already satisfied: pyparsing!=2.0.4,!=2.1.2,!=2.1.6,>=2.0.1 in /usr/local/lib/python3.7/dist-packages (from matplotlib) (2.4.7)\n",
      "Requirement already satisfied: numpy>=1.11 in /usr/local/lib/python3.7/dist-packages (from matplotlib) (1.19.5)\n",
      "Requirement already satisfied: python-dateutil>=2.1 in /usr/local/lib/python3.7/dist-packages (from matplotlib) (2.8.1)\n",
      "Requirement already satisfied: cycler>=0.10 in /usr/local/lib/python3.7/dist-packages (from matplotlib) (0.10.0)\n",
      "Requirement already satisfied: six>=1.5 in /usr/local/lib/python3.7/dist-packages (from python-dateutil>=2.1->matplotlib) (1.15.0)\n"
     ]
    }
   ],
   "source": [
    "!pip install matplotlib"
   ]
  },
  {
   "cell_type": "code",
   "execution_count": 1,
   "metadata": {
    "executionInfo": {
     "elapsed": 3,
     "status": "ok",
     "timestamp": 1636541783700,
     "user": {
      "displayName": "Anastasiia Chernysheva",
      "photoUrl": "https://lh3.googleusercontent.com/a-/AOh14GhHyHwY-PuMRWX3mjSyss6pojv4D8xrqnEXatqg=s64",
      "userId": "13831218637705529605"
     },
     "user_tz": -180
    },
    "id": "R4L5VoOawAQl"
   },
   "outputs": [],
   "source": [
    "import matplotlib.pyplot as plt"
   ]
  },
  {
   "cell_type": "markdown",
   "metadata": {
    "id": "cZmAg9q9zA65"
   },
   "source": [
    "Чтобы построить график, нужно вызвать функцию plot. В нее передается то, что мы хотим визуализировать. Это может быть набор значений, функция, которая задает график и дополнительные параметры. Также существует ряд функций, который упрощает чтение графика, например, можно подписать оси и дать графику название. "
   ]
  },
  {
   "cell_type": "code",
   "execution_count": 2,
   "metadata": {
    "colab": {
     "base_uri": "https://localhost:8080/",
     "height": 265
    },
    "executionInfo": {
     "elapsed": 284,
     "status": "ok",
     "timestamp": 1636541785709,
     "user": {
      "displayName": "Anastasiia Chernysheva",
      "photoUrl": "https://lh3.googleusercontent.com/a-/AOh14GhHyHwY-PuMRWX3mjSyss6pojv4D8xrqnEXatqg=s64",
      "userId": "13831218637705529605"
     },
     "user_tz": -180
    },
    "id": "A2j7Dqk5yOnT",
    "outputId": "e8933882-86c1-486f-9072-c7456597a597"
   },
   "outputs": [
    {
     "data": {
      "image/png": "[encoded data removed]",
      "text/plain": [
       "<Figure size 432x288 with 1 Axes>"
      ]
     },
     "metadata": {
      "needs_background": "light"
     },
     "output_type": "display_data"
    }
   ],
   "source": [
    "plt.plot([1, 2, 3, 4])\n",
    "plt.show()"
   ]
  },
  {
   "cell_type": "markdown",
   "metadata": {
    "id": "9ecoJGxVzmVN"
   },
   "source": [
    "Если в функцию plot передается просто набор чисел, то matplotlib считает, что ему передали значения переменной y. Что хранится в переменной x, он додумывает сам. По умолчанию подбирается набор значений такой же длины, что и переданный, только отсчет идет от 0, как у всего в Python. Именно поэтому на получившемся графике максимальный х = 3. Сделаем так, чтобы все было корректно."
   ]
  },
  {
   "cell_type": "code",
   "execution_count": 3,
   "metadata": {
    "colab": {
     "base_uri": "https://localhost:8080/",
     "height": 265
    },
    "executionInfo": {
     "elapsed": 431,
     "status": "ok",
     "timestamp": 1636541787832,
     "user": {
      "displayName": "Anastasiia Chernysheva",
      "photoUrl": "https://lh3.googleusercontent.com/a-/AOh14GhHyHwY-PuMRWX3mjSyss6pojv4D8xrqnEXatqg=s64",
      "userId": "13831218637705529605"
     },
     "user_tz": -180
    },
    "id": "CAtECoKF0OqK",
    "outputId": "96ffe819-7a1e-4028-bbc0-f2bff2c5defb"
   },
   "outputs": [
    {
     "data": {
      "image/png": "[encoded data removed]",
      "text/plain": [
       "<Figure size 432x288 with 1 Axes>"
      ]
     },
     "metadata": {
      "needs_background": "light"
     },
     "output_type": "display_data"
    }
   ],
   "source": [
    "plt.plot([1, 2, 3, 4], [1, 2, 3, 4])\n",
    "plt.scatter(2, 3)\n",
    "plt.show()"
   ]
  },
  {
   "cell_type": "markdown",
   "metadata": {
    "id": "XJCK4JYs0rmn"
   },
   "source": [
    "Вывод: matplotlib построит любой график просто по набору точек."
   ]
  },
  {
   "cell_type": "code",
   "execution_count": null,
   "metadata": {
    "colab": {
     "base_uri": "https://localhost:8080/",
     "height": 265
    },
    "executionInfo": {
     "elapsed": 719,
     "status": "ok",
     "timestamp": 1616666406532,
     "user": {
      "displayName": "Anastasiia Chernysheva",
      "photoUrl": "https://lh3.googleusercontent.com/a-/AOh14GhHyHwY-PuMRWX3mjSyss6pojv4D8xrqnEXatqg=s64",
      "userId": "13831218637705529605"
     },
     "user_tz": -180
    },
    "id": "wg7obmvJ0zNV",
    "outputId": "a36f7bf9-75e0-4d87-f30b-b5007c185801"
   },
   "outputs": [
    {
     "data": {
      "image/png": "[encoded data removed]",
      "text/plain": [
       "<Figure size 432x288 with 1 Axes>"
      ]
     },
     "metadata": {
      "needs_background": "light",
      "tags": []
     },
     "output_type": "display_data"
    }
   ],
   "source": [
    "plt.plot([1, 2, 3, 4], [1, 4, 9, 16]);"
   ]
  },
  {
   "cell_type": "markdown",
   "metadata": {
    "id": "6FxXDIK_080Z"
   },
   "source": [
    "Можно эти точки не соединять. Тогда нужно указать стиль графика ro."
   ]
  },
  {
   "cell_type": "code",
   "execution_count": null,
   "metadata": {
    "colab": {
     "base_uri": "https://localhost:8080/",
     "height": 265
    },
    "executionInfo": {
     "elapsed": 717,
     "status": "ok",
     "timestamp": 1617115647392,
     "user": {
      "displayName": "Anastasiia Chernysheva",
      "photoUrl": "https://lh3.googleusercontent.com/a-/AOh14GhHyHwY-PuMRWX3mjSyss6pojv4D8xrqnEXatqg=s64",
      "userId": "13831218637705529605"
     },
     "user_tz": -180
    },
    "id": "QPLfJfZM1D0Z",
    "outputId": "def4306a-b375-4e44-d392-98d19d2d5282"
   },
   "outputs": [
    {
     "data": {
      "image/png": "[encoded data removed]",
      "text/plain": [
       "<Figure size 432x288 with 1 Axes>"
      ]
     },
     "metadata": {
      "needs_background": "light",
      "tags": []
     },
     "output_type": "display_data"
    }
   ],
   "source": [
    "plt.plot([1, 2, 3, 4], [1, 4, 9, 16], \"r--\");"
   ]
  },
  {
   "cell_type": "markdown",
   "metadata": {
    "id": "Sd8oP9WZ1HCO"
   },
   "source": [
    "> Чтобы сразу отобразить график в Google Colab, достаточно просто поставить точку с запятой в конце. В PyCharm нужно обязательно писать plt.show().\n",
    "\n"
   ]
  },
  {
   "cell_type": "markdown",
   "metadata": {
    "id": "A9S8uM8_16GM"
   },
   "source": [
    "Аналогичным образом можно задать не просто какую-то кривую, а график функции. Например, построим $y(x) = x^2$."
   ]
  },
  {
   "cell_type": "code",
   "execution_count": null,
   "metadata": {
    "colab": {
     "base_uri": "https://localhost:8080/",
     "height": 295
    },
    "executionInfo": {
     "elapsed": 1015,
     "status": "ok",
     "timestamp": 1617116056886,
     "user": {
      "displayName": "Anastasiia Chernysheva",
      "photoUrl": "https://lh3.googleusercontent.com/a-/AOh14GhHyHwY-PuMRWX3mjSyss6pojv4D8xrqnEXatqg=s64",
      "userId": "13831218637705529605"
     },
     "user_tz": -180
    },
    "id": "GH_LCKjQ2_3c",
    "outputId": "3e5d47eb-7b4f-4c6a-c75a-db683c453598"
   },
   "outputs": [
    {
     "data": {
      "image/png": "[encoded data removed]",
      "text/plain": [
       "<Figure size 432x288 with 1 Axes>"
      ]
     },
     "metadata": {
      "needs_background": "light",
      "tags": []
     },
     "output_type": "display_data"
    }
   ],
   "source": [
    "x = list(range(0, 20)) # задаем значения х\n",
    "y = [x1**2 for x1 in x] # считаем у(х)\n",
    "plt.plot(x, y, label=\"y(x)=x^2\") # строим график\n",
    "plt.xlabel(\"x\") # подписываем ось х\n",
    "plt.ylabel(\"y\") # подписываем ось у\n",
    "plt.title(\"График квадратичной функции\") # подписываем график\n",
    "plt.legend()# добавляем легенду\n",
    "plt.grid(True); "
   ]
  },
  {
   "cell_type": "markdown",
   "metadata": {
    "id": "68_ib_sS59Lk"
   },
   "source": [
    "На одном графике можно изобрать несколько функций. Например, $y(x)=x$ и $y(x)=x^2$."
   ]
  },
  {
   "cell_type": "code",
   "execution_count": null,
   "metadata": {
    "colab": {
     "base_uri": "https://localhost:8080/",
     "height": 621
    },
    "executionInfo": {
     "elapsed": 587,
     "status": "ok",
     "timestamp": 1617120313883,
     "user": {
      "displayName": "Anastasiia Chernysheva",
      "photoUrl": "https://lh3.googleusercontent.com/a-/AOh14GhHyHwY-PuMRWX3mjSyss6pojv4D8xrqnEXatqg=s64",
      "userId": "13831218637705529605"
     },
     "user_tz": -180
    },
    "id": "pd7IdvEA6B22",
    "outputId": "0a8ab2fa-edb2-42c0-dfb4-165f569b13ae"
   },
   "outputs": [
    {
     "data": {
      "image/png": "[encoded data removed]",
      "text/plain": [
       "<Figure size 360x720 with 1 Axes>"
      ]
     },
     "metadata": {
      "needs_background": "light",
      "tags": []
     },
     "output_type": "display_data"
    }
   ],
   "source": [
    "x = list(range(0, 10)) # задаем значения х\n",
    "y1 = [x1**2 for x1 in x] # считаем значения для квадратичной функции\n",
    "y2 = [x1**3 for x1 in x]\n",
    "_, ax = plt.subplots(figsize=(5, 10)) # создаем график для нескольких кривых\n",
    "ax.plot(x, y2, label=\"y(x)=x\") # строим график линейной функции\n",
    "ax.plot(x, y1, label=\"y(x)=x^2\") # строим график квадратичной функции\n",
    "ax.set_xlabel(\"x\") # подписываем ось х\n",
    "ax.set_ylabel(\"y\") # подписываем ось у\n",
    "ax.set_title(\"Графики функций\") # подписываем график\n",
    "ax.grid(True) # добавляем сетку\n",
    "plt.legend() # добавляем легенду\n",
    "plt.show()"
   ]
  },
  {
   "cell_type": "markdown",
   "metadata": {
    "id": "VTKHy-ZQ0N_k"
   },
   "source": [
    "И можно на одной картинке уместить несколько графиков."
   ]
  },
  {
   "cell_type": "code",
   "execution_count": null,
   "metadata": {
    "colab": {
     "base_uri": "https://localhost:8080/",
     "height": 227
    },
    "executionInfo": {
     "elapsed": 1028,
     "status": "ok",
     "timestamp": 1617116424883,
     "user": {
      "displayName": "Anastasiia Chernysheva",
      "photoUrl": "https://lh3.googleusercontent.com/a-/AOh14GhHyHwY-PuMRWX3mjSyss6pojv4D8xrqnEXatqg=s64",
      "userId": "13831218637705529605"
     },
     "user_tz": -180
    },
    "id": "SBaU8ZzN8bbf",
    "outputId": "4266211d-0c55-4232-ce8a-6dbda6dc31c6"
   },
   "outputs": [
    {
     "data": {
      "image/png": "[encoded data removed]",
      "text/plain": [
       "<Figure size 720x216 with 3 Axes>"
      ]
     },
     "metadata": {
      "needs_background": "light",
      "tags": []
     },
     "output_type": "display_data"
    }
   ],
   "source": [
    "x = list(range(0, 10)) # задаем значения х\n",
    "y1 = [x1**2 for x1 in x] # считаем значения для квадратичной функции\n",
    "y2 = [x1**3 for x1 in x] # считаем значения для кубической функции\n",
    "\n",
    "_, (ax1, ax2, ax3) = plt.subplots(1, 3, figsize=(10, 3)) # создаем график для нескольких кривых\n",
    "ax1.plot(x, x, \"tab:pink\") # строим график линейной функции\n",
    "ax1.set_title(\"Линейная функция\")\n",
    "ax2.plot(x, y1, \"tab:green\") # строим график квадратичной функции\n",
    "ax2.set_title(\"Квадратичная функция\")\n",
    "ax3.plot(x, y2, label=\"y(x)=x^3\") # строим график кубической функции\n",
    "ax3.set_title(\"Кубическая функция\")\n",
    "plt.show()"
   ]
  }
 ],
 "metadata": {
  "colab": {
   "authorship_tag": "ABX9TyOpQAPDMaAENbVkgArTiAF7",
   "collapsed_sections": [
    "VLH9dJrzRTir"
   ],
   "name": "11. Работа с внешними модулями.ipynb",
   "provenance": [],
   "toc_visible": true
  },
  "kernelspec": {
   "display_name": "Python 3",
   "name": "python3"
  }
 },
 "nbformat": 4,
 "nbformat_minor": 0
}
