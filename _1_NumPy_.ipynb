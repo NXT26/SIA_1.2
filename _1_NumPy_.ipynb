{
 "cells": [
  {
   "cell_type": "markdown",
   "metadata": {
    "id": "BsNwjQDRfmLY"
   },
   "source": [
    "## Библиотека Numpy"
   ]
  },
  {
   "cell_type": "markdown",
   "metadata": {
    "id": "wu6r1-s7fmLe"
   },
   "source": [
    "---"
   ]
  },
  {
   "cell_type": "markdown",
   "metadata": {
    "id": "BA9Po-oLfmLh"
   },
   "source": [
    "Пакет `numpy` предоставляет интерфейс для работы с $n$-мерными массивами. В `numpy` реализовано множество всевозможных операций над массивами в целом. Если задачу можно решить, произведя некоторую последовательность операций над массивами, то с помощью numpy в python это будет столь же эффективно, как в `C` или `matlab`."
   ]
  },
  {
   "cell_type": "markdown",
   "metadata": {
    "id": "0_vHg4rzfmLi"
   },
   "source": [
    "## Одномерные массивы"
   ]
  },
  {
   "cell_type": "markdown",
   "metadata": {
    "id": "MFKSC2UUA7Ne"
   },
   "source": [
    "### Создание массива "
   ]
  },
  {
   "cell_type": "code",
   "execution_count": 1,
   "metadata": {
    "id": "6DzqLBjjfmLk"
   },
   "outputs": [],
   "source": [
    "# принято, что numpy импортируют именно так\n",
    "import numpy as np"
   ]
  },
  {
   "cell_type": "markdown",
   "metadata": {
    "id": "NTtvvXC6fmLq"
   },
   "source": [
    "Как же завести массив в numpy?\n",
    "\n",
    "Очень просто! Надо всего лишь перевести обычный python list в np.array:"
   ]
  },
  {
   "cell_type": "code",
   "execution_count": 2,
   "metadata": {
    "colab": {
     "base_uri": "https://localhost:8080/"
    },
    "id": "u6O_T130fmLs",
    "outputId": "997553fd-2475-46a4-be35-dfee63f957c5"
   },
   "outputs": [
    {
     "name": "stdout",
     "output_type": "stream",
     "text": [
      "[3 4 1]\n"
     ]
    },
    {
     "data": {
      "text/plain": [
       "numpy.ndarray"
      ]
     },
     "execution_count": 2,
     "metadata": {},
     "output_type": "execute_result"
    }
   ],
   "source": [
    "# 'перевести' python list в np.array -- это обернуть массив в np.array()\n",
    "a = np.array([3, 4, 1])\n",
    "print(a)\n",
    "type(a)"
   ]
  },
  {
   "cell_type": "markdown",
   "metadata": {
    "id": "y2U8lTuYfmLz"
   },
   "source": [
    "Обычный питоновский `print` печатает массивы в удобной форме (точно так же, как и list питона)"
   ]
  },
  {
   "cell_type": "code",
   "execution_count": 3,
   "metadata": {
    "colab": {
     "base_uri": "https://localhost:8080/"
    },
    "id": "gtJ0bdn5fmL1",
    "outputId": "d23f9ec9-c616-4f4b-bcba-89efd97570ff"
   },
   "outputs": [
    {
     "name": "stdout",
     "output_type": "stream",
     "text": [
      "[3 4 1]\n"
     ]
    }
   ],
   "source": [
    "print(a)"
   ]
  },
  {
   "cell_type": "markdown",
   "metadata": {
    "id": "Mth2u7nzAiqw"
   },
   "source": [
    "### Типы данных в массивах np.array"
   ]
  },
  {
   "cell_type": "markdown",
   "metadata": {
    "id": "zbAeCr5HfmMJ"
   },
   "source": [
    "Поговорим о типах данных, хранящихся в массивах:\n",
    "\n",
    "Чаще всего мы будем работать с числовыми массивами, поэтому поговорим о инх.\n",
    "\n",
    "В отличие от чистого питона, в `numpy` есть несколько типов для целых чисел (`int16`, `int32`, `int64`) и чисел с плавающей точкой (`float32`, `float64`). Они отличаются тем, с какой точностью в памяти хранятся элементы массива. \n",
    "\n",
    "Чтобы посмотреть, какой тип у вашего массива, можно вывести его dtype:"
   ]
  },
  {
   "cell_type": "code",
   "execution_count": null,
   "metadata": {
    "colab": {
     "base_uri": "https://localhost:8080/"
    },
    "id": "ga8UJa7yfmMK",
    "outputId": "be0dc8c4-b75e-482d-8b46-c02fa5ceb395"
   },
   "outputs": [
    {
     "data": {
      "text/plain": [
       "dtype('int64')"
      ]
     },
     "execution_count": 4,
     "metadata": {},
     "output_type": "execute_result"
    }
   ],
   "source": [
    "a.dtype"
   ]
  },
  {
   "cell_type": "markdown",
   "metadata": {
    "id": "A3nr3k6F-4HT"
   },
   "source": [
    "Конечно, можно скастовать массив из одного типа в другой. \n",
    "\n",
    "Давайте переведем наш массив 'a' из типа np.int64 в тип np.float32:"
   ]
  },
  {
   "cell_type": "code",
   "execution_count": null,
   "metadata": {
    "colab": {
     "base_uri": "https://localhost:8080/"
    },
    "id": "KiuqdCAi-3kw",
    "outputId": "bc577f0f-10b4-4a8e-e261-4f2a6dac68db"
   },
   "outputs": [
    {
     "data": {
      "text/plain": [
       "dtype('float32')"
      ]
     },
     "execution_count": 5,
     "metadata": {},
     "output_type": "execute_result"
    }
   ],
   "source": [
    "a = a.astype(np.float32)\n",
    "a.dtype"
   ]
  },
  {
   "cell_type": "markdown",
   "metadata": {
    "id": "E4doUPKdAGqm"
   },
   "source": [
    "Далее мы будем рассматривать n-мерный массивы, для них преобразование типов работает так же. И для них все еще все элементы должны иметь одинаковый тип."
   ]
  },
  {
   "cell_type": "markdown",
   "metadata": {
    "id": "ocm0D55sA3cg"
   },
   "source": [
    "### Изменение массивов np.array"
   ]
  },
  {
   "cell_type": "markdown",
   "metadata": {
    "id": "3_7c9NLTfmMM"
   },
   "source": [
    "Как и list в питоне, массивы np.array - изменяемые объекты. Механика изменений значений в них такая же, как у питоновских list'ов. Давайте в этом убедимся:"
   ]
  },
  {
   "cell_type": "code",
   "execution_count": null,
   "metadata": {
    "colab": {
     "base_uri": "https://localhost:8080/"
    },
    "id": "30ibLJJ-fmMM",
    "outputId": "fc8b2ecd-8cb5-4fb0-8de5-9b6e8d7e019d"
   },
   "outputs": [
    {
     "name": "stdout",
     "output_type": "stream",
     "text": [
      "[3 3 1]\n"
     ]
    }
   ],
   "source": [
    "a = np.array([3, 4 ,1])\n",
    "\n",
    "a[1] = 3\n",
    "print(a)"
   ]
  },
  {
   "cell_type": "markdown",
   "metadata": {
    "id": "Hi9VSwT-Dit1"
   },
   "source": [
    "Единственный (но логичный) нюанс: при изменении значения в массиве с элементами одного типа на элемент другого типа новый элемент будет приведен к типу массива:"
   ]
  },
  {
   "cell_type": "code",
   "execution_count": null,
   "metadata": {
    "colab": {
     "base_uri": "https://localhost:8080/"
    },
    "id": "mq4wMhLIECvh",
    "outputId": "89b66ce4-afde-4edb-c8e5-fdd1c544c0ea"
   },
   "outputs": [
    {
     "name": "stdout",
     "output_type": "stream",
     "text": [
      "[3 3 1]\n"
     ]
    }
   ],
   "source": [
    "# или: a = np.array([3, 4 ,1], dtype=np.int64)\n",
    "a = np.array([3, 4 ,1]).astype(np.int64)\n",
    "\n",
    "# значение 3.5 будет приведено к типу int64, т.е. станет 3\n",
    "a[1] = 3.5\n",
    "print(a)"
   ]
  },
  {
   "cell_type": "code",
   "execution_count": null,
   "metadata": {
    "colab": {
     "base_uri": "https://localhost:8080/"
    },
    "id": "8Ju5yEg2EPl3",
    "outputId": "fa0ba995-c6e0-4085-d173-2834ee167447"
   },
   "outputs": [
    {
     "name": "stdout",
     "output_type": "stream",
     "text": [
      "[3. 5. 1.]\n"
     ]
    }
   ],
   "source": [
    "# обратите внимание -- если создается np.array с чисоами разных типов (int и float), \n",
    "# то все числа будут приведены к более точному типу, т.е. float\n",
    "# таким образом, 1 из целого числа станет числом с плавающей точкой 1.\n",
    "a = np.array([3., 4. ,1])\n",
    "\n",
    "# значение 5 будет приведено к типу int64, т.е. станет 5.\n",
    "a[1] = 5\n",
    "print(a)"
   ]
  },
  {
   "cell_type": "markdown",
   "metadata": {
    "id": "TuZIz7kDEWCM"
   },
   "source": [
    "А вот добавить к массиву новый элемент в конец чуть сложнее, чем у list. Напомним, в list это делалось с помощью метода .append(). В numpy это также делается с помощью append, но чуть по-другому:\n",
    "\n",
    "Обратите внимание, что в numpy при append *создается новый массив*, а не происходит добавление элемента в уже существующий массив. Поэтому не рекомендуется создавать массивы с помощью append в numpy."
   ]
  },
  {
   "cell_type": "code",
   "execution_count": null,
   "metadata": {
    "colab": {
     "base_uri": "https://localhost:8080/"
    },
    "id": "2m_G3Op6EtCR",
    "outputId": "a3ee2d70-162c-4989-91e6-d05f5e02427c"
   },
   "outputs": [
    {
     "data": {
      "text/plain": [
       "array([3, 4, 1, 6])"
      ]
     },
     "execution_count": 9,
     "metadata": {},
     "output_type": "execute_result"
    }
   ],
   "source": [
    "a = np.array([3, 4 ,1])\n",
    "\n",
    "# вот так пишется append\n",
    "a = np.append(a, 6)\n",
    "\n",
    "a"
   ]
  },
  {
   "cell_type": "markdown",
   "metadata": {
    "id": "dZDih28zO0AZ"
   },
   "source": []
  },
  {
   "cell_type": "markdown",
   "metadata": {
    "id": "51Tpu4P5O2JQ"
   },
   "source": [
    "## Многомерные массивы"
   ]
  },
  {
   "cell_type": "markdown",
   "metadata": {
    "id": "D2I34jDFO7x0"
   },
   "source": [
    "Мы узнали, как создавать и изменять одномерные массивы, как они выглядят в numpy и нюансы приведения типов. Настало время познакомиться с многомерными массивами.\n",
    "\n",
    "Многомерный массив -- это массив, элементы которого тоже массивы. В принципе, ничего нового, все как и у list в питоне. "
   ]
  },
  {
   "cell_type": "code",
   "execution_count": null,
   "metadata": {
    "colab": {
     "base_uri": "https://localhost:8080/"
    },
    "id": "NluLEVL6VbfT",
    "outputId": "962c8898-6506-422a-8a33-e22f9d169035"
   },
   "outputs": [
    {
     "name": "stdout",
     "output_type": "stream",
     "text": [
      "[[2 3]\n",
      " [4 5]]\n"
     ]
    }
   ],
   "source": [
    "two_dim_array = np.array([[2, 3], [4, 5]])\n",
    "\n",
    "print(two_dim_array)"
   ]
  },
  {
   "cell_type": "code",
   "execution_count": null,
   "metadata": {
    "colab": {
     "base_uri": "https://localhost:8080/"
    },
    "id": "6HIBtdA_VizU",
    "outputId": "80379d8c-6dc6-433e-a3c7-e6b378202c39"
   },
   "outputs": [
    {
     "name": "stdout",
     "output_type": "stream",
     "text": [
      "[[[2 3]\n",
      "  [4 5]]\n",
      "\n",
      " [[5 6]\n",
      "  [7 8]]]\n"
     ]
    }
   ],
   "source": [
    "three_dim_array = np.array([[[2, 3], [4, 5]], [[5, 6], [7, 8]]])\n",
    "\n",
    "print(three_dim_array)"
   ]
  },
  {
   "cell_type": "markdown",
   "metadata": {
    "id": "UAPCq4dmWQRU"
   },
   "source": [
    "Напомним, что в numpy, неважно, в одномерном или многомерном массиве, *все* элементы имеют одинаковый тип\n",
    "\n",
    "Давайте в этом убедимся:"
   ]
  },
  {
   "cell_type": "code",
   "execution_count": null,
   "metadata": {
    "colab": {
     "base_uri": "https://localhost:8080/"
    },
    "id": "NV7tM_8IXkkS",
    "outputId": "27ba18a9-8c17-4c1a-f715-a6cb59fdf363"
   },
   "outputs": [
    {
     "name": "stdout",
     "output_type": "stream",
     "text": [
      "[[2. 3.]\n",
      " [4. 5.]] float64\n"
     ]
    }
   ],
   "source": [
    "# 2 и 3 приведутся к типу чисел 4. и 5., т.е. float64\n",
    "a = np.array([[2, 3], [4., 5.]])\n",
    "print(a, a.dtype)\n",
    "\n"
   ]
  },
  {
   "cell_type": "markdown",
   "metadata": {
    "id": "JrEY8hzdfmM2"
   },
   "source": [
    "## Операции над одномерными массивами\n"
   ]
  },
  {
   "cell_type": "markdown",
   "metadata": {
    "id": "vbjIN8IrOk3t"
   },
   "source": [
    " ### Арифметические операции"
   ]
  },
  {
   "cell_type": "code",
   "execution_count": null,
   "metadata": {
    "id": "hJfC6mEUfmM2"
   },
   "outputs": [],
   "source": [
    "a = np.array([2, 5, 6, 7])\n",
    "b = np.array([9, 7, 8, 9])"
   ]
  },
  {
   "cell_type": "markdown",
   "metadata": {
    "id": "SyhreThiOqhx"
   },
   "source": [
    "С двумя массивами одинаковой "
   ]
  },
  {
   "cell_type": "code",
   "execution_count": null,
   "metadata": {
    "colab": {
     "base_uri": "https://localhost:8080/"
    },
    "id": "EmlV4Cn2fmM3",
    "outputId": "abe75801-470c-430d-c331-da73e97ad689"
   },
   "outputs": [
    {
     "name": "stdout",
     "output_type": "stream",
     "text": [
      "[11 12 14 16]\n"
     ]
    }
   ],
   "source": [
    "print(a + b)"
   ]
  },
  {
   "cell_type": "code",
   "execution_count": null,
   "metadata": {
    "colab": {
     "base_uri": "https://localhost:8080/"
    },
    "id": "hFgqEFPdfmM4",
    "outputId": "eb4c71b6-95b1-48b7-c18d-e60cd6688dfe"
   },
   "outputs": [
    {
     "name": "stdout",
     "output_type": "stream",
     "text": [
      "[-7 -2 -2 -2]\n"
     ]
    }
   ],
   "source": [
    "print(a - b)"
   ]
  },
  {
   "cell_type": "code",
   "execution_count": null,
   "metadata": {
    "colab": {
     "base_uri": "https://localhost:8080/"
    },
    "id": "TdCSYDsUfmM5",
    "outputId": "d38245cf-fa5c-4f88-ba63-43f8c0a1cbc8"
   },
   "outputs": [
    {
     "name": "stdout",
     "output_type": "stream",
     "text": [
      "[18 35 48 63]\n"
     ]
    }
   ],
   "source": [
    "print(a * b)"
   ]
  },
  {
   "cell_type": "code",
   "execution_count": null,
   "metadata": {
    "colab": {
     "base_uri": "https://localhost:8080/"
    },
    "id": "iM1VgL_AfmM6",
    "outputId": "8af0952a-90f9-4c61-b933-96118db07937"
   },
   "outputs": [
    {
     "name": "stdout",
     "output_type": "stream",
     "text": [
      "[0.22222222 0.71428571 0.75       0.77777778]\n"
     ]
    }
   ],
   "source": [
    "print(a / b)"
   ]
  },
  {
   "cell_type": "code",
   "execution_count": null,
   "metadata": {
    "colab": {
     "base_uri": "https://localhost:8080/"
    },
    "id": "fhYQugrafmM8",
    "outputId": "925f0006-99e8-4548-ef39-b9deb605ef17"
   },
   "outputs": [
    {
     "name": "stdout",
     "output_type": "stream",
     "text": [
      "[ 4 25 36 49]\n"
     ]
    }
   ],
   "source": [
    "print(a ** 2)"
   ]
  },
  {
   "cell_type": "markdown",
   "metadata": {
    "id": "u-nODxC_fmM_"
   },
   "source": [
    "`numpy` содержит элементарные функции, которые тоже применяются к массивам поэлементно. Они называются универсальными функциями (`ufunc`)."
   ]
  },
  {
   "cell_type": "code",
   "execution_count": null,
   "metadata": {
    "colab": {
     "base_uri": "https://localhost:8080/"
    },
    "id": "Q4AVx4JbfmM_",
    "outputId": "eb1a2109-9df1-4634-93df-3e3b41ee0edc"
   },
   "outputs": [
    {
     "data": {
      "text/plain": [
       "(<ufunc 'sin'>, numpy.ufunc)"
      ]
     },
     "execution_count": 19,
     "metadata": {},
     "output_type": "execute_result"
    }
   ],
   "source": [
    "np.sin, type(np.sin)"
   ]
  },
  {
   "cell_type": "code",
   "execution_count": null,
   "metadata": {
    "colab": {
     "base_uri": "https://localhost:8080/"
    },
    "id": "UlD1i1ucfmNA",
    "outputId": "f3c2068a-be73-4f6f-eb08-dc9850f3ef04"
   },
   "outputs": [
    {
     "name": "stdout",
     "output_type": "stream",
     "text": [
      "[ 0.90929743 -0.95892427 -0.2794155   0.6569866 ]\n",
      "[  3.76219569  74.20994852 201.71563612 548.31703516]\n"
     ]
    }
   ],
   "source": [
    "print(np.sin(a))\n",
    "print(np.cosh(a))"
   ]
  },
  {
   "cell_type": "markdown",
   "metadata": {
    "id": "rcOgTOV9fmNB"
   },
   "source": [
    "Один из операндов может быть скаляром, а не массивом."
   ]
  },
  {
   "cell_type": "code",
   "execution_count": null,
   "metadata": {
    "colab": {
     "base_uri": "https://localhost:8080/"
    },
    "id": "evAWu0mtfmNB",
    "outputId": "93d3167c-b8da-4ffe-b771-a3bc9c945d48"
   },
   "outputs": [
    {
     "data": {
      "text/plain": [
       "array([2, 5, 6, 7])"
      ]
     },
     "execution_count": 21,
     "metadata": {},
     "output_type": "execute_result"
    }
   ],
   "source": [
    "a"
   ]
  },
  {
   "cell_type": "code",
   "execution_count": null,
   "metadata": {
    "colab": {
     "base_uri": "https://localhost:8080/"
    },
    "id": "VvT9aNIXfmND",
    "outputId": "022646b3-1013-462e-ad68-7fa87328e89e"
   },
   "outputs": [
    {
     "name": "stdout",
     "output_type": "stream",
     "text": [
      "[3 6 7 8]\n"
     ]
    }
   ],
   "source": [
    "print(a + 1)"
   ]
  },
  {
   "cell_type": "code",
   "execution_count": null,
   "metadata": {
    "colab": {
     "base_uri": "https://localhost:8080/"
    },
    "id": "qVBR-7oMfmNF",
    "outputId": "c8fe078e-b104-47e5-aa3b-8bd47a0a7d20"
   },
   "outputs": [
    {
     "name": "stdout",
     "output_type": "stream",
     "text": [
      "[ 4 10 12 14]\n"
     ]
    }
   ],
   "source": [
    "print(2 * a)"
   ]
  },
  {
   "cell_type": "markdown",
   "metadata": {
    "id": "UjhN4lHGfmNG"
   },
   "source": [
    "Сравнения дают булевы массивы."
   ]
  },
  {
   "cell_type": "code",
   "execution_count": null,
   "metadata": {
    "colab": {
     "base_uri": "https://localhost:8080/"
    },
    "id": "Pu3FPoK-fmNG",
    "outputId": "d8e43f22-8e37-4145-aaba-ffdddbf748eb"
   },
   "outputs": [
    {
     "name": "stdout",
     "output_type": "stream",
     "text": [
      "[False False False False]\n"
     ]
    }
   ],
   "source": [
    "print(a > b)"
   ]
  },
  {
   "cell_type": "code",
   "execution_count": null,
   "metadata": {
    "colab": {
     "base_uri": "https://localhost:8080/"
    },
    "id": "aQ2NQc0DfmNH",
    "outputId": "ee0b8334-4593-49d7-eac4-ac1233cbaad8"
   },
   "outputs": [
    {
     "name": "stdout",
     "output_type": "stream",
     "text": [
      "[ True  True  True  True]\n"
     ]
    }
   ],
   "source": [
    "print(a < b)"
   ]
  },
  {
   "cell_type": "code",
   "execution_count": null,
   "metadata": {
    "colab": {
     "base_uri": "https://localhost:8080/"
    },
    "id": "K6JjG8YXfmNI",
    "outputId": "d2dd3b2c-0743-45e0-b892-f9f4da3d2af2"
   },
   "outputs": [
    {
     "name": "stdout",
     "output_type": "stream",
     "text": [
      "[False False False False]\n"
     ]
    }
   ],
   "source": [
    "print(a == b)"
   ]
  },
  {
   "cell_type": "code",
   "execution_count": null,
   "metadata": {
    "colab": {
     "base_uri": "https://localhost:8080/"
    },
    "id": "fC4mG93EfmNK",
    "outputId": "816d5e2f-e123-462a-f0fe-31a53a5401d7"
   },
   "outputs": [
    {
     "name": "stdout",
     "output_type": "stream",
     "text": [
      "[False False  True  True]\n"
     ]
    }
   ],
   "source": [
    "c = a > 5\n",
    "print(c)"
   ]
  },
  {
   "cell_type": "markdown",
   "metadata": {
    "id": "1B7KJ7O-fmNL"
   },
   "source": [
    "Кванторы \"существует\" и \"для всех\"."
   ]
  },
  {
   "cell_type": "code",
   "execution_count": null,
   "metadata": {
    "colab": {
     "base_uri": "https://localhost:8080/"
    },
    "id": "UXQgvtZcfmNL",
    "outputId": "bf9ace3c-301d-47e5-ef77-bc96123098e1"
   },
   "outputs": [
    {
     "data": {
      "text/plain": [
       "(True, False)"
      ]
     },
     "execution_count": 28,
     "metadata": {},
     "output_type": "execute_result"
    }
   ],
   "source": [
    "np.any(c), np.all(c)"
   ]
  },
  {
   "cell_type": "markdown",
   "metadata": {
    "id": "SGteTpYBfmNM"
   },
   "source": [
    "Модификация на месте."
   ]
  },
  {
   "cell_type": "code",
   "execution_count": null,
   "metadata": {
    "colab": {
     "base_uri": "https://localhost:8080/"
    },
    "id": "lritBIg0fmNN",
    "outputId": "98d59cb9-0f53-4bdb-8b08-e8e375fed98c"
   },
   "outputs": [
    {
     "name": "stdout",
     "output_type": "stream",
     "text": [
      "[3 6 7 8]\n"
     ]
    }
   ],
   "source": [
    "a += 1\n",
    "print(a)"
   ]
  },
  {
   "cell_type": "code",
   "execution_count": null,
   "metadata": {
    "colab": {
     "base_uri": "https://localhost:8080/"
    },
    "id": "c3n8Y23hfmNO",
    "outputId": "4835cd02-d25c-4b9e-b955-6a76cabe4812"
   },
   "outputs": [
    {
     "name": "stdout",
     "output_type": "stream",
     "text": [
      "[18 14 16 18]\n"
     ]
    }
   ],
   "source": [
    "b *= 2\n",
    "print(b)"
   ]
  },
  {
   "cell_type": "markdown",
   "metadata": {
    "id": "9pQ60AqPfmNQ"
   },
   "source": [
    "При выполнении операций над массивами деление на 0 не возбуждает исключения, а даёт значения `np.nan` или `np.inf`."
   ]
  },
  {
   "cell_type": "code",
   "execution_count": null,
   "metadata": {
    "colab": {
     "base_uri": "https://localhost:8080/"
    },
    "id": "ltwGc-bofmNR",
    "outputId": "c41e670c-7c20-4fb6-f9a4-eec3416d95c1"
   },
   "outputs": [
    {
     "data": {
      "text/plain": [
       "(nan, inf, nan, 0.0)"
      ]
     },
     "execution_count": 32,
     "metadata": {},
     "output_type": "execute_result"
    }
   ],
   "source": [
    "np.nan + 1, np.inf + 1, np.inf * 0, 1. / np.inf"
   ]
  },
  {
   "cell_type": "markdown",
   "metadata": {
    "id": "ITxex6KQfmNS"
   },
   "source": [
    "Сумма и произведение всех элементов массива; максимальный и минимальный элемент; среднее и среднеквадратичное отклонение."
   ]
  },
  {
   "cell_type": "code",
   "execution_count": null,
   "metadata": {
    "colab": {
     "base_uri": "https://localhost:8080/"
    },
    "id": "x7j0UYGnfmNS",
    "outputId": "862e098d-fca7-484d-d392-f382ec937ba5"
   },
   "outputs": [
    {
     "data": {
      "text/plain": [
       "(66, 72576, 18, 14, 16.5, 1.6583123951777)"
      ]
     },
     "execution_count": 33,
     "metadata": {},
     "output_type": "execute_result"
    }
   ],
   "source": [
    "b.sum(), b.prod(), b.max(), b.min(), b.mean(), b.std()"
   ]
  },
  {
   "cell_type": "code",
   "execution_count": null,
   "metadata": {
    "colab": {
     "base_uri": "https://localhost:8080/"
    },
    "id": "_lHBH_bzfmNT",
    "outputId": "44c055c1-212d-49b1-d67f-5428427c2157"
   },
   "outputs": [
    {
     "data": {
      "text/plain": [
       "(0.01507805525557629, 0.9799831319251014)"
      ]
     },
     "execution_count": 34,
     "metadata": {},
     "output_type": "execute_result"
    }
   ],
   "source": [
    "x = np.random.normal(size=1000)\n",
    "x.mean(), x.std()"
   ]
  },
  {
   "cell_type": "markdown",
   "metadata": {
    "id": "MiHVT1dUfmNV"
   },
   "source": [
    "Имеются встроенные функции"
   ]
  },
  {
   "cell_type": "code",
   "execution_count": null,
   "metadata": {
    "colab": {
     "base_uri": "https://localhost:8080/"
    },
    "id": "O9YkL8oPfmNV",
    "outputId": "0825b50a-bce3-429a-f68c-ef1e774e6ca8"
   },
   "outputs": [
    {
     "name": "stdout",
     "output_type": "stream",
     "text": [
      "[4.24264069 3.74165739 4.         4.24264069]\n",
      "[65659969.13733051  1202604.28416478  8886110.52050787 65659969.13733051]\n",
      "[2.94443898 2.7080502  2.83321334 2.94443898]\n",
      "[-0.75098725  0.99060736 -0.28790332 -0.75098725]\n",
      "2.718281828459045 3.141592653589793\n"
     ]
    }
   ],
   "source": [
    "print(np.sqrt(b))\n",
    "print(np.exp(b))\n",
    "print(np.log(b + 1))\n",
    "print(np.sin(b))\n",
    "print(np.e, np.pi)"
   ]
  },
  {
   "cell_type": "markdown",
   "metadata": {
    "id": "bzIBuoHZfmNW"
   },
   "source": [
    "Иногда бывает нужно использовать частичные (кумулятивные) суммы. В нашем курсе такое пригодится."
   ]
  },
  {
   "cell_type": "code",
   "execution_count": null,
   "metadata": {
    "colab": {
     "base_uri": "https://localhost:8080/"
    },
    "id": "lPTe5BJ3fmNW",
    "outputId": "035d4141-4429-43ad-abf7-4c4050e37e30"
   },
   "outputs": [
    {
     "name": "stdout",
     "output_type": "stream",
     "text": [
      "[66 48 32 18]\n"
     ]
    }
   ],
   "source": [
    "print(b.cumsum()[::-1])"
   ]
  },
  {
   "cell_type": "markdown",
   "metadata": {
    "id": "hjedKncOfmNY"
   },
   "source": [
    "Функция `sort` возвращает отсортированную копию, метод `sort` сортирует на месте."
   ]
  },
  {
   "cell_type": "code",
   "execution_count": null,
   "metadata": {
    "colab": {
     "base_uri": "https://localhost:8080/"
    },
    "id": "I6oLUas2fmNY",
    "outputId": "4739e19d-4550-409c-b4ee-eb795f1ccbf1"
   },
   "outputs": [
    {
     "name": "stdout",
     "output_type": "stream",
     "text": [
      "[14 16 18 18]\n",
      "[18 14 16 18]\n"
     ]
    }
   ],
   "source": [
    "print(np.sort(b))\n",
    "print(b)"
   ]
  },
  {
   "cell_type": "code",
   "execution_count": null,
   "metadata": {
    "colab": {
     "base_uri": "https://localhost:8080/"
    },
    "id": "ipq5cBfdfmNZ",
    "outputId": "1ad1c648-08f2-46c9-cc60-e6223bb95e4c"
   },
   "outputs": [
    {
     "name": "stdout",
     "output_type": "stream",
     "text": [
      "[14 16 18 18]\n"
     ]
    }
   ],
   "source": [
    "b.sort()\n",
    "print(b)"
   ]
  },
  {
   "cell_type": "markdown",
   "metadata": {
    "id": "D8PDlwE-fmNc"
   },
   "source": [
    "Объединение массивов \"по-горизонтали\" (horizontal stack)."
   ]
  },
  {
   "cell_type": "code",
   "execution_count": null,
   "metadata": {
    "colab": {
     "base_uri": "https://localhost:8080/"
    },
    "id": "9QNmb95wfmNc",
    "outputId": "5d1b5083-7445-453b-845d-1780496045a3"
   },
   "outputs": [
    {
     "name": "stdout",
     "output_type": "stream",
     "text": [
      "[  1   2   3 100 200 300]\n"
     ]
    }
   ],
   "source": [
    "a = np.array([1, 2, 3])\n",
    "b = np.array([100, 200, 300])\n",
    "\n",
    "print(np.hstack((a, b)))"
   ]
  },
  {
   "cell_type": "markdown",
   "metadata": {
    "id": "0xcN7Aj_fmNe"
   },
   "source": [
    "Объединение массивов \"по-вертикали\" (vertical stack)."
   ]
  },
  {
   "cell_type": "code",
   "execution_count": null,
   "metadata": {
    "colab": {
     "base_uri": "https://localhost:8080/"
    },
    "id": "Y_jxaXArfmNe",
    "outputId": "186b3db8-1537-4091-903b-1d1084e85b92"
   },
   "outputs": [
    {
     "name": "stdout",
     "output_type": "stream",
     "text": [
      "[[  1   2   3]\n",
      " [100 200 300]]\n"
     ]
    }
   ],
   "source": [
    "print(np.vstack((a, b)))"
   ]
  },
  {
   "cell_type": "markdown",
   "metadata": {
    "id": "Ff0G4h_QfmNf"
   },
   "source": [
    "Расщепление массива в позициях 3 и 6."
   ]
  },
  {
   "cell_type": "code",
   "execution_count": null,
   "metadata": {
    "colab": {
     "base_uri": "https://localhost:8080/"
    },
    "id": "IUJsUaPdfmNf",
    "outputId": "4b738404-c07e-4713-dbc5-63afe822954c"
   },
   "outputs": [
    {
     "data": {
      "text/plain": [
       "[array([0.61994744, 0.97185517, 0.52760736]),\n",
       " array([0.49960358, 0.75170935, 0.14125351]),\n",
       " array([0.67908283, 0.52605088, 0.88374089, 0.54389519])]"
      ]
     },
     "execution_count": 41,
     "metadata": {},
     "output_type": "execute_result"
    }
   ],
   "source": [
    "a = np.random.random(10)\n",
    "np.hsplit(a, [3, 6])"
   ]
  },
  {
   "cell_type": "markdown",
   "metadata": {
    "id": "BaRHNopmfmNg"
   },
   "source": [
    "Функции `delete`, `insert` и `append` не меняют массив на месте, а возвращают новый массив, в котором удалены, вставлены в середину или добавлены в конец какие-то элементы."
   ]
  },
  {
   "cell_type": "code",
   "execution_count": null,
   "metadata": {
    "id": "nKd8vvWwfmNg"
   },
   "outputs": [],
   "source": [
    "a = np.arange(10)"
   ]
  },
  {
   "cell_type": "code",
   "execution_count": null,
   "metadata": {
    "colab": {
     "base_uri": "https://localhost:8080/"
    },
    "id": "G3n3pvY8fmNh",
    "outputId": "66a4626b-6004-45a6-8fe9-11ec0085b6d1"
   },
   "outputs": [
    {
     "name": "stdout",
     "output_type": "stream",
     "text": [
      "[0 1 2 3 4 6 8 9]\n"
     ]
    }
   ],
   "source": [
    "a = np.delete(a, [5, 7])\n",
    "print(a)"
   ]
  },
  {
   "cell_type": "code",
   "execution_count": null,
   "metadata": {
    "colab": {
     "base_uri": "https://localhost:8080/"
    },
    "id": "vSh1n-MrfmNi",
    "outputId": "9af4b2a0-d4f4-4720-9309-efe81859bbd0"
   },
   "outputs": [
    {
     "name": "stdout",
     "output_type": "stream",
     "text": [
      "[0 1 0 0 2 3 4 6 8 9]\n"
     ]
    }
   ],
   "source": [
    "a = np.insert(a, 2, [0, 0])\n",
    "print(a)"
   ]
  },
  {
   "cell_type": "code",
   "execution_count": null,
   "metadata": {
    "colab": {
     "base_uri": "https://localhost:8080/"
    },
    "id": "nK_tcSNCfmNi",
    "outputId": "622f646f-7a1d-4117-c795-502f581ba648"
   },
   "outputs": [
    {
     "name": "stdout",
     "output_type": "stream",
     "text": [
      "[0 1 0 0 2 3 4 6 8 9 1 2 3]\n"
     ]
    }
   ],
   "source": [
    "a = np.append(a, [1, 2, 3])\n",
    "print(a)"
   ]
  },
  {
   "cell_type": "markdown",
   "metadata": {
    "id": "gUvXXkjufmNk"
   },
   "source": [
    "Есть несколько способов индексации массива. Вот обычный индекс."
   ]
  },
  {
   "cell_type": "code",
   "execution_count": null,
   "metadata": {
    "colab": {
     "base_uri": "https://localhost:8080/"
    },
    "id": "VaxI1LMZfmNk",
    "outputId": "0dc20d8a-3b9f-4ef1-ff41-c35f70627a3f"
   },
   "outputs": [
    {
     "name": "stdout",
     "output_type": "stream",
     "text": [
      "[0.  0.1 0.2 0.3 0.4 0.5 0.6 0.7 0.8 0.9 1. ]\n"
     ]
    }
   ],
   "source": [
    "a = np.linspace(0, 1, 11)\n",
    "print(a)"
   ]
  },
  {
   "cell_type": "code",
   "execution_count": null,
   "metadata": {
    "colab": {
     "base_uri": "https://localhost:8080/"
    },
    "id": "Un8iBzpGfmNm",
    "outputId": "e06e1ce3-c4ac-48a2-f010-791691337931"
   },
   "outputs": [
    {
     "name": "stdout",
     "output_type": "stream",
     "text": [
      "0.2\n"
     ]
    }
   ],
   "source": [
    "b = a[2]\n",
    "print(b)"
   ]
  },
  {
   "cell_type": "markdown",
   "metadata": {
    "id": "tUEpza04fmNn"
   },
   "source": [
    "Диапазон индексов. Создаётся новый заголовок массива, указывающий на те же данные. Изменения, сделанные через такой массив, видны и в исходном массиве."
   ]
  },
  {
   "cell_type": "code",
   "execution_count": null,
   "metadata": {
    "colab": {
     "base_uri": "https://localhost:8080/"
    },
    "id": "_1r9_G69fmNn",
    "outputId": "4a534e61-024e-4339-d914-e147bc63c357"
   },
   "outputs": [
    {
     "name": "stdout",
     "output_type": "stream",
     "text": [
      "[0.2 0.3 0.4 0.5]\n"
     ]
    }
   ],
   "source": [
    "b = a[2:6]\n",
    "print(b)"
   ]
  },
  {
   "cell_type": "code",
   "execution_count": null,
   "metadata": {
    "colab": {
     "base_uri": "https://localhost:8080/"
    },
    "id": "C4t-B6ZzfmNo",
    "outputId": "959d03a8-fbc4-4314-a8de-c8d15582bf9b"
   },
   "outputs": [
    {
     "name": "stdout",
     "output_type": "stream",
     "text": [
      "[-0.2  0.3  0.4  0.5]\n"
     ]
    }
   ],
   "source": [
    "b[0] = -0.2\n",
    "print(b)"
   ]
  },
  {
   "cell_type": "code",
   "execution_count": null,
   "metadata": {
    "colab": {
     "base_uri": "https://localhost:8080/"
    },
    "id": "2qbvKB_jfmNp",
    "outputId": "44d3cafb-0702-43ab-e6c5-8aa3e52d42e5"
   },
   "outputs": [
    {
     "name": "stdout",
     "output_type": "stream",
     "text": [
      "[ 0.   0.1 -0.2  0.3  0.4  0.5  0.6  0.7  0.8  0.9  1. ]\n"
     ]
    }
   ],
   "source": [
    "print(a)"
   ]
  },
  {
   "cell_type": "markdown",
   "metadata": {
    "id": "TeiXcTTTfmNq"
   },
   "source": [
    "Диапазон с шагом 2."
   ]
  },
  {
   "cell_type": "code",
   "execution_count": null,
   "metadata": {
    "colab": {
     "base_uri": "https://localhost:8080/"
    },
    "id": "AJjKLi35fmNq",
    "outputId": "a168fdca-9ca1-4fb4-a7c9-899e0e946500"
   },
   "outputs": [
    {
     "name": "stdout",
     "output_type": "stream",
     "text": [
      "[0.1 0.3 0.5 0.7 0.9]\n"
     ]
    }
   ],
   "source": [
    "b = a[1:10:2]\n",
    "print(b)"
   ]
  },
  {
   "cell_type": "code",
   "execution_count": null,
   "metadata": {
    "colab": {
     "base_uri": "https://localhost:8080/"
    },
    "id": "jK_Td23_fmNr",
    "outputId": "4739d46e-e54f-4fb3-d154-db92b42bd33c"
   },
   "outputs": [
    {
     "name": "stdout",
     "output_type": "stream",
     "text": [
      "[ 0.  -0.1 -0.2  0.3  0.4  0.5  0.6  0.7  0.8  0.9  1. ]\n"
     ]
    }
   ],
   "source": [
    "b[0] = -0.1\n",
    "print(a)"
   ]
  },
  {
   "cell_type": "markdown",
   "metadata": {
    "id": "fZpNnjbqfmNs"
   },
   "source": [
    "Массив в обратном порядке."
   ]
  },
  {
   "cell_type": "code",
   "execution_count": null,
   "metadata": {
    "colab": {
     "base_uri": "https://localhost:8080/"
    },
    "id": "jATTNvVYfmNs",
    "outputId": "5105479c-961d-4e73-b4b0-a30c51187117"
   },
   "outputs": [
    {
     "name": "stdout",
     "output_type": "stream",
     "text": [
      "[ 1.   0.9  0.8  0.7  0.6  0.5  0.4  0.3 -0.2 -0.1]\n"
     ]
    }
   ],
   "source": [
    "b = a[len(a):0:-1]\n",
    "print(b)"
   ]
  },
  {
   "cell_type": "markdown",
   "metadata": {
    "id": "JyLgSAwHfmNt"
   },
   "source": [
    "Подмассиву можно присвоить значение - массив правильного размера или скаляр."
   ]
  },
  {
   "cell_type": "code",
   "execution_count": null,
   "metadata": {
    "colab": {
     "base_uri": "https://localhost:8080/"
    },
    "id": "7gxJfWqifmNt",
    "outputId": "d0fe6632-7582-4bd7-beda-5fb628da5d97"
   },
   "outputs": [
    {
     "name": "stdout",
     "output_type": "stream",
     "text": [
      "[ 0.   0.  -0.2  0.3  0.   0.5  0.6  0.   0.8  0.9  1. ]\n"
     ]
    }
   ],
   "source": [
    "a[1:10:3] = 0\n",
    "print(a)"
   ]
  },
  {
   "cell_type": "markdown",
   "metadata": {
    "id": "CDT5mLThfmNt"
   },
   "source": [
    "Тут опять создаётся только новый заголовок, указывающий на те же данные."
   ]
  },
  {
   "cell_type": "code",
   "execution_count": null,
   "metadata": {
    "colab": {
     "base_uri": "https://localhost:8080/"
    },
    "id": "f_tZbUirfmNu",
    "outputId": "272ec59d-8afe-44dc-98bf-0ec19fa975d9"
   },
   "outputs": [
    {
     "name": "stdout",
     "output_type": "stream",
     "text": [
      "[ 0.   0.1 -0.2  0.3  0.   0.5  0.6  0.   0.8  0.9  1. ]\n"
     ]
    }
   ],
   "source": [
    "b = a[:]\n",
    "b[1] = 0.1\n",
    "print(a)"
   ]
  },
  {
   "cell_type": "markdown",
   "metadata": {
    "id": "CzZSgXktfmNu"
   },
   "source": [
    "Чтобы скопировать и данные массива, нужно использовать метод `copy`."
   ]
  },
  {
   "cell_type": "code",
   "execution_count": null,
   "metadata": {
    "colab": {
     "base_uri": "https://localhost:8080/"
    },
    "id": "Bo8Cgn_dfmNv",
    "outputId": "867d0dd7-a107-4766-da71-2b09c8593c66"
   },
   "outputs": [
    {
     "name": "stdout",
     "output_type": "stream",
     "text": [
      "[0.  0.1 0.  0.3 0.  0.5 0.6 0.  0.8 0.9 1. ]\n",
      "[ 0.   0.1 -0.2  0.3  0.   0.5  0.6  0.   0.8  0.9  1. ]\n"
     ]
    }
   ],
   "source": [
    "b = a.copy()\n",
    "b[2] = 0\n",
    "print(b)\n",
    "print(a)"
   ]
  },
  {
   "cell_type": "markdown",
   "metadata": {
    "id": "vdDCbeHBfmNv"
   },
   "source": [
    "Можно задать список индексов."
   ]
  },
  {
   "cell_type": "code",
   "execution_count": null,
   "metadata": {
    "colab": {
     "base_uri": "https://localhost:8080/"
    },
    "id": "DYgQYl9TfmNv",
    "outputId": "4024c89f-3656-4ba1-cfe5-284b0c54cfc0"
   },
   "outputs": [
    {
     "name": "stdout",
     "output_type": "stream",
     "text": [
      "[-0.2  0.3  0.5]\n"
     ]
    }
   ],
   "source": [
    "print(a[[2, 3, 5]])"
   ]
  },
  {
   "cell_type": "markdown",
   "metadata": {
    "id": "aFWiNZd7fmNw"
   },
   "source": [
    "Можно задать булев массив той же величины."
   ]
  },
  {
   "cell_type": "code",
   "execution_count": null,
   "metadata": {
    "colab": {
     "base_uri": "https://localhost:8080/"
    },
    "id": "W4tlGJzXfmNw",
    "outputId": "ae2a520f-5e3e-4f31-ba1a-9ced899ef916"
   },
   "outputs": [
    {
     "name": "stdout",
     "output_type": "stream",
     "text": [
      "[False  True False  True False  True  True False  True  True  True]\n"
     ]
    }
   ],
   "source": [
    "b = a > 0\n",
    "print(b)"
   ]
  },
  {
   "cell_type": "code",
   "execution_count": null,
   "metadata": {
    "colab": {
     "base_uri": "https://localhost:8080/"
    },
    "id": "5B6-HVhgfmNx",
    "outputId": "38a2a7e1-e555-4e3c-81e7-de80527c0d7a"
   },
   "outputs": [
    {
     "name": "stdout",
     "output_type": "stream",
     "text": [
      "[0.1 0.3 0.5 0.6 0.8 0.9 1. ]\n"
     ]
    }
   ],
   "source": [
    "print(a[b])"
   ]
  },
  {
   "cell_type": "markdown",
   "metadata": {
    "collapsed": true,
    "id": "mrm41pzufmNy"
   },
   "source": [
    "## 2-мерные массивы"
   ]
  },
  {
   "cell_type": "code",
   "execution_count": null,
   "metadata": {
    "colab": {
     "base_uri": "https://localhost:8080/"
    },
    "id": "nUDue8svfmNy",
    "outputId": "190977d2-3e46-41b9-f7b9-3402457b7c35"
   },
   "outputs": [
    {
     "name": "stdout",
     "output_type": "stream",
     "text": [
      "[[ 0.  1.]\n",
      " [-1.  0.]]\n"
     ]
    }
   ],
   "source": [
    "a = np.array([[0.0, 1.0], [-1.0, 0.0]])\n",
    "print(a)"
   ]
  },
  {
   "cell_type": "code",
   "execution_count": null,
   "metadata": {
    "colab": {
     "base_uri": "https://localhost:8080/"
    },
    "id": "edMAUCADfmNz",
    "outputId": "671f4d4a-9026-4e7e-df9d-93702cfc499b"
   },
   "outputs": [
    {
     "data": {
      "text/plain": [
       "2"
      ]
     },
     "execution_count": 61,
     "metadata": {},
     "output_type": "execute_result"
    }
   ],
   "source": [
    "a.ndim"
   ]
  },
  {
   "cell_type": "code",
   "execution_count": null,
   "metadata": {
    "colab": {
     "base_uri": "https://localhost:8080/"
    },
    "id": "-ehx8jg5fmN0",
    "outputId": "f2b7a0e3-4100-4fa4-894f-f2643799196d"
   },
   "outputs": [
    {
     "data": {
      "text/plain": [
       "(2, 2)"
      ]
     },
     "execution_count": 62,
     "metadata": {},
     "output_type": "execute_result"
    }
   ],
   "source": [
    "a.shape"
   ]
  },
  {
   "cell_type": "code",
   "execution_count": null,
   "metadata": {
    "colab": {
     "base_uri": "https://localhost:8080/"
    },
    "id": "q-xHGc8cfmN0",
    "outputId": "3301e5b3-6e36-4a2b-f89d-d725f8333a6e"
   },
   "outputs": [
    {
     "data": {
      "text/plain": [
       "(2, 4)"
      ]
     },
     "execution_count": 63,
     "metadata": {},
     "output_type": "execute_result"
    }
   ],
   "source": [
    "len(a), a.size"
   ]
  },
  {
   "cell_type": "code",
   "execution_count": null,
   "metadata": {
    "colab": {
     "base_uri": "https://localhost:8080/"
    },
    "id": "5GruXNexfmN1",
    "outputId": "ac4550d8-7afa-42a6-9d1a-392fd6d41222"
   },
   "outputs": [
    {
     "data": {
      "text/plain": [
       "-1.0"
      ]
     },
     "execution_count": 64,
     "metadata": {},
     "output_type": "execute_result"
    }
   ],
   "source": [
    "a[1, 0]"
   ]
  },
  {
   "cell_type": "markdown",
   "metadata": {
    "id": "hs-7wB5dfmN2"
   },
   "source": [
    "Атрибуту `shape` можно присвоить новое значение - кортеж размеров по всем координатам. Получится новый заголовок массива; его данные не изменятся."
   ]
  },
  {
   "cell_type": "code",
   "execution_count": null,
   "metadata": {
    "colab": {
     "base_uri": "https://localhost:8080/"
    },
    "id": "4z49_SEyfmN2",
    "outputId": "fe1d5156-ae9e-4495-be71-e2951847fbca"
   },
   "outputs": [
    {
     "name": "stdout",
     "output_type": "stream",
     "text": [
      "[0. 1. 2. 3.]\n"
     ]
    }
   ],
   "source": [
    "b = np.linspace(0, 3, 4)\n",
    "print(b)"
   ]
  },
  {
   "cell_type": "code",
   "execution_count": null,
   "metadata": {
    "colab": {
     "base_uri": "https://localhost:8080/"
    },
    "id": "5JKJ90zJfmN3",
    "outputId": "01a6ae57-93bc-47ec-82bb-199aadf37e08"
   },
   "outputs": [
    {
     "data": {
      "text/plain": [
       "(4,)"
      ]
     },
     "execution_count": 66,
     "metadata": {},
     "output_type": "execute_result"
    }
   ],
   "source": [
    "b.shape"
   ]
  },
  {
   "cell_type": "code",
   "execution_count": null,
   "metadata": {
    "colab": {
     "base_uri": "https://localhost:8080/"
    },
    "id": "rV_Tyzp0fmN4",
    "outputId": "c9d26497-beb3-4c89-ccbd-ce953d0bf3db"
   },
   "outputs": [
    {
     "name": "stdout",
     "output_type": "stream",
     "text": [
      "[[0. 1.]\n",
      " [2. 3.]]\n"
     ]
    }
   ],
   "source": [
    "b.shape = 2, 2\n",
    "print(b)"
   ]
  },
  {
   "cell_type": "markdown",
   "metadata": {
    "id": "c6fPpTnYfmN5"
   },
   "source": [
    "Можно растянуть в одномерный массив"
   ]
  },
  {
   "cell_type": "code",
   "execution_count": null,
   "metadata": {
    "colab": {
     "base_uri": "https://localhost:8080/"
    },
    "id": "V35k5mhQfmN5",
    "outputId": "041f8c10-e3ee-49c4-a66e-61f3aeb61bd3"
   },
   "outputs": [
    {
     "name": "stdout",
     "output_type": "stream",
     "text": [
      "[0. 1. 2. 3.]\n"
     ]
    }
   ],
   "source": [
    "print(b.ravel())"
   ]
  },
  {
   "cell_type": "markdown",
   "metadata": {
    "id": "79n-zW4RfmN6"
   },
   "source": [
    "Арифметические операции поэлементные"
   ]
  },
  {
   "cell_type": "code",
   "execution_count": null,
   "metadata": {
    "colab": {
     "base_uri": "https://localhost:8080/"
    },
    "id": "eDoK5LNLfmN6",
    "outputId": "8e101323-2ff2-4c9f-efec-19af6b2fee14"
   },
   "outputs": [
    {
     "data": {
      "text/plain": [
       "array([[ 0.,  1.],\n",
       "       [-1.,  0.]])"
      ]
     },
     "execution_count": 69,
     "metadata": {},
     "output_type": "execute_result"
    }
   ],
   "source": [
    "a"
   ]
  },
  {
   "cell_type": "code",
   "execution_count": null,
   "metadata": {
    "colab": {
     "base_uri": "https://localhost:8080/"
    },
    "id": "UBAKba1VfmN7",
    "outputId": "7823772a-148d-43e9-a0bc-c6d17bd835c5"
   },
   "outputs": [
    {
     "name": "stdout",
     "output_type": "stream",
     "text": [
      "[[3 4]\n",
      " [8 6]]\n"
     ]
    }
   ],
   "source": [
    "b = np.array([[3, 4], \n",
    "    [8, 6 ]])\n",
    "print(b)"
   ]
  },
  {
   "cell_type": "code",
   "execution_count": null,
   "metadata": {
    "colab": {
     "base_uri": "https://localhost:8080/"
    },
    "id": "Tgm5RIaWfmN8",
    "outputId": "9846c7ec-c1bc-41dc-fff9-038c485d5b8c"
   },
   "outputs": [
    {
     "name": "stdout",
     "output_type": "stream",
     "text": [
      "[[1. 2.]\n",
      " [0. 1.]]\n",
      "[[ 0.  2.]\n",
      " [-2.  0.]]\n",
      "[[ 0.  2.]\n",
      " [-1.  1.]]\n",
      "[[0. 1.]\n",
      " [1. 2.]]\n",
      "[[3. 5.]\n",
      " [7. 6.]]\n"
     ]
    }
   ],
   "source": [
    "print(a + 1)\n",
    "print(a * 2)\n",
    "print(a + [0, 1])  # второе слагаемое дополняется до матрицы копированием строк\n",
    "print(a + np.array([[0, 2]]).T)  # .T - транспонирование\n",
    "print(a + b)"
   ]
  },
  {
   "cell_type": "markdown",
   "metadata": {
    "id": "UsHKpNqyfmN9"
   },
   "source": [
    "Поэлементное и матричное (начиная с Python 3.5) умножение."
   ]
  },
  {
   "cell_type": "code",
   "execution_count": null,
   "metadata": {
    "colab": {
     "base_uri": "https://localhost:8080/"
    },
    "id": "y2AzM-6wfmN-",
    "outputId": "ee616eb8-ef77-4d37-f37c-1c678d888b2f"
   },
   "outputs": [
    {
     "name": "stdout",
     "output_type": "stream",
     "text": [
      "[[ 0.  1.]\n",
      " [-1.  0.]]\n"
     ]
    }
   ],
   "source": [
    "print(a)"
   ]
  },
  {
   "cell_type": "code",
   "execution_count": null,
   "metadata": {
    "colab": {
     "base_uri": "https://localhost:8080/"
    },
    "id": "B8XRyWUdfmN_",
    "outputId": "334a446e-f170-45dc-b24b-18245ead5b42"
   },
   "outputs": [
    {
     "name": "stdout",
     "output_type": "stream",
     "text": [
      "[[3 4]\n",
      " [8 6]]\n"
     ]
    }
   ],
   "source": [
    "print(b)"
   ]
  },
  {
   "cell_type": "code",
   "execution_count": null,
   "metadata": {
    "colab": {
     "base_uri": "https://localhost:8080/"
    },
    "id": "WjVtzrN-fmOA",
    "outputId": "59facea4-3306-4951-d3c8-5c89e2db73e2"
   },
   "outputs": [
    {
     "name": "stdout",
     "output_type": "stream",
     "text": [
      "[[ 0.  4.]\n",
      " [-8.  0.]]\n"
     ]
    }
   ],
   "source": [
    "print(a * b)"
   ]
  },
  {
   "cell_type": "code",
   "execution_count": null,
   "metadata": {
    "colab": {
     "base_uri": "https://localhost:8080/"
    },
    "id": "NQvK75yDfmOA",
    "outputId": "789d107b-fa5b-48b9-dc12-11b28ed6384b"
   },
   "outputs": [
    {
     "name": "stdout",
     "output_type": "stream",
     "text": [
      "[[ 8.  6.]\n",
      " [-3. -4.]]\n"
     ]
    }
   ],
   "source": [
    "print(a @ b)"
   ]
  },
  {
   "cell_type": "code",
   "execution_count": null,
   "metadata": {
    "colab": {
     "base_uri": "https://localhost:8080/"
    },
    "id": "QmJCt0ApfmOB",
    "outputId": "428f8ff1-3ae6-46ac-b110-ffc42aa64b2d"
   },
   "outputs": [
    {
     "name": "stdout",
     "output_type": "stream",
     "text": [
      "[[-4.  3.]\n",
      " [-6.  8.]]\n"
     ]
    }
   ],
   "source": [
    "print(b @ a)"
   ]
  },
  {
   "cell_type": "markdown",
   "metadata": {
    "id": "7uC-wg07fmOC"
   },
   "source": [
    "Умножение матрицы на вектор."
   ]
  },
  {
   "cell_type": "code",
   "execution_count": null,
   "metadata": {
    "colab": {
     "base_uri": "https://localhost:8080/"
    },
    "id": "-gsGIk3hfmOC",
    "outputId": "28ef3db1-5dc9-4a08-832d-da06f5451e72"
   },
   "outputs": [
    {
     "name": "stdout",
     "output_type": "stream",
     "text": [
      "[-1.  2.]\n"
     ]
    }
   ],
   "source": [
    "v = np.array([1, -1], dtype=np.float64)\n",
    "print(b @ v)"
   ]
  },
  {
   "cell_type": "code",
   "execution_count": null,
   "metadata": {
    "colab": {
     "base_uri": "https://localhost:8080/"
    },
    "id": "gAnLlc_TfmOD",
    "outputId": "2819b635-a552-4085-a1aa-1090fc07a975"
   },
   "outputs": [
    {
     "name": "stdout",
     "output_type": "stream",
     "text": [
      "[-5. -2.]\n"
     ]
    }
   ],
   "source": [
    "print(v @ b)"
   ]
  },
  {
   "cell_type": "markdown",
   "metadata": {
    "id": "xnJuN0N6fmOJ"
   },
   "source": [
    "Единичная матрица."
   ]
  },
  {
   "cell_type": "code",
   "execution_count": null,
   "metadata": {
    "colab": {
     "base_uri": "https://localhost:8080/"
    },
    "id": "6R7djX9kfmOJ",
    "outputId": "06894de0-399f-4bb9-9e2d-0d029511f267"
   },
   "outputs": [
    {
     "name": "stdout",
     "output_type": "stream",
     "text": [
      "[[1. 0. 0. 0.]\n",
      " [0. 1. 0. 0.]\n",
      " [0. 0. 1. 0.]\n",
      " [0. 0. 0. 1.]]\n"
     ]
    }
   ],
   "source": [
    "I = np.eye(4)\n",
    "print(I)"
   ]
  },
  {
   "cell_type": "markdown",
   "metadata": {
    "id": "u5c-qCxSfmOL"
   },
   "source": [
    "Метод `reshape` делает то же самое, что присваивание атрибуту `shape`."
   ]
  },
  {
   "cell_type": "code",
   "execution_count": null,
   "metadata": {
    "colab": {
     "base_uri": "https://localhost:8080/"
    },
    "id": "4d3ToIOAfmOL",
    "outputId": "9ef45721-f614-497c-c6fd-1a827ecc1d0a"
   },
   "outputs": [
    {
     "name": "stdout",
     "output_type": "stream",
     "text": [
      "[1. 0. 0. 0. 0. 1. 0. 0. 0. 0. 1. 0. 0. 0. 0. 1.]\n"
     ]
    }
   ],
   "source": [
    "print(I.reshape(16))"
   ]
  },
  {
   "cell_type": "code",
   "execution_count": null,
   "metadata": {
    "colab": {
     "base_uri": "https://localhost:8080/"
    },
    "id": "pPNkSiwTfmOM",
    "outputId": "9d6efd8f-1978-48c9-b343-ec2709f1190d"
   },
   "outputs": [
    {
     "name": "stdout",
     "output_type": "stream",
     "text": [
      "[[1. 0.]\n",
      " [0. 0.]\n",
      " [0. 1.]\n",
      " [0. 0.]\n",
      " [0. 0.]\n",
      " [1. 0.]\n",
      " [0. 0.]\n",
      " [0. 1.]]\n"
     ]
    }
   ],
   "source": [
    "print(I.reshape(8, 2))"
   ]
  },
  {
   "cell_type": "markdown",
   "metadata": {
    "id": "k3605lJYfmON"
   },
   "source": [
    "Строка."
   ]
  },
  {
   "cell_type": "code",
   "execution_count": null,
   "metadata": {
    "colab": {
     "base_uri": "https://localhost:8080/"
    },
    "id": "vBkj1jD5fmOO",
    "outputId": "ddab868c-87a3-4719-d3c5-bfd0a9996925"
   },
   "outputs": [
    {
     "name": "stdout",
     "output_type": "stream",
     "text": [
      "[0. 0. 1. 0.]\n"
     ]
    }
   ],
   "source": [
    "print(I[2])"
   ]
  },
  {
   "cell_type": "markdown",
   "metadata": {
    "id": "zx6SXOoHfmOP"
   },
   "source": [
    "Цикл по строкам."
   ]
  },
  {
   "cell_type": "code",
   "execution_count": null,
   "metadata": {
    "colab": {
     "base_uri": "https://localhost:8080/"
    },
    "id": "I6jGWR64fmOP",
    "outputId": "cd095cc2-0e70-4679-8a6f-0c3bda9db768",
    "scrolled": true
   },
   "outputs": [
    {
     "name": "stdout",
     "output_type": "stream",
     "text": [
      "[1. 0. 0. 0.]\n",
      "[0. 1. 0. 0.]\n",
      "[0. 0. 1. 0.]\n",
      "[0. 0. 0. 1.]\n"
     ]
    }
   ],
   "source": [
    "for row in I:\n",
    "    print(row)"
   ]
  },
  {
   "cell_type": "markdown",
   "metadata": {
    "id": "tWrIzkQsfmOQ"
   },
   "source": [
    "Столбец."
   ]
  },
  {
   "cell_type": "code",
   "execution_count": null,
   "metadata": {
    "colab": {
     "base_uri": "https://localhost:8080/"
    },
    "id": "9Z9mor1XfmOR",
    "outputId": "39bf627c-f087-47ba-95dc-d10c73418303"
   },
   "outputs": [
    {
     "name": "stdout",
     "output_type": "stream",
     "text": [
      "1.0\n"
     ]
    }
   ],
   "source": [
    "print(I[1, 1])"
   ]
  },
  {
   "cell_type": "markdown",
   "metadata": {
    "id": "FvEaf0c7fmOS"
   },
   "source": [
    "Подматрица."
   ]
  },
  {
   "cell_type": "code",
   "execution_count": null,
   "metadata": {
    "colab": {
     "base_uri": "https://localhost:8080/"
    },
    "id": "CaXHoIZgfmOS",
    "outputId": "da908f4c-bcd1-406b-e1f4-b1edd1974284"
   },
   "outputs": [
    {
     "name": "stdout",
     "output_type": "stream",
     "text": [
      "[[0. 0.]\n",
      " [1. 0.]]\n"
     ]
    }
   ],
   "source": [
    "print(I[0:2, 1:3])"
   ]
  },
  {
   "cell_type": "markdown",
   "metadata": {
    "id": "ZdAv5jXLfmOT"
   },
   "source": [
    "Можно построить двумерный массив из функции."
   ]
  },
  {
   "cell_type": "code",
   "execution_count": null,
   "metadata": {
    "colab": {
     "base_uri": "https://localhost:8080/"
    },
    "id": "FPQdAfykfmOU",
    "outputId": "8f09c63b-6621-4800-e5a1-48fa3f5b5b70"
   },
   "outputs": [
    {
     "name": "stdout",
     "output_type": "stream",
     "text": [
      "[[0 0 0 0]\n",
      " [1 1 1 1]\n",
      " [2 2 2 2]\n",
      " [3 3 3 3]]\n",
      "[[0 1 2 3]\n",
      " [0 1 2 3]\n",
      " [0 1 2 3]\n",
      " [0 1 2 3]]\n",
      "[[ 0  1  2  3]\n",
      " [10 11 12 13]\n",
      " [20 21 22 23]\n",
      " [30 31 32 33]]\n"
     ]
    }
   ],
   "source": [
    "def f(i, j):\n",
    "    print(i)\n",
    "    print(j)\n",
    "    return 10 * i + j\n",
    "\n",
    "print(np.fromfunction(f, (4, 4), dtype=np.int64))"
   ]
  },
  {
   "cell_type": "markdown",
   "metadata": {
    "id": "kIHvkeIzfmOV"
   },
   "source": [
    "Транспонированная матрица."
   ]
  },
  {
   "cell_type": "code",
   "execution_count": null,
   "metadata": {
    "colab": {
     "base_uri": "https://localhost:8080/"
    },
    "id": "XkCvBDRMfmOV",
    "outputId": "0b702cd2-861d-4682-e7bf-0077354456d6"
   },
   "outputs": [
    {
     "name": "stdout",
     "output_type": "stream",
     "text": [
      "[[3 8]\n",
      " [4 6]]\n"
     ]
    }
   ],
   "source": [
    "print(b.T)"
   ]
  },
  {
   "cell_type": "markdown",
   "metadata": {
    "id": "YxT5DwPffmOW"
   },
   "source": [
    "Соединение матриц по горизонтали и по вертикали."
   ]
  },
  {
   "cell_type": "code",
   "execution_count": null,
   "metadata": {
    "colab": {
     "base_uri": "https://localhost:8080/"
    },
    "id": "SgUOSUpJfmOW",
    "outputId": "3f5cda5d-911b-4889-c390-bfd5ed4428f1"
   },
   "outputs": [
    {
     "name": "stdout",
     "output_type": "stream",
     "text": [
      "[[0 1]\n",
      " [2 3]]\n",
      "[[4 5 6]\n",
      " [7 8 9]]\n",
      "[[4 5]\n",
      " [6 7]\n",
      " [8 9]]\n"
     ]
    }
   ],
   "source": [
    "a = np.array([[0, 1], [2, 3]])\n",
    "b = np.array([[4, 5, 6], [7, 8, 9]])\n",
    "c = np.array([[4, 5], [6, 7], [8, 9]])\n",
    "print(a)\n",
    "print(b)\n",
    "print(c)"
   ]
  },
  {
   "cell_type": "code",
   "execution_count": null,
   "metadata": {
    "colab": {
     "base_uri": "https://localhost:8080/"
    },
    "id": "Q9XfHNcdfmOX",
    "outputId": "18e81d0a-4595-4be7-b5ee-2a6106ae90cd"
   },
   "outputs": [
    {
     "name": "stdout",
     "output_type": "stream",
     "text": [
      "[[0 1 4 5 6]\n",
      " [2 3 7 8 9]]\n"
     ]
    }
   ],
   "source": [
    "print(np.hstack((a, b)))"
   ]
  },
  {
   "cell_type": "code",
   "execution_count": null,
   "metadata": {
    "colab": {
     "base_uri": "https://localhost:8080/"
    },
    "id": "9KBGlrxzfmOY",
    "outputId": "f4c68ea1-c429-4eb1-ec97-e2e449614261"
   },
   "outputs": [
    {
     "name": "stdout",
     "output_type": "stream",
     "text": [
      "[[0 1]\n",
      " [2 3]\n",
      " [4 5]\n",
      " [6 7]\n",
      " [8 9]]\n"
     ]
    }
   ],
   "source": [
    "print(np.vstack((a, c)))"
   ]
  },
  {
   "cell_type": "markdown",
   "metadata": {
    "id": "B75txmwJfmOZ"
   },
   "source": [
    "Сумма всех элементов; суммы столбцов; суммы строк."
   ]
  },
  {
   "cell_type": "code",
   "execution_count": null,
   "metadata": {
    "colab": {
     "base_uri": "https://localhost:8080/"
    },
    "id": "Oo00j_hMfmOZ",
    "outputId": "75a89eff-3a76-4c56-ee0a-d4b680cbac4e"
   },
   "outputs": [
    {
     "data": {
      "text/plain": [
       "array([[4, 5, 6],\n",
       "       [7, 8, 9]])"
      ]
     },
     "execution_count": 95,
     "metadata": {},
     "output_type": "execute_result"
    }
   ],
   "source": [
    "b"
   ]
  },
  {
   "cell_type": "code",
   "execution_count": null,
   "metadata": {
    "colab": {
     "base_uri": "https://localhost:8080/"
    },
    "id": "6qzmyVMKfmOZ",
    "outputId": "0d2927fb-7b9e-49de-c93a-4d11039ed87c"
   },
   "outputs": [
    {
     "name": "stdout",
     "output_type": "stream",
     "text": [
      "39\n",
      "[11 13 15]\n",
      "[15 24]\n"
     ]
    }
   ],
   "source": [
    "print(b.sum())\n",
    "print(b.sum(axis=0))\n",
    "print(b.sum(axis=1))"
   ]
  },
  {
   "cell_type": "markdown",
   "metadata": {
    "id": "nmj7UTCmfmOa"
   },
   "source": [
    "Аналогично работают `prod`, `max`, `min` и т.д."
   ]
  },
  {
   "cell_type": "code",
   "execution_count": null,
   "metadata": {
    "colab": {
     "base_uri": "https://localhost:8080/"
    },
    "id": "CbJsqMKcfmOb",
    "outputId": "a83fa9b9-520a-4585-e8b0-1ccb703d4ceb"
   },
   "outputs": [
    {
     "name": "stdout",
     "output_type": "stream",
     "text": [
      "9\n",
      "[7 8 9]\n",
      "[4 7]\n"
     ]
    }
   ],
   "source": [
    "print(b.max())\n",
    "print(b.max(axis=0))\n",
    "print(b.min(axis=1))"
   ]
  },
  {
   "cell_type": "markdown",
   "metadata": {
    "id": "5eeossTYfmOc"
   },
   "source": [
    "След - сумма диагональных элементов."
   ]
  },
  {
   "cell_type": "code",
   "execution_count": null,
   "metadata": {
    "colab": {
     "base_uri": "https://localhost:8080/"
    },
    "id": "7mMEE_BzfmOc",
    "outputId": "5a7fa143-a0a7-4f30-d489-230e03829203"
   },
   "outputs": [
    {
     "data": {
      "text/plain": [
       "3"
      ]
     },
     "execution_count": 98,
     "metadata": {},
     "output_type": "execute_result"
    }
   ],
   "source": [
    "np.trace(a)"
   ]
  },
  {
   "cell_type": "markdown",
   "metadata": {
    "id": "ylh_09YIfmOg"
   },
   "source": [
    "## Линейная алгебра"
   ]
  },
  {
   "cell_type": "code",
   "execution_count": null,
   "metadata": {
    "colab": {
     "base_uri": "https://localhost:8080/"
    },
    "id": "HUXDKhPzfmOg",
    "outputId": "b47c5c61-5968-4872-e1ee-c49004c45725"
   },
   "outputs": [
    {
     "data": {
      "text/plain": [
       "-2.0"
      ]
     },
     "execution_count": 101,
     "metadata": {},
     "output_type": "execute_result"
    }
   ],
   "source": [
    "np.linalg.det(a)"
   ]
  },
  {
   "cell_type": "markdown",
   "metadata": {
    "id": "GCcZRK16fmOh"
   },
   "source": [
    "Обратная матрица."
   ]
  },
  {
   "cell_type": "code",
   "execution_count": null,
   "metadata": {
    "colab": {
     "base_uri": "https://localhost:8080/"
    },
    "id": "UOUFtpvIfmOh",
    "outputId": "02f492dc-44c9-41b0-f2dc-8f36da9b9ced"
   },
   "outputs": [
    {
     "name": "stdout",
     "output_type": "stream",
     "text": [
      "[[-1.5  0.5]\n",
      " [ 1.   0. ]]\n"
     ]
    }
   ],
   "source": [
    "a1 = np.linalg.inv(a)\n",
    "print(a1)"
   ]
  },
  {
   "cell_type": "code",
   "execution_count": null,
   "metadata": {
    "colab": {
     "base_uri": "https://localhost:8080/"
    },
    "id": "QBvEGytEfmOi",
    "outputId": "32240721-67f5-4023-d782-3cd326b1c608"
   },
   "outputs": [
    {
     "name": "stdout",
     "output_type": "stream",
     "text": [
      "[[1. 0.]\n",
      " [0. 1.]]\n",
      "[[1. 0.]\n",
      " [0. 1.]]\n"
     ]
    }
   ],
   "source": [
    "print(a @ a1)\n",
    "print(a1 @ a)"
   ]
  },
  {
   "cell_type": "markdown",
   "metadata": {
    "id": "PJQAQQLgfmOj"
   },
   "source": [
    "Решение линейной системы $au=v$."
   ]
  },
  {
   "cell_type": "code",
   "execution_count": null,
   "metadata": {
    "colab": {
     "base_uri": "https://localhost:8080/"
    },
    "id": "6rqLKKyrfmOj",
    "outputId": "316553ca-8779-438d-aad6-dacfea79aee8"
   },
   "outputs": [
    {
     "name": "stdout",
     "output_type": "stream",
     "text": [
      "[0.5 0. ]\n"
     ]
    }
   ],
   "source": [
    "v = np.array([0, 1], dtype=np.float64)\n",
    "print(a1 @ v)"
   ]
  },
  {
   "cell_type": "code",
   "execution_count": null,
   "metadata": {
    "colab": {
     "base_uri": "https://localhost:8080/"
    },
    "id": "nALBpIIPfmOk",
    "outputId": "934b7255-9259-4d97-f08d-f4f818541826"
   },
   "outputs": [
    {
     "name": "stdout",
     "output_type": "stream",
     "text": [
      "[0.5 0. ]\n"
     ]
    }
   ],
   "source": [
    "u = np.linalg.solve(a, v)\n",
    "print(u)"
   ]
  },
  {
   "cell_type": "markdown",
   "metadata": {
    "id": "AQNFE30dfmOl"
   },
   "source": [
    "Проверим."
   ]
  },
  {
   "cell_type": "code",
   "execution_count": null,
   "metadata": {
    "colab": {
     "base_uri": "https://localhost:8080/"
    },
    "id": "YYWwTAfmfmOl",
    "outputId": "2b7bb70c-d027-4119-ad10-95607e40dadb"
   },
   "outputs": [
    {
     "name": "stdout",
     "output_type": "stream",
     "text": [
      "[0. 0.]\n"
     ]
    }
   ],
   "source": [
    "print(a @ u - v)"
   ]
  },
  {
   "cell_type": "markdown",
   "metadata": {
    "id": "-nPqQZ32fmOm"
   },
   "source": [
    "Собственные значения и собственные векторы: $a u_i = \\lambda_i u_i$. `l` - одномерный массив собственных значений $\\lambda_i$, столбцы матрицы $u$ - собственные векторы $u_i$."
   ]
  },
  {
   "cell_type": "code",
   "execution_count": null,
   "metadata": {
    "colab": {
     "base_uri": "https://localhost:8080/"
    },
    "id": "Aby8Q0UqfmOm",
    "outputId": "2d8167a1-20c9-4d0e-cfe5-aca2fa6d37ca"
   },
   "outputs": [
    {
     "name": "stdout",
     "output_type": "stream",
     "text": [
      "[-0.56155281  3.56155281]\n"
     ]
    }
   ],
   "source": [
    "l, u = np.linalg.eig(a)\n",
    "print(l)"
   ]
  },
  {
   "cell_type": "code",
   "execution_count": null,
   "metadata": {
    "colab": {
     "base_uri": "https://localhost:8080/"
    },
    "id": "M9p_mn3WfmOn",
    "outputId": "21f1b21d-eaf4-4065-b861-0468bf621141"
   },
   "outputs": [
    {
     "name": "stdout",
     "output_type": "stream",
     "text": [
      "[[-0.87192821 -0.27032301]\n",
      " [ 0.48963374 -0.96276969]]\n"
     ]
    }
   ],
   "source": [
    "print(u)"
   ]
  },
  {
   "cell_type": "markdown",
   "metadata": {
    "id": "_ri8pDJofmOo"
   },
   "source": [
    "Проверим."
   ]
  },
  {
   "cell_type": "code",
   "execution_count": null,
   "metadata": {
    "colab": {
     "base_uri": "https://localhost:8080/"
    },
    "id": "Eu0hgYVifmOo",
    "outputId": "ce003f49-0f86-46fc-9a77-4b5e145aae5c"
   },
   "outputs": [
    {
     "name": "stdout",
     "output_type": "stream",
     "text": [
      "[0.00000000e+00 1.66533454e-16]\n",
      "[ 0.0000000e+00 -4.4408921e-16]\n"
     ]
    }
   ],
   "source": [
    "for i in range(2):\n",
    "    print(a @ u[:, i] - l[i] * u[:, i])"
   ]
  },
  {
   "cell_type": "markdown",
   "metadata": {
    "id": "FGLpkdP5fmOo"
   },
   "source": [
    "Функция `diag` от одномерного массива строит диагональную матрицу; от квадратной матрицы - возвращает одномерный массив её диагональных элементов."
   ]
  },
  {
   "cell_type": "code",
   "execution_count": null,
   "metadata": {
    "colab": {
     "base_uri": "https://localhost:8080/"
    },
    "id": "R_pGiyEMfmOp",
    "outputId": "f1b170a3-9972-41b4-a692-9b3e9575ac1e"
   },
   "outputs": [
    {
     "name": "stdout",
     "output_type": "stream",
     "text": [
      "[[-0.56155281  0.        ]\n",
      " [ 0.          3.56155281]]\n",
      "[-0.56155281  3.56155281]\n"
     ]
    }
   ],
   "source": [
    "L = np.diag(l)\n",
    "print(L)\n",
    "print(np.diag(L))"
   ]
  },
  {
   "cell_type": "markdown",
   "metadata": {
    "id": "jQeO5yw4fmOq"
   },
   "source": [
    "Все уравнения $a u_i = \\lambda_i u_i$ можно собрать в одно матричное уравнение $a u = u \\Lambda$, где $\\Lambda$ - диагональная матрица с собственными значениями $\\lambda_i$ на диагонали."
   ]
  },
  {
   "cell_type": "code",
   "execution_count": null,
   "metadata": {
    "colab": {
     "base_uri": "https://localhost:8080/"
    },
    "id": "c6Q3_hj-fmOq",
    "outputId": "6607c8c5-ce8a-4267-f7bc-d99919eb77dd"
   },
   "outputs": [
    {
     "name": "stdout",
     "output_type": "stream",
     "text": [
      "[[ 0.00000000e+00  0.00000000e+00]\n",
      " [ 1.66533454e-16 -4.44089210e-16]]\n"
     ]
    }
   ],
   "source": [
    "print(a @ u - u @ L)"
   ]
  },
  {
   "cell_type": "markdown",
   "metadata": {
    "id": "lcnbDsgQfmOr"
   },
   "source": [
    "Поэтому $u^{-1} a u = \\Lambda$."
   ]
  },
  {
   "cell_type": "code",
   "execution_count": null,
   "metadata": {
    "colab": {
     "base_uri": "https://localhost:8080/"
    },
    "id": "zJi2SX33fmOr",
    "outputId": "0bc63156-ff3b-42a6-a2cb-ad4353323fe1"
   },
   "outputs": [
    {
     "name": "stdout",
     "output_type": "stream",
     "text": [
      "[[-5.61552813e-01  2.77555756e-17]\n",
      " [-2.22044605e-16  3.56155281e+00]]\n"
     ]
    }
   ],
   "source": [
    "print(np.linalg.inv(u) @ a @ u)"
   ]
  },
  {
   "cell_type": "markdown",
   "metadata": {
    "id": "LR99sNMzfmOs"
   },
   "source": [
    "Найдём теперь левые собственные векторы $v_i a = \\lambda_i v_i$ (собственные значения $\\lambda_i$ те же самые)."
   ]
  },
  {
   "cell_type": "code",
   "execution_count": null,
   "metadata": {
    "colab": {
     "base_uri": "https://localhost:8080/"
    },
    "id": "-VlU9KTvfmOs",
    "outputId": "222767e3-bf93-4c63-dc9d-3dc19a6a6095"
   },
   "outputs": [
    {
     "name": "stdout",
     "output_type": "stream",
     "text": [
      "[-0.56155281  3.56155281]\n",
      "[[-0.96276969 -0.48963374]\n",
      " [ 0.27032301 -0.87192821]]\n"
     ]
    }
   ],
   "source": [
    "l, v = np.linalg.eig(a.T)\n",
    "print(l)\n",
    "print(v)"
   ]
  },
  {
   "cell_type": "markdown",
   "metadata": {
    "id": "lceOEiLDfmOt"
   },
   "source": [
    "Собственные векторы нормированы на 1."
   ]
  },
  {
   "cell_type": "code",
   "execution_count": null,
   "metadata": {
    "colab": {
     "base_uri": "https://localhost:8080/"
    },
    "id": "XVWK3_kffmOt",
    "outputId": "38a00382-ed81-4e3a-8c98-88860d186a2e"
   },
   "outputs": [
    {
     "name": "stdout",
     "output_type": "stream",
     "text": [
      "[[ 1.         -0.23570226]\n",
      " [-0.23570226  1.        ]]\n",
      "[[1.         0.23570226]\n",
      " [0.23570226 1.        ]]\n"
     ]
    }
   ],
   "source": [
    "print(u.T @ u)\n",
    "print(v.T @ v)"
   ]
  },
  {
   "cell_type": "markdown",
   "metadata": {
    "id": "OEzELGlOfmOu"
   },
   "source": [
    "Левые и правые собственные векторы, соответствующие разным собственным значениям, ортогональны, потому что $v_i a u_j = \\lambda_i v_i u_j = \\lambda_j v_i u_j$."
   ]
  },
  {
   "cell_type": "code",
   "execution_count": null,
   "metadata": {
    "colab": {
     "base_uri": "https://localhost:8080/"
    },
    "id": "JENmli6ufmOu",
    "outputId": "54be9245-77ad-45e6-f0dd-faba0065bb23"
   },
   "outputs": [
    {
     "name": "stdout",
     "output_type": "stream",
     "text": [
      "[[ 9.71825316e-01  0.00000000e+00]\n",
      " [-5.55111512e-17  9.71825316e-01]]\n"
     ]
    }
   ],
   "source": [
    "print(v.T @ u)"
   ]
  }
 ],
 "metadata": {
  "colab": {
   "collapsed_sections": [
    "MFKSC2UUA7Ne",
    "Mth2u7nzAiqw",
    "mrm41pzufmNy",
    "2kJObRBHfmOd",
    "ylh_09YIfmOg"
   ],
   "provenance": []
  },
  "kernelspec": {
   "display_name": "Python 3 (ipykernel)",
   "language": "python",
   "name": "python3"
  },
  "language_info": {
   "codemirror_mode": {
    "name": "ipython",
    "version": 3
   },
   "file_extension": ".py",
   "mimetype": "text/x-python",
   "name": "python",
   "nbconvert_exporter": "python",
   "pygments_lexer": "ipython3",
   "version": "3.10.0rc1"
  }
 },
 "nbformat": 4,
 "nbformat_minor": 1
}
