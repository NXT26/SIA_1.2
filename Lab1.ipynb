{
 "cells": [
  {
   "cell_type": "markdown",
   "metadata": {
    "id": "BsNwjQDRfmLY"
   },
   "source": [
    "# Задание 1 (numpy + matplotlib)"
   ]
  },
  {
   "cell_type": "markdown",
   "metadata": {
    "id": "wu6r1-s7fmLe"
   },
   "source": [
    "---"
   ]
  },
  {
   "cell_type": "markdown",
   "metadata": {
    "id": "zxRIdPO9gYyX"
   },
   "source": [
    "Напишите программу, которая будет решать систему линейных уравнений вида:\n",
    "\n",
    "\\begin{matrix} a_{11}x+a_{12}y=b_{1}&(1) \\\\ a_{21}x+a_{22}y=b_{2} &(2) \\end{matrix}\n",
    "​\t\n",
    "* На вход программа должна принимать 2 строки (т.е. должен быть реализован ввод с клавиатуры). Каждая строка содержит 3 действительных числа через пробел: коэффициенты a и b.\n",
    "* Систему уравнений необходимо решить \"матричным\" способом. Предусмотрите случаи, когда решения есть, решений нет, решений бесконечно много. Выведите ответ. Покажите решение на графике. Если решения есть, постройте график и точкой отметьте решение (если оно одно, например, функцией [`scatter`](https://matplotlib.org/stable/api/_as_gen/matplotlib.pyplot.scatter.html)). ГРАФИК СТРОИТСЯ ВО ВСЕХ ТРЕХ РАССМАТРИВАЕМЫХ СЛУЧАЯХ."
   ]
  },
  {
   "cell_type": "code",
   "execution_count": 4,
   "metadata": {
    "id": "6sxlcLbVlrjl"
   },
   "outputs": [],
   "source": [
    "# PUT YOUR CODE HERE\n",
    "import numpy as np"
   ]
  },
  {
   "cell_type": "code",
   "execution_count": 20,
   "metadata": {},
   "outputs": [
    {
     "name": "stdout",
     "output_type": "stream",
     "text": [
      "f f 3\n"
     ]
    },
    {
     "data": {
      "text/plain": [
       "'f'"
      ]
     },
     "execution_count": 20,
     "metadata": {},
     "output_type": "execute_result"
    }
   ],
   "source": [
    "a1,a2,b1 = input().split(\" \")\n",
    "#a3,a4,b2 = int(input().split(\" \"))\n"
   ]
  },
  {
   "cell_type": "code",
   "execution_count": null,
   "metadata": {},
   "outputs": [],
   "source": []
  },
  {
   "cell_type": "code",
   "execution_count": null,
   "metadata": {},
   "outputs": [],
   "source": []
  },
  {
   "cell_type": "code",
   "execution_count": null,
   "metadata": {},
   "outputs": [],
   "source": []
  },
  {
   "cell_type": "markdown",
   "metadata": {
    "id": "efml9GzISC9Q"
   },
   "source": [
    "# Задание 2 (pytorch + matplotlib)"
   ]
  },
  {
   "cell_type": "markdown",
   "metadata": {
    "id": "_hy7PFz031Wx"
   },
   "source": [
    "Пусть $f(x) = \\sin(x) * x$. Постройте график $f(x)$ и $\\frac{df(x)}{dx}$, для расчета производных воспользуйтесь методом `backward()` и matplotlib для построения графиков."
   ]
  },
  {
   "cell_type": "code",
   "execution_count": null,
   "metadata": {
    "id": "GPjLHMGNK_oG"
   },
   "outputs": [],
   "source": [
    "# PUT YOUR CODE HERE"
   ]
  }
 ],
 "metadata": {
  "colab": {
   "collapsed_sections": [],
   "provenance": []
  },
  "kernelspec": {
   "display_name": "Python 3 (ipykernel)",
   "language": "python",
   "name": "python3"
  },
  "language_info": {
   "codemirror_mode": {
    "name": "ipython",
    "version": 3
   },
   "file_extension": ".py",
   "mimetype": "text/x-python",
   "name": "python",
   "nbconvert_exporter": "python",
   "pygments_lexer": "ipython3",
   "version": "3.10.0rc1"
  }
 },
 "nbformat": 4,
 "nbformat_minor": 1
}
