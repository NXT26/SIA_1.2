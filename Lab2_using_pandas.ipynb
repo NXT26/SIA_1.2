{
 "cells": [
  {
   "cell_type": "markdown",
   "id": "015d8571",
   "metadata": {},
   "source": [
    "Данные, которые нужно использовать для выполнения задания, возьмите [здесь](https://www.kaggle.com/parulpandey/palmer-archipelago-antarctica-penguin-data).\n",
    "\n",
    "Данные расположены в двух таблицах: **penguins_iter** и **penguins_size**. Для этой лабораторной работы вам понадобится только таблица **penguins_size**.\n",
    "\n",
    "**penguins_size** содержит следующую информацию:\n",
    "* `species`: вид, к которому относится пингвин\n",
    "* `culmen_length_mm`: длина клюва\n",
    "* `culmen_depth_mm`: глубина клюва\n",
    "* `flipper_length_mm`: длина ласт\n",
    "* `body_mass_g`: масса тела\n",
    "* `island`: название острова, на котором пингвин обитает\n",
    "* `sex`: пол пингвина\n"
   ]
  },
  {
   "cell_type": "markdown",
   "id": "d89331b2",
   "metadata": {},
   "source": [
    "1. Загрузите файл с данными к себе на Гугл диск и подключите его в Google Colab через `mount.drive`.\n",
    "2. Выведите общую статистику по всем числовым и нечисловым столбцам с помощью метода `describe()`.\n",
    "3. Узнайте размеры датасета с помощью свойство `shape`.\n",
    "4. Выведите 4 первые строки датасета."
   ]
  },
  {
   "cell_type": "code",
   "execution_count": 3,
   "id": "82d502df",
   "metadata": {},
   "outputs": [
    {
     "data": {
      "text/html": [
       "<div>\n",
       "<style scoped>\n",
       "    .dataframe tbody tr th:only-of-type {\n",
       "        vertical-align: middle;\n",
       "    }\n",
       "\n",
       "    .dataframe tbody tr th {\n",
       "        vertical-align: top;\n",
       "    }\n",
       "\n",
       "    .dataframe thead th {\n",
       "        text-align: right;\n",
       "    }\n",
       "</style>\n",
       "<table border=\"1\" class=\"dataframe\">\n",
       "  <thead>\n",
       "    <tr style=\"text-align: right;\">\n",
       "      <th></th>\n",
       "      <th>culmen_length_mm</th>\n",
       "      <th>culmen_depth_mm</th>\n",
       "      <th>flipper_length_mm</th>\n",
       "      <th>body_mass_g</th>\n",
       "    </tr>\n",
       "  </thead>\n",
       "  <tbody>\n",
       "    <tr>\n",
       "      <th>count</th>\n",
       "      <td>342.000000</td>\n",
       "      <td>342.000000</td>\n",
       "      <td>342.000000</td>\n",
       "      <td>342.000000</td>\n",
       "    </tr>\n",
       "    <tr>\n",
       "      <th>mean</th>\n",
       "      <td>43.921930</td>\n",
       "      <td>17.151170</td>\n",
       "      <td>200.915205</td>\n",
       "      <td>4201.754386</td>\n",
       "    </tr>\n",
       "    <tr>\n",
       "      <th>std</th>\n",
       "      <td>5.459584</td>\n",
       "      <td>1.974793</td>\n",
       "      <td>14.061714</td>\n",
       "      <td>801.954536</td>\n",
       "    </tr>\n",
       "    <tr>\n",
       "      <th>min</th>\n",
       "      <td>32.100000</td>\n",
       "      <td>13.100000</td>\n",
       "      <td>172.000000</td>\n",
       "      <td>2700.000000</td>\n",
       "    </tr>\n",
       "    <tr>\n",
       "      <th>25%</th>\n",
       "      <td>39.225000</td>\n",
       "      <td>15.600000</td>\n",
       "      <td>190.000000</td>\n",
       "      <td>3550.000000</td>\n",
       "    </tr>\n",
       "    <tr>\n",
       "      <th>50%</th>\n",
       "      <td>44.450000</td>\n",
       "      <td>17.300000</td>\n",
       "      <td>197.000000</td>\n",
       "      <td>4050.000000</td>\n",
       "    </tr>\n",
       "    <tr>\n",
       "      <th>75%</th>\n",
       "      <td>48.500000</td>\n",
       "      <td>18.700000</td>\n",
       "      <td>213.000000</td>\n",
       "      <td>4750.000000</td>\n",
       "    </tr>\n",
       "    <tr>\n",
       "      <th>max</th>\n",
       "      <td>59.600000</td>\n",
       "      <td>21.500000</td>\n",
       "      <td>231.000000</td>\n",
       "      <td>6300.000000</td>\n",
       "    </tr>\n",
       "  </tbody>\n",
       "</table>\n",
       "</div>"
      ],
      "text/plain": [
       "       culmen_length_mm  culmen_depth_mm  flipper_length_mm  body_mass_g\n",
       "count        342.000000       342.000000         342.000000   342.000000\n",
       "mean          43.921930        17.151170         200.915205  4201.754386\n",
       "std            5.459584         1.974793          14.061714   801.954536\n",
       "min           32.100000        13.100000         172.000000  2700.000000\n",
       "25%           39.225000        15.600000         190.000000  3550.000000\n",
       "50%           44.450000        17.300000         197.000000  4050.000000\n",
       "75%           48.500000        18.700000         213.000000  4750.000000\n",
       "max           59.600000        21.500000         231.000000  6300.000000"
      ]
     },
     "metadata": {},
     "output_type": "display_data"
    },
    {
     "data": {
      "text/plain": [
       "(344, 7)"
      ]
     },
     "metadata": {},
     "output_type": "display_data"
    },
    {
     "data": {
      "text/html": [
       "<div>\n",
       "<style scoped>\n",
       "    .dataframe tbody tr th:only-of-type {\n",
       "        vertical-align: middle;\n",
       "    }\n",
       "\n",
       "    .dataframe tbody tr th {\n",
       "        vertical-align: top;\n",
       "    }\n",
       "\n",
       "    .dataframe thead th {\n",
       "        text-align: right;\n",
       "    }\n",
       "</style>\n",
       "<table border=\"1\" class=\"dataframe\">\n",
       "  <thead>\n",
       "    <tr style=\"text-align: right;\">\n",
       "      <th></th>\n",
       "      <th>species</th>\n",
       "      <th>island</th>\n",
       "      <th>culmen_length_mm</th>\n",
       "      <th>culmen_depth_mm</th>\n",
       "      <th>flipper_length_mm</th>\n",
       "      <th>body_mass_g</th>\n",
       "      <th>sex</th>\n",
       "    </tr>\n",
       "  </thead>\n",
       "  <tbody>\n",
       "    <tr>\n",
       "      <th>0</th>\n",
       "      <td>Adelie</td>\n",
       "      <td>Torgersen</td>\n",
       "      <td>39.1</td>\n",
       "      <td>18.7</td>\n",
       "      <td>181.0</td>\n",
       "      <td>3750.0</td>\n",
       "      <td>MALE</td>\n",
       "    </tr>\n",
       "    <tr>\n",
       "      <th>1</th>\n",
       "      <td>Adelie</td>\n",
       "      <td>Torgersen</td>\n",
       "      <td>39.5</td>\n",
       "      <td>17.4</td>\n",
       "      <td>186.0</td>\n",
       "      <td>3800.0</td>\n",
       "      <td>FEMALE</td>\n",
       "    </tr>\n",
       "    <tr>\n",
       "      <th>2</th>\n",
       "      <td>Adelie</td>\n",
       "      <td>Torgersen</td>\n",
       "      <td>40.3</td>\n",
       "      <td>18.0</td>\n",
       "      <td>195.0</td>\n",
       "      <td>3250.0</td>\n",
       "      <td>FEMALE</td>\n",
       "    </tr>\n",
       "    <tr>\n",
       "      <th>3</th>\n",
       "      <td>Adelie</td>\n",
       "      <td>Torgersen</td>\n",
       "      <td>NaN</td>\n",
       "      <td>NaN</td>\n",
       "      <td>NaN</td>\n",
       "      <td>NaN</td>\n",
       "      <td>NaN</td>\n",
       "    </tr>\n",
       "  </tbody>\n",
       "</table>\n",
       "</div>"
      ],
      "text/plain": [
       "  species     island  culmen_length_mm  culmen_depth_mm  flipper_length_mm  \\\n",
       "0  Adelie  Torgersen              39.1             18.7              181.0   \n",
       "1  Adelie  Torgersen              39.5             17.4              186.0   \n",
       "2  Adelie  Torgersen              40.3             18.0              195.0   \n",
       "3  Adelie  Torgersen               NaN              NaN                NaN   \n",
       "\n",
       "   body_mass_g     sex  \n",
       "0       3750.0    MALE  \n",
       "1       3800.0  FEMALE  \n",
       "2       3250.0  FEMALE  \n",
       "3          NaN     NaN  "
      ]
     },
     "metadata": {},
     "output_type": "display_data"
    }
   ],
   "source": [
    "import pandas as pd\n",
    "#from google.colab import drive\n",
    "\n",
    "#drive.mount('/content/drive')\n",
    "#table = pd.read_csv('/content/drive/MyDrive/Colab Notebooks/penguins_size.csv')\n",
    "table = pd.read_csv(\"penguins_size.csv\")\n",
    "display(table.describe())\n",
    "display(table.shape)\n",
    "fourLines = table.head(4)\n",
    "display(fourLines)"
   ]
  },
  {
   "cell_type": "markdown",
   "id": "58801587",
   "metadata": {},
   "source": [
    "# Задание 1 (1 балл)\n",
    "1. Узнайте, сколько видов пингвинов представлено в таблице.\n",
    "2. Посчитайте долю пингвинов каждого вида.\n",
    "3. Выведите количество пингвинов, обитающих на каждом из островов."
   ]
  },
  {
   "cell_type": "code",
   "execution_count": 5,
   "id": "0e8f6852",
   "metadata": {},
   "outputs": [
    {
     "name": "stdout",
     "output_type": "stream",
     "text": [
      "Amount of species 3\n",
      "Parts\n",
      "Adelie       0.441860\n",
      "Gentoo       0.360465\n",
      "Chinstrap    0.197674\n",
      "Name: species, dtype: float64\n",
      "Islands\n",
      "Biscoe       168\n",
      "Dream        124\n",
      "Torgersen     52\n",
      "Name: island, dtype: int64\n"
     ]
    }
   ],
   "source": [
    "wid = table[\"species\"].value_counts()\n",
    "print ('Amount of species ' + str(len(wid)))\n",
    "smm = 0\n",
    "for i in range(len(wid)):\n",
    "  smm += wid[i]\n",
    "print(\"Parts\")\n",
    "print(wid/smm)\n",
    "print(\"Islands\")\n",
    "print(table[\"island\"].value_counts())"
   ]
  },
  {
   "cell_type": "markdown",
   "id": "a6165875",
   "metadata": {},
   "source": [
    "# Задание 2 (1 балл)\n",
    "1. Найдите id пингвина с самым длинным клювом и с самым коротким. Выведите всю информацию о каждом из этих пингвинов в виде одной таблицы.\n",
    "2. Посчитайте, насколько самый длинный клюв длиннее самого короткого."
   ]
  },
  {
   "cell_type": "code",
   "execution_count": 6,
   "id": "7ce87674",
   "metadata": {},
   "outputs": [
    {
     "data": {
      "text/html": [
       "<div>\n",
       "<style scoped>\n",
       "    .dataframe tbody tr th:only-of-type {\n",
       "        vertical-align: middle;\n",
       "    }\n",
       "\n",
       "    .dataframe tbody tr th {\n",
       "        vertical-align: top;\n",
       "    }\n",
       "\n",
       "    .dataframe thead th {\n",
       "        text-align: right;\n",
       "    }\n",
       "</style>\n",
       "<table border=\"1\" class=\"dataframe\">\n",
       "  <thead>\n",
       "    <tr style=\"text-align: right;\">\n",
       "      <th></th>\n",
       "      <th>species</th>\n",
       "      <th>island</th>\n",
       "      <th>culmen_length_mm</th>\n",
       "      <th>culmen_depth_mm</th>\n",
       "      <th>flipper_length_mm</th>\n",
       "      <th>body_mass_g</th>\n",
       "      <th>sex</th>\n",
       "    </tr>\n",
       "  </thead>\n",
       "  <tbody>\n",
       "    <tr>\n",
       "      <th>142</th>\n",
       "      <td>Adelie</td>\n",
       "      <td>Dream</td>\n",
       "      <td>32.1</td>\n",
       "      <td>15.5</td>\n",
       "      <td>188.0</td>\n",
       "      <td>3050.0</td>\n",
       "      <td>FEMALE</td>\n",
       "    </tr>\n",
       "    <tr>\n",
       "      <th>253</th>\n",
       "      <td>Gentoo</td>\n",
       "      <td>Biscoe</td>\n",
       "      <td>59.6</td>\n",
       "      <td>17.0</td>\n",
       "      <td>230.0</td>\n",
       "      <td>6050.0</td>\n",
       "      <td>MALE</td>\n",
       "    </tr>\n",
       "  </tbody>\n",
       "</table>\n",
       "</div>"
      ],
      "text/plain": [
       "    species  island  culmen_length_mm  culmen_depth_mm  flipper_length_mm  \\\n",
       "142  Adelie   Dream              32.1             15.5              188.0   \n",
       "253  Gentoo  Biscoe              59.6             17.0              230.0   \n",
       "\n",
       "     body_mass_g     sex  \n",
       "142       3050.0  FEMALE  \n",
       "253       6050.0    MALE  "
      ]
     },
     "metadata": {},
     "output_type": "display_data"
    },
    {
     "name": "stdout",
     "output_type": "stream",
     "text": [
      "delta 27.5\n"
     ]
    }
   ],
   "source": [
    "shortest = table[\"culmen_length_mm\"].min()\n",
    "longest = table[\"culmen_length_mm\"].max()\n",
    "nt = table[(table[\"culmen_length_mm\"] == shortest) | (table[\"culmen_length_mm\"] == longest)]\n",
    "display (nt)\n",
    "print (\"delta \" + str(longest - shortest))"
   ]
  },
  {
   "cell_type": "markdown",
   "id": "8a905055",
   "metadata": {},
   "source": [
    "# Задание 3 (1 балл)\n",
    "1. Постройте корреляционную матрицу для значений столбцов `culmen_length_mm`, `culmen_depth_mm`, `flipper_length_mm`, `body_mass_g`. \n",
    "2. Результат покажите на тепловой карте (heatmap). Требуется построить график, а не раскрасить получившуюся в первом пункте таблицу."
   ]
  },
  {
   "cell_type": "code",
   "execution_count": 8,
   "id": "053ba642",
   "metadata": {},
   "outputs": [
    {
     "data": {
      "text/plain": [
       "<AxesSubplot: >"
      ]
     },
     "execution_count": 8,
     "metadata": {},
     "output_type": "execute_result"
    },
    {
     "data": {
      "image/png": "[encoded data removed]",
      "text/plain": [
       "<Figure size 640x480 with 2 Axes>"
      ]
     },
     "metadata": {},
     "output_type": "display_data"
    }
   ],
   "source": [
    "import matplotlib.pyplot as plt\n",
    "import seaborn as sns\n",
    "\n",
    "nt = table[[\"culmen_length_mm\", \"culmen_depth_mm\", \"flipper_length_mm\", \"body_mass_g\"]]\n",
    "corred = nt.corr().round(2)\n",
    "sns.heatmap(corred, annot = True)"
   ]
  },
  {
   "cell_type": "markdown",
   "id": "48a0534d",
   "metadata": {},
   "source": [
    "# Задание 4 (2 балла)\n",
    "1. О пингвинах какого вида в таблице больше всего недостающих данных? (Строк с `NaN`)\n",
    "2. Какой информации о пингвинах чаще всего не хватает?"
   ]
  },
  {
   "cell_type": "code",
   "execution_count": 11,
   "id": "d19de848",
   "metadata": {},
   "outputs": [
    {
     "name": "stdout",
     "output_type": "stream",
     "text": [
      "Больше всего строк с NaN о виде:  Adelie\n",
      "Больше всего информации отсутствует о: sex\n"
     ]
    }
   ],
   "source": [
    "specif = table[\"species\"].unique()\n",
    "maximum = 0\n",
    "vid = \"\"\n",
    "for i in range(len(specif)):\n",
    "  newT = table[(table[\"species\"] == specif[i])]\n",
    "  nans = newT.isnull().sum().sum()\n",
    "  if nans > maximum:\n",
    "    maximum = nans\n",
    "    vid = specif[i]\n",
    "print(\"Больше всего строк с NaN о виде:  \" + vid)\n",
    "\n",
    "\n",
    "cols = table.columns\n",
    "maxMD = table.isnull().sum(axis = 0).max()\n",
    "col = \"\"\n",
    "for i in range (len(cols)):\n",
    "  newT = table[(cols[i])]\n",
    "  nans = newT.isnull().sum().sum()\n",
    "  if nans == maxMD:\n",
    "    col = cols[i]\n",
    "print (\"Больше всего информации отсутствует о: \" + str(col))"
   ]
  },
  {
   "cell_type": "markdown",
   "id": "defb410d",
   "metadata": {},
   "source": [
    "# Задание 5 (2 балла)\n",
    "1. По данным из таблицы узнайте, равномерно ли демографиески (процент мужских и женских особей) пингвины распределены по каждому из островов. Считаем, что равномерно, если разница составляет не более 3%. Разницу нужно посчитать не между числами, а между процентами.\n",
    "2. Результат покажите на столбиковой диаграмме."
   ]
  },
  {
   "cell_type": "code",
   "execution_count": 12,
   "id": "e53d858c",
   "metadata": {},
   "outputs": [
    {
     "data": {
      "text/plain": [
       "array(['Torgersen -Равномерное распределение: 2.128%',\n",
       "       'Biscoe -Равномерное распределение: 1.84%',\n",
       "       'Dream -Равномерное распределение: 0.813%'], dtype=object)"
      ]
     },
     "metadata": {},
     "output_type": "display_data"
    },
    {
     "data": {
      "image/png": "[encoded data removed]",
      "text/plain": [
       "<Figure size 640x480 with 1 Axes>"
      ]
     },
     "metadata": {},
     "output_type": "display_data"
    }
   ],
   "source": [
    "ind = table[\"island\"].unique()\n",
    "male = table[(table[\"sex\"] == \"MALE\")]\n",
    "female = table[(table[\"sex\"] == \"FEMALE\")]\n",
    "m = []\n",
    "f = []\n",
    "for i in range(len(ind)):\n",
    "  newM = male[(male[\"island\"] == ind[i])]\n",
    "  newF = female[(female[\"island\"] == ind[i])]\n",
    "  m.append(len(newM))\n",
    "  f.append(len(newF))\n",
    "menWomen = pd.DataFrame({\"Male\": m, \"Female\": f}, index = ind)\n",
    "menWomen.plot.bar(color = [\"blue\", \"green\"], rot = 0)\n",
    "\n",
    "for i in range(len(ind)):\n",
    "  perc = abs(m[i] / (m[i] + f[i]) - f[i] / (m[i] + f[i]))\n",
    "  if  perc <= 0.03:\n",
    "    ind[i] += \" -Равномерное распределение: \"\n",
    "  else:\n",
    "    ind[i] += \" -Неравномерное распределение: \"\n",
    "  perc *= 100\n",
    "  ind[i] += str(round(perc, 3)) + \"%\"\n",
    "display(ind)"
   ]
  },
  {
   "cell_type": "markdown",
   "id": "e836231a",
   "metadata": {},
   "source": [
    "# Задание 6 (2 балла)\n",
    "1. Считая, что длина плавника пингвина составляет треть его роста, рассчитайте индекс массы тела каждого пингвина. Определите самый крупный вид.\n",
    "2. В каком количестве популяция этого вида представлена на каждом из островов? Результат покажите на круговой диаграмме."
   ]
  },
  {
   "cell_type": "code",
   "execution_count": 14,
   "id": "b5486499",
   "metadata": {},
   "outputs": [
    {
     "name": "stdout",
     "output_type": "stream",
     "text": [
      "The biggest pengiun: Gentoo\n",
      "Torgersen: 0\n",
      "Biscoe: 124\n",
      "Dream: 0\n"
     ]
    },
    {
     "data": {
      "image/png": "[encoded data removed]",
      "text/plain": [
       "<Figure size 1200x1200 with 3 Axes>"
      ]
     },
     "metadata": {},
     "output_type": "display_data"
    }
   ],
   "source": [
    "spec = table[\"species\"].unique()\n",
    "maxInd = 0\n",
    "bigPin = \"\"\n",
    "for i in range(len(spec)):\n",
    "  nt = table[(table[\"species\"] == spec[i])] \n",
    "  ind = (nt[\"body_mass_g\"] / (nt[\"flipper_length_mm\"] * 3)**2 ).mean()\n",
    "  if ind > maxInd:\n",
    "    maxInd = ind\n",
    "    bigPin = spec[i]\n",
    "print (\"The biggest pengiun: \" + bigPin)\n",
    "ind = table[\"island\"].unique()\n",
    "fig, axes = plt.subplots(nrows = 1, ncols = len(ind))\n",
    "theBig = table[(table[\"species\"] == bigPin)]\n",
    "others = table[(table[\"species\"] != bigPin)]\n",
    "indexes = [bigPin, \"Others\"]\n",
    "for i in range(len(ind)):\n",
    "  amount = []\n",
    "  newBig = theBig[(theBig[\"island\"] == ind[i])]\n",
    "  amount.append(len(newBig))\n",
    "  newOth = others[(others[\"island\"] == ind[i])]\n",
    "  amount.append(len(newOth))\n",
    "  newDf = pd.DataFrame({\"\": amount}, index = indexes)\n",
    "  print (ind[i] + \": \" + str(len(newBig)))\n",
    "  newDf.plot.pie(ax = axes[i], y = \"\", colors = [\"blue\", \"purple\"], autopct = \"%.1f\", fontsize = 8, figsize = (12, 12), label = ind[i])\n",
    "  amount.clear()"
   ]
  },
  {
   "cell_type": "code",
   "execution_count": null,
   "id": "d049dded",
   "metadata": {},
   "outputs": [],
   "source": []
  }
 ],
 "metadata": {
  "kernelspec": {
   "display_name": "Python 3 (ipykernel)",
   "language": "python",
   "name": "python3"
  },
  "language_info": {
   "codemirror_mode": {
    "name": "ipython",
    "version": 3
   },
   "file_extension": ".py",
   "mimetype": "text/x-python",
   "name": "python",
   "nbconvert_exporter": "python",
   "pygments_lexer": "ipython3",
   "version": "3.10.0rc1"
  }
 },
 "nbformat": 4,
 "nbformat_minor": 5
}
